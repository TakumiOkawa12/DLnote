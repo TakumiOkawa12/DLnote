{
 "cells": [
  {
   "cell_type": "markdown",
   "id": "3ce2782a-c23d-47f9-8398-87d1b32ee450",
   "metadata": {},
   "source": [
    "# mnistで多クラス分類"
   ]
  },
  {
   "cell_type": "code",
   "execution_count": 1,
   "id": "1832c2fe-20e6-4cf5-b4a6-16fed1ac1d12",
   "metadata": {},
   "outputs": [],
   "source": [
    "# ライブラリインストール\n",
    "import pandas as pd\n",
    "import numpy as np\n",
    "import matplotlib.pyplot as plt\n",
    "import torch\n",
    "from sklearn import datasets\n",
    "import torch.nn.functional as F\n",
    "from sklearn.preprocessing import StandardScaler"
   ]
  },
  {
   "cell_type": "code",
   "execution_count": 13,
   "id": "1b43f1e5-9d30-4069-82bb-be74b795485c",
   "metadata": {},
   "outputs": [],
   "source": [
    "# データロード\n",
    "dataset = datasets.load_digits()"
   ]
  },
  {
   "cell_type": "code",
   "execution_count": 14,
   "id": "2f032881-b9e6-459b-887c-2c053627ea2a",
   "metadata": {},
   "outputs": [],
   "source": [
    "# 前処理\n",
    "target = torch.tensor(dataset['target'])\n",
    "target = F.one_hot(target, num_classes = 10)\n",
    "scaler = StandardScaler()\n",
    "images = torch.tensor(scaler.fit_transform(dataset['images'].reshape(-1, 64)), dtype = torch.float32)"
   ]
  },
  {
   "cell_type": "code",
   "execution_count": 20,
   "id": "286e1117-ac8c-4501-825c-1a7e81d71ee2",
   "metadata": {},
   "outputs": [],
   "source": [
    "# パラメータ初期化\n",
    "W = torch.rand((10, 64), requires_grad = True)\n",
    "b = torch.rand((1, 10), requires_grad = True)"
   ]
  },
  {
   "cell_type": "code",
   "execution_count": 30,
   "id": "84ac0766-396b-4e5e-ab3a-ff98dd3701bc",
   "metadata": {},
   "outputs": [
    {
     "data": {
      "text/plain": [
       "tensor([[0.0067, 0.0498, 1.0000],\n",
       "        [0.0025, 0.0183, 1.0000]])"
      ]
     },
     "execution_count": 30,
     "metadata": {},
     "output_type": "execute_result"
    }
   ],
   "source": [
    "x = torch.tensor([[1, 3, 6],\n",
    "                  [2, 4, 8]])\n",
    "e_x = torch.exp(x - torch.max(x, dim = 1, keepdim = True)[0])\n",
    "e_x"
   ]
  },
  {
   "cell_type": "code",
   "execution_count": 35,
   "id": "03e17a2d-905d-452f-9e44-709abe63b565",
   "metadata": {},
   "outputs": [
    {
     "data": {
      "text/plain": [
       "tensor([[1.0565],\n",
       "        [1.0208]])"
      ]
     },
     "execution_count": 35,
     "metadata": {},
     "output_type": "execute_result"
    }
   ],
   "source": [
    "torch.sum(e_x, dim = 1, keepdim = True)"
   ]
  },
  {
   "cell_type": "code",
   "execution_count": 49,
   "id": "7f16a413-8150-47b8-b54d-c266f0d34f0e",
   "metadata": {},
   "outputs": [
    {
     "data": {
      "text/plain": [
       "tensor(2.0378)"
      ]
     },
     "execution_count": 49,
     "metadata": {},
     "output_type": "execute_result"
    }
   ],
   "source": [
    "y_pred = e_x / torch.sum(e_x, dim = 1, keepdim = True)\n",
    "y_true = torch.tensor([[0, 0, 1],\n",
    "                      [0, 1, 0]])\n",
    "- torch.sum(y_true * torch.log(y_pred + 1e-10)) / y_pred.shape[0]"
   ]
  },
  {
   "cell_type": "code",
   "execution_count": 36,
   "id": "0eca0d03-a884-4ba2-9a70-05edfd13ddea",
   "metadata": {},
   "outputs": [],
   "source": [
    "# softmax関数\n",
    "def softmax(x):\n",
    "    e_x = torch.exp(x - torch.max(x, dim = 1, keepdim = True)[0])\n",
    "    y_pred = e_x / (torch.sum(e_x, dim = 1, keepdim = True) + 1e-10)\n",
    "    return y_pred"
   ]
  },
  {
   "cell_type": "code",
   "execution_count": 48,
   "id": "bef8554f-8f72-4231-bf57-5750086d8b57",
   "metadata": {},
   "outputs": [],
   "source": [
    "# 損失関数定義\n",
    "def cross_entropy(y_true, y_pred):\n",
    "    loss = - torch.sum(y_true * torch.log(y_pred + 1e-10)) / y_pred.shape[0]\n",
    "    return loss"
   ]
  },
  {
   "cell_type": "code",
   "execution_count": 43,
   "id": "6bed6fcb-4bc5-4022-aca6-83599bd649e0",
   "metadata": {
    "jupyter": {
     "source_hidden": true
    }
   },
   "outputs": [
    {
     "data": {
      "text/plain": [
       "torch.Size([1, 64])"
      ]
     },
     "execution_count": 43,
     "metadata": {},
     "output_type": "execute_result"
    }
   ],
   "source": [
    "images[0].reshape(-1, 64).shape"
   ]
  },
  {
   "cell_type": "code",
   "execution_count": 47,
   "id": "be4fd8a0-303a-452f-bdf5-ad1955e53ee0",
   "metadata": {},
   "outputs": [
    {
     "data": {
      "text/plain": [
       "torch.Size([1, 10])"
      ]
     },
     "execution_count": 47,
     "metadata": {},
     "output_type": "execute_result"
    }
   ],
   "source": [
    "target[0].reshape(-1, 10).shape"
   ]
  },
  {
   "cell_type": "code",
   "execution_count": null,
   "id": "8447e555-7ac7-4aa9-9632-fb766e24e94c",
   "metadata": {},
   "outputs": [],
   "source": [
    "loss_log = []\n",
    "learning_rate = 0.03\n",
    "\n",
    "for epoch in range(5):\n",
    "    for i in range(len(images)):\n",
    "        # 多項ロジスティック回帰計算\n",
    "        X = images[i].reshape(-1, 64)\n",
    "        z = X @ W.T + b\n",
    "        # softmax\n",
    "        y_pred = softmax(z)\n",
    "        # cross entropy\n",
    "        loss = cross_entropy(target[i].reshape(-1, 10), y_pred)\n",
    "        loss_log.append(loss)\n",
    "        \n",
    "        "
   ]
  },
  {
   "cell_type": "code",
   "execution_count": 46,
   "id": "4c4c5096-8f78-4deb-aec7-2f11ffce175c",
   "metadata": {},
   "outputs": [
    {
     "ename": "RuntimeError",
     "evalue": "The size of tensor a (64) must match the size of tensor b (10) at non-singleton dimension 1",
     "output_type": "error",
     "traceback": [
      "\u001b[0;31m---------------------------------------------------------------------------\u001b[0m",
      "\u001b[0;31mRuntimeError\u001b[0m                              Traceback (most recent call last)",
      "Cell \u001b[0;32mIn[46], line 13\u001b[0m\n\u001b[1;32m     10\u001b[0m b \u001b[38;5;241m=\u001b[39m torch\u001b[38;5;241m.\u001b[39mrand((\u001b[38;5;241m1\u001b[39m, \u001b[38;5;241m10\u001b[39m), requires_grad \u001b[38;5;241m=\u001b[39m \u001b[38;5;28;01mTrue\u001b[39;00m)\n\u001b[1;32m     12\u001b[0m \u001b[38;5;66;03m# 多項ロジスティック回帰関数の定義\u001b[39;00m\n\u001b[0;32m---> 13\u001b[0m z \u001b[38;5;241m=\u001b[39m \u001b[43mscaled_images\u001b[49m\u001b[43m \u001b[49m\u001b[38;5;241;43m*\u001b[39;49m\u001b[43m \u001b[49m\u001b[43mw\u001b[49m \u001b[38;5;241m+\u001b[39m b\n\u001b[1;32m     14\u001b[0m \u001b[38;5;66;03m# # ソフトマックス関数の定義\u001b[39;00m\n\u001b[1;32m     15\u001b[0m \u001b[38;5;66;03m# def softmax(z, k):\u001b[39;00m\n\u001b[1;32m     16\u001b[0m \u001b[38;5;66;03m#     a = z.max()\u001b[39;00m\n\u001b[1;32m     17\u001b[0m \u001b[38;5;66;03m#     p = []\u001b[39;00m\n\u001b[1;32m     18\u001b[0m \u001b[38;5;66;03m#     for n in range(0, 10):\u001b[39;00m\n\u001b[1;32m     19\u001b[0m \u001b[38;5;66;03m#         t = \u001b[39;00m\n",
      "\u001b[0;31mRuntimeError\u001b[0m: The size of tensor a (64) must match the size of tensor b (10) at non-singleton dimension 1"
     ]
    }
   ],
   "source": [
    "# 前処理\n",
    "num_class = 10\n",
    "input = torch.tensor(df['target'])\n",
    "ohe_input = F.one_hot(input, num_class)\n",
    "scaler = StandardScaler()\n",
    "scaled_images = torch.tensor(scaler.fit_transform(df['images'].reshape(-1, 64)), dtype = torch.float32)\n",
    "\n",
    "# パラメータ初期化\n",
    "w = torch.rand((10, 64), requires_grad = True).T\n",
    "b = torch.rand((1, 10), requires_grad = True)\n",
    "\n",
    "# 多項ロジスティック回帰関数の定義\n",
    "z = scaled_images * w + b\n",
    "# ソフトマックス関数の定義\n",
    "def softmax(z, k):\n",
    "    a = z.max()\n",
    "    p = []\n",
    "    for n in range(0, 10):\n",
    "        t = "
   ]
  },
  {
   "cell_type": "code",
   "execution_count": 27,
   "id": "4608d2ab-3ea2-4dfa-851e-ada31aad3fdd",
   "metadata": {},
   "outputs": [
    {
     "data": {
      "text/plain": [
       "<matplotlib.image.AxesImage at 0x413c8e2130>"
      ]
     },
     "execution_count": 27,
     "metadata": {},
     "output_type": "execute_result"
    },
    {
     "data": {
      "image/png": "[encoded data removed]",
      "text/plain": [
       "<Figure size 640x480 with 1 Axes>"
      ]
     },
     "metadata": {},
     "output_type": "display_data"
    }
   ],
   "source": [
    "plt.imshow(df['images'][0], cmap = 'gray')"
   ]
  },
  {
   "cell_type": "code",
   "execution_count": 44,
   "id": "2e6102f2-ece6-402a-9717-72af66607dc6",
   "metadata": {},
   "outputs": [
    {
     "data": {
      "text/plain": [
       "torch.Size([1797, 64])"
      ]
     },
     "execution_count": 44,
     "metadata": {},
     "output_type": "execute_result"
    }
   ],
   "source": [
    "scaled_images.shape"
   ]
  },
  {
   "cell_type": "code",
   "execution_count": 45,
   "id": "c4f50242-f1b2-46e9-b13c-3a80e7944ab0",
   "metadata": {},
   "outputs": [
    {
     "data": {
      "text/plain": [
       "torch.Size([64, 10])"
      ]
     },
     "execution_count": 45,
     "metadata": {},
     "output_type": "execute_result"
    }
   ],
   "source": [
    "w.T.shape"
   ]
  },
  {
   "cell_type": "markdown",
   "id": "b0d43091-5dc9-4b43-b265-4b80c29d4588",
   "metadata": {},
   "source": [
    "### 答え"
   ]
  },
  {
   "cell_type": "code",
   "execution_count": 94,
   "id": "0f70a486-470e-4fd0-bc2b-37f011e81453",
   "metadata": {},
   "outputs": [],
   "source": [
    "# 1.データロード\n",
    "dataset = datasets.load_digits()\n",
    "images = dataset['images']\n",
    "target = dataset['target']"
   ]
  },
  {
   "cell_type": "code",
   "execution_count": 95,
   "id": "1867b29b-09bd-45c9-b505-626cb7d1dcc3",
   "metadata": {},
   "outputs": [],
   "source": [
    "# 2.前処理\n",
    "y_true = F.one_hot(torch.tensor(target), num_classes = 10)\n",
    "images = torch.tensor(images, dtype = torch.float32).reshape(-1, 64) # np.arrayはfloat６４がデフォルト\n",
    "\n",
    "images = (images - images.mean()) / images.std()"
   ]
  },
  {
   "cell_type": "code",
   "execution_count": 96,
   "id": "abae4364-3003-402f-b241-a3eed50b126a",
   "metadata": {},
   "outputs": [],
   "source": [
    "learn_rate = 0.03\n",
    "loss_log = []"
   ]
  },
  {
   "cell_type": "code",
   "execution_count": 97,
   "id": "42d64a6b-e582-477c-af79-f0b5c29034a0",
   "metadata": {},
   "outputs": [
    {
     "data": {
      "text/plain": [
       "torch.Size([1797, 64])"
      ]
     },
     "execution_count": 97,
     "metadata": {},
     "output_type": "execute_result"
    }
   ],
   "source": [
    "images.shape"
   ]
  },
  {
   "cell_type": "code",
   "execution_count": 98,
   "id": "9ec53091-aa2d-4f54-b886-262f83dcd917",
   "metadata": {},
   "outputs": [],
   "source": [
    "# 3.パラメータの初期化\n",
    "W = torch.rand((10, 64), requires_grad = True)\n",
    "b = torch.rand((1, 10), requires_grad = True)"
   ]
  },
  {
   "cell_type": "code",
   "execution_count": 99,
   "id": "0e5df53a-d98b-4a0e-973c-2b0f35219668",
   "metadata": {},
   "outputs": [],
   "source": [
    "# 4.softmax\n",
    "def softmax(x):\n",
    "    e_x = torch.exp(x - torch.max(x, dim = -1, keepdim = True)[0]) # e_xのshapeは(1797, 10)\n",
    "    y_pred = e_x / (torch.sum(e_x, dim = -1, keepdim = True) + 1e-10)\n",
    "    return y_pred"
   ]
  },
  {
   "cell_type": "code",
   "execution_count": 100,
   "id": "7aea1041-f7e4-4bb2-be87-333e06b472a2",
   "metadata": {},
   "outputs": [],
   "source": [
    "# 5.cross entropy\n",
    "def cross_entropy(y_true, y_pred):\n",
    "    l = - torch.sum(y_true * torch.log(y_pred + 1e-10)) / y_true.shape[0]\n",
    "    return l"
   ]
  },
  {
   "cell_type": "code",
   "execution_count": 101,
   "id": "50ac93e5-9add-4ba0-b4cf-80ad32befd4e",
   "metadata": {},
   "outputs": [
    {
     "name": "stdout",
     "output_type": "stream",
     "text": [
      "epoch : 1 : 2.4602985846445704\n",
      "epoch : 2 : 2.3239446291342403\n",
      "epoch : 3 : 2.3116859926670608\n",
      "epoch : 4 : 2.3076557160485236\n",
      "epoch : 5 : 2.305820981595141\n"
     ]
    }
   ],
   "source": [
    "for epoch in range(5):\n",
    "    running_loss = 0\n",
    "    for i in range(len(target)):\n",
    "        # 6.入力データxおよび教師ラベルのyを作成\n",
    "        y_true_ = y_true[i].reshape(-1, 10) # データ数✖️クラス数\n",
    "        X = images[i].reshape(-1, 64) # データ数✖️特徴量数\n",
    "\n",
    "        # 7. z計算\n",
    "        z = X@W.T + b\n",
    "\n",
    "        # 8. softmaxで予測計算\n",
    "        y_pred = softmax(z)\n",
    "\n",
    "        # 9.損失計算\n",
    "        loss = cross_entropy(y_true, y_pred)\n",
    "        loss_log.append(loss.item())\n",
    "        running_loss += loss.item()\n",
    "\n",
    "        # 10.勾配計算\n",
    "        loss.backward()\n",
    "\n",
    "        # 11.パラメータ更新\n",
    "        with torch.no_grad():\n",
    "            W -= learn_rate * W.grad\n",
    "            b -= learn_rate * b .grad\n",
    "\n",
    "        # 12.勾配初期化\n",
    "        W.grad.zero_()\n",
    "        b.grad.zero_()\n",
    "\n",
    "        # 13.損失ログ出力\n",
    "    print(f'epoch : {epoch + 1} : {running_loss / len(target)}')"
   ]
  },
  {
   "cell_type": "code",
   "execution_count": null,
   "id": "c2dea68f-61c8-47bc-b418-065ba168b6d0",
   "metadata": {},
   "outputs": [],
   "source": []
  }
 ],
 "metadata": {
  "kernelspec": {
   "display_name": "Python 3 (ipykernel)",
   "language": "python",
   "name": "python3"
  },
  "language_info": {
   "codemirror_mode": {
    "name": "ipython",
    "version": 3
   },
   "file_extension": ".py",
   "mimetype": "text/x-python",
   "name": "python",
   "nbconvert_exporter": "python",
   "pygments_lexer": "ipython3",
   "version": "3.8.18"
  }
 },
 "nbformat": 4,
 "nbformat_minor": 5
}
