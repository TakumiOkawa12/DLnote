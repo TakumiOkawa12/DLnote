{
 "cells": [
  {
   "cell_type": "markdown",
   "id": "83166cc6-a715-4ba2-828a-a6eab5064b4d",
   "metadata": {},
   "source": [
    "# MLP"
   ]
  },
  {
   "cell_type": "code",
   "execution_count": 1,
   "id": "c8ed3496-13c3-4b2c-83b2-e0af346c6b1b",
   "metadata": {},
   "outputs": [],
   "source": [
    "import numpy as np\n",
    "import torch\n",
    "from torch.nn import functional as F\n",
    "from sklearn import datasets\n",
    "from sklearn.model_selection import train_test_split\n",
    "import matplotlib.pyplot as plt"
   ]
  },
  {
   "cell_type": "code",
   "execution_count": 9,
   "id": "f496c493-31f3-4fbb-b656-960c1f5ad2c7",
   "metadata": {},
   "outputs": [],
   "source": [
    "# 1. データロード\n",
    "dataset = datasets.load_digits()\n",
    "images = dataset['images']\n",
    "target = dataset['target']"
   ]
  },
  {
   "cell_type": "code",
   "execution_count": 10,
   "id": "1a959f06-8f34-4204-96d8-3345a78d0ece",
   "metadata": {},
   "outputs": [
    {
     "name": "stdout",
     "output_type": "stream",
     "text": [
      "(1437, 8, 8) (1437,)\n",
      "(360, 8, 8) (360,)\n"
     ]
    }
   ],
   "source": [
    "# 学習データと検証データ分割\n",
    "X_train, X_val, y_train, y_val = train_test_split(images, target, test_size=0.2, random_state=42)\n",
    "print(X_train.shape, y_train.shape)\n",
    "print(X_val.shape, y_val.shape)"
   ]
  },
  {
   "cell_type": "code",
   "execution_count": 4,
   "id": "866dfb30-9086-4a35-9ee6-06076f2a95bd",
   "metadata": {},
   "outputs": [],
   "source": [
    "# 前処理\n",
    "# 2-1.ラベルのone-hot encoing\n",
    "y_train = F.one_hot(torch.tensor(y_train), num_classes=10)\n",
    "X_train = torch.tensor(X_train, dtype=torch.float32).reshape(-1, 64)\n",
    "\n",
    "y_val = F.one_hot(torch.tensor(y_val), num_classes=10)\n",
    "X_val = torch.tensor(X_val, dtype=torch.float32).reshape(-1, 64)\n",
    "\n",
    "# 2-2. 画像の標準化\n",
    "X_train_mean = X_train.mean()\n",
    "X_train_std = X_train.std()\n",
    "X_train = (X_train - X_train_mean) / X_train_std\n",
    "X_val = (X_val - X_train_mean) / X_train_std\n",
    "# 以下のように手元のデータ全ての平均&標準偏差を使えば，学習データと検証データの分布を近くすることが可能\n",
    "# しかし，この場合validationの精度は，未知のデータよりも若干高くなることに注意\n",
    "# X_train = (X_train - images.mean()) / images.std()\n",
    "# X_val = (X_val - images.mean()) / images.std()"
   ]
  },
  {
   "cell_type": "code",
   "execution_count": 6,
   "id": "fbe75b01-1e13-4322-bce7-87cb25401c45",
   "metadata": {},
   "outputs": [
    {
     "data": {
      "text/plain": [
       "torch.Size([360, 64])"
      ]
     },
     "execution_count": 6,
     "metadata": {},
     "output_type": "execute_result"
    }
   ],
   "source": [
    "X_val.shape"
   ]
  },
  {
   "cell_type": "code",
   "execution_count": 21,
   "id": "c0f4463a-1a03-48cb-ac86-98dda5ddfcf9",
   "metadata": {},
   "outputs": [
    {
     "data": {
      "text/plain": [
       "torch.Size([1437, 64])"
      ]
     },
     "execution_count": 21,
     "metadata": {},
     "output_type": "execute_result"
    }
   ],
   "source": [
    "X_train.shape"
   ]
  },
  {
   "cell_type": "code",
   "execution_count": 39,
   "id": "adca3cff-2618-41b0-9414-779f9bebc1a6",
   "metadata": {},
   "outputs": [],
   "source": [
    "m, n = X_train.shape\n",
    "nh = 30\n",
    "class_num = 10\n",
    "# パラメータの初期化\n",
    "W1 = torch.randn((nh, n), requires_grad = True) # 出力×入力\n",
    "b1 = torch.zeros((1, nh), requires_grad = True)\n",
    "\n",
    "W2 = torch.randn((10, nh), requires_grad = True)\n",
    "b2 = torch.zeros((1, class_num), requires_grad = True)"
   ]
  },
  {
   "cell_type": "code",
   "execution_count": 24,
   "id": "68b137b3-e247-4b81-973c-d5193e4d5510",
   "metadata": {},
   "outputs": [],
   "source": [
    "def linear(X, W, b):\n",
    "    return X @ W.T + b"
   ]
  },
  {
   "cell_type": "code",
   "execution_count": 26,
   "id": "ce1b8d52-e906-4142-8dd4-5976aa078356",
   "metadata": {},
   "outputs": [
    {
     "data": {
      "text/plain": [
       "torch.Size([1437, 30])"
      ]
     },
     "execution_count": 26,
     "metadata": {},
     "output_type": "execute_result"
    }
   ],
   "source": [
    "linear(X_train, W1, b1).shape"
   ]
  },
  {
   "cell_type": "code",
   "execution_count": 33,
   "id": "9a6babd0-7683-4e5e-b39a-921339b9cd36",
   "metadata": {},
   "outputs": [],
   "source": [
    "def relu(Z):\n",
    "    return Z.clamp_min(0.)"
   ]
  },
  {
   "cell_type": "code",
   "execution_count": 34,
   "id": "a33e91bc-baa5-4862-b707-589a85dadd78",
   "metadata": {},
   "outputs": [
    {
     "data": {
      "text/plain": [
       "tensor([0., 0., 2., 0.])"
      ]
     },
     "execution_count": 34,
     "metadata": {},
     "output_type": "execute_result"
    }
   ],
   "source": [
    "t = torch.tensor([-1., 0., 2., -5.])\n",
    "t.clamp_min_(0.) # clamp_min_にすると上書きされる"
   ]
  },
  {
   "cell_type": "code",
   "execution_count": 29,
   "id": "67540b8a-a818-4d4d-8e75-e940eaafc1cd",
   "metadata": {},
   "outputs": [
    {
     "data": {
      "text/plain": [
       "tensor([0., 0., 2., 0.])"
      ]
     },
     "execution_count": 29,
     "metadata": {},
     "output_type": "execute_result"
    }
   ],
   "source": [
    "t"
   ]
  },
  {
   "cell_type": "code",
   "execution_count": 30,
   "id": "1f86ffd2-2252-4b32-a6da-d28a710a0b98",
   "metadata": {},
   "outputs": [],
   "source": [
    "def softmax(x):\n",
    "    e_x = torch.exp(x - torch.max(x, dim=-1, keepdim=True)[0])\n",
    "    return e_x / (torch.sum(e_x, dim=-1, keepdim=True) + 1e-10)"
   ]
  },
  {
   "cell_type": "code",
   "execution_count": 31,
   "id": "5e1fdee1-0c4e-4a08-90cb-d3cefb23c075",
   "metadata": {},
   "outputs": [],
   "source": [
    "def model(X):\n",
    "    Z1 = linear(X, W1, b1)\n",
    "    A1 = relu(Z1)\n",
    "    Z2 = linear(A1, W2, b2)\n",
    "    A2 = softmax(Z2)\n",
    "    return A2"
   ]
  },
  {
   "cell_type": "code",
   "execution_count": 35,
   "id": "c210ed2f-db16-4b83-a1a6-22ca0042bac6",
   "metadata": {},
   "outputs": [],
   "source": [
    "y_train_pred = model(X_train)"
   ]
  },
  {
   "cell_type": "code",
   "execution_count": 36,
   "id": "d43647b8-11e2-4b14-9e82-2964688cc5e4",
   "metadata": {},
   "outputs": [
    {
     "data": {
      "text/plain": [
       "tensor([[2.9116e-14, 1.1837e-18, 1.5258e-01,  ..., 5.7295e-13, 1.4145e-03,\n",
       "         6.9556e-15],\n",
       "        [4.0963e-36, 7.4882e-14, 3.3960e-28,  ..., 4.2293e-33, 1.7203e-24,\n",
       "         6.5865e-26],\n",
       "        [2.9381e-39, 1.7752e-31, 3.0689e-21,  ..., 5.9604e-37, 2.1907e-22,\n",
       "         1.4013e-45],\n",
       "        ...,\n",
       "        [1.9175e-24, 4.2753e-32, 2.8219e-08,  ..., 1.7900e-29, 7.2701e-35,\n",
       "         1.1404e-34],\n",
       "        [4.9334e-35, 1.7236e-27, 7.6186e-05,  ..., 7.0911e-21, 1.0891e-21,\n",
       "         8.8272e-31],\n",
       "        [1.8032e-33, 0.0000e+00, 1.0000e+00,  ..., 6.0869e-34, 1.5526e-24,\n",
       "         4.6915e-42]], grad_fn=<DivBackward0>)"
      ]
     },
     "execution_count": 36,
     "metadata": {},
     "output_type": "execute_result"
    }
   ],
   "source": [
    "y_train_pred"
   ]
  },
  {
   "cell_type": "code",
   "execution_count": 37,
   "id": "4cf17770-d3f7-4904-b932-a8341b1a308c",
   "metadata": {},
   "outputs": [
    {
     "data": {
      "text/plain": [
       "torch.Size([1437, 10])"
      ]
     },
     "execution_count": 37,
     "metadata": {},
     "output_type": "execute_result"
    }
   ],
   "source": [
    "y_train_pred.shape"
   ]
  },
  {
   "cell_type": "code",
   "execution_count": 38,
   "id": "8bdfade9-3e44-4544-8f6f-d08e315e25a2",
   "metadata": {},
   "outputs": [
    {
     "data": {
      "text/plain": [
       "tensor([1., 1., 1.,  ..., 1., 1., 1.], grad_fn=<SumBackward1>)"
      ]
     },
     "execution_count": 38,
     "metadata": {},
     "output_type": "execute_result"
    }
   ],
   "source": [
    "y_train_pred.sum(dim = 1)"
   ]
  },
  {
   "cell_type": "markdown",
   "id": "252e0e24-6b31-4f85-9378-7977f0e32315",
   "metadata": {},
   "source": [
    "## 復習"
   ]
  },
  {
   "cell_type": "code",
   "execution_count": 11,
   "id": "1e0a35c1-f914-45c1-ac35-860be0869688",
   "metadata": {},
   "outputs": [],
   "source": [
    "# 前処理\n",
    "y_train = F.one_hot(torch.tensor(y_train), num_classes = 10)\n",
    "y_val = F.one_hot(torch.tensor(y_val), num_classes = 10)\n",
    "X_train_mean = X_train.mean()\n",
    "X_train_std = X_train.std()\n",
    "X_train = (X_train - X_train_mean) / X_train_std\n",
    "X_val = (X_val - X_train_mean) / X_train_std\n",
    "\n",
    "X_train = torch.tensor(X_train, dtype = torch.float32).reshape(-1, 64)\n",
    "X_val = torch.tensor(X_val, dtype = torch.float32).reshape(-1, 64)"
   ]
  },
  {
   "cell_type": "code",
   "execution_count": 12,
   "id": "853826a5-35a9-4c84-8e00-79dc371b8737",
   "metadata": {},
   "outputs": [],
   "source": [
    "def linear(X, W, b):\n",
    "    return X @ W.T + b"
   ]
  },
  {
   "cell_type": "code",
   "execution_count": 14,
   "id": "5d3a0390-433a-4ee4-9847-e8a2a19b1df8",
   "metadata": {},
   "outputs": [
    {
     "data": {
      "text/plain": [
       "torch.Size([1437, 64])"
      ]
     },
     "execution_count": 14,
     "metadata": {},
     "output_type": "execute_result"
    }
   ],
   "source": [
    "X_train.shape"
   ]
  },
  {
   "cell_type": "code",
   "execution_count": 15,
   "id": "060770c3-8546-4541-9bec-3ac6811f4455",
   "metadata": {},
   "outputs": [],
   "source": [
    "# パラメータの初期化\n",
    "m, n = X_train.shape\n",
    "nh = 30\n",
    "class_num = 10\n",
    "W1 = torch.randn((nh, n), requires_grad = True)\n",
    "b1 = torch.zeros((1, nh), requires_grad = True)\n",
    "W2 = torch.randn((10, nh), requires_grad = True)\n",
    "b2 = torch.zeros((1, class_num), requires_grad = True)"
   ]
  },
  {
   "cell_type": "code",
   "execution_count": 16,
   "id": "71b2422e-04b3-47d6-8c4f-271734f53085",
   "metadata": {},
   "outputs": [],
   "source": [
    "def relu(Z):\n",
    "    return Z.clamp_min(0.)"
   ]
  },
  {
   "cell_type": "code",
   "execution_count": 19,
   "id": "310fac96-807c-488e-8c68-bd0644d66f36",
   "metadata": {},
   "outputs": [],
   "source": [
    "def model(X):\n",
    "    Z1 = linear(X, W1, b1)\n",
    "    A1 = relu(Z1)\n",
    "    Z2 = linear(A1, W2, b2)\n",
    "    A2 = softmax(Z2)\n",
    "    return A2"
   ]
  },
  {
   "cell_type": "code",
   "execution_count": 22,
   "id": "f7fbf009-f5fe-4019-8033-ca3159b051ce",
   "metadata": {},
   "outputs": [],
   "source": [
    "def softmax(x):\n",
    "    e_x = torch.exp(x - torch.max(x, dim=-1, keepdim=True)[0])\n",
    "    return e_x / (torch.sum(e_x, dim=-1, keepdim=True) + 1e-10)"
   ]
  },
  {
   "cell_type": "code",
   "execution_count": 23,
   "id": "a48614ae-9013-474f-91a2-9d43a4a2444e",
   "metadata": {},
   "outputs": [],
   "source": [
    "y_train_pred = model(X_train)"
   ]
  },
  {
   "cell_type": "code",
   "execution_count": 24,
   "id": "05650622-958f-4144-b40b-5aa16f2efddf",
   "metadata": {},
   "outputs": [
    {
     "data": {
      "text/plain": [
       "tensor([[4.1363e-01, 4.2362e-30, 0.0000e+00,  ..., 1.5896e-41, 1.2441e-31,\n",
       "         6.5275e-27],\n",
       "        [2.9204e-03, 3.7782e-16, 1.7474e-17,  ..., 2.9729e-14, 5.1256e-08,\n",
       "         2.3867e-09],\n",
       "        [1.1387e-28, 1.2305e-39, 1.4013e-45,  ..., 0.0000e+00, 1.0000e+00,\n",
       "         9.0699e-33],\n",
       "        ...,\n",
       "        [7.8745e-19, 0.0000e+00, 2.2307e-11,  ..., 3.3134e-17, 1.0000e+00,\n",
       "         2.2332e-26],\n",
       "        [4.7875e-16, 1.0899e-39, 1.5978e-23,  ..., 1.0352e-37, 1.0000e+00,\n",
       "         1.5335e-36],\n",
       "        [9.3205e-03, 1.4499e-26, 3.2827e-19,  ..., 1.4222e-29, 5.5366e-09,\n",
       "         2.6971e-31]], grad_fn=<DivBackward0>)"
      ]
     },
     "execution_count": 24,
     "metadata": {},
     "output_type": "execute_result"
    }
   ],
   "source": [
    "y_train_pred"
   ]
  },
  {
   "cell_type": "code",
   "execution_count": null,
   "id": "c481e41f-edbc-482c-97d9-0f099ee96ed2",
   "metadata": {},
   "outputs": [],
   "source": []
  }
 ],
 "metadata": {
  "kernelspec": {
   "display_name": "Python 3 (ipykernel)",
   "language": "python",
   "name": "python3"
  },
  "language_info": {
   "codemirror_mode": {
    "name": "ipython",
    "version": 3
   },
   "file_extension": ".py",
   "mimetype": "text/x-python",
   "name": "python",
   "nbconvert_exporter": "python",
   "pygments_lexer": "ipython3",
   "version": "3.8.18"
  }
 },
 "nbformat": 4,
 "nbformat_minor": 5
}
