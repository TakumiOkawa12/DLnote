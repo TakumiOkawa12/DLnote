{
 "cells": [
  {
   "cell_type": "markdown",
   "id": "8ef866ef-91aa-429f-8c3f-5d73312b483e",
   "metadata": {},
   "source": [
    "## MNISTで多クラス分類"
   ]
  },
  {
   "cell_type": "code",
   "execution_count": 1,
   "id": "c8ed3496-13c3-4b2c-83b2-e0af346c6b1b",
   "metadata": {},
   "outputs": [],
   "source": [
    "import numpy as np\n",
    "import torch\n",
    "from torch.nn import functional as F\n",
    "from sklearn import datasets\n",
    "from sklearn.model_selection import train_test_split\n",
    "import matplotlib.pyplot as plt"
   ]
  },
  {
   "cell_type": "markdown",
   "id": "2fd00db1-7dff-4000-9c5d-3247a581a9e5",
   "metadata": {},
   "source": [
    "### ベースの学習ループ"
   ]
  },
  {
   "cell_type": "code",
   "execution_count": 2,
   "id": "f496c493-31f3-4fbb-b656-960c1f5ad2c7",
   "metadata": {},
   "outputs": [],
   "source": [
    "# 1. データロード\n",
    "dataset = datasets.load_digits()\n",
    "images = dataset['images']\n",
    "target = dataset['target']"
   ]
  },
  {
   "cell_type": "code",
   "execution_count": 3,
   "id": "6885481e-8535-4a8f-87cf-a70ed8dc8854",
   "metadata": {},
   "outputs": [
    {
     "name": "stdout",
     "output_type": "stream",
     "text": [
      "(1797, 8, 8)\n"
     ]
    },
    {
     "data": {
      "image/png": "[encoded data removed]",
      "text/plain": [
       "<Figure size 640x480 with 1 Axes>"
      ]
     },
     "metadata": {},
     "output_type": "display_data"
    }
   ],
   "source": [
    "# データ可視化\n",
    "plt.imshow(images[2], cmap='gray')\n",
    "print(images.shape)"
   ]
  },
  {
   "cell_type": "code",
   "execution_count": 4,
   "id": "c89a4817-bb98-4257-9c42-6872554dcefe",
   "metadata": {},
   "outputs": [
    {
     "data": {
      "text/plain": [
       "array([0, 1, 2, ..., 8, 9, 8])"
      ]
     },
     "execution_count": 4,
     "metadata": {},
     "output_type": "execute_result"
    }
   ],
   "source": [
    "# 正解ラベル\n",
    "target"
   ]
  },
  {
   "cell_type": "code",
   "execution_count": 5,
   "id": "9f35647a-8978-4c8e-9d47-9be0f3d09e17",
   "metadata": {},
   "outputs": [],
   "source": [
    "# 2. 前処理\n",
    "# 2-1.ラベルのone-hot encoing\n",
    "y_true = F.one_hot(torch.tensor(target), num_classes=10)\n",
    "# NumPyのデフォルトはfloat64, torchはfloat32で，演算時にエラーになるのでfloat32に揃える\n",
    "images = torch.tensor(images, dtype=torch.float32).reshape(-1, 64)\n",
    "# 2-2. 画像の標準化\n",
    "images = (images - images.mean()) / images.std()"
   ]
  },
  {
   "cell_type": "code",
   "execution_count": 6,
   "id": "981c7682-7465-4974-8907-ae34e5e031c5",
   "metadata": {},
   "outputs": [],
   "source": [
    "learning_rate = 0.03\n",
    "loss_log = []"
   ]
  },
  {
   "cell_type": "code",
   "execution_count": 7,
   "id": "f4dba87d-554d-4196-8fe9-e0333ae630e7",
   "metadata": {},
   "outputs": [],
   "source": [
    "# 3. パラメータの初期化\n",
    "W = torch.rand((10, 64), requires_grad=True) # 出力x入力\n",
    "b = torch.rand((1, 10), requires_grad=True) # 1 x 出力"
   ]
  },
  {
   "cell_type": "code",
   "execution_count": 8,
   "id": "08553e73-6aaf-484f-bbd4-b4b07eab6eb2",
   "metadata": {},
   "outputs": [],
   "source": [
    "# 4. softmaxとcross entropy\n",
    "def softmax(x):\n",
    "    e_x = torch.exp(x - torch.max(x, dim=-1, keepdim=True)[0])\n",
    "    return e_x / (torch.sum(e_x, dim=-1, keepdim=True) + 1e-10)\n",
    "\n",
    "def cross_entropy(y_true, y_pred):\n",
    "    return -torch.sum(y_true * torch.log(y_pred + 1e-10)) / y_true.shape[0]"
   ]
  },
  {
   "cell_type": "code",
   "execution_count": 9,
   "id": "c5a90537-aa3f-4dde-9558-ee94ab1dc710",
   "metadata": {},
   "outputs": [
    {
     "name": "stdout",
     "output_type": "stream",
     "text": [
      "epoch: 1: 0.4074933143537554\n",
      "epoch: 2: 0.14019991623049766\n",
      "epoch: 3: 0.1081952229690629\n",
      "epoch: 4: 0.09146877579146422\n",
      "epoch: 5: 0.08023116896337683\n"
     ]
    }
   ],
   "source": [
    "# 5. for文で学習ループ作成\n",
    "for epoch in range(5):\n",
    "    running_loss = 0\n",
    "    for i in range(len(target)):\n",
    "        # 6. 入力データXおよび教師ラベルのYを作成\n",
    "        y_true_ = y_true[i].reshape(-1, 10) # データ数xクラス数\n",
    "        X = images[i].reshape(-1, 64) # データ数 x 特徴量数\n",
    "\n",
    "        # 7. Z計算\n",
    "        Z = X@W.T + b\n",
    "\n",
    "        # 8. softmaxで予測計算\n",
    "        y_pred = softmax(Z)\n",
    "\n",
    "        # 9. 損失計算\n",
    "        loss = cross_entropy(y_true_, y_pred)\n",
    "        loss_log.append(loss.item())\n",
    "        running_loss += loss.item()\n",
    "        \n",
    "        # 10. 勾配計算\n",
    "        loss.backward()\n",
    "\n",
    "        # 11. パラメータ更新\n",
    "        with torch.no_grad():\n",
    "            W -= learning_rate * W.grad\n",
    "            b -= learning_rate * b.grad\n",
    "\n",
    "        # 12. 勾配初期化\n",
    "        W.grad.zero_()\n",
    "        b.grad.zero_()\n",
    "\n",
    "    # 13. 損失ログ出力\n",
    "    print(f'epoch: {epoch+1}: {running_loss/len(target)}')\n",
    "        "
   ]
  },
  {
   "cell_type": "code",
   "execution_count": 10,
   "id": "f644e84c-4f00-43e8-aa96-e98c137c13b8",
   "metadata": {},
   "outputs": [
    {
     "name": "stderr",
     "output_type": "stream",
     "text": [
      "/tmp/ipykernel_2562/844738670.py:2: UserWarning: To copy construct from a tensor, it is recommended to use sourceTensor.clone().detach() or sourceTensor.clone().detach().requires_grad_(True), rather than torch.tensor(sourceTensor).\n",
      "  X = torch.tensor(images, dtype=torch.float32)\n"
     ]
    },
    {
     "data": {
      "text/plain": [
       "tensor(0.9772)"
      ]
     },
     "execution_count": 10,
     "metadata": {},
     "output_type": "execute_result"
    }
   ],
   "source": [
    "# 学習したモデルで全データのaccuracyを計算する（学習に使っているデータに対してのAccuracyであることに注意）\n",
    "X = torch.tensor(images, dtype=torch.float32)\n",
    "Z = X@W.T + b\n",
    "y_pred = softmax(Z)\n",
    "# accuracy = 正しく分類できた数/全サンプル数\n",
    "torch.sum(torch.argmax(y_pred, dim=-1) == torch.argmax(y_true, dim=-1)) / y_true.shape[0]"
   ]
  },
  {
   "cell_type": "code",
   "execution_count": 11,
   "id": "1b220e35-85b8-4e2b-aeee-b9ed6acadeae",
   "metadata": {
    "scrolled": true
   },
   "outputs": [
    {
     "data": {
      "text/plain": [
       "[<matplotlib.lines.Line2D at 0x4129f60dc0>]"
      ]
     },
     "execution_count": 11,
     "metadata": {},
     "output_type": "execute_result"
    },
    {
     "data": {
      "image/png": "[encoded data removed]",
      "text/plain": [
       "<Figure size 640x480 with 1 Axes>"
      ]
     },
     "metadata": {},
     "output_type": "display_data"
    }
   ],
   "source": [
    "plt.plot(loss_log)"
   ]
  },
  {
   "cell_type": "markdown",
   "id": "c139c97a-51b6-4c27-8cae-e099502800a3",
   "metadata": {},
   "source": [
    "### mini-batch学習"
   ]
  },
  {
   "cell_type": "code",
   "execution_count": 12,
   "id": "35972ce0-7c9c-488b-90a0-f76df24e6566",
   "metadata": {},
   "outputs": [
    {
     "data": {
      "text/plain": [
       "array([1401, 1218,  474, ..., 1601, 1068, 1298])"
      ]
     },
     "execution_count": 12,
     "metadata": {},
     "output_type": "execute_result"
    }
   ],
   "source": [
    "# ランダムにソートされたindexを使ってデータを取得することで，X, yを同時にshuffleすることが可能\n",
    "np.random.permutation(len(target))"
   ]
  },
  {
   "cell_type": "code",
   "execution_count": 13,
   "id": "facf2632-2b87-4932-86ab-c5c9438d6e4c",
   "metadata": {},
   "outputs": [
    {
     "name": "stdout",
     "output_type": "stream",
     "text": [
      "epoch: 1: 1.99225821296374\n",
      "epoch: 2: 0.9822841912508011\n",
      "epoch: 3: 0.6627408728003502\n",
      "epoch: 4: 0.5194520935416221\n",
      "epoch: 5: 0.4389257252216339\n"
     ]
    }
   ],
   "source": [
    "loss_log = []\n",
    "batch_size = 30\n",
    "num_batches = np.ceil(len(target) / batch_size).astype(int)\n",
    "# 3. パラメータの初期化\n",
    "W = torch.rand((10, 64), requires_grad=True) # 出力x入力\n",
    "b = torch.rand((1, 10), requires_grad=True) # 1 x 出力\n",
    "# 5. for文で学習ループ作成\n",
    "for epoch in range(5):\n",
    "    shuffled_indices = np.random.permutation(len(target))\n",
    "    running_loss = 0\n",
    "    for i in range(num_batches):\n",
    "\n",
    "        # mini batch作成\n",
    "        start = i * batch_size\n",
    "        end = start + batch_size\n",
    "        batch_indices = shuffled_indices[start:end]\n",
    "        # 6. 入力データXおよび教師ラベルのYを作成\n",
    "        y_true_ = y_true[batch_indices, :] # データ数xクラス数\n",
    "        X = images[batch_indices, :] # データ数 x 特徴量数\n",
    "        # ブレークポイントを設置\n",
    "        # import pdb; pdb.set_trace()\n",
    "\n",
    "        # 7. Z計算\n",
    "        Z = X@W.T + b\n",
    "\n",
    "        # 8. softmaxで予測計算\n",
    "        y_pred = softmax(Z)\n",
    "\n",
    "        # 9. 損失計算\n",
    "        loss = cross_entropy(y_true_, y_pred)\n",
    "        loss_log.append(loss.item())\n",
    "        running_loss += loss.item()\n",
    "        \n",
    "        # 10. 勾配計算\n",
    "        loss.backward()\n",
    "\n",
    "        # 11. パラメータ更新\n",
    "        with torch.no_grad():\n",
    "            W -= learning_rate * W.grad\n",
    "            b -= learning_rate * b.grad\n",
    "\n",
    "        # 12. 勾配初期化\n",
    "        W.grad.zero_()\n",
    "        b.grad.zero_()\n",
    "\n",
    "    # 13. 損失ログ出力\n",
    "    print(f'epoch: {epoch+1}: {running_loss/num_batches}')"
   ]
  },
  {
   "cell_type": "code",
   "execution_count": 14,
   "id": "71196c1e-7386-435f-9719-b835e61f8154",
   "metadata": {},
   "outputs": [
    {
     "name": "stderr",
     "output_type": "stream",
     "text": [
      "/tmp/ipykernel_2562/3927234863.py:1: UserWarning: To copy construct from a tensor, it is recommended to use sourceTensor.clone().detach() or sourceTensor.clone().detach().requires_grad_(True), rather than torch.tensor(sourceTensor).\n",
      "  X = torch.tensor(images, dtype=torch.float32)\n"
     ]
    },
    {
     "data": {
      "text/plain": [
       "tensor(0.8976)"
      ]
     },
     "execution_count": 14,
     "metadata": {},
     "output_type": "execute_result"
    }
   ],
   "source": [
    "X = torch.tensor(images, dtype=torch.float32)\n",
    "Z = X@W.T + b\n",
    "y_pred = softmax(Z)\n",
    "# Accuracy\n",
    "torch.sum(torch.argmax(y_pred, dim=-1) == torch.argmax(y_true, dim=-1)) / y_true.shape[0]"
   ]
  },
  {
   "cell_type": "markdown",
   "id": "d8a0d5a5-c4f5-4ff2-9e37-37da51c19289",
   "metadata": {},
   "source": [
    "### 学習データと検証データを分ける"
   ]
  },
  {
   "cell_type": "code",
   "execution_count": 15,
   "id": "c4c8bd17-46a9-40b7-8a21-1a4cdbe1a167",
   "metadata": {},
   "outputs": [],
   "source": [
    "# 1. データロード\n",
    "dataset = datasets.load_digits()\n",
    "images = dataset['images']\n",
    "target = dataset['target']"
   ]
  },
  {
   "cell_type": "code",
   "execution_count": 16,
   "id": "1a959f06-8f34-4204-96d8-3345a78d0ece",
   "metadata": {},
   "outputs": [
    {
     "name": "stdout",
     "output_type": "stream",
     "text": [
      "(1437, 8, 8) (1437,)\n",
      "(360, 8, 8) (360,)\n"
     ]
    }
   ],
   "source": [
    "# 学習データと検証データ分割\n",
    "X_train, X_val, y_train, y_val = train_test_split(images, target, test_size=0.2, random_state=42)\n",
    "print(X_train.shape, y_train.shape)\n",
    "print(X_val.shape, y_val.shape)"
   ]
  },
  {
   "cell_type": "code",
   "execution_count": 17,
   "id": "866dfb30-9086-4a35-9ee6-06076f2a95bd",
   "metadata": {},
   "outputs": [],
   "source": [
    "# 前処理\n",
    "# 2-1.ラベルのone-hot encoing\n",
    "y_train = F.one_hot(torch.tensor(y_train), num_classes=10)\n",
    "X_train = torch.tensor(X_train, dtype=torch.float32).reshape(-1, 64)\n",
    "\n",
    "y_val = F.one_hot(torch.tensor(y_val), num_classes=10)\n",
    "X_val = torch.tensor(X_val, dtype=torch.float32).reshape(-1, 64)\n",
    "\n",
    "# 2-2. 画像の標準化\n",
    "X_train_mean = X_train.mean()\n",
    "X_train_std = X_train.std()\n",
    "X_train = (X_train - X_train_mean) / X_train_std\n",
    "X_val = (X_val - X_train_mean) / X_train_std\n",
    "# 以下のように手元のデータ全ての平均&標準偏差を使えば，学習データと検証データの分布を近くすることが可能\n",
    "# しかし，この場合validationの精度は，未知のデータよりも若干高くなることに注意\n",
    "# X_train = (X_train - images.mean()) / images.std()\n",
    "# X_val = (X_val - images.mean()) / images.std()"
   ]
  },
  {
   "cell_type": "code",
   "execution_count": 18,
   "id": "fa5013a3-b935-4d59-afe3-09e27bccdbe7",
   "metadata": {},
   "outputs": [
    {
     "name": "stdout",
     "output_type": "stream",
     "text": [
      "tensor(7.4330e-08) tensor(4.8559)\n"
     ]
    }
   ],
   "source": [
    "print(X_train.mean(), X_val.mean())"
   ]
  },
  {
   "cell_type": "code",
   "execution_count": 19,
   "id": "250d48b9-4d5e-4a99-83c3-fcc7907f5ba1",
   "metadata": {},
   "outputs": [
    {
     "name": "stdout",
     "output_type": "stream",
     "text": [
      "epoch: 1: train loss:2.895462932686011, val loss: 13.745954513549805, val accuracy: 0.22499999403953552\n",
      "epoch: 2: train loss:1.3396302747229736, val loss: 10.064632415771484, val accuracy: 0.31388887763023376\n",
      "epoch: 3: train loss:0.8614372586210569, val loss: 7.194775581359863, val accuracy: 0.4000000059604645\n",
      "epoch: 4: train loss:0.6451684503505627, val loss: 6.02787971496582, val accuracy: 0.45277777314186096\n",
      "epoch: 5: train loss:0.5288955209155878, val loss: 4.798477649688721, val accuracy: 0.519444465637207\n",
      "epoch: 6: train loss:0.4548322806755702, val loss: 3.8534345626831055, val accuracy: 0.5916666388511658\n",
      "epoch: 7: train loss:0.40607993087420863, val loss: 3.418916940689087, val accuracy: 0.6166666746139526\n",
      "epoch: 8: train loss:0.36798045318573713, val loss: 3.10925555229187, val accuracy: 0.625\n",
      "epoch: 9: train loss:0.3393945960948865, val loss: 2.689845561981201, val accuracy: 0.6666666865348816\n",
      "epoch: 10: train loss:0.3166778438414137, val loss: 2.381927967071533, val accuracy: 0.7194444537162781\n",
      "epoch: 11: train loss:0.2982989602411787, val loss: 2.2050466537475586, val accuracy: 0.7333333492279053\n",
      "epoch: 12: train loss:0.28198817900071543, val loss: 2.0554020404815674, val accuracy: 0.7444444298744202\n",
      "epoch: 13: train loss:0.26847680068264407, val loss: 1.907729983329773, val accuracy: 0.7666666507720947\n",
      "epoch: 14: train loss:0.2566283072034518, val loss: 1.7023069858551025, val accuracy: 0.7805555462837219\n",
      "epoch: 15: train loss:0.24706742089862624, val loss: 1.6261340379714966, val accuracy: 0.7944444417953491\n",
      "epoch: 16: train loss:0.23786910064518452, val loss: 1.5415114164352417, val accuracy: 0.7972221970558167\n",
      "epoch: 17: train loss:0.229373660714676, val loss: 1.4685732126235962, val accuracy: 0.8083333373069763\n",
      "epoch: 18: train loss:0.2221908182837069, val loss: 1.3046163320541382, val accuracy: 0.8333333134651184\n",
      "epoch: 19: train loss:0.21561708813533187, val loss: 1.2996224164962769, val accuracy: 0.8305555582046509\n",
      "epoch: 20: train loss:0.20924533003320298, val loss: 1.2654869556427002, val accuracy: 0.8416666388511658\n",
      "epoch: 21: train loss:0.2041776366531849, val loss: 1.1990621089935303, val accuracy: 0.855555534362793\n",
      "epoch: 22: train loss:0.198791338596493, val loss: 1.1425155401229858, val accuracy: 0.8611111044883728\n",
      "epoch: 23: train loss:0.19464896277834973, val loss: 1.1257338523864746, val accuracy: 0.8694444298744202\n",
      "epoch: 24: train loss:0.18976500638139746, val loss: 1.08681058883667, val accuracy: 0.8694444298744202\n",
      "epoch: 25: train loss:0.18564203598846993, val loss: 1.0475916862487793, val accuracy: 0.8694444298744202\n",
      "epoch: 26: train loss:0.1814739842278262, val loss: 1.0186750888824463, val accuracy: 0.875\n",
      "epoch: 27: train loss:0.17815289087593555, val loss: 0.9976838827133179, val accuracy: 0.8833333253860474\n",
      "epoch: 28: train loss:0.1749240142914156, val loss: 0.9828415513038635, val accuracy: 0.8805555701255798\n",
      "epoch: 29: train loss:0.1715486228155593, val loss: 0.9524297118186951, val accuracy: 0.8861111402511597\n",
      "epoch: 30: train loss:0.16846826773447296, val loss: 0.9366673827171326, val accuracy: 0.8916666507720947\n"
     ]
    }
   ],
   "source": [
    "batch_size = 30\n",
    "num_batches = np.ceil(len(y_train) / batch_size).astype(int)\n",
    "loss_log = []\n",
    "# 3. パラメータの初期化\n",
    "W = torch.rand((10, 64), requires_grad=True) # 出力x入力\n",
    "b = torch.rand((1, 10), requires_grad=True) # 1 x 出力\n",
    "# ログ\n",
    "train_losses = []\n",
    "val_losses = []\n",
    "val_accuracies = []\n",
    "# 5. for文で学習ループ作成\n",
    "epochs = 30\n",
    "for epoch in range(epochs):\n",
    "    shuffled_indices = np.random.permutation(len(y_train))\n",
    "    running_loss = 0\n",
    "    for i in range(num_batches):\n",
    "\n",
    "        # mini batch作成\n",
    "        start = i * batch_size\n",
    "        end = start + batch_size\n",
    "        batch_indices = shuffled_indices[start:end]\n",
    "        # 6. 入力データXおよび教師ラベルのYを作成\n",
    "        y_true_ = y_train[batch_indices, :] # データ数xクラス数\n",
    "        X = X_train[batch_indices, :] # データ数 x 特徴量数\n",
    "        # import pdb; pdb.set_trace()\n",
    "\n",
    "        # 7. Z計算\n",
    "        Z = X@W.T + b\n",
    "\n",
    "        # 8. softmaxで予測計算\n",
    "        y_pred = softmax(Z)\n",
    "\n",
    "        # 9. 損失計算\n",
    "        loss = cross_entropy(y_true_, y_pred)\n",
    "        loss_log.append(loss.item())\n",
    "        running_loss += loss.item()\n",
    "        \n",
    "        # 10. 勾配計算\n",
    "        loss.backward()\n",
    "\n",
    "        # 11. パラメータ更新\n",
    "        with torch.no_grad():\n",
    "            W -= learning_rate * W.grad\n",
    "            b -= learning_rate * b.grad\n",
    "\n",
    "        # 12. 勾配初期化\n",
    "        W.grad.zero_()\n",
    "        b.grad.zero_()\n",
    "    # validation\n",
    "    with torch.no_grad():\n",
    "        Z_val = X_val@W.T + b\n",
    "        y_pred_val = softmax(Z_val)\n",
    "\n",
    "        val_loss = cross_entropy(y_val, y_pred_val)\n",
    "        val_accuracy = torch.sum(torch.argmax(y_pred_val, dim=-1) == torch.argmax(y_val, dim=-1)) / y_val.shape[0]\n",
    "\n",
    "    train_losses.append(running_loss/num_batches)\n",
    "    val_losses.append(val_loss.item())\n",
    "    val_accuracies.append(val_accuracy.item())\n",
    "        \n",
    "    # 13. 損失ログ出力\n",
    "    print(f'epoch: {epoch+1}: train loss:{running_loss/num_batches}, val loss: {val_loss.item()}, val accuracy: {val_accuracy.item()}')"
   ]
  },
  {
   "cell_type": "code",
   "execution_count": 20,
   "id": "53fc62aa-5f91-4d8f-953b-32be92ea5cb6",
   "metadata": {},
   "outputs": [
    {
     "data": {
      "text/plain": [
       "[<matplotlib.lines.Line2D at 0x4129eb32e0>]"
      ]
     },
     "execution_count": 20,
     "metadata": {},
     "output_type": "execute_result"
    },
    {
     "data": {
      "image/png": "[encoded data removed]",
      "text/plain": [
       "<Figure size 640x480 with 1 Axes>"
      ]
     },
     "metadata": {},
     "output_type": "display_data"
    }
   ],
   "source": [
    "plt.plot(train_losses)\n",
    "plt.plot(val_losses)"
   ]
  },
  {
   "cell_type": "code",
   "execution_count": null,
   "id": "4384c393-a288-4a5b-80b8-b30f5973d292",
   "metadata": {},
   "outputs": [],
   "source": []
  }
 ],
 "metadata": {
  "kernelspec": {
   "display_name": "Python 3 (ipykernel)",
   "language": "python",
   "name": "python3"
  },
  "language_info": {
   "codemirror_mode": {
    "name": "ipython",
    "version": 3
   },
   "file_extension": ".py",
   "mimetype": "text/x-python",
   "name": "python",
   "nbconvert_exporter": "python",
   "pygments_lexer": "ipython3",
   "version": "3.8.18"
  }
 },
 "nbformat": 4,
 "nbformat_minor": 5
}
