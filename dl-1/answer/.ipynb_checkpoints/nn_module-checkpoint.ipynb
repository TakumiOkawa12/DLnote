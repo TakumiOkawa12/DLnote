{
 "cells": [
  {
   "cell_type": "markdown",
   "id": "00ff95aa-d413-4ce3-9f2d-695d0d24161a",
   "metadata": {},
   "source": [
    "## Pytorchのnnモジュール"
   ]
  },
  {
   "cell_type": "code",
   "execution_count": 1,
   "id": "479eed37-5ee2-4e71-9431-57ed1bd1f9d7",
   "metadata": {},
   "outputs": [],
   "source": [
    "import torch\n",
    "from torch import nn\n",
    "from torch.nn import functional as F\n",
    "from sklearn import datasets\n",
    "import matplotlib.pyplot as plt\n",
    "from sklearn.model_selection import train_test_split\n",
    "import numpy as np"
   ]
  },
  {
   "cell_type": "markdown",
   "id": "e388799a-4346-4827-a694-ab63c73c9927",
   "metadata": {},
   "source": [
    "### nn.Linear"
   ]
  },
  {
   "cell_type": "code",
   "execution_count": 2,
   "id": "ab6692bf-68e8-40db-9ae4-3131a11e1e14",
   "metadata": {},
   "outputs": [
    {
     "data": {
      "text/plain": [
       "[Parameter containing:\n",
       " tensor([[-0.0445,  0.0273,  0.0644,  ..., -0.0004,  0.0982, -0.0988],\n",
       "         [-0.0505, -0.0322, -0.0073,  ..., -0.0187,  0.0680, -0.0556],\n",
       "         [-0.0376, -0.0396, -0.0291,  ...,  0.0521, -0.1179,  0.0771],\n",
       "         ...,\n",
       "         [ 0.0637,  0.0988,  0.1097,  ..., -0.0255, -0.0306, -0.0304],\n",
       "         [ 0.0380,  0.0816, -0.0582,  ..., -0.0325, -0.0317, -0.0513],\n",
       "         [ 0.0148, -0.0768,  0.0188,  ..., -0.1154, -0.0139,  0.1208]],\n",
       "        requires_grad=True),\n",
       " Parameter containing:\n",
       " tensor([-0.0092,  0.0294,  0.0859, -0.0046, -0.0866, -0.0182, -0.0050,  0.0097,\n",
       "          0.0126, -0.0632,  0.0738,  0.0108,  0.1179, -0.0548,  0.1244, -0.1035,\n",
       "         -0.0980,  0.0472, -0.0942, -0.0102, -0.0765, -0.1038, -0.0761, -0.1179,\n",
       "          0.0798,  0.0589, -0.0605, -0.0856, -0.0483,  0.0448],\n",
       "        requires_grad=True)]"
      ]
     },
     "execution_count": 2,
     "metadata": {},
     "output_type": "execute_result"
    }
   ],
   "source": [
    "linear = nn.Linear(64, 30)\n",
    "# weightとbiasの二つのtensorがparameter\n",
    "list(linear.parameters())"
   ]
  },
  {
   "cell_type": "code",
   "execution_count": 3,
   "id": "b6e2701c-5aea-4557-80bd-b2df94d76aac",
   "metadata": {},
   "outputs": [
    {
     "name": "stdout",
     "output_type": "stream",
     "text": [
      "torch.Size([30, 64])\n",
      "torch.Size([30])\n"
     ]
    }
   ],
   "source": [
    "# weightは出力x入力であることに注意．Z = X@W.T + bになっている\n",
    "print(linear.weight.shape)\n",
    "print(linear.bias.shape)"
   ]
  },
  {
   "cell_type": "code",
   "execution_count": 4,
   "id": "9cf3422c-fa87-4e32-9c6a-0aa799490c3f",
   "metadata": {},
   "outputs": [
    {
     "data": {
      "text/plain": [
       "torch.Size([30])"
      ]
     },
     "execution_count": 4,
     "metadata": {},
     "output_type": "execute_result"
    }
   ],
   "source": [
    "linear.bias.shape"
   ]
  },
  {
   "cell_type": "code",
   "execution_count": 5,
   "id": "7167309c-2f71-47ee-a57b-3aeb121e306b",
   "metadata": {},
   "outputs": [
    {
     "data": {
      "text/plain": [
       "torch.Size([5, 30])"
      ]
     },
     "execution_count": 5,
     "metadata": {},
     "output_type": "execute_result"
    }
   ],
   "source": [
    "# 順伝搬\n",
    "X = torch.randn((5, 64))\n",
    "Z = linear(X)\n",
    "Z.shape"
   ]
  },
  {
   "cell_type": "markdown",
   "id": "94212eed-a430-4efd-9cca-b31016366673",
   "metadata": {},
   "source": [
    "### MLP実装"
   ]
  },
  {
   "cell_type": "code",
   "execution_count": 6,
   "id": "f121911b-ac0d-45df-b99e-88037058c4b1",
   "metadata": {},
   "outputs": [],
   "source": [
    "# 1. nn.クラスとF.関数を組み合わせたケース\n",
    "class MLP(nn.Module):\n",
    "    def __init__(self, num_in, num_hidden, num_out):\n",
    "        super().__init__()\n",
    "        self.l1 = nn.Linear(num_in, num_hidden)\n",
    "        self.l2 = nn.Linear(num_hidden, num_out)\n",
    "\n",
    "    def forward(self, x):\n",
    "        # z1 = self.l1(x)\n",
    "        # a1 = F.relu(z1)\n",
    "        # z2 = self.l2(a1)\n",
    "        x = self.l2(F.relu(self.l1(x)))\n",
    "        return x"
   ]
  },
  {
   "cell_type": "code",
   "execution_count": 7,
   "id": "c21c3529-3e28-4303-b796-0350cd58f969",
   "metadata": {},
   "outputs": [
    {
     "data": {
      "text/plain": [
       "torch.Size([5, 10])"
      ]
     },
     "execution_count": 7,
     "metadata": {},
     "output_type": "execute_result"
    }
   ],
   "source": [
    "# 順伝搬テスト\n",
    "model = MLP(64, 30, 10)\n",
    "X = torch.randn(5, 64)\n",
    "Z = model(X)\n",
    "Z.shape"
   ]
  },
  {
   "cell_type": "code",
   "execution_count": 8,
   "id": "7347ad9e-3db8-4677-a53e-5a7ce1cc4d50",
   "metadata": {},
   "outputs": [],
   "source": [
    "# 2. nn.クラスのみで構成するケース\n",
    "class MLP(nn.Module):\n",
    "    def __init__(self, num_in, num_hidden, num_out):\n",
    "        super().__init__()\n",
    "        self.l1 = nn.Linear(num_in, num_hidden)\n",
    "        self.l2 = nn.Linear(num_hidden, num_out)\n",
    "        self.relu = nn.ReLU()\n",
    "\n",
    "    def forward(self, x):\n",
    "        x = self.l2(self.relu(self.l1(x)))\n",
    "        return x"
   ]
  },
  {
   "cell_type": "code",
   "execution_count": 9,
   "id": "874b43b4-ee0e-4675-bdce-06765b8d3947",
   "metadata": {},
   "outputs": [
    {
     "data": {
      "text/plain": [
       "torch.Size([5, 10])"
      ]
     },
     "execution_count": 9,
     "metadata": {},
     "output_type": "execute_result"
    }
   ],
   "source": [
    "# 順伝搬テスト\n",
    "model = MLP(64, 30, 10)\n",
    "X = torch.randn(5, 64)\n",
    "Z = model(X)\n",
    "Z.shape"
   ]
  },
  {
   "cell_type": "code",
   "execution_count": 10,
   "id": "cb444442-a19a-405b-a4ed-14fead2a8312",
   "metadata": {},
   "outputs": [],
   "source": [
    "# 3. nn.Sequentialを使ったケース\n",
    "num_in = 64\n",
    "num_hidden = 30\n",
    "num_out = 10\n",
    "\n",
    "model = nn.Sequential(\n",
    "    nn.Linear(num_in, num_hidden),\n",
    "    nn.ReLU(),\n",
    "    nn.Linear(num_hidden, num_out)\n",
    ")"
   ]
  },
  {
   "cell_type": "code",
   "execution_count": 11,
   "id": "8da8e10f-189b-48ea-896f-1a29adcc8d4f",
   "metadata": {},
   "outputs": [
    {
     "data": {
      "text/plain": [
       "torch.Size([5, 10])"
      ]
     },
     "execution_count": 11,
     "metadata": {},
     "output_type": "execute_result"
    }
   ],
   "source": [
    "# 順伝搬テスト\n",
    "Z = model(X)\n",
    "Z.shape"
   ]
  },
  {
   "cell_type": "markdown",
   "id": "1e36f18a-fcfb-482f-8607-1875f07cce41",
   "metadata": {},
   "source": [
    "### MLP学習"
   ]
  },
  {
   "cell_type": "code",
   "execution_count": 12,
   "id": "1ae9c5af-efeb-4ab7-86bd-96892580441a",
   "metadata": {
    "scrolled": true
   },
   "outputs": [
    {
     "name": "stdout",
     "output_type": "stream",
     "text": [
      "epoch: 0: train error: 2.154320647319158, validation error: 1.7531390190124512, validation accuracy: 0.42222222685813904\n",
      "epoch: 1: train error: 1.6368044565121334, validation error: 0.9298788905143738, validation accuracy: 0.7194444537162781\n",
      "epoch: 2: train error: 1.0713035389780998, validation error: 0.592543363571167, validation accuracy: 0.8583333492279053\n",
      "epoch: 3: train error: 0.7136024795472622, validation error: 0.5384640693664551, validation accuracy: 0.8666666746139526\n",
      "epoch: 4: train error: 0.5207117665559053, validation error: 0.4854482412338257, validation accuracy: 0.8916666507720947\n",
      "epoch: 5: train error: 0.41144252351174754, validation error: 0.4479805827140808, validation accuracy: 0.9138888716697693\n",
      "epoch: 6: train error: 0.34291895137478906, validation error: 0.40326207876205444, validation accuracy: 0.9194444417953491\n",
      "epoch: 7: train error: 0.29385997354984283, validation error: 0.36855587363243103, validation accuracy: 0.9333333373069763\n",
      "epoch: 8: train error: 0.25889524320761365, validation error: 0.3424758017063141, validation accuracy: 0.9305555820465088\n",
      "epoch: 9: train error: 0.2343061634649833, validation error: 0.3459119498729706, validation accuracy: 0.9333333373069763\n",
      "epoch: 10: train error: 0.21330502955242991, validation error: 0.34340953826904297, validation accuracy: 0.9388889074325562\n",
      "epoch: 11: train error: 0.19657200885315737, validation error: 0.3977128267288208, validation accuracy: 0.9333333373069763\n",
      "epoch: 12: train error: 0.18301557299370566, validation error: 0.3307487666606903, validation accuracy: 0.9388889074325562\n",
      "epoch: 13: train error: 0.17163802978272238, validation error: 0.3292537331581116, validation accuracy: 0.9416666626930237\n",
      "epoch: 14: train error: 0.16186876222491264, validation error: 0.34034422039985657, validation accuracy: 0.9444444179534912\n",
      "epoch: 15: train error: 0.15329206944443285, validation error: 0.3488832712173462, validation accuracy: 0.9416666626930237\n",
      "epoch: 16: train error: 0.14589735011880597, validation error: 0.38881194591522217, validation accuracy: 0.9388889074325562\n",
      "epoch: 17: train error: 0.1383637050166726, validation error: 0.40079349279403687, validation accuracy: 0.9444444179534912\n",
      "epoch: 18: train error: 0.13289929941917458, validation error: 0.4053279161453247, validation accuracy: 0.9388889074325562\n",
      "epoch: 19: train error: 0.12759173847734928, validation error: 0.36502647399902344, validation accuracy: 0.9472222328186035\n",
      "epoch: 20: train error: 0.1226869806026419, validation error: 0.33629390597343445, validation accuracy: 0.9472222328186035\n",
      "epoch: 21: train error: 0.11716163309756666, validation error: 0.3603297770023346, validation accuracy: 0.9444444179534912\n",
      "epoch: 22: train error: 0.11387841826460014, validation error: 0.39880990982055664, validation accuracy: 0.949999988079071\n",
      "epoch: 23: train error: 0.10998188618881007, validation error: 0.3766474425792694, validation accuracy: 0.949999988079071\n",
      "epoch: 24: train error: 0.10557178986103584, validation error: 0.374100923538208, validation accuracy: 0.949999988079071\n",
      "epoch: 25: train error: 0.1027200879373898, validation error: 0.4321044385433197, validation accuracy: 0.9472222328186035\n",
      "epoch: 26: train error: 0.09908309571134548, validation error: 0.4499438405036926, validation accuracy: 0.949999988079071\n",
      "epoch: 27: train error: 0.09651079502267142, validation error: 0.39712586998939514, validation accuracy: 0.9527778029441833\n",
      "epoch: 28: train error: 0.09406603030705203, validation error: 0.4325487017631531, validation accuracy: 0.949999988079071\n",
      "epoch: 29: train error: 0.09152777054502319, validation error: 0.3802488446235657, validation accuracy: 0.9583333134651184\n",
      "epoch: 30: train error: 0.08817772784580787, validation error: 0.4421495199203491, validation accuracy: 0.9444444179534912\n",
      "epoch: 31: train error: 0.08633034761684637, validation error: 0.49137845635414124, validation accuracy: 0.9444444179534912\n",
      "epoch: 32: train error: 0.08385287151516725, validation error: 0.42615798115730286, validation accuracy: 0.949999988079071\n",
      "epoch: 33: train error: 0.08138836043265958, validation error: 0.5050525069236755, validation accuracy: 0.9444444179534912\n",
      "epoch: 34: train error: 0.07945943356025964, validation error: 0.4467359185218811, validation accuracy: 0.949999988079071\n",
      "epoch: 35: train error: 0.077263679743434, validation error: 0.4808044731616974, validation accuracy: 0.9444444179534912\n",
      "epoch: 36: train error: 0.07588278319841872, validation error: 0.4622093141078949, validation accuracy: 0.9472222328186035\n",
      "epoch: 37: train error: 0.07398586487397552, validation error: 0.5057798027992249, validation accuracy: 0.9361110925674438\n",
      "epoch: 38: train error: 0.07209284685086459, validation error: 0.49688804149627686, validation accuracy: 0.9444444179534912\n",
      "epoch: 39: train error: 0.07048490998568013, validation error: 0.536315381526947, validation accuracy: 0.9388889074325562\n",
      "epoch: 40: train error: 0.06802414204382028, validation error: 0.49541735649108887, validation accuracy: 0.9472222328186035\n",
      "epoch: 41: train error: 0.06734771775275779, validation error: 0.5570737719535828, validation accuracy: 0.9416666626930237\n",
      "epoch: 42: train error: 0.06513471018600588, validation error: 0.6276819705963135, validation accuracy: 0.9388889074325562\n",
      "epoch: 43: train error: 0.0640539147813494, validation error: 0.48282501101493835, validation accuracy: 0.9472222328186035\n",
      "epoch: 44: train error: 0.06316481565590948, validation error: 0.532659649848938, validation accuracy: 0.9416666626930237\n",
      "epoch: 45: train error: 0.0612109424934412, validation error: 0.5755953192710876, validation accuracy: 0.9388889074325562\n",
      "epoch: 46: train error: 0.059946838300675154, validation error: 0.5477980971336365, validation accuracy: 0.9416666626930237\n",
      "epoch: 47: train error: 0.05892794682101036, validation error: 0.5926768183708191, validation accuracy: 0.9388889074325562\n",
      "epoch: 48: train error: 0.05721886646157751, validation error: 0.6633314490318298, validation accuracy: 0.9416666626930237\n",
      "epoch: 49: train error: 0.05618743280259272, validation error: 0.5952222347259521, validation accuracy: 0.9416666626930237\n",
      "epoch: 50: train error: 0.054849718910797186, validation error: 0.7088861465454102, validation accuracy: 0.9416666626930237\n",
      "epoch: 51: train error: 0.05403449817094952, validation error: 0.682269275188446, validation accuracy: 0.9416666626930237\n",
      "epoch: 52: train error: 0.0532813987811096, validation error: 0.620633602142334, validation accuracy: 0.9444444179534912\n",
      "epoch: 53: train error: 0.0517556905397214, validation error: 0.6910689473152161, validation accuracy: 0.9361110925674438\n",
      "epoch: 54: train error: 0.05079163636158531, validation error: 0.723685622215271, validation accuracy: 0.9388889074325562\n",
      "epoch: 55: train error: 0.049958488574096314, validation error: 0.6855714917182922, validation accuracy: 0.9388889074325562\n",
      "epoch: 56: train error: 0.04895489835568393, validation error: 0.7094728946685791, validation accuracy: 0.9416666626930237\n",
      "epoch: 57: train error: 0.048168496830233686, validation error: 0.6745439171791077, validation accuracy: 0.9388889074325562\n",
      "epoch: 58: train error: 0.046924900535183646, validation error: 0.7539255619049072, validation accuracy: 0.9305555820465088\n",
      "epoch: 59: train error: 0.04645523904279495, validation error: 0.7188000082969666, validation accuracy: 0.9333333373069763\n",
      "epoch: 60: train error: 0.04545594044611789, validation error: 0.7672702074050903, validation accuracy: 0.9277777671813965\n",
      "epoch: 61: train error: 0.044412795085615166, validation error: 0.7251536846160889, validation accuracy: 0.9305555820465088\n",
      "epoch: 62: train error: 0.04341591648214186, validation error: 0.7794195413589478, validation accuracy: 0.9277777671813965\n",
      "epoch: 63: train error: 0.04292123260286947, validation error: 0.7017378211021423, validation accuracy: 0.9361110925674438\n",
      "epoch: 64: train error: 0.04233388561018122, validation error: 0.7082956433296204, validation accuracy: 0.9333333373069763\n",
      "epoch: 65: train error: 0.04115943571863075, validation error: 0.697324812412262, validation accuracy: 0.9388889074325562\n",
      "epoch: 66: train error: 0.04075460848010456, validation error: 0.8070816993713379, validation accuracy: 0.9277777671813965\n",
      "epoch: 67: train error: 0.0401242090932404, validation error: 0.7917372584342957, validation accuracy: 0.9277777671813965\n",
      "epoch: 68: train error: 0.03890846402888807, validation error: 0.90672367811203, validation accuracy: 0.9166666865348816\n",
      "epoch: 69: train error: 0.03856190214476859, validation error: 0.7685633897781372, validation accuracy: 0.9305555820465088\n",
      "epoch: 70: train error: 0.0376131366356276, validation error: 0.8381298780441284, validation accuracy: 0.9222221970558167\n",
      "epoch: 71: train error: 0.03701779365655966, validation error: 0.7822579145431519, validation accuracy: 0.925000011920929\n",
      "epoch: 72: train error: 0.03700724400308294, validation error: 0.8683413863182068, validation accuracy: 0.9222221970558167\n",
      "epoch: 73: train error: 0.0363134701231805, validation error: 0.8857955932617188, validation accuracy: 0.9194444417953491\n",
      "epoch: 74: train error: 0.03556651198111164, validation error: 0.816487729549408, validation accuracy: 0.9305555820465088\n",
      "epoch: 75: train error: 0.03531704978862157, validation error: 0.8242517113685608, validation accuracy: 0.925000011920929\n",
      "epoch: 76: train error: 0.034585574050045885, validation error: 0.9060134887695312, validation accuracy: 0.9194444417953491\n",
      "epoch: 77: train error: 0.03396862650212521, validation error: 0.9096767902374268, validation accuracy: 0.9222221970558167\n",
      "epoch: 78: train error: 0.03320328866053993, validation error: 0.8529723286628723, validation accuracy: 0.9222221970558167\n",
      "epoch: 79: train error: 0.032883341705504186, validation error: 0.8881763815879822, validation accuracy: 0.9222221970558167\n",
      "epoch: 80: train error: 0.032493435962048046, validation error: 0.9614371657371521, validation accuracy: 0.9222221970558167\n",
      "epoch: 81: train error: 0.03145841592534756, validation error: 0.9542609453201294, validation accuracy: 0.9194444417953491\n",
      "epoch: 82: train error: 0.03179846301403207, validation error: 0.9714197516441345, validation accuracy: 0.9194444417953491\n",
      "epoch: 83: train error: 0.030804551487866167, validation error: 0.9631787538528442, validation accuracy: 0.9194444417953491\n",
      "epoch: 84: train error: 0.030384448196855374, validation error: 0.9294730424880981, validation accuracy: 0.9222221970558167\n",
      "epoch: 85: train error: 0.029887265622771036, validation error: 1.047683835029602, validation accuracy: 0.9083333611488342\n",
      "epoch: 86: train error: 0.030053987972981606, validation error: 0.9844734072685242, validation accuracy: 0.9166666865348816\n",
      "epoch: 87: train error: 0.029258524174413953, validation error: 0.9586697816848755, validation accuracy: 0.9194444417953491\n",
      "epoch: 88: train error: 0.028700360582054902, validation error: 1.0268200635910034, validation accuracy: 0.9138888716697693\n",
      "epoch: 89: train error: 0.028484684400609694, validation error: 0.9658668637275696, validation accuracy: 0.9222221970558167\n",
      "epoch: 90: train error: 0.028205884581742186, validation error: 1.0804498195648193, validation accuracy: 0.9083333611488342\n",
      "epoch: 91: train error: 0.027682818433580298, validation error: 0.9901106953620911, validation accuracy: 0.9111111164093018\n",
      "epoch: 92: train error: 0.027136178454384208, validation error: 1.0446330308914185, validation accuracy: 0.9166666865348816\n",
      "epoch: 93: train error: 0.026925617043161765, validation error: 1.0572315454483032, validation accuracy: 0.9138888716697693\n",
      "epoch: 94: train error: 0.02647889533545822, validation error: 1.112393856048584, validation accuracy: 0.9027777910232544\n",
      "epoch: 95: train error: 0.026128721481654793, validation error: 1.1031286716461182, validation accuracy: 0.9027777910232544\n",
      "epoch: 96: train error: 0.02575835336271363, validation error: 1.0189440250396729, validation accuracy: 0.9194444417953491\n",
      "epoch: 97: train error: 0.025555216285283677, validation error: 1.078771710395813, validation accuracy: 0.9055555462837219\n",
      "epoch: 98: train error: 0.025193274496511247, validation error: 1.1026800870895386, validation accuracy: 0.9027777910232544\n",
      "epoch: 99: train error: 0.02491121127968654, validation error: 1.053171992301941, validation accuracy: 0.9138888716697693\n"
     ]
    }
   ],
   "source": [
    "class MLP(nn.Module):\n",
    "    def __init__(self, num_in, num_hidden, num_out):\n",
    "        super().__init__()\n",
    "        self.l1 = nn.Linear(num_in, num_hidden)\n",
    "        self.l2 = nn.Linear(num_hidden, num_out)\n",
    "\n",
    "    def forward(self, x):\n",
    "        # z1 = self.l1(x)\n",
    "        # a1 = F.relu(z1)\n",
    "        # z2 = self.l2(a1)\n",
    "        x = self.l2(F.relu(self.l1(x)))\n",
    "        return x\n",
    "\n",
    "## Refactoring後の学習ループ(OptimizerやDataset, Dataloaderは後ほどRefactoring)\n",
    "# ===データの準備====\n",
    "dataset = datasets.load_digits()\n",
    "data = dataset['data']\n",
    "target = dataset['target']\n",
    "images = dataset['images']\n",
    "X_train, X_val, y_train, y_val = train_test_split(images, target, test_size=0.2, random_state=42)\n",
    "X_train_mean = X_train.mean()\n",
    "X_train_std = X_train.std()\n",
    "X_train = (X_train - X_train_mean) / X_train_std\n",
    "X_val = (X_val - X_train_mean) / X_train_std\n",
    "X_train = torch.tensor(X_train.reshape(-1, 64), dtype=torch.float32)\n",
    "X_val = torch.tensor(X_val.reshape(-1, 64), dtype=torch.float32)\n",
    "y_train = torch.tensor(y_train) \n",
    "y_val = torch.tensor(y_val) \n",
    "batch_size = 30\n",
    "num_batches = np.ceil(len(y_train)/batch_size).astype(int)\n",
    "model = MLP(64, 30, 10)\n",
    "learning_rate = 0.03\n",
    "\n",
    "# ログ\n",
    "train_losses = []\n",
    "val_losses = []\n",
    "val_accuracies = []\n",
    "for epoch in range(100):\n",
    "    # エポック毎にデータをシャッフル\n",
    "    shuffled_indices = np.random.permutation(len(y_train))\n",
    "    running_loss = 0.0\n",
    "    \n",
    "    for i in range(num_batches):\n",
    "        \n",
    "        # mini batch作成\n",
    "        start = i * batch_size\n",
    "        end = start + batch_size\n",
    "\n",
    "        batch_indices = shuffled_indices[start:end]\n",
    "        y = y_train[batch_indices] # batch_size x 10\n",
    "        \n",
    "        X = X_train[batch_indices] # batch_size x 64\n",
    "        # 順伝播と逆伝播の計算\n",
    "        preds = model(X)\n",
    "        loss = F.cross_entropy(preds, y)\n",
    "        loss.backward()\n",
    "        running_loss += loss.item()\n",
    "\n",
    "        # パラメータ更新\n",
    "        with torch.no_grad():\n",
    "            for param in model.parameters():\n",
    "                param -= learning_rate * param.grad\n",
    "\n",
    "        model.zero_grad()\n",
    "        \n",
    "\n",
    "    # validation\n",
    "    with torch.no_grad():\n",
    "        preds_val = model(X_val)\n",
    "        val_loss = F.cross_entropy(preds_val, y_val)\n",
    "        val_accuracy = torch.sum(torch.argmax(preds_val, dim=-1) == y_val) / y_val.shape[0]\n",
    "\n",
    "    train_losses.append(running_loss/num_batches)\n",
    "    val_losses.append(val_loss.item())\n",
    "    val_accuracies.append(val_accuracy)\n",
    "    print(f'epoch: {epoch}: train error: {running_loss/num_batches}, validation error: {val_loss.item()}, validation accuracy: {val_accuracy}')"
   ]
  },
  {
   "cell_type": "code",
   "execution_count": 13,
   "id": "fd0ef4f7-882a-413f-80a3-6f4ab376cefc",
   "metadata": {},
   "outputs": [
    {
     "data": {
      "text/plain": [
       "[<matplotlib.lines.Line2D at 0x4127a1a3d0>]"
      ]
     },
     "execution_count": 13,
     "metadata": {},
     "output_type": "execute_result"
    },
    {
     "data": {
      "image/png": "[encoded data removed]",
      "text/plain": [
       "<Figure size 640x480 with 1 Axes>"
      ]
     },
     "metadata": {},
     "output_type": "display_data"
    }
   ],
   "source": [
    "plt.plot(train_losses)\n",
    "plt.plot(val_losses)"
   ]
  },
  {
   "cell_type": "markdown",
   "id": "7222ffdf-c5dd-46e3-a1df-1265f9e0cb47",
   "metadata": {},
   "source": [
    "### パラメータのイテレーション"
   ]
  },
  {
   "cell_type": "code",
   "execution_count": 14,
   "id": "1d3017d9-f46b-4e24-9ed3-fcc1b2dc33dd",
   "metadata": {},
   "outputs": [
    {
     "data": {
      "text/plain": [
       "MLP(\n",
       "  (l1): Linear(in_features=64, out_features=30, bias=True)\n",
       "  (l2): Linear(in_features=30, out_features=10, bias=True)\n",
       ")"
      ]
     },
     "execution_count": 14,
     "metadata": {},
     "output_type": "execute_result"
    }
   ],
   "source": [
    "model"
   ]
  },
  {
   "cell_type": "code",
   "execution_count": 15,
   "id": "b8e80f81-1947-4bd3-bad7-136be501f503",
   "metadata": {},
   "outputs": [
    {
     "name": "stdout",
     "output_type": "stream",
     "text": [
      "torch.Size([30, 64])\n",
      "torch.Size([30])\n",
      "torch.Size([10, 30])\n",
      "torch.Size([10])\n"
     ]
    }
   ],
   "source": [
    "for param in model.parameters():\n",
    "    print(param.shape)"
   ]
  },
  {
   "cell_type": "code",
   "execution_count": 16,
   "id": "1c57b271-2551-448b-99c7-d4a12094c695",
   "metadata": {},
   "outputs": [
    {
     "name": "stdout",
     "output_type": "stream",
     "text": [
      "l1.weight torch.Size([30, 64])\n",
      "l1.bias torch.Size([30])\n",
      "l2.weight torch.Size([10, 30])\n",
      "l2.bias torch.Size([10])\n"
     ]
    }
   ],
   "source": [
    "for name, param in model.named_parameters():\n",
    "    print(name, param.shape)"
   ]
  },
  {
   "cell_type": "markdown",
   "id": "87d16a27-7d40-447f-a864-b2210f801cb1",
   "metadata": {},
   "source": [
    "### コンポーネントのイテレーション"
   ]
  },
  {
   "cell_type": "code",
   "execution_count": 17,
   "id": "5cc957d6-17fb-4ed6-b9fc-faceb8b6d0ec",
   "metadata": {},
   "outputs": [
    {
     "name": "stdout",
     "output_type": "stream",
     "text": [
      "Linear(in_features=64, out_features=30, bias=True)\n",
      "Linear(in_features=30, out_features=10, bias=True)\n"
     ]
    }
   ],
   "source": [
    "for module in model.children():\n",
    "    print(module)"
   ]
  },
  {
   "cell_type": "code",
   "execution_count": 18,
   "id": "321c64d8-3db7-4d3e-a400-6c22e0875cb8",
   "metadata": {},
   "outputs": [
    {
     "name": "stdout",
     "output_type": "stream",
     "text": [
      "l1 Linear(in_features=64, out_features=30, bias=True)\n",
      "l2 Linear(in_features=30, out_features=10, bias=True)\n"
     ]
    }
   ],
   "source": [
    "for name, module in model.named_children():\n",
    "    print(name, module)"
   ]
  },
  {
   "cell_type": "code",
   "execution_count": 19,
   "id": "1f802b47-d32b-4032-a844-721892a348df",
   "metadata": {},
   "outputs": [
    {
     "name": "stdout",
     "output_type": "stream",
     "text": [
      "MLP(\n",
      "  (l1): Linear(in_features=64, out_features=30, bias=True)\n",
      "  (l2): Linear(in_features=30, out_features=10, bias=True)\n",
      ")\n",
      "Linear(in_features=64, out_features=30, bias=True)\n",
      "Linear(in_features=30, out_features=10, bias=True)\n"
     ]
    }
   ],
   "source": [
    "# 最初に自分自身を返す\n",
    "for module in model.modules():\n",
    "    print(module)"
   ]
  },
  {
   "cell_type": "code",
   "execution_count": 20,
   "id": "d9ff6a7f-d62a-4296-9fd8-036d5c5be6c3",
   "metadata": {},
   "outputs": [
    {
     "name": "stdout",
     "output_type": "stream",
     "text": [
      "\n",
      "l1\n",
      "l2\n"
     ]
    }
   ],
   "source": [
    "# 自分自身には名前がついていない\n",
    "for name, module in model.named_modules():\n",
    "    print(name)"
   ]
  }
 ],
 "metadata": {
  "kernelspec": {
   "display_name": "Python 3 (ipykernel)",
   "language": "python",
   "name": "python3"
  },
  "language_info": {
   "codemirror_mode": {
    "name": "ipython",
    "version": 3
   },
   "file_extension": ".py",
   "mimetype": "text/x-python",
   "name": "python",
   "nbconvert_exporter": "python",
   "pygments_lexer": "ipython3",
   "version": "3.8.18"
  }
 },
 "nbformat": 4,
 "nbformat_minor": 5
}
