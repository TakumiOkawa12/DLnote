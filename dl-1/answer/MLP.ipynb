{
 "cells": [
  {
   "cell_type": "markdown",
   "id": "1e15fba4-e236-415b-8a54-7db103bc209b",
   "metadata": {},
   "source": [
    "## MLP"
   ]
  },
  {
   "cell_type": "code",
   "execution_count": 1,
   "id": "f92870d9-f175-46c4-bb21-9985f923a293",
   "metadata": {},
   "outputs": [],
   "source": [
    "import torch\n",
    "from sklearn import datasets\n",
    "import matplotlib.pyplot as plt\n",
    "from torch.nn import functional as F\n",
    "from sklearn.model_selection import train_test_split"
   ]
  },
  {
   "cell_type": "code",
   "execution_count": 2,
   "id": "c4c8bd17-46a9-40b7-8a21-1a4cdbe1a167",
   "metadata": {},
   "outputs": [
    {
     "name": "stdout",
     "output_type": "stream",
     "text": [
      "(1437, 8, 8) (1437,)\n",
      "(360, 8, 8) (360,)\n"
     ]
    }
   ],
   "source": [
    "## データ準備\n",
    "# 1. データロード\n",
    "dataset = datasets.load_digits()\n",
    "images = dataset['images']\n",
    "target = dataset['target']\n",
    "# 学習データと検証データ分割\n",
    "X_train, X_val, y_train, y_val = train_test_split(images, target, test_size=0.2, random_state=42)\n",
    "print(X_train.shape, y_train.shape)\n",
    "print(X_val.shape, y_val.shape)\n",
    "# 前処理\n",
    "# 2-1.ラベルのone-hot encoing\n",
    "y_train = F.one_hot(torch.tensor(y_train), num_classes=10)\n",
    "X_train = torch.tensor(X_train, dtype=torch.float32).reshape(-1, 64)\n",
    "\n",
    "y_val = F.one_hot(torch.tensor(y_val), num_classes=10)\n",
    "X_val = torch.tensor(X_val, dtype=torch.float32).reshape(-1, 64)\n",
    "\n",
    "# 2-2. 画像の標準化\n",
    "X_train_mean = X_train.mean()\n",
    "X_train_std = X_train.std()\n",
    "X_train = (X_train - X_train_mean) / X_train_std\n",
    "X_val = (X_val - X_train_mean) / X_train_std"
   ]
  },
  {
   "cell_type": "markdown",
   "id": "86507f23-ed41-468f-969c-8500799958ed",
   "metadata": {},
   "source": [
    "### スクラッチ実装 (順伝搬のみ)"
   ]
  },
  {
   "cell_type": "code",
   "execution_count": 3,
   "id": "ab733144-1763-44c9-bbdb-04da9cb81f69",
   "metadata": {},
   "outputs": [],
   "source": [
    "m, n = X_train.shape\n",
    "nh = 30\n",
    "class_num = 10\n",
    "# パラメータの初期化\n",
    "W1 = torch.randn((nh, n), requires_grad=True) # 出力 x 入力\n",
    "b1 = torch.zeros((1, nh), requires_grad=True) # 1 x nh\n",
    "\n",
    "W2 = torch.randn((class_num, nh), requires_grad=True) # 出力 x 入力\n",
    "b2 = torch.zeros((1, class_num), requires_grad=True) # 1 x nh"
   ]
  },
  {
   "cell_type": "code",
   "execution_count": 4,
   "id": "43b22cd6-92ae-431c-89d6-0f9cf53a474e",
   "metadata": {},
   "outputs": [],
   "source": [
    "def linear(X, W, b):\n",
    "    return X@W.T + b"
   ]
  },
  {
   "cell_type": "code",
   "execution_count": 5,
   "id": "fe5a2ec5-746f-47db-b774-6018bc17dffc",
   "metadata": {},
   "outputs": [],
   "source": [
    "def relu(Z):\n",
    "    return Z.clamp_min(0.)"
   ]
  },
  {
   "cell_type": "code",
   "execution_count": 6,
   "id": "5d82bfae-2c6d-4a84-934c-8218c9e7633d",
   "metadata": {},
   "outputs": [],
   "source": [
    "def softmax(x):\n",
    "    # xが大きすぎると，exp(x)がinfになるので，maxを引くようにする(結果は変わらない)\n",
    "    e_x = torch.exp(x - torch.max(x, dim=-1, keepdim=True)[0])\n",
    "    return e_x / (torch.sum(e_x, dim=-1, keepdim=True) + 1e-10)"
   ]
  },
  {
   "cell_type": "code",
   "execution_count": 7,
   "id": "39887058-9e85-4b5e-8f8d-678fb7f1a1d2",
   "metadata": {},
   "outputs": [],
   "source": [
    "def model(X):\n",
    "    Z1 = linear(X, W1, b1)\n",
    "    A1 = relu(Z1)\n",
    "    Z2 = linear(A1, W2, b2)\n",
    "    A2 = softmax(Z2)\n",
    "    return A2"
   ]
  },
  {
   "cell_type": "code",
   "execution_count": 8,
   "id": "dbf28abf-174b-4d0f-87c6-67a9768eea4d",
   "metadata": {},
   "outputs": [],
   "source": [
    "y_train_pred = model(X_train)"
   ]
  },
  {
   "cell_type": "code",
   "execution_count": 9,
   "id": "90dfe53a-e2a2-4035-9cc5-fe5a72851cf5",
   "metadata": {},
   "outputs": [
    {
     "data": {
      "text/plain": [
       "tensor([[1.0000e+00, 1.7962e-41, 2.2879e-22,  ..., 1.1210e-44, 0.0000e+00,\n",
       "         0.0000e+00],\n",
       "        [1.0000e+00, 2.4464e-30, 1.0893e-13,  ..., 6.1829e-40, 2.5243e-39,\n",
       "         2.8841e-33],\n",
       "        [9.9998e-01, 1.0224e-10, 1.2434e-07,  ..., 3.4712e-35, 1.5989e-25,\n",
       "         0.0000e+00],\n",
       "        ...,\n",
       "        [9.9919e-01, 4.7314e-32, 7.2059e-14,  ..., 2.0465e-33, 3.3547e-40,\n",
       "         8.3996e-34],\n",
       "        [1.0000e+00, 8.1733e-17, 6.2011e-16,  ..., 9.8235e-36, 6.5890e-40,\n",
       "         1.4013e-45],\n",
       "        [2.1944e-32, 1.5518e-33, 5.1905e-27,  ..., 0.0000e+00, 2.8026e-45,\n",
       "         0.0000e+00]], grad_fn=<DivBackward0>)"
      ]
     },
     "execution_count": 9,
     "metadata": {},
     "output_type": "execute_result"
    }
   ],
   "source": [
    "y_train_pred\n",
    "# y_train_pred.sum(dim=1)　# 合計は全て1になる"
   ]
  }
 ],
 "metadata": {
  "kernelspec": {
   "display_name": "Python 3 (ipykernel)",
   "language": "python",
   "name": "python3"
  },
  "language_info": {
   "codemirror_mode": {
    "name": "ipython",
    "version": 3
   },
   "file_extension": ".py",
   "mimetype": "text/x-python",
   "name": "python",
   "nbconvert_exporter": "python",
   "pygments_lexer": "ipython3",
   "version": "3.8.18"
  }
 },
 "nbformat": 4,
 "nbformat_minor": 5
}
