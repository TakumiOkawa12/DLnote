{
 "cells": [
  {
   "cell_type": "markdown",
   "id": "2968728d-1633-4cf3-9c6c-03f1e2865c75",
   "metadata": {},
   "source": [
    "## Learning rate"
   ]
  },
  {
   "cell_type": "code",
   "execution_count": 1,
   "id": "9016595d-f4e9-4089-a8b3-f68ef675281e",
   "metadata": {},
   "outputs": [],
   "source": [
    "import torchvision\n",
    "import torch\n",
    "from torchvision import transforms\n",
    "from torch.utils.data import DataLoader\n",
    "import matplotlib.pyplot as plt\n",
    "import numpy as np\n",
    "from torch import optim, nn\n",
    "from torch.nn import functional as F\n",
    "from torch.utils.data import Dataset\n",
    "from sklearn import datasets\n",
    "from sklearn.model_selection import train_test_split\n",
    "from torch.optim.lr_scheduler import StepLR, CosineAnnealingLR"
   ]
  },
  {
   "cell_type": "markdown",
   "id": "bcb7227a-6263-4854-8b28-2b94ea73fc71",
   "metadata": {},
   "source": [
    "### 準備"
   ]
  },
  {
   "cell_type": "code",
   "execution_count": 2,
   "id": "e52a0caa-a994-4adb-b46b-78dcd38195ba",
   "metadata": {},
   "outputs": [],
   "source": [
    "class MyDataset(Dataset):\n",
    "    def __init__(self, X, y, transform=None):\n",
    "        self.X = X\n",
    "        self.y = y\n",
    "        self.transform = transform\n",
    "\n",
    "    def __len__(self):\n",
    "        return len(self.X)\n",
    "\n",
    "    def __getitem__(self, idx):\n",
    "        X = self.X[idx]\n",
    "        y = self.y[idx]\n",
    "\n",
    "        if self.transform:\n",
    "            X = self.transform(X)\n",
    "\n",
    "        return X, y\n",
    "class MLP(nn.Module):\n",
    "    def __init__(self, num_in, num_hidden, num_out):\n",
    "        super().__init__()\n",
    "        self.flatten = nn.Flatten() # [b, c, h, w] -> [b, cxhxw]\n",
    "        self.l1 = nn.Linear(num_in, num_hidden)\n",
    "        self.l2 = nn.Linear(num_hidden, num_out)\n",
    "\n",
    "    def forward(self, x):\n",
    "        # z1 = self.l1(x)\n",
    "        # a1 = F.relu(z1)\n",
    "        # z2 = self.l2(a1)\n",
    "        x = self.l2(F.relu(self.l1(self.flatten(x))))\n",
    "        return x\n",
    "\n",
    "\n",
    "def learn(model, train_loader, val_loader, optimizer, loss_func, num_epoch, early_stopping=None, save_path=None):\n",
    "    # ログ\n",
    "    train_losses = []\n",
    "    val_losses = []\n",
    "    val_accuracies = []\n",
    "    \n",
    "    best_val_loss = float('inf')\n",
    "    no_improve = 0 # カウント用変数\n",
    "    \n",
    "    for epoch in range(num_epoch):\n",
    "        running_loss = 0.0\n",
    "        running_val_loss = 0.0\n",
    "        running_val_acc = 0.0\n",
    "        \n",
    "        for train_batch, data in enumerate(train_loader):\n",
    "            \n",
    "            X, y = data\n",
    "            optimizer.zero_grad()\n",
    "            # forward\n",
    "            preds = model(X)\n",
    "            loss = loss_func(preds, y)\n",
    "            running_loss += loss.item()\n",
    "    \n",
    "            # backward\n",
    "            loss.backward()\n",
    "            optimizer.step()\n",
    "    \n",
    "        # validation\n",
    "        with torch.no_grad():\n",
    "            for val_batch, data in enumerate(val_loader):\n",
    "                X_val, y_val = data\n",
    "                preds_val = model(X_val)\n",
    "                val_loss = loss_func(preds_val, y_val)\n",
    "                running_val_loss += val_loss.item()\n",
    "                val_accuracy = torch.sum(torch.argmax(preds_val, dim=-1) == y_val) / y_val.shape[0]\n",
    "                running_val_acc += val_accuracy.item()\n",
    "    \n",
    "        train_losses.append(running_loss/(train_batch + 1))\n",
    "        val_losses.append(running_val_loss/(val_batch + 1))\n",
    "        val_accuracies.append(running_val_acc/(val_batch + 1))\n",
    "        print(f'epoch: {epoch}: train error: {train_losses[-1]}, validation error: {val_losses[-1]}, validation accuracy: {val_accuracies[-1]}')\n",
    "    \n",
    "        if val_losses[-1] < best_val_loss:\n",
    "            best_val_loss = val_losses[-1]\n",
    "            no_improve = 0\n",
    "            if save_path is not None:\n",
    "                state = {\n",
    "                'model_state_dict': model.state_dict(),\n",
    "                'optimizer_state_dict': optimizer.state_dict(),\n",
    "                'val_loss': val_losses[-1]\n",
    "                }\n",
    "                torch.save(state, save_path)\n",
    "        else:\n",
    "            no_improve += 1\n",
    "    \n",
    "        if early_stopping and no_improve >= early_stopping:\n",
    "            print('Stopping early')\n",
    "            break\n",
    "\n",
    "    return train_losses, val_losses, val_accuracies\n",
    "        "
   ]
  },
  {
   "cell_type": "code",
   "execution_count": 3,
   "id": "db00ddbc-6d0a-4958-ae12-90285bc6a9c5",
   "metadata": {
    "scrolled": true
   },
   "outputs": [],
   "source": [
    "# データロード\n",
    "dataset = datasets.load_digits()\n",
    "target = dataset['target']\n",
    "images = dataset['images']\n",
    "images = images * (255. / 16.) # 0~16 -> 0~255\n",
    "images = images.astype(np.uint8)\n",
    "# 学習データと検証データ作成\n",
    "X_train, X_val, y_train, y_val = train_test_split(images, target, test_size=0.2, random_state=42)\n",
    "\n",
    "# DatasetとDataLoader作成\n",
    "transform = transforms.Compose([\n",
    "    transforms.ToTensor(),# 0~255 -> 0~1\n",
    "    transforms.Normalize((.5, ), (.5, )) # 0~1 -> -1~1\n",
    "])\n",
    "\n",
    "batch_size = 10\n",
    "train_dataset = MyDataset(X_train, y_train, transform=transform)\n",
    "val_dataset = MyDataset(X_val, y_val, transform=transform)\n",
    "train_loader = DataLoader(train_dataset, batch_size=batch_size, shuffle=True, num_workers=2)\n",
    "val_loader = DataLoader(val_dataset, batch_size=batch_size, num_workers=2)\n",
    "early_stopping = 5\n",
    "## Refactoring後の学習ループ\n",
    "learning_rate = 0.1\n",
    "model = MLP(64, 30, 10)\n",
    "opt = optim.SGD(model.parameters(), lr=learning_rate)\n",
    "num_epoch = 100\n",
    "# train_losses, val_losses, val_accuracies = learn(model, train_loader, val_loader, opt, F.cross_entropy, num_epoch, early_stopping=5)"
   ]
  },
  {
   "cell_type": "markdown",
   "id": "b5714a2e-0d3f-41f7-82df-d350b1c1c5d5",
   "metadata": {},
   "source": [
    "### Learning rate finder"
   ]
  },
  {
   "cell_type": "code",
   "execution_count": 4,
   "id": "a73b458f-c1f0-48f0-8c4b-879c30ea92b6",
   "metadata": {},
   "outputs": [],
   "source": [
    "# optimizerの.param_groupsの中に様々なパラメータが保持されていて，learning rateもここに格納されている\n",
    "for param_group in opt.param_groups:\n",
    "    param_group['lr'] *= 1.1"
   ]
  },
  {
   "cell_type": "code",
   "execution_count": 5,
   "id": "3957f596-5ae8-49e3-be22-2e8370deb164",
   "metadata": {},
   "outputs": [],
   "source": [
    "# opt.param_groups"
   ]
  },
  {
   "cell_type": "code",
   "execution_count": 6,
   "id": "775899f2-7b15-42f9-b206-f0a431032794",
   "metadata": {},
   "outputs": [],
   "source": [
    "def lr_finder(model, train_loader, loss_func, lr_multiplier=1.2):\n",
    "\n",
    "    lr = 1e-8\n",
    "    max_lr = 10\n",
    "    opt = torch.optim.SGD(model.parameters(), lr=lr)\n",
    "    losses = []\n",
    "    lrs = []\n",
    "\n",
    "    for train_batch, data in enumerate(train_loader):\n",
    "        X, y = data\n",
    "        \n",
    "        opt.zero_grad()\n",
    "        # forward\n",
    "        preds = model(X)\n",
    "        loss = loss_func(preds, y)\n",
    "        losses.append(loss.item())\n",
    "        lrs.append(lr)\n",
    "\n",
    "        # backward\n",
    "        loss.backward()\n",
    "        opt.step()\n",
    "\n",
    "        lr *= lr_multiplier\n",
    "\n",
    "        for param_group in opt.param_groups:\n",
    "            param_group['lr'] = lr\n",
    "        if lr > max_lr:\n",
    "            break\n",
    "\n",
    "    return lrs, losses"
   ]
  },
  {
   "cell_type": "code",
   "execution_count": 7,
   "id": "4808a819-8f0b-4457-b221-98019cb6c358",
   "metadata": {},
   "outputs": [
    {
     "data": {
      "image/png": "[encoded data removed]",
      "text/plain": [
       "<Figure size 640x480 with 1 Axes>"
      ]
     },
     "metadata": {},
     "output_type": "display_data"
    }
   ],
   "source": [
    "lrs, losses = lr_finder(model, train_loader, F.cross_entropy, lr_multiplier=1.2)\n",
    "plt.plot(lrs, losses)\n",
    "plt.xscale('log')"
   ]
  },
  {
   "cell_type": "markdown",
   "id": "288a05c9-0f5b-4304-8ea6-df090eb47951",
   "metadata": {},
   "source": [
    "### Learning rate scheduler"
   ]
  },
  {
   "cell_type": "code",
   "execution_count": 8,
   "id": "22694046-4166-47ad-8443-f20c05deca66",
   "metadata": {},
   "outputs": [
    {
     "name": "stdout",
     "output_type": "stream",
     "text": [
      "0.1\n",
      "0.0010000000000000002\n"
     ]
    },
    {
     "name": "stderr",
     "output_type": "stream",
     "text": [
      "/usr/local/lib/python3.8/site-packages/torch/optim/lr_scheduler.py:139: UserWarning: Detected call of `lr_scheduler.step()` before `optimizer.step()`. In PyTorch 1.1.0 and later, you should call them in the opposite order: `optimizer.step()` before `lr_scheduler.step()`.  Failure to do this will result in PyTorch skipping the first value of the learning rate schedule. See more details at https://pytorch.org/docs/stable/optim.html#how-to-adjust-learning-rate\n",
      "  warnings.warn(\"Detected call of `lr_scheduler.step()` before `optimizer.step()`. \"\n"
     ]
    }
   ],
   "source": [
    "# StepLR\n",
    "model = MLP(64, 30, 10)\n",
    "opt = optim.SGD(model.parameters(), lr=learning_rate)\n",
    "scheduler = StepLR(opt, step_size=30, gamma=0.1)\n",
    "for param_group in opt.param_groups:\n",
    "    print(param_group['lr'])\n",
    "for epoch in range(60):\n",
    "    scheduler.step()\n",
    "for param_group in opt.param_groups:\n",
    "    print(param_group['lr'])"
   ]
  },
  {
   "cell_type": "code",
   "execution_count": 9,
   "id": "a61ef96a-e32b-443a-bda3-2de563964aa0",
   "metadata": {},
   "outputs": [],
   "source": [
    "# CosineAnnealing\n",
    "model = MLP(64, 30, 10)\n",
    "opt = optim.SGD(model.parameters(), lr=learning_rate)\n",
    "scheduler = CosineAnnealingLR(opt, T_max=50)\n",
    "lrs = []\n",
    "for epoch in range(150):\n",
    "    lrs.append(opt.param_groups[0]['lr'])\n",
    "    scheduler.step()"
   ]
  },
  {
   "cell_type": "code",
   "execution_count": 10,
   "id": "549dd49f-df97-475d-a910-ddb4241fe0ba",
   "metadata": {},
   "outputs": [
    {
     "data": {
      "text/plain": [
       "[<matplotlib.lines.Line2D at 0xffff5f966490>]"
      ]
     },
     "execution_count": 10,
     "metadata": {},
     "output_type": "execute_result"
    },
    {
     "data": {
      "image/png": "[encoded data removed]",
      "text/plain": [
       "<Figure size 640x480 with 1 Axes>"
      ]
     },
     "metadata": {},
     "output_type": "display_data"
    }
   ],
   "source": [
    "plt.plot(lrs)"
   ]
  },
  {
   "cell_type": "code",
   "execution_count": 11,
   "id": "061fad20-6d2d-4674-bbfc-81a09428b14f",
   "metadata": {},
   "outputs": [],
   "source": [
    "# learning rate schedulerを学習ループに組み込む\n",
    "def learn(model, train_loader, val_loader, optimizer, loss_func, num_epoch, early_stopping=None, save_path=None, scheduler=None):\n",
    "    # ログ\n",
    "    train_losses = []\n",
    "    val_losses = []\n",
    "    val_accuracies = []\n",
    "    \n",
    "    best_val_loss = float('inf')\n",
    "    no_improve = 0 # カウント用変数\n",
    "    \n",
    "    for epoch in range(num_epoch):\n",
    "        running_loss = 0.0\n",
    "        running_val_loss = 0.0\n",
    "        running_val_acc = 0.0\n",
    "        \n",
    "        for train_batch, data in enumerate(train_loader):\n",
    "            \n",
    "            X, y = data\n",
    "            optimizer.zero_grad()\n",
    "            # forward\n",
    "            preds = model(X)\n",
    "            loss = loss_func(preds, y)\n",
    "            running_loss += loss.item()\n",
    "    \n",
    "            # backward\n",
    "            loss.backward()\n",
    "            optimizer.step()\n",
    "    \n",
    "        # validation\n",
    "        with torch.no_grad():\n",
    "            for val_batch, data in enumerate(val_loader):\n",
    "                X_val, y_val = data\n",
    "                preds_val = model(X_val)\n",
    "                val_loss = loss_func(preds_val, y_val)\n",
    "                running_val_loss += val_loss.item()\n",
    "                val_accuracy = torch.sum(torch.argmax(preds_val, dim=-1) == y_val) / y_val.shape[0]\n",
    "                running_val_acc += val_accuracy.item()\n",
    "    \n",
    "        train_losses.append(running_loss/(train_batch + 1))\n",
    "        val_losses.append(running_val_loss/(val_batch + 1))\n",
    "        val_accuracies.append(running_val_acc/(val_batch + 1))\n",
    "        print(f'epoch: {epoch}: train error: {train_losses[-1]}, validation error: {val_losses[-1]}, validation accuracy: {val_accuracies[-1]}')\n",
    "    \n",
    "        if val_losses[-1] < best_val_loss:\n",
    "            best_val_loss = val_losses[-1]\n",
    "            no_improve = 0\n",
    "            if save_path is not None:\n",
    "                state = {\n",
    "                'model_state_dict': model.state_dict(),\n",
    "                'optimizer_state_dict': optimizer.state_dict(),\n",
    "                'val_loss': val_losses[-1]\n",
    "                }\n",
    "                torch.save(state, save_path)\n",
    "        else:\n",
    "            no_improve += 1\n",
    "    \n",
    "        if early_stopping and no_improve >= early_stopping:\n",
    "            print('Stopping early')\n",
    "            break\n",
    "        if scheduler:\n",
    "            scheduler.step()\n",
    "\n",
    "    return train_losses, val_losses, val_accuracies\n",
    "        "
   ]
  },
  {
   "cell_type": "code",
   "execution_count": 12,
   "id": "27deaf8b-60c2-41fc-ba5b-678339443403",
   "metadata": {},
   "outputs": [
    {
     "name": "stdout",
     "output_type": "stream",
     "text": [
      "epoch: 0: train error: 1.0994325529577003, validation error: 0.3204966282678975, validation accuracy: 0.9055555462837219\n",
      "epoch: 1: train error: 0.2633616233554979, validation error: 0.21851434501715833, validation accuracy: 0.9277777688370811\n",
      "epoch: 2: train error: 0.1753229711127157, validation error: 0.15123103357230624, validation accuracy: 0.9499999930461248\n",
      "epoch: 3: train error: 0.13556922520122802, validation error: 0.13256460154015157, validation accuracy: 0.9611111051506467\n",
      "epoch: 4: train error: 0.1123790937773366, validation error: 0.1295317758211038, validation accuracy: 0.9555555482705435\n",
      "epoch: 5: train error: 0.09311105858392289, validation error: 0.12744803215739214, validation accuracy: 0.9611111068063312\n",
      "epoch: 6: train error: 0.08475026824615067, validation error: 0.09669917673131244, validation accuracy: 0.9749999956952201\n",
      "epoch: 7: train error: 0.06930207134509045, validation error: 0.09914146240852359, validation accuracy: 0.9749999956952201\n",
      "epoch: 8: train error: 0.0585977323789848, validation error: 0.10155607960445599, validation accuracy: 0.9666666620307498\n",
      "epoch: 9: train error: 0.057714261677271374, validation error: 0.11475905977810423, validation accuracy: 0.9694444388151169\n",
      "epoch: 10: train error: 0.04470564132477901, validation error: 0.09655807852848536, validation accuracy: 0.9694444371594323\n",
      "epoch: 11: train error: 0.04014074313696862, validation error: 0.09035988927805899, validation accuracy: 0.9722222172551684\n",
      "epoch: 12: train error: 0.03364607694756058, validation error: 0.09155203477065596, validation accuracy: 0.972222218910853\n",
      "epoch: 13: train error: 0.03081194724735623, validation error: 0.1074032826258594, validation accuracy: 0.9722222172551684\n",
      "epoch: 14: train error: 0.02830350475172357, validation error: 0.093091599756412, validation accuracy: 0.9777777741352717\n",
      "epoch: 15: train error: 0.026989072870694346, validation error: 0.09081706428454102, validation accuracy: 0.9749999956952201\n",
      "epoch: 16: train error: 0.022533779341049213, validation error: 0.0935693484255656, validation accuracy: 0.9722222172551684\n",
      "epoch: 17: train error: 0.019490803999865927, validation error: 0.09401047128550191, validation accuracy: 0.9805555509196388\n",
      "epoch: 18: train error: 0.020975525461835787, validation error: 0.08870514838458297, validation accuracy: 0.9749999956952201\n",
      "epoch: 19: train error: 0.016438038077467354, validation error: 0.0857069655353876, validation accuracy: 0.9777777741352717\n",
      "epoch: 20: train error: 0.016724993871523312, validation error: 0.08732542294375081, validation accuracy: 0.9777777741352717\n",
      "epoch: 21: train error: 0.01428165193631988, validation error: 0.08943883277970599, validation accuracy: 0.9722222172551684\n",
      "epoch: 22: train error: 0.013348773434902088, validation error: 0.08898813848564815, validation accuracy: 0.9749999956952201\n",
      "epoch: 23: train error: 0.012239530482474947, validation error: 0.09283557006630064, validation accuracy: 0.9749999956952201\n",
      "epoch: 24: train error: 0.011166693303493958, validation error: 0.094150678951539, validation accuracy: 0.9694444388151169\n",
      "epoch: 25: train error: 0.009782804934022553, validation error: 0.097452733179024, validation accuracy: 0.9749999940395355\n",
      "epoch: 26: train error: 0.009631033972204427, validation error: 0.09226724645688794, validation accuracy: 0.9805555525753233\n",
      "epoch: 27: train error: 0.009161681757986016, validation error: 0.09218492822118504, validation accuracy: 0.9749999956952201\n",
      "epoch: 28: train error: 0.008098483271674518, validation error: 0.097860212756738, validation accuracy: 0.9749999940395355\n",
      "epoch: 29: train error: 0.008221374645472679, validation error: 0.09240364517568701, validation accuracy: 0.9777777741352717\n",
      "epoch: 30: train error: 0.006659140784702484, validation error: 0.09245039141347257, validation accuracy: 0.9777777741352717\n",
      "epoch: 31: train error: 0.006564061940985589, validation error: 0.0925281303344592, validation accuracy: 0.9777777741352717\n",
      "epoch: 32: train error: 0.0064804194629080785, validation error: 0.09255634609467557, validation accuracy: 0.9777777741352717\n",
      "epoch: 33: train error: 0.006451755260614946, validation error: 0.09262082234676604, validation accuracy: 0.9777777741352717\n",
      "epoch: 34: train error: 0.006411480555622499, validation error: 0.09259081452506103, validation accuracy: 0.9777777741352717\n",
      "epoch: 35: train error: 0.0063705494093634725, validation error: 0.09262600726166663, validation accuracy: 0.9777777741352717\n",
      "epoch: 36: train error: 0.00634612609290899, validation error: 0.0926183424396893, validation accuracy: 0.9749999956952201\n",
      "epoch: 37: train error: 0.006287636456666708, validation error: 0.09268767152025248, validation accuracy: 0.9749999956952201\n",
      "epoch: 38: train error: 0.006247204882002835, validation error: 0.09263027079578023, validation accuracy: 0.9749999956952201\n",
      "epoch: 39: train error: 0.006247423973844788, validation error: 0.09258670712127544, validation accuracy: 0.9749999956952201\n",
      "epoch: 40: train error: 0.006176174716832368, validation error: 0.09256900725207136, validation accuracy: 0.9749999956952201\n",
      "epoch: 41: train error: 0.006163595231151299, validation error: 0.09256439151269863, validation accuracy: 0.9749999956952201\n",
      "epoch: 42: train error: 0.006118869201196099, validation error: 0.09254123866655088, validation accuracy: 0.9749999956952201\n",
      "epoch: 43: train error: 0.0061169934673065045, validation error: 0.09253028837136096, validation accuracy: 0.9749999956952201\n",
      "epoch: 44: train error: 0.006101455330483279, validation error: 0.09261357145765538, validation accuracy: 0.9749999956952201\n",
      "epoch: 45: train error: 0.006034260543452142, validation error: 0.09262653305389297, validation accuracy: 0.9749999956952201\n",
      "epoch: 46: train error: 0.006006618817941166, validation error: 0.09259698926285233, validation accuracy: 0.9749999956952201\n",
      "epoch: 47: train error: 0.005988172543008356, validation error: 0.09257601134635883, validation accuracy: 0.9749999956952201\n",
      "epoch: 48: train error: 0.005968386231062241, validation error: 0.09259215626742742, validation accuracy: 0.9749999956952201\n",
      "epoch: 49: train error: 0.005926113597019543, validation error: 0.09267173534317408, validation accuracy: 0.9749999956952201\n",
      "epoch: 50: train error: 0.005904402117772002, validation error: 0.09270093850662103, validation accuracy: 0.9749999956952201\n",
      "epoch: 51: train error: 0.005896538027223465, validation error: 0.09268145039176387, validation accuracy: 0.9749999956952201\n",
      "epoch: 52: train error: 0.00586168270318568, validation error: 0.09268424104205526, validation accuracy: 0.9749999956952201\n",
      "epoch: 53: train error: 0.005824064861119243, validation error: 0.09272521869651326, validation accuracy: 0.9749999956952201\n",
      "epoch: 54: train error: 0.005822796179043305, validation error: 0.09276708991658073, validation accuracy: 0.9749999956952201\n",
      "epoch: 55: train error: 0.005786430313138326, validation error: 0.09280744347254061, validation accuracy: 0.9749999956952201\n",
      "epoch: 56: train error: 0.005766259531659064, validation error: 0.09281927913131464, validation accuracy: 0.9749999956952201\n",
      "epoch: 57: train error: 0.0057457585466080575, validation error: 0.09277512486247967, validation accuracy: 0.9749999956952201\n",
      "epoch: 58: train error: 0.005728457418626931, validation error: 0.09282610653948116, validation accuracy: 0.9749999956952201\n",
      "epoch: 59: train error: 0.005815461078277117, validation error: 0.0928278373847004, validation accuracy: 0.9749999956952201\n",
      "epoch: 60: train error: 0.005622481580909759, validation error: 0.09283727334534181, validation accuracy: 0.9749999956952201\n",
      "epoch: 61: train error: 0.0056169460490309575, validation error: 0.09284339856054026, validation accuracy: 0.9749999956952201\n",
      "epoch: 62: train error: 0.005600350020207164, validation error: 0.0928513399723872, validation accuracy: 0.9749999956952201\n",
      "epoch: 63: train error: 0.005588252171643641, validation error: 0.09285745335970812, validation accuracy: 0.9749999956952201\n",
      "epoch: 64: train error: 0.0055936929110329305, validation error: 0.09286370094923768, validation accuracy: 0.9749999956952201\n",
      "epoch: 65: train error: 0.005590460355759003, validation error: 0.09286915296535073, validation accuracy: 0.9749999956952201\n",
      "epoch: 66: train error: 0.005588501536193589, validation error: 0.09287406224393635, validation accuracy: 0.9749999956952201\n",
      "epoch: 67: train error: 0.0056345617178724045, validation error: 0.09287900584523515, validation accuracy: 0.9749999956952201\n",
      "epoch: 68: train error: 0.0055707981476997605, validation error: 0.0928864030106019, validation accuracy: 0.9749999956952201\n",
      "epoch: 69: train error: 0.005573760266644159, validation error: 0.09289156598444809, validation accuracy: 0.9749999956952201\n",
      "epoch: 70: train error: 0.005571672276851637, validation error: 0.09289659108213123, validation accuracy: 0.9749999956952201\n",
      "epoch: 71: train error: 0.00556437986344665, validation error: 0.09290359976350576, validation accuracy: 0.9749999956952201\n",
      "epoch: 72: train error: 0.005563784555180164, validation error: 0.09290754709784071, validation accuracy: 0.9749999956952201\n",
      "epoch: 73: train error: 0.005575817296428593, validation error: 0.09291412355095316, validation accuracy: 0.9749999956952201\n",
      "epoch: 74: train error: 0.00556104475678391, validation error: 0.09291836134677094, validation accuracy: 0.9749999956952201\n",
      "epoch: 75: train error: 0.005554006081537308, validation error: 0.09292212109357934, validation accuracy: 0.9749999956952201\n",
      "epoch: 76: train error: 0.005560419231566509, validation error: 0.09292601272884188, validation accuracy: 0.9749999956952201\n",
      "epoch: 77: train error: 0.0055578355772922805, validation error: 0.09293269763374054, validation accuracy: 0.9749999956952201\n",
      "epoch: 78: train error: 0.005547733025524495, validation error: 0.09293651116523607, validation accuracy: 0.9749999956952201\n",
      "epoch: 79: train error: 0.005557211100899117, validation error: 0.09294211002553412, validation accuracy: 0.9749999956952201\n",
      "epoch: 80: train error: 0.005551617907662553, validation error: 0.09294505555105086, validation accuracy: 0.9749999956952201\n",
      "epoch: 81: train error: 0.005542627658137967, validation error: 0.09294929666551373, validation accuracy: 0.9749999956952201\n",
      "epoch: 82: train error: 0.00554218738398049, validation error: 0.09295463011423838, validation accuracy: 0.9749999956952201\n",
      "epoch: 83: train error: 0.0055396525447374894, validation error: 0.09296009324558933, validation accuracy: 0.9749999956952201\n",
      "epoch: 84: train error: 0.0055517020732117495, validation error: 0.09296480767645537, validation accuracy: 0.9749999956952201\n",
      "epoch: 85: train error: 0.005546983072791691, validation error: 0.09296854980897883, validation accuracy: 0.9749999956952201\n",
      "epoch: 86: train error: 0.005536315209307456, validation error: 0.0929741188689756, validation accuracy: 0.9749999956952201\n",
      "epoch: 87: train error: 0.005538390770854878, validation error: 0.09297816912415631, validation accuracy: 0.9749999956952201\n",
      "epoch: 88: train error: 0.005548059454769019, validation error: 0.09298225634443548, validation accuracy: 0.9749999956952201\n",
      "epoch: 89: train error: 0.005541269653703138, validation error: 0.09298819074239065, validation accuracy: 0.9749999956952201\n",
      "epoch: 90: train error: 0.0055149639703763065, validation error: 0.09298842968605135, validation accuracy: 0.9749999956952201\n",
      "epoch: 91: train error: 0.005532587586155084, validation error: 0.09298870566918696, validation accuracy: 0.9749999956952201\n",
      "epoch: 92: train error: 0.005515210277887188, validation error: 0.09298894497907087, validation accuracy: 0.9749999956952201\n",
      "epoch: 93: train error: 0.005557606921431418, validation error: 0.09298925935824325, validation accuracy: 0.9749999956952201\n",
      "epoch: 94: train error: 0.005517751035869069, validation error: 0.0929895300889459, validation accuracy: 0.9749999956952201\n",
      "epoch: 95: train error: 0.005529102930217454, validation error: 0.09298974410436738, validation accuracy: 0.9749999956952201\n",
      "epoch: 96: train error: 0.005518071575503806, validation error: 0.09298989840640894, validation accuracy: 0.9749999956952201\n",
      "epoch: 97: train error: 0.005519656832651283, validation error: 0.09299007522188024, validation accuracy: 0.9749999956952201\n",
      "epoch: 98: train error: 0.005521626833443507, validation error: 0.09299037566921066, validation accuracy: 0.9749999956952201\n",
      "epoch: 99: train error: 0.00551929179224923, validation error: 0.09299053429802168, validation accuracy: 0.9749999956952201\n"
     ]
    }
   ],
   "source": [
    "model = MLP(64, 30, 10)\n",
    "opt = optim.SGD(model.parameters(), lr=learning_rate)\n",
    "scheduler = StepLR(opt, step_size=30, gamma=0.1)\n",
    "train_losses, val_losses, val_accuracies = learn(model, train_loader, val_loader, opt, F.cross_entropy, 100, scheduler=scheduler)"
   ]
  },
  {
   "cell_type": "code",
   "execution_count": 13,
   "id": "48029b14-655a-41d9-be86-18de5202c241",
   "metadata": {},
   "outputs": [
    {
     "data": {
      "text/plain": [
       "[{'params': [Parameter containing:\n",
       "   tensor([[-0.0458, -0.0303, -0.2662,  ...,  0.0403,  0.1926, -0.0481],\n",
       "           [-0.0691,  0.0570,  0.0846,  ..., -0.0833,  0.0735,  0.0730],\n",
       "           [ 0.0555, -0.1010, -0.0110,  ..., -0.2758, -0.0005,  0.0226],\n",
       "           ...,\n",
       "           [-0.0632,  0.1313,  0.1796,  ...,  0.1510, -0.2966, -0.2258],\n",
       "           [-0.1218, -0.0653, -0.4149,  ...,  0.0679, -0.0590, -0.1234],\n",
       "           [-0.0750, -0.0909, -0.1690,  ..., -0.1063, -0.1012, -0.1514]],\n",
       "          requires_grad=True),\n",
       "   Parameter containing:\n",
       "   tensor([ 0.1097, -0.1063,  0.0182,  0.0161,  0.0221, -0.0955,  0.2412,  0.1377,\n",
       "            0.1140,  0.0984,  0.0435,  0.0114,  0.0753, -0.0759, -0.0886,  0.0132,\n",
       "            0.0264,  0.0739, -0.0696, -0.0119,  0.1522,  0.0246,  0.0079, -0.0120,\n",
       "           -0.0186,  0.0879,  0.1228, -0.0080, -0.0068,  0.1824],\n",
       "          requires_grad=True),\n",
       "   Parameter containing:\n",
       "   tensor([[-0.3075,  0.0274, -0.2107,  0.9422, -0.0525, -0.1860,  0.0269, -0.1631,\n",
       "             0.1109, -0.3466, -0.0523,  0.3877, -0.5361,  0.1238, -0.0177,  0.6548,\n",
       "            -0.3017, -0.5420, -0.0278,  0.0863, -0.4727,  0.0293, -0.2564,  0.0174,\n",
       "             0.0122, -0.3543,  0.8850, -0.8010,  0.7929, -0.5642],\n",
       "           [-0.2063,  0.0038,  0.4101, -1.0644,  0.9330,  0.9023, -1.1377,  0.1513,\n",
       "             0.1455, -0.1010,  0.7866,  0.3623,  0.7287,  0.7201, -0.0882, -0.4154,\n",
       "             0.6357, -0.0864,  0.3153, -0.0979,  0.3022,  0.3592, -0.6516,  0.0734,\n",
       "             0.5989,  0.3763, -1.0569, -0.0307,  0.1811, -0.0099],\n",
       "           [ 1.0252,  0.0777,  0.0110,  0.6609,  0.1063,  0.3960,  0.8171,  0.1663,\n",
       "            -1.1343, -0.8254,  0.6486, -0.6572,  0.1096,  0.0615,  0.1529, -0.7613,\n",
       "            -0.0106, -0.3682, -0.6667, -0.0795,  0.8795,  0.9464, -0.0230, -0.1503,\n",
       "             0.1067,  0.5377, -0.4436, -0.6843, -0.0128,  0.4425],\n",
       "           [ 0.3166,  0.0956, -0.0720,  0.6776, -1.1856, -0.5099,  0.3768,  0.0222,\n",
       "            -0.6940,  0.6186,  0.2116, -0.6509,  0.0872, -0.2354, -0.0861, -0.3049,\n",
       "            -0.1003,  0.6857, -0.3995,  0.1202,  0.3507, -0.0241, -0.1304,  0.0368,\n",
       "            -0.0166,  0.8347, -0.1767,  1.2116, -0.5981, -0.4083],\n",
       "           [-0.1309, -0.0991,  1.0299, -0.4958,  0.9652, -0.6364, -0.2293, -0.3848,\n",
       "             0.3110, -0.0462, -0.1503,  0.8936, -0.1626, -0.2942, -0.0758, -0.5786,\n",
       "             0.6165,  0.1356, -0.5561,  0.1680, -0.9226, -0.5133,  0.5464, -0.0126,\n",
       "             0.1493, -0.5836,  0.7637, -0.1413, -0.0119,  0.7068],\n",
       "           [-0.9105,  0.0118,  0.0578,  0.5750, -0.3536,  0.6092, -0.3882,  0.2832,\n",
       "             1.1714,  0.6669, -0.3337, -0.0953, -0.8864, -0.1198,  0.0535,  0.4301,\n",
       "            -0.0224, -0.9106, -0.2274, -0.0771,  0.5065, -0.0100, -0.2861, -0.0490,\n",
       "             0.0072, -0.7466, -0.1040,  0.9826, -0.7682,  0.1148],\n",
       "           [-0.9954,  0.0910, -0.2533, -0.3335,  0.5842,  0.9141, -0.2455, -0.0787,\n",
       "            -1.0374, -0.5215,  0.0136,  0.0643, -0.5989, -0.1033,  0.1713,  0.2281,\n",
       "            -0.0109,  0.4917,  0.1987, -0.0790,  0.6179, -0.5736,  0.2525,  0.0505,\n",
       "             0.0924, -0.0469,  0.5774,  0.2864,  0.5778,  0.5412],\n",
       "           [-0.1916, -0.0613,  0.3514, -0.5397, -0.1018, -0.5724,  1.0668,  0.3258,\n",
       "             0.6088,  0.4864, -0.1794,  0.4957, -0.3682,  0.1101,  0.1032, -0.0489,\n",
       "            -0.3033, -0.1497, -0.3978, -0.0730, -0.8456, -0.6818, -0.1380, -0.0044,\n",
       "             0.0904,  1.1405, -0.5330, -0.5663,  0.1587,  0.5759],\n",
       "           [ 0.5388,  0.0828, -0.1588, -0.8796,  0.1504, -0.5610, -0.0706,  0.8892,\n",
       "            -0.1562, -0.2769, -0.4249, -0.1141,  0.4261, -0.3109, -0.2980,  0.1050,\n",
       "            -0.2475,  0.8736,  0.7730, -0.0327,  0.0893, -0.1237, -0.2907, -0.0181,\n",
       "             0.0879, -0.9370,  0.5086,  0.3643,  0.0425, -0.2032],\n",
       "           [ 0.6124,  0.1576, -0.2996,  0.3781, -0.6005, -0.2726, -0.1131, -1.0674,\n",
       "             0.7900,  0.4336, -0.4612, -0.4507,  1.3387, -0.0383,  0.2223,  0.6470,\n",
       "            -0.1569, -0.2586,  0.8548,  0.0617, -0.2445,  0.1751,  0.7267, -0.0828,\n",
       "            -0.3227, -0.4961, -0.3395, -0.1540, -0.4950, -0.7396]],\n",
       "          requires_grad=True),\n",
       "   Parameter containing:\n",
       "   tensor([-0.0371, -0.2266,  0.0347, -0.2689,  0.2091, -0.1125, -0.2816,  0.2064,\n",
       "            0.1227,  0.0475], requires_grad=True)],\n",
       "  'lr': 0.00010000000000000003,\n",
       "  'momentum': 0,\n",
       "  'dampening': 0,\n",
       "  'weight_decay': 0,\n",
       "  'nesterov': False,\n",
       "  'maximize': False,\n",
       "  'foreach': None,\n",
       "  'differentiable': False,\n",
       "  'initial_lr': 0.1}]"
      ]
     },
     "execution_count": 13,
     "metadata": {},
     "output_type": "execute_result"
    }
   ],
   "source": [
    "opt.param_groups"
   ]
  },
  {
   "cell_type": "code",
   "execution_count": 14,
   "id": "560c7297-36d9-4ba6-9e57-d38010b0180a",
   "metadata": {},
   "outputs": [
    {
     "data": {
      "text/plain": [
       "0.1"
      ]
     },
     "execution_count": 14,
     "metadata": {},
     "output_type": "execute_result"
    }
   ],
   "source": [
    "# 元のlearning rateとは異なる値になっていることがわかる\n",
    "learning_rate"
   ]
  }
 ],
 "metadata": {
  "kernelspec": {
   "display_name": "Python 3 (ipykernel)",
   "language": "python",
   "name": "python3"
  },
  "language_info": {
   "codemirror_mode": {
    "name": "ipython",
    "version": 3
   },
   "file_extension": ".py",
   "mimetype": "text/x-python",
   "name": "python",
   "nbconvert_exporter": "python",
   "pygments_lexer": "ipython3",
   "version": "3.8.18"
  }
 },
 "nbformat": 4,
 "nbformat_minor": 5
}
