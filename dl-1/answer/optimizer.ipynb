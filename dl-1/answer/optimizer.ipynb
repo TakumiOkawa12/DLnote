{
 "cells": [
  {
   "cell_type": "markdown",
   "id": "e93acf02-d800-4c1b-861e-1d52236f2f66",
   "metadata": {},
   "source": [
    "## Optimizer"
   ]
  },
  {
   "cell_type": "code",
   "execution_count": 1,
   "id": "d5ecbf5e-e144-443c-9048-893a909290bc",
   "metadata": {},
   "outputs": [],
   "source": [
    "import torch\n",
    "from torch import nn\n",
    "from torch.nn import functional as F\n",
    "from sklearn import datasets\n",
    "import matplotlib.pyplot as plt\n",
    "from sklearn.model_selection import train_test_split\n",
    "import numpy as np"
   ]
  },
  {
   "cell_type": "markdown",
   "id": "dc877bbb-2980-486d-9ec2-85159d3730f8",
   "metadata": {},
   "source": [
    "### スクラッチ実装"
   ]
  },
  {
   "cell_type": "code",
   "execution_count": 2,
   "id": "18ba7ed0-63cd-48e1-83f0-968d2203ca37",
   "metadata": {},
   "outputs": [],
   "source": [
    "class MLP(nn.Module):\n",
    "    def __init__(self, num_in, num_hidden, num_out):\n",
    "        super().__init__()\n",
    "        self.l1 = nn.Linear(num_in, num_hidden)\n",
    "        self.l2 = nn.Linear(num_hidden, num_out)\n",
    "\n",
    "    def forward(self, x):\n",
    "        # z1 = self.l1(x)\n",
    "        # a1 = F.relu(z1)\n",
    "        # z2 = self.l2(a1)\n",
    "        x = self.l2(F.relu(self.l1(x)))\n",
    "        return x"
   ]
  },
  {
   "cell_type": "code",
   "execution_count": 3,
   "id": "5ed6334e-0965-49c7-8b09-b352615ebb2b",
   "metadata": {},
   "outputs": [
    {
     "data": {
      "text/plain": [
       "<generator object Module.parameters at 0x4127c896d0>"
      ]
     },
     "execution_count": 3,
     "metadata": {},
     "output_type": "execute_result"
    }
   ],
   "source": [
    "model = MLP(64, 30, 10)\n",
    "model.parameters()"
   ]
  },
  {
   "cell_type": "code",
   "execution_count": 4,
   "id": "1d7480cf-a002-4e8e-a285-25c3c16aa656",
   "metadata": {},
   "outputs": [],
   "source": [
    "class Optimizer():\n",
    "\n",
    "    def __init__(self, parameters, lr=0.03):\n",
    "        self.parameters = list(parameters)\n",
    "        self.lr = lr\n",
    "\n",
    "    def step(self):\n",
    "        with torch.no_grad():\n",
    "            for param in self.parameters:\n",
    "                param -= self.lr * param.grad\n",
    "\n",
    "    def zero_grad(self):\n",
    "        for param in self.parameters:\n",
    "            if param.grad is not None:\n",
    "                param.grad.zero_()"
   ]
  },
  {
   "cell_type": "code",
   "execution_count": 5,
   "id": "0691aed9-7ae0-4aa1-896f-4a2379857792",
   "metadata": {},
   "outputs": [],
   "source": [
    "learning_rate = 0.01\n",
    "opt = Optimizer(parameters=model.parameters(), lr=learning_rate)"
   ]
  },
  {
   "cell_type": "code",
   "execution_count": 6,
   "id": "a4b1e136-f368-4ea4-9cc2-cdfe3a3c2fdf",
   "metadata": {
    "scrolled": true
   },
   "outputs": [
    {
     "name": "stdout",
     "output_type": "stream",
     "text": [
      "epoch: 0: train error: 2.234282528360685, validation error: 2.7225191593170166, validation accuracy: 0.2750000059604645\n",
      "epoch: 1: train error: 2.0922621165712676, validation error: 2.2832534313201904, validation accuracy: 0.3305555582046509\n",
      "epoch: 2: train error: 1.942096804579099, validation error: 1.8913428783416748, validation accuracy: 0.4166666567325592\n",
      "epoch: 3: train error: 1.7739094843467076, validation error: 1.5601751804351807, validation accuracy: 0.5111111402511597\n",
      "epoch: 4: train error: 1.5897358631094296, validation error: 1.2866777181625366, validation accuracy: 0.6000000238418579\n",
      "epoch: 5: train error: 1.4013549635807674, validation error: 1.0850151777267456, validation accuracy: 0.6666666865348816\n",
      "epoch: 6: train error: 1.2232713624835014, validation error: 0.8591521978378296, validation accuracy: 0.7555555701255798\n",
      "epoch: 7: train error: 1.0627913946906726, validation error: 0.8072230815887451, validation accuracy: 0.7805555462837219\n",
      "epoch: 8: train error: 0.925008105734984, validation error: 0.7733917236328125, validation accuracy: 0.8083333373069763\n",
      "epoch: 9: train error: 0.8095132187008858, validation error: 0.7487800717353821, validation accuracy: 0.8361111283302307\n",
      "epoch: 10: train error: 0.7141041606664658, validation error: 0.6898244023323059, validation accuracy: 0.8583333492279053\n",
      "epoch: 11: train error: 0.6358216063429912, validation error: 0.6984467506408691, validation accuracy: 0.855555534362793\n",
      "epoch: 12: train error: 0.5716186712185541, validation error: 0.716874361038208, validation accuracy: 0.8583333492279053\n",
      "epoch: 13: train error: 0.5184608368823925, validation error: 0.726107120513916, validation accuracy: 0.8694444298744202\n",
      "epoch: 14: train error: 0.4743277709931135, validation error: 0.7144526839256287, validation accuracy: 0.8777777552604675\n",
      "epoch: 15: train error: 0.4367135713497798, validation error: 0.7106241583824158, validation accuracy: 0.875\n",
      "epoch: 16: train error: 0.4056565531839927, validation error: 0.7107923030853271, validation accuracy: 0.875\n",
      "epoch: 17: train error: 0.378632344926397, validation error: 0.6799296140670776, validation accuracy: 0.8861111402511597\n",
      "epoch: 18: train error: 0.3544294706856211, validation error: 0.6742711067199707, validation accuracy: 0.8861111402511597\n",
      "epoch: 19: train error: 0.33425915489594143, validation error: 0.6689866781234741, validation accuracy: 0.894444465637207\n",
      "epoch: 20: train error: 0.31630440584073466, validation error: 0.6584942936897278, validation accuracy: 0.8972222208976746\n",
      "epoch: 21: train error: 0.3001093715429306, validation error: 0.6503973007202148, validation accuracy: 0.8999999761581421\n",
      "epoch: 22: train error: 0.2859954017524918, validation error: 0.6358409523963928, validation accuracy: 0.9055555462837219\n",
      "epoch: 23: train error: 0.27330551731089753, validation error: 0.6352777481079102, validation accuracy: 0.9111111164093018\n",
      "epoch: 24: train error: 0.2623024865364035, validation error: 0.6393267512321472, validation accuracy: 0.9138888716697693\n",
      "epoch: 25: train error: 0.25199537537992, validation error: 0.607853889465332, validation accuracy: 0.9166666865348816\n",
      "epoch: 26: train error: 0.24282603540147343, validation error: 0.6240202784538269, validation accuracy: 0.9138888716697693\n",
      "epoch: 27: train error: 0.23436971427872777, validation error: 0.6076591610908508, validation accuracy: 0.9166666865348816\n",
      "epoch: 28: train error: 0.2269393134241303, validation error: 0.6062496304512024, validation accuracy: 0.9166666865348816\n",
      "epoch: 29: train error: 0.2190184840001166, validation error: 0.6154518127441406, validation accuracy: 0.9166666865348816\n",
      "epoch: 30: train error: 0.21299185448636612, validation error: 0.6255727410316467, validation accuracy: 0.9194444417953491\n",
      "epoch: 31: train error: 0.20700710375482836, validation error: 0.5982533097267151, validation accuracy: 0.9222221970558167\n",
      "epoch: 32: train error: 0.20132777777810892, validation error: 0.5836178660392761, validation accuracy: 0.925000011920929\n",
      "epoch: 33: train error: 0.19571775601555905, validation error: 0.5961018204689026, validation accuracy: 0.925000011920929\n",
      "epoch: 34: train error: 0.19106186274439096, validation error: 0.598100483417511, validation accuracy: 0.925000011920929\n",
      "epoch: 35: train error: 0.18638982359940806, validation error: 0.5912144780158997, validation accuracy: 0.9277777671813965\n",
      "epoch: 36: train error: 0.18207992038999996, validation error: 0.5934305787086487, validation accuracy: 0.9277777671813965\n",
      "epoch: 37: train error: 0.17739698966033757, validation error: 0.5911257863044739, validation accuracy: 0.9305555820465088\n",
      "epoch: 38: train error: 0.17353650058309236, validation error: 0.5921499729156494, validation accuracy: 0.9305555820465088\n",
      "epoch: 39: train error: 0.1701686393159131, validation error: 0.5753522515296936, validation accuracy: 0.9305555820465088\n",
      "epoch: 40: train error: 0.16681908598790565, validation error: 0.5694383978843689, validation accuracy: 0.9305555820465088\n",
      "epoch: 41: train error: 0.1638345429673791, validation error: 0.5882415175437927, validation accuracy: 0.9333333373069763\n",
      "epoch: 42: train error: 0.16033395131429037, validation error: 0.5707399845123291, validation accuracy: 0.9305555820465088\n",
      "epoch: 43: train error: 0.15767720993608236, validation error: 0.582857072353363, validation accuracy: 0.9305555820465088\n",
      "epoch: 44: train error: 0.15502468201642236, validation error: 0.6007158756256104, validation accuracy: 0.925000011920929\n",
      "epoch: 45: train error: 0.15201544715091586, validation error: 0.5891914963722229, validation accuracy: 0.925000011920929\n",
      "epoch: 46: train error: 0.14887579848679403, validation error: 0.5765805244445801, validation accuracy: 0.9277777671813965\n",
      "epoch: 47: train error: 0.14700994772526124, validation error: 0.5733911991119385, validation accuracy: 0.9305555820465088\n",
      "epoch: 48: train error: 0.14432272703076401, validation error: 0.5792511701583862, validation accuracy: 0.9305555820465088\n",
      "epoch: 49: train error: 0.14214454436053833, validation error: 0.5794495344161987, validation accuracy: 0.9305555820465088\n",
      "epoch: 50: train error: 0.1400418389433374, validation error: 0.600921094417572, validation accuracy: 0.925000011920929\n",
      "epoch: 51: train error: 0.13800673404087624, validation error: 0.5889860987663269, validation accuracy: 0.9277777671813965\n",
      "epoch: 52: train error: 0.13560560648329556, validation error: 0.5600804090499878, validation accuracy: 0.9333333373069763\n",
      "epoch: 53: train error: 0.13402387709356844, validation error: 0.5927808284759521, validation accuracy: 0.9277777671813965\n",
      "epoch: 54: train error: 0.13197224563919008, validation error: 0.6090921759605408, validation accuracy: 0.925000011920929\n",
      "epoch: 55: train error: 0.1303448019704471, validation error: 0.5739406943321228, validation accuracy: 0.9305555820465088\n",
      "epoch: 56: train error: 0.12872431233214834, validation error: 0.5910021662712097, validation accuracy: 0.9277777671813965\n",
      "epoch: 57: train error: 0.12654506516021988, validation error: 0.5976453423500061, validation accuracy: 0.9277777671813965\n",
      "epoch: 58: train error: 0.12538319065545997, validation error: 0.601798951625824, validation accuracy: 0.925000011920929\n",
      "epoch: 59: train error: 0.1236889708864813, validation error: 0.6062443852424622, validation accuracy: 0.9277777671813965\n",
      "epoch: 60: train error: 0.12209690214755635, validation error: 0.5805215835571289, validation accuracy: 0.9277777671813965\n",
      "epoch: 61: train error: 0.12051461567170918, validation error: 0.5761748552322388, validation accuracy: 0.9305555820465088\n",
      "epoch: 62: train error: 0.1191735762792329, validation error: 0.603037416934967, validation accuracy: 0.925000011920929\n",
      "epoch: 63: train error: 0.11747696095456679, validation error: 0.6026265621185303, validation accuracy: 0.925000011920929\n",
      "epoch: 64: train error: 0.11611163437676926, validation error: 0.6111308336257935, validation accuracy: 0.925000011920929\n",
      "epoch: 65: train error: 0.11458131337227921, validation error: 0.636049211025238, validation accuracy: 0.9222221970558167\n",
      "epoch: 66: train error: 0.1138247874720643, validation error: 0.6101906895637512, validation accuracy: 0.925000011920929\n",
      "epoch: 67: train error: 0.11199091421440244, validation error: 0.6175273656845093, validation accuracy: 0.925000011920929\n",
      "epoch: 68: train error: 0.11101047811098397, validation error: 0.6198339462280273, validation accuracy: 0.925000011920929\n",
      "epoch: 69: train error: 0.109581797150895, validation error: 0.6112087368965149, validation accuracy: 0.925000011920929\n",
      "epoch: 70: train error: 0.10804968401013564, validation error: 0.6276465058326721, validation accuracy: 0.9222221970558167\n",
      "epoch: 71: train error: 0.10751991571548085, validation error: 0.6063328385353088, validation accuracy: 0.925000011920929\n",
      "epoch: 72: train error: 0.10615963228822996, validation error: 0.5962286591529846, validation accuracy: 0.925000011920929\n",
      "epoch: 73: train error: 0.10521883765856425, validation error: 0.596368134021759, validation accuracy: 0.925000011920929\n",
      "epoch: 74: train error: 0.10383701118795823, validation error: 0.6079288721084595, validation accuracy: 0.925000011920929\n",
      "epoch: 75: train error: 0.10303358733654022, validation error: 0.6230401396751404, validation accuracy: 0.9194444417953491\n",
      "epoch: 76: train error: 0.10184181830845773, validation error: 0.6153582334518433, validation accuracy: 0.9222221970558167\n",
      "epoch: 77: train error: 0.10073403257410973, validation error: 0.5961040258407593, validation accuracy: 0.925000011920929\n",
      "epoch: 78: train error: 0.09999134368263185, validation error: 0.6127991676330566, validation accuracy: 0.925000011920929\n",
      "epoch: 79: train error: 0.0994671467342414, validation error: 0.6201815009117126, validation accuracy: 0.925000011920929\n",
      "epoch: 80: train error: 0.09765454102307558, validation error: 0.6022948622703552, validation accuracy: 0.925000011920929\n",
      "epoch: 81: train error: 0.09679699689149857, validation error: 0.6185049414634705, validation accuracy: 0.9222221970558167\n",
      "epoch: 82: train error: 0.09597813547588885, validation error: 0.6141989827156067, validation accuracy: 0.925000011920929\n",
      "epoch: 83: train error: 0.09521042668105413, validation error: 0.6073673367500305, validation accuracy: 0.925000011920929\n",
      "epoch: 84: train error: 0.09429119104364266, validation error: 0.6044143438339233, validation accuracy: 0.9277777671813965\n",
      "epoch: 85: train error: 0.09358711905467014, validation error: 0.6175011992454529, validation accuracy: 0.9277777671813965\n",
      "epoch: 86: train error: 0.09245488098046432, validation error: 0.6105225682258606, validation accuracy: 0.9277777671813965\n",
      "epoch: 87: train error: 0.09154108290870984, validation error: 0.6033788323402405, validation accuracy: 0.9277777671813965\n",
      "epoch: 88: train error: 0.09094494577342023, validation error: 0.63978511095047, validation accuracy: 0.925000011920929\n",
      "epoch: 89: train error: 0.09033321434011062, validation error: 0.6064226627349854, validation accuracy: 0.9277777671813965\n",
      "epoch: 90: train error: 0.08933140446121494, validation error: 0.6283255815505981, validation accuracy: 0.925000011920929\n",
      "epoch: 91: train error: 0.0886209257490312, validation error: 0.6202149987220764, validation accuracy: 0.9277777671813965\n",
      "epoch: 92: train error: 0.08774825332996745, validation error: 0.6410321593284607, validation accuracy: 0.925000011920929\n",
      "epoch: 93: train error: 0.08679292622643213, validation error: 0.6553504467010498, validation accuracy: 0.9222221970558167\n",
      "epoch: 94: train error: 0.08627292870854338, validation error: 0.6127745509147644, validation accuracy: 0.9277777671813965\n",
      "epoch: 95: train error: 0.08569372802351911, validation error: 0.6230014562606812, validation accuracy: 0.9277777671813965\n",
      "epoch: 96: train error: 0.08498852979391813, validation error: 0.6399391889572144, validation accuracy: 0.925000011920929\n",
      "epoch: 97: train error: 0.08422525622881949, validation error: 0.6269449591636658, validation accuracy: 0.925000011920929\n",
      "epoch: 98: train error: 0.0833999008173123, validation error: 0.643402636051178, validation accuracy: 0.925000011920929\n",
      "epoch: 99: train error: 0.0827220316665868, validation error: 0.6621347069740295, validation accuracy: 0.9222221970558167\n"
     ]
    }
   ],
   "source": [
    "\n",
    "## Refactoring後の学習ループ(OptimizerやDataset, Dataloaderは後ほどRefactoring)\n",
    "# ===データの準備====\n",
    "dataset = datasets.load_digits()\n",
    "data = dataset['data']\n",
    "target = dataset['target']\n",
    "images = dataset['images']\n",
    "X_train, X_val, y_train, y_val = train_test_split(images, target, test_size=0.2, random_state=42)\n",
    "X_train_mean = X_train.mean()\n",
    "X_train_std = X_train.std()\n",
    "X_train = (X_train - X_train_mean) / X_train_std\n",
    "X_val = (X_val - X_train_mean) / X_train_std\n",
    "X_train = torch.tensor(X_train.reshape(-1, 64), dtype=torch.float32)\n",
    "X_val = torch.tensor(X_val.reshape(-1, 64), dtype=torch.float32)\n",
    "y_train = torch.tensor(y_train) \n",
    "y_val = torch.tensor(y_val) \n",
    "batch_size = 30\n",
    "num_batches = np.ceil(len(y_train)/batch_size).astype(int)\n",
    "\n",
    "# ログ\n",
    "train_losses = []\n",
    "val_losses = []\n",
    "val_accuracies = []\n",
    "for epoch in range(100):\n",
    "    # エポック毎にデータをシャッフル\n",
    "    shuffled_indices = np.random.permutation(len(y_train))\n",
    "    running_loss = 0.0\n",
    "    \n",
    "    for i in range(num_batches):\n",
    "        \n",
    "        # mini batch作成\n",
    "        start = i * batch_size\n",
    "        end = start + batch_size\n",
    "\n",
    "        batch_indices = shuffled_indices[start:end]\n",
    "        y = y_train[batch_indices] # batch_size x 10\n",
    "        \n",
    "        X = X_train[batch_indices] # batch_size x 64\n",
    "        # 順伝播と逆伝播の計算\n",
    "        opt.zero_grad()\n",
    "        preds = model(X)\n",
    "        loss = F.cross_entropy(preds, y)\n",
    "        loss.backward()\n",
    "        running_loss += loss.item()\n",
    "\n",
    "        # パラメータ更新\n",
    "        # with torch.no_grad():\n",
    "        #     for param in model.parameters():\n",
    "        #         param -= learning_rate * param.grad\n",
    "\n",
    "        # model.zero_grad()\n",
    "        opt.step()\n",
    "        \n",
    "\n",
    "    # validation\n",
    "    with torch.no_grad():\n",
    "        preds_val = model(X_val)\n",
    "        val_loss = F.cross_entropy(preds_val, y_val)\n",
    "        val_accuracy = torch.sum(torch.argmax(preds_val, dim=-1) == y_val) / y_val.shape[0]\n",
    "\n",
    "    train_losses.append(running_loss/num_batches)\n",
    "    val_losses.append(val_loss.item())\n",
    "    val_accuracies.append(val_accuracy)\n",
    "    print(f'epoch: {epoch}: train error: {running_loss/num_batches}, validation error: {val_loss.item()}, validation accuracy: {val_accuracy}')"
   ]
  },
  {
   "cell_type": "markdown",
   "id": "9a44023c-06a8-4b4f-b9c2-36ddc7265840",
   "metadata": {},
   "source": [
    "### torch.optim"
   ]
  },
  {
   "cell_type": "code",
   "execution_count": 7,
   "id": "8d49f9ec-3452-4fd0-aeb1-bb9277f6b4fb",
   "metadata": {},
   "outputs": [],
   "source": [
    "from torch import optim\n",
    "opt = optim.SGD(model.parameters(), lr=learning_rate)"
   ]
  }
 ],
 "metadata": {
  "kernelspec": {
   "display_name": "Python 3 (ipykernel)",
   "language": "python",
   "name": "python3"
  },
  "language_info": {
   "codemirror_mode": {
    "name": "ipython",
    "version": 3
   },
   "file_extension": ".py",
   "mimetype": "text/x-python",
   "name": "python",
   "nbconvert_exporter": "python",
   "pygments_lexer": "ipython3",
   "version": "3.8.18"
  }
 },
 "nbformat": 4,
 "nbformat_minor": 5
}
