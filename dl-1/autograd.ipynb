{
 "cells": [
  {
   "cell_type": "markdown",
   "id": "b5156cce-b99e-47b7-9481-103386f72c2f",
   "metadata": {},
   "source": [
    "## Autograd"
   ]
  },
  {
   "cell_type": "code",
   "execution_count": 13,
   "id": "e1e84374-f8a1-4884-8775-c20787ba678b",
   "metadata": {},
   "outputs": [],
   "source": [
    "import torch\n",
    "import numpy as np"
   ]
  },
  {
   "cell_type": "code",
   "execution_count": 30,
   "id": "0dc9a290-2abe-4890-bdb4-abf7a5a6808d",
   "metadata": {},
   "outputs": [],
   "source": [
    "x = torch.tensor(2., requires_grad = True)\n",
    "y = torch.tensor(3., requires_grad = True)"
   ]
  },
  {
   "cell_type": "code",
   "execution_count": 31,
   "id": "d153a551-dc6a-4c04-9dce-a9a1ffcb0834",
   "metadata": {},
   "outputs": [],
   "source": [
    "z = y * torch.log(x) + torch.sin(y)"
   ]
  },
  {
   "cell_type": "code",
   "execution_count": 33,
   "id": "0c2af096-40e6-4d1f-b733-fac9421fafb4",
   "metadata": {},
   "outputs": [],
   "source": [
    "z.backward()"
   ]
  },
  {
   "cell_type": "code",
   "execution_count": 34,
   "id": "e481f8ca-110a-4f35-bdb9-2c7d641bf2b7",
   "metadata": {},
   "outputs": [
    {
     "name": "stdout",
     "output_type": "stream",
     "text": [
      "tensor(1.5000)\n"
     ]
    }
   ],
   "source": [
    "print(x.grad)"
   ]
  },
  {
   "cell_type": "code",
   "execution_count": 35,
   "id": "d7d0c93b-7bfc-4775-8f54-09383f5cff26",
   "metadata": {},
   "outputs": [
    {
     "name": "stdout",
     "output_type": "stream",
     "text": [
      "tensor(-0.2968)\n"
     ]
    }
   ],
   "source": [
    "print(y.grad)"
   ]
  },
  {
   "cell_type": "code",
   "execution_count": 38,
   "id": "5ccfcb82-44d0-48a9-9bbe-cab3ddefdafb",
   "metadata": {},
   "outputs": [],
   "source": [
    "z = y * torch.log(x) + torch.sin(y)\n",
    "z.backward()"
   ]
  },
  {
   "cell_type": "code",
   "execution_count": 39,
   "id": "f80a2e24-95c8-4e1c-bd11-c4dfd098ee43",
   "metadata": {},
   "outputs": [
    {
     "name": "stdout",
     "output_type": "stream",
     "text": [
      "tensor(3.)\n"
     ]
    }
   ],
   "source": [
    "print(x.grad)"
   ]
  },
  {
   "cell_type": "code",
   "execution_count": 40,
   "id": "db8c970e-1f81-4577-ae1b-e9a9f181a9a2",
   "metadata": {},
   "outputs": [
    {
     "name": "stdout",
     "output_type": "stream",
     "text": [
      "tensor(-0.5937)\n"
     ]
    }
   ],
   "source": [
    "print(y.grad)"
   ]
  },
  {
   "cell_type": "code",
   "execution_count": 41,
   "id": "19ca14f9-3b51-4d31-896c-f396a7b39f5b",
   "metadata": {},
   "outputs": [],
   "source": [
    "# 勾配情報は累積されていく"
   ]
  },
  {
   "cell_type": "markdown",
   "id": "386e37b9-388e-4dec-a0d0-37998a48498f",
   "metadata": {},
   "source": [
    "## 中間ノードの勾配"
   ]
  },
  {
   "cell_type": "code",
   "execution_count": 59,
   "id": "81f05594-6d72-473c-a41e-60f7e8f8a87f",
   "metadata": {},
   "outputs": [],
   "source": [
    "x = torch.tensor(2., requires_grad = True)\n",
    "y = torch.tensor(3., requires_grad = True)\n",
    "c = x + y\n",
    "c.retain_grad()\n",
    "z = c**2"
   ]
  },
  {
   "cell_type": "code",
   "execution_count": 60,
   "id": "b7966f0e-eca3-4433-a0db-0c05b14815c3",
   "metadata": {},
   "outputs": [],
   "source": [
    "z.backward()"
   ]
  },
  {
   "cell_type": "code",
   "execution_count": 61,
   "id": "68f613a2-394e-4359-9b1a-18daf4a19908",
   "metadata": {},
   "outputs": [
    {
     "data": {
      "text/plain": [
       "tensor(10.)"
      ]
     },
     "execution_count": 61,
     "metadata": {},
     "output_type": "execute_result"
    }
   ],
   "source": [
    "x.grad"
   ]
  },
  {
   "cell_type": "code",
   "execution_count": 62,
   "id": "dedbfa34-b718-4cee-9bc6-a1fc0e4e5d61",
   "metadata": {},
   "outputs": [
    {
     "data": {
      "text/plain": [
       "tensor(10.)"
      ]
     },
     "execution_count": 62,
     "metadata": {},
     "output_type": "execute_result"
    }
   ],
   "source": [
    "y.grad"
   ]
  },
  {
   "cell_type": "code",
   "execution_count": 63,
   "id": "1a3728bb-e574-4fb9-b746-93e6728f60f4",
   "metadata": {},
   "outputs": [
    {
     "data": {
      "text/plain": [
       "tensor(10.)"
      ]
     },
     "execution_count": 63,
     "metadata": {},
     "output_type": "execute_result"
    }
   ],
   "source": [
    "c.grad"
   ]
  },
  {
   "cell_type": "markdown",
   "id": "8c3646ab-2c6a-47f2-bbfc-e3654ccbfe21",
   "metadata": {},
   "source": [
    "## with.torch.no_grad()"
   ]
  },
  {
   "cell_type": "code",
   "execution_count": 65,
   "id": "1213e633-494d-4761-91a0-93a4a7d326ee",
   "metadata": {},
   "outputs": [],
   "source": [
    "x = torch.tensor(2., requires_grad = True)\n",
    "y = torch.tensor(3., requires_grad = True)\n",
    "\n",
    "with torch.no_grad():\n",
    "    z1 = y * torch.log(x) + torch.sin(y)\n",
    "z2 = y * torch.log(x) + torch.sin(y)\n",
    "# z1.backward() ←エラーが起きる\n",
    "z2.backward()"
   ]
  },
  {
   "cell_type": "code",
   "execution_count": 66,
   "id": "2afbd9b2-2a45-4d57-808e-093041cc2d40",
   "metadata": {},
   "outputs": [
    {
     "data": {
      "text/plain": [
       "tensor(1.5000)"
      ]
     },
     "execution_count": 66,
     "metadata": {},
     "output_type": "execute_result"
    }
   ],
   "source": [
    "x.grad"
   ]
  },
  {
   "cell_type": "code",
   "execution_count": 67,
   "id": "7be47a47-b102-4dc5-8811-52ab41cba442",
   "metadata": {},
   "outputs": [
    {
     "data": {
      "text/plain": [
       "tensor(-0.2968)"
      ]
     },
     "execution_count": 67,
     "metadata": {},
     "output_type": "execute_result"
    }
   ],
   "source": [
    "y.grad"
   ]
  },
  {
   "cell_type": "code",
   "execution_count": null,
   "id": "eaa26eb4-a9ae-4cda-b4a0-522ca81af4f9",
   "metadata": {},
   "outputs": [],
   "source": []
  }
 ],
 "metadata": {
  "kernelspec": {
   "display_name": "Python 3 (ipykernel)",
   "language": "python",
   "name": "python3"
  },
  "language_info": {
   "codemirror_mode": {
    "name": "ipython",
    "version": 3
   },
   "file_extension": ".py",
   "mimetype": "text/x-python",
   "name": "python",
   "nbconvert_exporter": "python",
   "pygments_lexer": "ipython3",
   "version": "3.8.18"
  }
 },
 "nbformat": 4,
 "nbformat_minor": 5
}
