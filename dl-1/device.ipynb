{
 "cells": [
  {
   "cell_type": "markdown",
   "metadata": {
    "id": "VuPZRSS-suX7"
   },
   "source": [
    "## GPUでの学習"
   ]
  },
  {
   "cell_type": "markdown",
   "metadata": {
    "id": "ksOeykHeJVdO"
   },
   "source": [
    "### .to(device)"
   ]
  },
  {
   "cell_type": "code",
   "execution_count": 1,
   "metadata": {
    "id": "7QNxQDKOJdDb"
   },
   "outputs": [],
   "source": [
    "import torch"
   ]
  },
  {
   "cell_type": "code",
   "execution_count": 2,
   "metadata": {
    "colab": {
     "base_uri": "https://localhost:8080/",
     "height": 35
    },
    "id": "LniQaQLzJwN9",
    "outputId": "c9ac577e-0ec2-4143-ab27-6602b8ebef20"
   },
   "outputs": [
    {
     "data": {
      "application/vnd.google.colaboratory.intrinsic+json": {
       "type": "string"
      },
      "text/plain": [
       "'cuda'"
      ]
     },
     "execution_count": 2,
     "metadata": {},
     "output_type": "execute_result"
    }
   ],
   "source": [
    "device = 'cuda' if torch.cuda.is_available() else 'cpu'\n",
    "device"
   ]
  },
  {
   "cell_type": "code",
   "execution_count": 3,
   "metadata": {
    "id": "xyWROvE1JgeS"
   },
   "outputs": [],
   "source": [
    "a = torch.randn(10)\n",
    "b = a.to(device)"
   ]
  },
  {
   "cell_type": "code",
   "execution_count": 4,
   "metadata": {
    "id": "Ma_kF2jFNWi4"
   },
   "outputs": [],
   "source": [
    "# 同じデバイスにあるTensor同士しか演算できない\n",
    "# a + b"
   ]
  },
  {
   "cell_type": "code",
   "execution_count": 5,
   "metadata": {
    "colab": {
     "base_uri": "https://localhost:8080/"
    },
    "id": "NiUz3IOsNhHT",
    "outputId": "4f3bf9c2-9530-4709-b1d8-851324914bb9"
   },
   "outputs": [
    {
     "name": "stdout",
     "output_type": "stream",
     "text": [
      "Time taken on CPU: 35.83416 seconds\n",
      "Time taken on GPU: 3.53376 seconds\n"
     ]
    }
   ],
   "source": [
    "import torch\n",
    "import time\n",
    "\n",
    "# CPU上でTensorを作成\n",
    "tensor_cpu = torch.randn(10000, 10000)\n",
    "\n",
    "# GPU上でTensorを作成 (もしGPUが利用可能なら)\n",
    "device = \"cuda\" if torch.cuda.is_available() else \"cpu\"\n",
    "tensor_gpu = tensor_cpu.to(device)\n",
    "\n",
    "# CPU上での計算の時間を測定\n",
    "start_time = time.time()\n",
    "result_cpu = torch.mm(tensor_cpu, tensor_cpu)\n",
    "end_time = time.time()\n",
    "print(f\"Time taken on CPU: {end_time - start_time:.5f} seconds\")\n",
    "\n",
    "# GPU上での計算の時間を測定 (もしGPUが利用可能なら)\n",
    "if device == \"cuda\":\n",
    "    start_time = time.time()\n",
    "    result_gpu = torch.mm(tensor_gpu, tensor_gpu)\n",
    "    end_time = time.time()\n",
    "    print(f\"Time taken on GPU: {end_time - start_time:.5f} seconds\")"
   ]
  },
  {
   "cell_type": "markdown",
   "metadata": {
    "id": "iZWKjVeeODYL"
   },
   "source": [
    "### MNISTのMLP学習ループ"
   ]
  },
  {
   "cell_type": "code",
   "execution_count": 6,
   "metadata": {
    "id": "LnToIPjHOkL9"
   },
   "outputs": [],
   "source": [
    "import torch\n",
    "from sklearn import datasets\n",
    "import matplotlib.pyplot as plt\n",
    "from torch.nn import functional as F\n",
    "from sklearn.model_selection import train_test_split\n",
    "import numpy as np"
   ]
  },
  {
   "cell_type": "code",
   "execution_count": 7,
   "metadata": {
    "colab": {
     "base_uri": "https://localhost:8080/"
    },
    "id": "MfnWZAQNOeKj",
    "outputId": "a81e1366-cd4d-4aa4-c274-d7aa3250e9a3"
   },
   "outputs": [
    {
     "name": "stdout",
     "output_type": "stream",
     "text": [
      "epoch: 0: train error: 3.020025840650002, validation error: 7.395155429840088, validation accuracy: 0.6083333492279053, epoch duration 0.14 sec\n",
      "epoch: 1: train error: 0.6960858986712992, validation error: 5.725339412689209, validation accuracy: 0.6805555820465088, epoch duration 0.05 sec\n",
      "epoch: 2: train error: 0.39150557784887496, validation error: 5.293946266174316, validation accuracy: 0.699999988079071, epoch duration 0.06 sec\n",
      "epoch: 3: train error: 0.2570005700690672, validation error: 5.015928268432617, validation accuracy: 0.7138888835906982, epoch duration 0.05 sec\n",
      "epoch: 4: train error: 0.18378105639324835, validation error: 5.0969672203063965, validation accuracy: 0.7111111283302307, epoch duration 0.06 sec\n",
      "epoch: 5: train error: 0.1510870855029983, validation error: 4.842778205871582, validation accuracy: 0.7194444537162781, epoch duration 0.05 sec\n",
      "epoch: 6: train error: 0.1166465838032309, validation error: 5.3823347091674805, validation accuracy: 0.6916666626930237, epoch duration 0.05 sec\n",
      "epoch: 7: train error: 0.0903743436744359, validation error: 4.9071364402771, validation accuracy: 0.7222222685813904, epoch duration 0.05 sec\n",
      "epoch: 8: train error: 0.07160310241063901, validation error: 5.189634799957275, validation accuracy: 0.7055555582046509, epoch duration 0.06 sec\n",
      "epoch: 9: train error: 0.05805095784307923, validation error: 4.9181742668151855, validation accuracy: 0.7194444537162781, epoch duration 0.06 sec\n",
      "epoch: 10: train error: 0.044740918587194756, validation error: 4.95200252532959, validation accuracy: 0.7194444537162781, epoch duration 0.06 sec\n",
      "epoch: 11: train error: 0.037401498600956984, validation error: 5.148979663848877, validation accuracy: 0.7111111283302307, epoch duration 0.05 sec\n",
      "epoch: 12: train error: 0.03222172490980787, validation error: 4.840029716491699, validation accuracy: 0.7222222685813904, epoch duration 0.05 sec\n",
      "epoch: 13: train error: 0.02883915395553534, validation error: 4.936800479888916, validation accuracy: 0.7166666984558105, epoch duration 0.06 sec\n",
      "epoch: 14: train error: 0.024080384959233925, validation error: 4.961246967315674, validation accuracy: 0.7250000238418579, epoch duration 0.05 sec\n",
      "epoch: 15: train error: 0.021218222565948963, validation error: 4.996829032897949, validation accuracy: 0.7194444537162781, epoch duration 0.05 sec\n",
      "epoch: 16: train error: 0.018536178875365295, validation error: 5.027210712432861, validation accuracy: 0.7166666984558105, epoch duration 0.06 sec\n",
      "epoch: 17: train error: 0.016572794779979933, validation error: 4.877551555633545, validation accuracy: 0.7194444537162781, epoch duration 0.06 sec\n",
      "epoch: 18: train error: 0.015000861618318595, validation error: 4.890687465667725, validation accuracy: 0.7277777791023254, epoch duration 0.05 sec\n",
      "epoch: 19: train error: 0.013504246405015389, validation error: 4.990902423858643, validation accuracy: 0.7166666984558105, epoch duration 0.05 sec\n",
      "epoch: 20: train error: 0.012513294860885557, validation error: 4.8846049308776855, validation accuracy: 0.7250000238418579, epoch duration 0.06 sec\n",
      "epoch: 21: train error: 0.01168923707397577, validation error: 4.968888282775879, validation accuracy: 0.7250000238418579, epoch duration 0.06 sec\n",
      "epoch: 22: train error: 0.010586865646473598, validation error: 4.736789226531982, validation accuracy: 0.7305555939674377, epoch duration 0.05 sec\n",
      "epoch: 23: train error: 0.010451630089543565, validation error: 5.00929069519043, validation accuracy: 0.7194444537162781, epoch duration 0.05 sec\n",
      "epoch: 24: train error: 0.009794866447919048, validation error: 4.891635417938232, validation accuracy: 0.7305555939674377, epoch duration 0.06 sec\n",
      "epoch: 25: train error: 0.009187490454981647, validation error: 4.933020114898682, validation accuracy: 0.7250000238418579, epoch duration 0.05 sec\n",
      "epoch: 26: train error: 0.008828921733462872, validation error: 4.861624717712402, validation accuracy: 0.7305555939674377, epoch duration 0.05 sec\n",
      "epoch: 27: train error: 0.008360529893252533, validation error: 4.8749470710754395, validation accuracy: 0.7333333492279053, epoch duration 0.06 sec\n",
      "epoch: 28: train error: 0.00779694389833215, validation error: 5.00302267074585, validation accuracy: 0.7222222685813904, epoch duration 0.06 sec\n",
      "epoch: 29: train error: 0.007583156099523573, validation error: 4.980635643005371, validation accuracy: 0.7250000238418579, epoch duration 0.05 sec\n",
      "epoch: 30: train error: 0.007310058517759899, validation error: 4.869467258453369, validation accuracy: 0.7305555939674377, epoch duration 0.05 sec\n",
      "epoch: 31: train error: 0.006942367377632763, validation error: 4.906411647796631, validation accuracy: 0.7305555939674377, epoch duration 0.05 sec\n",
      "epoch: 32: train error: 0.0066965915442172745, validation error: 4.986347198486328, validation accuracy: 0.7222222685813904, epoch duration 0.06 sec\n",
      "epoch: 33: train error: 0.006530311403063631, validation error: 4.948108196258545, validation accuracy: 0.7277777791023254, epoch duration 0.05 sec\n",
      "epoch: 34: train error: 0.006286914892067823, validation error: 4.969814300537109, validation accuracy: 0.7277777791023254, epoch duration 0.06 sec\n",
      "epoch: 35: train error: 0.00607213313075287, validation error: 4.925098419189453, validation accuracy: 0.7277777791023254, epoch duration 0.05 sec\n",
      "epoch: 36: train error: 0.0059230029316192185, validation error: 4.85740327835083, validation accuracy: 0.7277777791023254, epoch duration 0.06 sec\n",
      "epoch: 37: train error: 0.00573979352338938, validation error: 4.924275875091553, validation accuracy: 0.7277777791023254, epoch duration 0.06 sec\n",
      "epoch: 38: train error: 0.005549274544440171, validation error: 4.925215721130371, validation accuracy: 0.7305555939674377, epoch duration 0.06 sec\n",
      "epoch: 39: train error: 0.005382808871218003, validation error: 4.918483734130859, validation accuracy: 0.7277777791023254, epoch duration 0.05 sec\n",
      "epoch: 40: train error: 0.0052516789528453955, validation error: 4.892230987548828, validation accuracy: 0.7250000238418579, epoch duration 0.05 sec\n",
      "epoch: 41: train error: 0.005101913722076763, validation error: 4.913106441497803, validation accuracy: 0.7250000238418579, epoch duration 0.05 sec\n",
      "epoch: 42: train error: 0.0049615476818871684, validation error: 4.899369239807129, validation accuracy: 0.7250000238418579, epoch duration 0.05 sec\n",
      "epoch: 43: train error: 0.004823818724010683, validation error: 4.893392562866211, validation accuracy: 0.7277777791023254, epoch duration 0.05 sec\n",
      "epoch: 44: train error: 0.004698298637473878, validation error: 4.933696746826172, validation accuracy: 0.7222222685813904, epoch duration 0.06 sec\n",
      "epoch: 45: train error: 0.004622407218751808, validation error: 4.9288811683654785, validation accuracy: 0.7277777791023254, epoch duration 0.06 sec\n",
      "epoch: 46: train error: 0.004508278053738953, validation error: 4.921637058258057, validation accuracy: 0.7277777791023254, epoch duration 0.06 sec\n",
      "epoch: 47: train error: 0.004435868312915166, validation error: 4.940959930419922, validation accuracy: 0.7222222685813904, epoch duration 0.06 sec\n",
      "epoch: 48: train error: 0.004300024670859178, validation error: 4.929256439208984, validation accuracy: 0.7277777791023254, epoch duration 0.06 sec\n",
      "epoch: 49: train error: 0.004206171820745415, validation error: 4.913178443908691, validation accuracy: 0.7277777791023254, epoch duration 0.05 sec\n",
      "epoch: 50: train error: 0.0041506803342296434, validation error: 4.9135661125183105, validation accuracy: 0.7250000238418579, epoch duration 0.06 sec\n",
      "epoch: 51: train error: 0.004055655854851163, validation error: 4.890461444854736, validation accuracy: 0.7277777791023254, epoch duration 0.05 sec\n",
      "epoch: 52: train error: 0.0039557785615519, validation error: 4.888705253601074, validation accuracy: 0.7277777791023254, epoch duration 0.06 sec\n",
      "epoch: 53: train error: 0.0038885778728096434, validation error: 4.840113162994385, validation accuracy: 0.7277777791023254, epoch duration 0.05 sec\n",
      "epoch: 54: train error: 0.0038299949859113744, validation error: 4.8836445808410645, validation accuracy: 0.7277777791023254, epoch duration 0.05 sec\n",
      "epoch: 55: train error: 0.003747047359259644, validation error: 4.846411228179932, validation accuracy: 0.7277777791023254, epoch duration 0.05 sec\n",
      "epoch: 56: train error: 0.0036817611835431308, validation error: 4.843921184539795, validation accuracy: 0.7277777791023254, epoch duration 0.06 sec\n",
      "epoch: 57: train error: 0.0036213903476891574, validation error: 4.857755184173584, validation accuracy: 0.7277777791023254, epoch duration 0.05 sec\n",
      "epoch: 58: train error: 0.003562993174758352, validation error: 4.838334560394287, validation accuracy: 0.7277777791023254, epoch duration 0.05 sec\n",
      "epoch: 59: train error: 0.003475379060546402, validation error: 4.868410587310791, validation accuracy: 0.7250000238418579, epoch duration 0.06 sec\n",
      "epoch: 60: train error: 0.0034299640343912565, validation error: 4.873692512512207, validation accuracy: 0.7277777791023254, epoch duration 0.20 sec\n",
      "epoch: 61: train error: 0.0033926387720081643, validation error: 4.85272216796875, validation accuracy: 0.7277777791023254, epoch duration 0.07 sec\n",
      "epoch: 62: train error: 0.0033306709762352207, validation error: 4.832621097564697, validation accuracy: 0.7277777791023254, epoch duration 0.05 sec\n",
      "epoch: 63: train error: 0.0032727383932069642, validation error: 4.83709192276001, validation accuracy: 0.7277777791023254, epoch duration 0.05 sec\n",
      "epoch: 64: train error: 0.003215472219987229, validation error: 4.844632625579834, validation accuracy: 0.7277777791023254, epoch duration 0.06 sec\n",
      "epoch: 65: train error: 0.0031582976365219415, validation error: 4.854542255401611, validation accuracy: 0.7277777791023254, epoch duration 0.07 sec\n",
      "epoch: 66: train error: 0.0031092298171036723, validation error: 4.848516941070557, validation accuracy: 0.7277777791023254, epoch duration 0.09 sec\n",
      "epoch: 67: train error: 0.003082392778499828, validation error: 4.825130462646484, validation accuracy: 0.7277777791023254, epoch duration 0.08 sec\n",
      "epoch: 68: train error: 0.0030352883992842785, validation error: 4.843833923339844, validation accuracy: 0.7277777791023254, epoch duration 0.07 sec\n",
      "epoch: 69: train error: 0.0029889863665933567, validation error: 4.836445331573486, validation accuracy: 0.7277777791023254, epoch duration 0.08 sec\n",
      "epoch: 70: train error: 0.002944851754970538, validation error: 4.80620813369751, validation accuracy: 0.7277777791023254, epoch duration 0.07 sec\n",
      "epoch: 71: train error: 0.0029026217422748837, validation error: 4.821165561676025, validation accuracy: 0.7277777791023254, epoch duration 0.07 sec\n",
      "epoch: 72: train error: 0.0028716755920565142, validation error: 4.82711935043335, validation accuracy: 0.7277777791023254, epoch duration 0.07 sec\n",
      "epoch: 73: train error: 0.002831830435752636, validation error: 4.816239356994629, validation accuracy: 0.7277777791023254, epoch duration 0.08 sec\n",
      "epoch: 74: train error: 0.002773029249510728, validation error: 4.840548038482666, validation accuracy: 0.7277777791023254, epoch duration 0.07 sec\n",
      "epoch: 75: train error: 0.0027681423525791615, validation error: 4.827733993530273, validation accuracy: 0.7305555939674377, epoch duration 0.07 sec\n",
      "epoch: 76: train error: 0.0027102614164202046, validation error: 4.81437349319458, validation accuracy: 0.7305555939674377, epoch duration 0.09 sec\n",
      "epoch: 77: train error: 0.00267957223210639, validation error: 4.798457145690918, validation accuracy: 0.7305555939674377, epoch duration 0.08 sec\n",
      "epoch: 78: train error: 0.002651399388317562, validation error: 4.795654296875, validation accuracy: 0.7305555939674377, epoch duration 0.07 sec\n",
      "epoch: 79: train error: 0.002613089178339578, validation error: 4.8142828941345215, validation accuracy: 0.7305555939674377, epoch duration 0.07 sec\n",
      "epoch: 80: train error: 0.002586788117090085, validation error: 4.808539390563965, validation accuracy: 0.7305555939674377, epoch duration 0.07 sec\n",
      "epoch: 81: train error: 0.0025508941271255026, validation error: 4.79243803024292, validation accuracy: 0.7305555939674377, epoch duration 0.07 sec\n",
      "epoch: 82: train error: 0.0025175938462780323, validation error: 4.792949199676514, validation accuracy: 0.7305555939674377, epoch duration 0.08 sec\n",
      "epoch: 83: train error: 0.0024856403179001063, validation error: 4.7956976890563965, validation accuracy: 0.7305555939674377, epoch duration 0.07 sec\n",
      "epoch: 84: train error: 0.0024650255266654617, validation error: 4.785678863525391, validation accuracy: 0.7305555939674377, epoch duration 0.07 sec\n",
      "epoch: 85: train error: 0.0024381360144616337, validation error: 4.7682366371154785, validation accuracy: 0.7305555939674377, epoch duration 0.08 sec\n",
      "epoch: 86: train error: 0.0024051861722303633, validation error: 4.79608678817749, validation accuracy: 0.7305555939674377, epoch duration 0.07 sec\n",
      "epoch: 87: train error: 0.002379279104692008, validation error: 4.799458980560303, validation accuracy: 0.7305555939674377, epoch duration 0.07 sec\n",
      "epoch: 88: train error: 0.0023556135020044167, validation error: 4.784946441650391, validation accuracy: 0.7305555939674377, epoch duration 0.08 sec\n",
      "epoch: 89: train error: 0.0023349009764691195, validation error: 4.786126613616943, validation accuracy: 0.7305555939674377, epoch duration 0.08 sec\n",
      "epoch: 90: train error: 0.0023062534140384137, validation error: 4.773189544677734, validation accuracy: 0.7305555939674377, epoch duration 0.08 sec\n",
      "epoch: 91: train error: 0.0022784898665122455, validation error: 4.779897212982178, validation accuracy: 0.7305555939674377, epoch duration 0.07 sec\n",
      "epoch: 92: train error: 0.002255593926141349, validation error: 4.779713153839111, validation accuracy: 0.7305555939674377, epoch duration 0.07 sec\n",
      "epoch: 93: train error: 0.0022318696980316113, validation error: 4.754591464996338, validation accuracy: 0.7305555939674377, epoch duration 0.07 sec\n",
      "epoch: 94: train error: 0.0022047568151416876, validation error: 4.74209451675415, validation accuracy: 0.7305555939674377, epoch duration 0.07 sec\n",
      "epoch: 95: train error: 0.0021900906055331384, validation error: 4.749579429626465, validation accuracy: 0.7305555939674377, epoch duration 0.07 sec\n",
      "epoch: 96: train error: 0.0021622089661832433, validation error: 4.776270866394043, validation accuracy: 0.7305555939674377, epoch duration 0.07 sec\n",
      "epoch: 97: train error: 0.0021475041212397628, validation error: 4.752918720245361, validation accuracy: 0.7305555939674377, epoch duration 0.07 sec\n",
      "epoch: 98: train error: 0.002124222605440688, validation error: 4.7606024742126465, validation accuracy: 0.7333333492279053, epoch duration 0.07 sec\n",
      "epoch: 99: train error: 0.002100466332194628, validation error: 4.767486572265625, validation accuracy: 0.7305555939674377, epoch duration 0.07 sec\n"
     ]
    }
   ],
   "source": [
    "device = 'cuda'\n",
    "# ======モデル======\n",
    "class Linear():\n",
    "    def __init__(self, in_features, out_features, n):\n",
    "        self.W = (torch.randn((out_features, in_features)) * torch.sqrt(torch.tensor(2.0 / n))).to(device)\n",
    "        self.W.requires_grad = True\n",
    "        self.b = torch.zeros((1, out_features)).to(device)\n",
    "        self.b.requires_grad = True\n",
    "\n",
    "    def forward(self, X):\n",
    "        self.X = X\n",
    "        self.Z = X @ self.W.T + self.b\n",
    "        return self.Z\n",
    "\n",
    "    def backward(self, Z):\n",
    "        self.W.grad_ = Z.grad_.T @ self.X\n",
    "        self.b.grad_ = torch.sum(Z.grad_, dim=0)\n",
    "        self.X.grad_ = Z.grad_ @ self.W\n",
    "        return self.X.grad_\n",
    "\n",
    "class ReLU():\n",
    "    def forward(self, X):\n",
    "        self.X = X\n",
    "        return X.clamp_min(0.)\n",
    "\n",
    "    def backward(self, A):\n",
    "        return A.grad_ * (self.X > 0).float()\n",
    "\n",
    "class SoftmaxCrossEntropy:\n",
    "    def forward(self, X, y):\n",
    "        e_x = torch.exp(X - torch.max(X, dim=-1, keepdim=True)[0])\n",
    "        self.softmax_out = e_x / (torch.sum(e_x, dim=-1, keepdim=True) + 1e-10)\n",
    "\n",
    "        log_probs = torch.log(self.softmax_out + 1e-10)\n",
    "        target_log_probs = log_probs * y\n",
    "\n",
    "        self.loss = -target_log_probs.sum(dim=-1).mean()\n",
    "        return self.loss\n",
    "\n",
    "    def backward(self, y):\n",
    "        return (self.softmax_out - y) / y.shape[0]\n",
    "\n",
    "class Model:\n",
    "    def __init__(self, input_features, hidden_units, output_units, data_num):\n",
    "        self.linear1 = Linear(input_features, hidden_units, data_num)\n",
    "        self.relu = ReLU()\n",
    "        self.linear2 = Linear(hidden_units, output_units, data_num)\n",
    "        self.loss_fn = SoftmaxCrossEntropy()\n",
    "\n",
    "    def forward(self, X, y):\n",
    "        self.X = X\n",
    "        self.Z1 = self.linear1.forward(X)\n",
    "        self.A1 = self.relu.forward(self.Z1)\n",
    "        self.Z2 = self.linear2.forward(self.A1)\n",
    "        self.loss = self.loss_fn.forward(self.Z2, y)\n",
    "        return self.loss, self.Z2\n",
    "\n",
    "    def backward(self, y):\n",
    "        self.Z2.grad_ = self.loss_fn.backward(y)\n",
    "        self.A1.grad_ = self.linear2.backward(self.Z2)\n",
    "        self.Z1.grad_ = self.relu.backward(self.A1)\n",
    "        self.X.grad_ = self.linear1.backward(self.Z1)\n",
    "\n",
    "    def zero_grad(self):\n",
    "        # 勾配の初期化\n",
    "        self.linear1.W.grad_ = None\n",
    "        self.linear1.b.grad_ = None\n",
    "        self.linear2.W.grad_ = None\n",
    "        self.linear2.b.grad_ = None\n",
    "\n",
    "    def step(self, learning_rate):\n",
    "        # パラメータの更新\n",
    "        self.linear1.W -= learning_rate * self.linear1.W.grad_\n",
    "        self.linear1.b -= learning_rate * self.linear1.b.grad_\n",
    "        self.linear2.W -= learning_rate * self.linear2.W.grad_\n",
    "        self.linear2.b -= learning_rate * self.linear2.b.grad_\n",
    "\n",
    "## Refactoring後の学習ループ(OptimizerやDataset, Dataloaderは後ほどRefactoring)\n",
    "# ===データの準備====\n",
    "dataset = datasets.load_digits()\n",
    "data = dataset['data']\n",
    "target = dataset['target']\n",
    "images = dataset['images']\n",
    "X_train, X_val, y_train, y_val = train_test_split(images, target, test_size=0.2, random_state=42)\n",
    "X_train_mean = X_train.mean()\n",
    "X_train_std = X_train.std()\n",
    "X_train = (X_train - X_train_mean) / X_train_std\n",
    "X_val = (X_val - X_train_mean) / X_train_std\n",
    "X_train = torch.tensor(X_train.reshape(-1, 64), dtype=torch.float32).to(device)\n",
    "X_val = torch.tensor(X_val.reshape(-1, 64), dtype=torch.float32).to(device)\n",
    "y_train = F.one_hot(torch.tensor(y_train), num_classes=10).to(device) #1437 x 10\n",
    "y_val = F.one_hot(torch.tensor(y_val), num_classes=10).to(device) # 360 x 10\n",
    "batch_size = 30\n",
    "# モデルの初期化\n",
    "model = Model(input_features=64, hidden_units=1000, output_units=10, data_num=batch_size)\n",
    "\n",
    "learning_rate = 0.01\n",
    "\n",
    "# ログ\n",
    "train_losses = []\n",
    "val_losses = []\n",
    "val_accuracies = []\n",
    "for epoch in range(100):\n",
    "    # エポック毎にデータをシャッフル\n",
    "    shuffled_indices = np.random.permutation(len(y_train))\n",
    "    num_batches = np.ceil(len(y_train)/batch_size).astype(int)\n",
    "    running_loss = 0.0\n",
    "    start_time = time.time()\n",
    "\n",
    "    for i in range(num_batches):\n",
    "\n",
    "        # mini batch作成\n",
    "        start = i * batch_size\n",
    "        end = start + batch_size\n",
    "\n",
    "        batch_indices = shuffled_indices[start:end]\n",
    "        y_true_ = y_train[batch_indices, :] # batch_size x 10\n",
    "\n",
    "        X = X_train[batch_indices] # batch_size x 64\n",
    "        # 順伝播と逆伝播の計算\n",
    "        loss, _ = model.forward(X, y_true_)\n",
    "        model.backward(y_true_)\n",
    "        running_loss += loss.item()\n",
    "\n",
    "        # パラメータ更新\n",
    "        with torch.no_grad():\n",
    "            model.step(learning_rate)\n",
    "\n",
    "        model.zero_grad()\n",
    "\n",
    "    # validation\n",
    "    with torch.no_grad():\n",
    "        val_loss, Z2_val = model.forward(X_val, y_val)\n",
    "\n",
    "        val_accuracy = torch.sum(torch.argmax(Z2_val, dim=-1) == torch.argmax(y_val, dim=-1)) / y_val.shape[0]\n",
    "\n",
    "    train_losses.append(running_loss/num_batches)\n",
    "    val_losses.append(val_loss.item())\n",
    "    val_accuracies.append(val_accuracy)\n",
    "    end_time = time.time()\n",
    "    epoch_duration = end_time - start_time\n",
    "    print(f'epoch: {epoch}: train error: {running_loss/num_batches}, validation error: {val_loss.item()}, validation accuracy: {val_accuracy}, epoch duration {epoch_duration:.2f} sec')"
   ]
  },
  {
   "cell_type": "code",
   "execution_count": 7,
   "metadata": {
    "id": "V01APLi1Ooi5"
   },
   "outputs": [],
   "source": []
  }
 ],
 "metadata": {
  "accelerator": "GPU",
  "colab": {
   "gpuType": "T4",
   "provenance": []
  },
  "kernelspec": {
   "display_name": "Python 3 (ipykernel)",
   "language": "python",
   "name": "python3"
  },
  "language_info": {
   "codemirror_mode": {
    "name": "ipython",
    "version": 3
   },
   "file_extension": ".py",
   "mimetype": "text/x-python",
   "name": "python",
   "nbconvert_exporter": "python",
   "pygments_lexer": "ipython3",
   "version": "3.8.18"
  }
 },
 "nbformat": 4,
 "nbformat_minor": 4
}
