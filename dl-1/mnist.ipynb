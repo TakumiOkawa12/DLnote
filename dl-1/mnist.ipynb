{
 "cells": [
  {
   "cell_type": "markdown",
   "id": "3ce2782a-c23d-47f9-8398-87d1b32ee450",
   "metadata": {},
   "source": [
    "# mnistで多クラス分類"
   ]
  },
  {
   "cell_type": "code",
   "execution_count": 27,
   "id": "1832c2fe-20e6-4cf5-b4a6-16fed1ac1d12",
   "metadata": {},
   "outputs": [],
   "source": [
    "# ライブラリインストール\n",
    "import pandas as pd\n",
    "import numpy as np\n",
    "import matplotlib.pyplot as plt\n",
    "import torch\n",
    "from sklearn import datasets\n",
    "import torch.nn.functional as F\n",
    "from sklearn.preprocessing import StandardScaler\n",
    "from sklearn.model_selection import train_test_split"
   ]
  },
  {
   "cell_type": "code",
   "execution_count": 5,
   "id": "1b43f1e5-9d30-4069-82bb-be74b795485c",
   "metadata": {},
   "outputs": [],
   "source": [
    "# データロード\n",
    "dataset = datasets.load_digits()"
   ]
  },
  {
   "cell_type": "code",
   "execution_count": 6,
   "id": "2f032881-b9e6-459b-887c-2c053627ea2a",
   "metadata": {},
   "outputs": [],
   "source": [
    "# 前処理\n",
    "target = torch.tensor(dataset['target'])\n",
    "target = F.one_hot(target, num_classes = 10)\n",
    "scaler = StandardScaler()\n",
    "images = torch.tensor(scaler.fit_transform(dataset['images'].reshape(-1, 64)), dtype = torch.float32)"
   ]
  },
  {
   "cell_type": "code",
   "execution_count": 4,
   "id": "286e1117-ac8c-4501-825c-1a7e81d71ee2",
   "metadata": {},
   "outputs": [],
   "source": [
    "# パラメータ初期化\n",
    "W = torch.rand((10, 64), requires_grad = True)\n",
    "b = torch.rand((1, 10), requires_grad = True)"
   ]
  },
  {
   "cell_type": "code",
   "execution_count": 9,
   "id": "84ac0766-396b-4e5e-ab3a-ff98dd3701bc",
   "metadata": {},
   "outputs": [
    {
     "data": {
      "text/plain": [
       "tensor([[0.0067, 0.0498, 1.0000],\n",
       "        [0.0025, 0.0183, 1.0000]])"
      ]
     },
     "execution_count": 9,
     "metadata": {},
     "output_type": "execute_result"
    }
   ],
   "source": [
    "x = torch.tensor([[1, 3, 6],\n",
    "                  [2, 4, 8]])\n",
    "e_x = torch.exp(x - torch.max(x, dim = 1, keepdim = True)[0])\n",
    "e_x"
   ]
  },
  {
   "cell_type": "code",
   "execution_count": 12,
   "id": "07e78d8f-45bf-45a4-b978-fef4d1e36c03",
   "metadata": {},
   "outputs": [
    {
     "data": {
      "text/plain": [
       "torch.return_types.max(\n",
       "values=tensor([[6],\n",
       "        [8]]),\n",
       "indices=tensor([[2],\n",
       "        [2]]))"
      ]
     },
     "execution_count": 12,
     "metadata": {},
     "output_type": "execute_result"
    }
   ],
   "source": [
    "torch.max(x, dim = 1, keepdim = True)"
   ]
  },
  {
   "cell_type": "code",
   "execution_count": 35,
   "id": "03e17a2d-905d-452f-9e44-709abe63b565",
   "metadata": {},
   "outputs": [
    {
     "data": {
      "text/plain": [
       "tensor([[1.0565],\n",
       "        [1.0208]])"
      ]
     },
     "execution_count": 35,
     "metadata": {},
     "output_type": "execute_result"
    }
   ],
   "source": [
    "torch.sum(e_x, dim = 1, keepdim = True)"
   ]
  },
  {
   "cell_type": "code",
   "execution_count": 49,
   "id": "7f16a413-8150-47b8-b54d-c266f0d34f0e",
   "metadata": {},
   "outputs": [
    {
     "data": {
      "text/plain": [
       "tensor(2.0378)"
      ]
     },
     "execution_count": 49,
     "metadata": {},
     "output_type": "execute_result"
    }
   ],
   "source": [
    "y_pred = e_x / torch.sum(e_x, dim = 1, keepdim = True)\n",
    "y_true = torch.tensor([[0, 0, 1],\n",
    "                      [0, 1, 0]])\n",
    "- torch.sum(y_true * torch.log(y_pred + 1e-10)) / y_pred.shape[0]"
   ]
  },
  {
   "cell_type": "code",
   "execution_count": 52,
   "id": "0eca0d03-a884-4ba2-9a70-05edfd13ddea",
   "metadata": {},
   "outputs": [],
   "source": [
    "# softmax関数\n",
    "def softmax(x):\n",
    "    e_x = torch.exp(x - torch.max(x, dim = 1, keepdim = True)[0])\n",
    "    y_pred = e_x / (torch.sum(e_x, dim = 1, keepdim = True) + 1e-10)\n",
    "    return y_pred"
   ]
  },
  {
   "cell_type": "code",
   "execution_count": 53,
   "id": "bef8554f-8f72-4231-bf57-5750086d8b57",
   "metadata": {},
   "outputs": [],
   "source": [
    "# 損失関数定義\n",
    "def cross_entropy(y_true, y_pred):\n",
    "    loss = - torch.sum(y_true * torch.log(y_pred + 1e-10)) / y_pred.shape[0]\n",
    "    return loss"
   ]
  },
  {
   "cell_type": "code",
   "execution_count": 14,
   "id": "6bed6fcb-4bc5-4022-aca6-83599bd649e0",
   "metadata": {},
   "outputs": [
    {
     "data": {
      "text/plain": [
       "torch.Size([1, 64])"
      ]
     },
     "execution_count": 14,
     "metadata": {},
     "output_type": "execute_result"
    }
   ],
   "source": [
    "images[0].reshape(-1, 64).shape"
   ]
  },
  {
   "cell_type": "code",
   "execution_count": 15,
   "id": "be4fd8a0-303a-452f-bdf5-ad1955e53ee0",
   "metadata": {},
   "outputs": [
    {
     "data": {
      "text/plain": [
       "torch.Size([1, 10])"
      ]
     },
     "execution_count": 15,
     "metadata": {},
     "output_type": "execute_result"
    }
   ],
   "source": [
    "target[0].reshape(-1, 10).shape"
   ]
  },
  {
   "cell_type": "code",
   "execution_count": 19,
   "id": "d88400fe-1f96-43d0-be68-8e30c97ce7d2",
   "metadata": {},
   "outputs": [
    {
     "data": {
      "text/plain": [
       "torch.Size([10])"
      ]
     },
     "execution_count": 19,
     "metadata": {},
     "output_type": "execute_result"
    }
   ],
   "source": [
    "target[0].shape"
   ]
  },
  {
   "cell_type": "code",
   "execution_count": 54,
   "id": "8447e555-7ac7-4aa9-9632-fb766e24e94c",
   "metadata": {},
   "outputs": [
    {
     "name": "stdout",
     "output_type": "stream",
     "text": [
      "epoch : 1 : 0.4095512822945395\n",
      "epoch : 2 : 0.1532479661685408\n",
      "epoch : 3 : 0.11708136296499787\n",
      "epoch : 4 : 0.08782764171458174\n",
      "epoch : 5 : 0.07730825345970813\n"
     ]
    }
   ],
   "source": [
    "loss_log = []\n",
    "learning_rate = 0.03\n",
    "\n",
    "for epoch in range(5):\n",
    "    running_loss = 0\n",
    "    for i in range(len(images)):\n",
    "        # 多項ロジスティック回帰計算\n",
    "        X = images[i].reshape(-1, 64)\n",
    "        z = X @ W.T + b\n",
    "        # softmax\n",
    "        y_pred = softmax(z)\n",
    "        # cross entropy\n",
    "        loss = cross_entropy(target[i].reshape(-1, 10), y_pred)\n",
    "        loss_log.append(loss)\n",
    "        # 1エポック分の損失を加算してる\n",
    "        running_loss += loss.item()\n",
    "\n",
    "        #勾配計算\n",
    "        loss.backward()\n",
    "        # パラメータ更新\n",
    "        with torch.no_grad():\n",
    "            W -= learning_rate * W.grad\n",
    "            b -= learning_rate * b.grad\n",
    "        # 勾配初期化\n",
    "        W.grad.zero_()\n",
    "        b.grad.zero_()\n",
    "    # 損失ログ出力\n",
    "    print(f'epoch : {epoch + 1} : {running_loss / len(target)}') # この割り算は1エポック合計の損失をデータ数で割ってる → 損失の平均"
   ]
  },
  {
   "cell_type": "code",
   "execution_count": 28,
   "id": "5b89e890-538f-4cb8-b7cf-93985a7ff156",
   "metadata": {},
   "outputs": [
    {
     "data": {
      "text/plain": [
       "-0.0"
      ]
     },
     "execution_count": 28,
     "metadata": {},
     "output_type": "execute_result"
    }
   ],
   "source": [
    "loss_log[0].item()"
   ]
  },
  {
   "cell_type": "code",
   "execution_count": 25,
   "id": "4608d2ab-3ea2-4dfa-851e-ada31aad3fdd",
   "metadata": {},
   "outputs": [
    {
     "data": {
      "text/plain": [
       "<matplotlib.image.AxesImage at 0x7ffefd369100>"
      ]
     },
     "execution_count": 25,
     "metadata": {},
     "output_type": "execute_result"
    },
    {
     "data": {
      "image/png": "[encoded data removed]",
      "text/plain": [
       "<Figure size 640x480 with 1 Axes>"
      ]
     },
     "metadata": {},
     "output_type": "display_data"
    }
   ],
   "source": [
    "plt.imshow(dataset['images'][0], cmap = 'gray')"
   ]
  },
  {
   "cell_type": "code",
   "execution_count": 44,
   "id": "2e6102f2-ece6-402a-9717-72af66607dc6",
   "metadata": {},
   "outputs": [
    {
     "data": {
      "text/plain": [
       "torch.Size([1797, 64])"
      ]
     },
     "execution_count": 44,
     "metadata": {},
     "output_type": "execute_result"
    }
   ],
   "source": [
    "scaled_images.shape"
   ]
  },
  {
   "cell_type": "code",
   "execution_count": 45,
   "id": "c4f50242-f1b2-46e9-b13c-3a80e7944ab0",
   "metadata": {},
   "outputs": [
    {
     "data": {
      "text/plain": [
       "torch.Size([64, 10])"
      ]
     },
     "execution_count": 45,
     "metadata": {},
     "output_type": "execute_result"
    }
   ],
   "source": [
    "w.T.shape"
   ]
  },
  {
   "cell_type": "markdown",
   "id": "b0d43091-5dc9-4b43-b265-4b80c29d4588",
   "metadata": {},
   "source": [
    "### 答え"
   ]
  },
  {
   "cell_type": "code",
   "execution_count": 94,
   "id": "0f70a486-470e-4fd0-bc2b-37f011e81453",
   "metadata": {},
   "outputs": [],
   "source": [
    "# 1.データロード\n",
    "dataset = datasets.load_digits()\n",
    "images = dataset['images']\n",
    "target = dataset['target']"
   ]
  },
  {
   "cell_type": "code",
   "execution_count": 95,
   "id": "1867b29b-09bd-45c9-b505-626cb7d1dcc3",
   "metadata": {},
   "outputs": [],
   "source": [
    "# 2.前処理\n",
    "y_true = F.one_hot(torch.tensor(target), num_classes = 10)\n",
    "images = torch.tensor(images, dtype = torch.float32).reshape(-1, 64) # np.arrayはfloat６４がデフォルト\n",
    "\n",
    "images = (images - images.mean()) / images.std()"
   ]
  },
  {
   "cell_type": "code",
   "execution_count": 96,
   "id": "abae4364-3003-402f-b241-a3eed50b126a",
   "metadata": {},
   "outputs": [],
   "source": [
    "learn_rate = 0.03\n",
    "loss_log = []"
   ]
  },
  {
   "cell_type": "code",
   "execution_count": 97,
   "id": "42d64a6b-e582-477c-af79-f0b5c29034a0",
   "metadata": {},
   "outputs": [
    {
     "data": {
      "text/plain": [
       "torch.Size([1797, 64])"
      ]
     },
     "execution_count": 97,
     "metadata": {},
     "output_type": "execute_result"
    }
   ],
   "source": [
    "images.shape"
   ]
  },
  {
   "cell_type": "code",
   "execution_count": 98,
   "id": "9ec53091-aa2d-4f54-b886-262f83dcd917",
   "metadata": {},
   "outputs": [],
   "source": [
    "# 3.パラメータの初期化\n",
    "W = torch.rand((10, 64), requires_grad = True)\n",
    "b = torch.rand((1, 10), requires_grad = True)"
   ]
  },
  {
   "cell_type": "code",
   "execution_count": 99,
   "id": "0e5df53a-d98b-4a0e-973c-2b0f35219668",
   "metadata": {},
   "outputs": [],
   "source": [
    "# 4.softmax\n",
    "def softmax(x):\n",
    "    e_x = torch.exp(x - torch.max(x, dim = -1, keepdim = True)[0]) # e_xのshapeは(1797, 10)\n",
    "    y_pred = e_x / (torch.sum(e_x, dim = -1, keepdim = True) + 1e-10)\n",
    "    return y_pred"
   ]
  },
  {
   "cell_type": "code",
   "execution_count": 100,
   "id": "7aea1041-f7e4-4bb2-be87-333e06b472a2",
   "metadata": {},
   "outputs": [],
   "source": [
    "# 5.cross entropy\n",
    "def cross_entropy(y_true, y_pred):\n",
    "    l = - torch.sum(y_true * torch.log(y_pred + 1e-10)) / y_true.shape[0]\n",
    "    return l"
   ]
  },
  {
   "cell_type": "code",
   "execution_count": 101,
   "id": "50ac93e5-9add-4ba0-b4cf-80ad32befd4e",
   "metadata": {},
   "outputs": [
    {
     "name": "stdout",
     "output_type": "stream",
     "text": [
      "epoch : 1 : 2.4602985846445704\n",
      "epoch : 2 : 2.3239446291342403\n",
      "epoch : 3 : 2.3116859926670608\n",
      "epoch : 4 : 2.3076557160485236\n",
      "epoch : 5 : 2.305820981595141\n"
     ]
    }
   ],
   "source": [
    "for epoch in range(5):\n",
    "    running_loss = 0\n",
    "    for i in range(len(target)):\n",
    "        # 6.入力データxおよび教師ラベルのyを作成\n",
    "        y_true_ = y_true[i].reshape(-1, 10) # データ数✖️クラス数\n",
    "        X = images[i].reshape(-1, 64) # データ数✖️特徴量数\n",
    "\n",
    "        # 7. z計算\n",
    "        z = X@W.T + b\n",
    "\n",
    "        # 8. softmaxで予測計算\n",
    "        y_pred = softmax(z)\n",
    "\n",
    "        # 9.損失計算\n",
    "        loss = cross_entropy(y_true, y_pred)\n",
    "        loss_log.append(loss.item())\n",
    "        running_loss += loss.item()\n",
    "\n",
    "        # 10.勾配計算\n",
    "        loss.backward()\n",
    "\n",
    "        # 11.パラメータ更新\n",
    "        with torch.no_grad():\n",
    "            W -= learn_rate * W.grad\n",
    "            b -= learn_rate * b .grad\n",
    "\n",
    "        # 12.勾配初期化\n",
    "        W.grad.zero_()\n",
    "        b.grad.zero_()\n",
    "\n",
    "        # 13.損失ログ出力\n",
    "    print(f'epoch : {epoch + 1} : {running_loss / len(target)}')"
   ]
  },
  {
   "cell_type": "code",
   "execution_count": null,
   "id": "c2dea68f-61c8-47bc-b418-065ba168b6d0",
   "metadata": {},
   "outputs": [],
   "source": []
  },
  {
   "cell_type": "markdown",
   "id": "635b1383-eb7c-4d97-84e1-b6d9e607a575",
   "metadata": {},
   "source": [
    "## 多項ロジスティック回帰をミニバッチ学習"
   ]
  },
  {
   "cell_type": "code",
   "execution_count": 17,
   "id": "c13ef2cb-a272-47a6-92d1-ce1925ac7f18",
   "metadata": {},
   "outputs": [
    {
     "data": {
      "text/plain": [
       "array([1722,  679,  143, 1609, 1382,  669,  482, 1027, 1247,  322,   40,\n",
       "        261, 1665, 1324,  347,  808,   14, 1793, 1238,  540,  823, 1070,\n",
       "       1179,  155,  682,  497,  580,  242,  238, 1762])"
      ]
     },
     "execution_count": 17,
     "metadata": {},
     "output_type": "execute_result"
    }
   ],
   "source": [
    "np.random.permutation(list(range(len(target))))[:30]"
   ]
  },
  {
   "cell_type": "code",
   "execution_count": 8,
   "id": "3ae8de73-7eab-40d0-9a6d-ab917efb0b92",
   "metadata": {},
   "outputs": [
    {
     "data": {
      "text/plain": [
       "torch.Size([1797, 10])"
      ]
     },
     "execution_count": 8,
     "metadata": {},
     "output_type": "execute_result"
    }
   ],
   "source": [
    "target.shape"
   ]
  },
  {
   "cell_type": "code",
   "execution_count": 9,
   "id": "a663e389-74b9-4e16-a49d-f13354910716",
   "metadata": {},
   "outputs": [
    {
     "data": {
      "text/plain": [
       "torch.Size([1797, 64])"
      ]
     },
     "execution_count": 9,
     "metadata": {},
     "output_type": "execute_result"
    }
   ],
   "source": [
    "images.shape"
   ]
  },
  {
   "cell_type": "code",
   "execution_count": 18,
   "id": "33142f31-fd16-4975-9b40-f3574ed4a15c",
   "metadata": {},
   "outputs": [],
   "source": [
    "# パラメータの初期化\n",
    "W = torch.rand((10, 64), requires_grad = True)\n",
    "b = torch.rand((1, 10), requires_grad = True)"
   ]
  },
  {
   "cell_type": "code",
   "execution_count": 19,
   "id": "0c91cfad-b169-4471-a095-ed22659e1863",
   "metadata": {},
   "outputs": [],
   "source": [
    "# softmax\n",
    "def softmax(x):\n",
    "    e_x = torch.exp(x - torch.max(x, dim = 1, keepdim = True)[0])\n",
    "    y_pred = e_x / (torch.sum(e_x, dim = 1, keepdim = True) + 1e-10)\n",
    "    return y_pred"
   ]
  },
  {
   "cell_type": "code",
   "execution_count": 20,
   "id": "69e23a27-8899-4b1f-aa44-451b8fc7d20f",
   "metadata": {},
   "outputs": [],
   "source": [
    "def loss(y_true, y_pred):\n",
    "    l = - torch.sum(y_true * torch.log(y_pred + 1e-10)) / y_true.shape[0]\n",
    "    return l"
   ]
  },
  {
   "cell_type": "code",
   "execution_count": 21,
   "id": "93395bcb-8150-4e88-80b1-8906eb86c4f0",
   "metadata": {},
   "outputs": [
    {
     "data": {
      "text/plain": [
       "torch.Size([30, 64])"
      ]
     },
     "execution_count": 21,
     "metadata": {},
     "output_type": "execute_result"
    }
   ],
   "source": [
    "images[0:30].shape"
   ]
  },
  {
   "cell_type": "code",
   "execution_count": 22,
   "id": "0d82c21f-9f77-44b0-bb3d-85184ede6e93",
   "metadata": {},
   "outputs": [],
   "source": [
    "learning_rate = 0.03\n",
    "loss_log = []\n",
    "batch_size = 30\n",
    "num_batches = np.ceil(len(target) / batch_size).astype(int)"
   ]
  },
  {
   "cell_type": "code",
   "execution_count": 24,
   "id": "2d8b3ae7-8c42-42f6-a91c-a61426748428",
   "metadata": {},
   "outputs": [
    {
     "name": "stdout",
     "output_type": "stream",
     "text": [
      "epoch1 : 0.37440305948257446\n",
      "epoch2 : 0.33568188548088074\n",
      "epoch3 : 0.30358436703681946\n",
      "epoch4 : 0.28025612235069275\n",
      "epoch5 : 0.261054664850235\n"
     ]
    }
   ],
   "source": [
    "for epoch in range(5):\n",
    "    running_loss = 0\n",
    "    s = 0\n",
    "    index_list = np.random.permutation(list(range(len(target))))\n",
    "    for i in range(batch_size, len(target), batch_size):\n",
    "        bach_indices = index_list[s:i]\n",
    "        x = images[bach_indices, :]\n",
    "        # 線形演算\n",
    "        z = x @ W.T + b\n",
    "        # 確率値に変換\n",
    "        p = softmax(z)\n",
    "        # 損失計算\n",
    "        l = loss(target[bach_indices, :], p)\n",
    "        loss_log.append(l)\n",
    "        running_loss += l\n",
    "        # 勾配計算\n",
    "        l.backward()\n",
    "        # 勾配更新\n",
    "        with torch.no_grad():\n",
    "            W -= learning_rate * W.grad\n",
    "            b -= learning_rate * b.grad\n",
    "        # 勾配初期化委\n",
    "        W.grad.zero_()\n",
    "        b.grad.zero_()\n",
    "        \n",
    "        s = i\n",
    "    # 損失ログ出力\n",
    "    print(f\"epoch{epoch + 1} : {running_loss / num_batches}\")"
   ]
  },
  {
   "cell_type": "code",
   "execution_count": 25,
   "id": "d6eae1ad-34e2-4a50-af70-07ca21255bb4",
   "metadata": {},
   "outputs": [
    {
     "data": {
      "text/plain": [
       "tensor([], size=(0, 64))"
      ]
     },
     "execution_count": 25,
     "metadata": {},
     "output_type": "execute_result"
    }
   ],
   "source": [
    "images[index_list[s:i]]"
   ]
  },
  {
   "cell_type": "code",
   "execution_count": 26,
   "id": "30b01c52-270c-4cde-ba3d-7c2e0a8e8388",
   "metadata": {},
   "outputs": [
    {
     "data": {
      "text/plain": [
       "tensor([[ 0.0000, -0.3350, -0.6742,  ...,  1.3962,  0.7170, -0.1960],\n",
       "        [ 0.0000, -0.3350,  0.7984,  ..., -1.1466, -0.5057, -0.1960],\n",
       "        [ 0.0000, -0.3350, -0.8846,  ..., -0.4686, -0.5057, -0.1960],\n",
       "        ...,\n",
       "        [ 0.0000, -0.3350, -1.0949,  ..., -0.4686, -0.5057, -0.1960],\n",
       "        [ 0.0000, -0.3350,  1.2191,  ...,  1.5657,  3.4069,  2.4927],\n",
       "        [ 0.0000, -0.3350, -0.8846,  ..., -1.1466, -0.5057, -0.1960]])"
      ]
     },
     "execution_count": 26,
     "metadata": {},
     "output_type": "execute_result"
    }
   ],
   "source": [
    "images[index_list[0:30], :]"
   ]
  },
  {
   "cell_type": "code",
   "execution_count": 50,
   "id": "23fdf2dc-2b86-460a-95e1-0818a5dbe754",
   "metadata": {},
   "outputs": [
    {
     "data": {
      "text/plain": [
       "60"
      ]
     },
     "execution_count": 50,
     "metadata": {},
     "output_type": "execute_result"
    }
   ],
   "source": [
    "batch_size = 30\n",
    "num_batches = np.ceil(len(target) / batch_size).astype(int)\n",
    "num_batches"
   ]
  },
  {
   "cell_type": "markdown",
   "id": "e704f297-aa75-4f18-8fb8-3d5242d4f5e7",
   "metadata": {},
   "source": [
    "## 学習データと検証データに分ける"
   ]
  },
  {
   "cell_type": "code",
   "execution_count": 68,
   "id": "ad1dfe1f-6240-4312-9684-8821118cd489",
   "metadata": {},
   "outputs": [],
   "source": [
    "# 4. softmaxとcross entropy\n",
    "def softmax(x):\n",
    "    e_x = torch.exp(x - torch.max(x, dim=-1, keepdim=True)[0])\n",
    "    return e_x / (torch.sum(e_x, dim=-1, keepdim=True) + 1e-10)\n",
    "\n",
    "def cross_entropy(y_true, y_pred):\n",
    "    return -torch.sum(y_true * torch.log(y_pred + 1e-10)) / y_true.shape[0]"
   ]
  },
  {
   "cell_type": "code",
   "execution_count": 81,
   "id": "7ec4fa71-bf3a-47ca-89b5-113d8b9983a3",
   "metadata": {},
   "outputs": [
    {
     "name": "stdout",
     "output_type": "stream",
     "text": [
      "epoch1 : train loss:2.579382598400116, val loss: 20.477012634277344, val_accuracy: 0.10833333432674408\n",
      "epoch2 : train loss:1.3546452261507511, val loss: 20.457937240600586, val_accuracy: 0.10833333432674408\n",
      "epoch3 : train loss:0.9165204341212908, val loss: 20.438894271850586, val_accuracy: 0.10833333432674408\n",
      "epoch4 : train loss:0.7016629955420891, val loss: 20.418304443359375, val_accuracy: 0.10833333432674408\n",
      "epoch5 : train loss:0.5722138111790022, val loss: 20.392683029174805, val_accuracy: 0.10833333432674408\n",
      "epoch6 : train loss:0.48284728545695543, val loss: 20.359560012817383, val_accuracy: 0.10833333432674408\n",
      "epoch7 : train loss:0.4187846854329109, val loss: 20.309837341308594, val_accuracy: 0.10833333432674408\n",
      "epoch8 : train loss:0.370621367978553, val loss: 20.25441551208496, val_accuracy: 0.10833333432674408\n",
      "epoch9 : train loss:0.33438802510499954, val loss: 20.17575454711914, val_accuracy: 0.10833333432674408\n",
      "epoch10 : train loss:0.30523018119856715, val loss: 20.09401512145996, val_accuracy: 0.10833333432674408\n",
      "epoch11 : train loss:0.2826903924966852, val loss: 20.019208908081055, val_accuracy: 0.10833333432674408\n",
      "epoch12 : train loss:0.2638762779533863, val loss: 20.008831024169922, val_accuracy: 0.10833333432674408\n",
      "epoch13 : train loss:0.24834851905082664, val loss: 19.93175506591797, val_accuracy: 0.10833333432674408\n",
      "epoch14 : train loss:0.23496695142239332, val loss: 19.911645889282227, val_accuracy: 0.10833333432674408\n",
      "epoch15 : train loss:0.22295052201176682, val loss: 19.8591251373291, val_accuracy: 0.10833333432674408\n",
      "epoch16 : train loss:0.21292249501372376, val loss: 19.83867645263672, val_accuracy: 0.10833333432674408\n",
      "epoch17 : train loss:0.2038488069859644, val loss: 19.809688568115234, val_accuracy: 0.10833333432674408\n",
      "epoch18 : train loss:0.19578110232638815, val loss: 19.79003143310547, val_accuracy: 0.10555555671453476\n",
      "epoch19 : train loss:0.1889882975568374, val loss: 19.751201629638672, val_accuracy: 0.10555555671453476\n",
      "epoch20 : train loss:0.182101183415701, val loss: 19.761943817138672, val_accuracy: 0.10555555671453476\n",
      "epoch21 : train loss:0.17642933875322342, val loss: 19.75101089477539, val_accuracy: 0.10555555671453476\n",
      "epoch22 : train loss:0.1707796500219653, val loss: 19.72995948791504, val_accuracy: 0.10555555671453476\n",
      "epoch23 : train loss:0.16585806609752277, val loss: 19.73232650756836, val_accuracy: 0.10555555671453476\n",
      "epoch24 : train loss:0.1608095744935175, val loss: 19.7187442779541, val_accuracy: 0.10555555671453476\n",
      "epoch25 : train loss:0.1570126487252613, val loss: 19.71645164489746, val_accuracy: 0.10555555671453476\n",
      "epoch26 : train loss:0.15265790442936122, val loss: 19.70392608642578, val_accuracy: 0.10555555671453476\n",
      "epoch27 : train loss:0.14884191875656447, val loss: 19.69670867919922, val_accuracy: 0.10555555671453476\n",
      "epoch28 : train loss:0.14543341162304083, val loss: 19.688154220581055, val_accuracy: 0.10555555671453476\n",
      "epoch29 : train loss:0.14242188399657607, val loss: 19.682695388793945, val_accuracy: 0.10555555671453476\n",
      "epoch30 : train loss:0.1391733983376374, val loss: 19.67755889892578, val_accuracy: 0.10555555671453476\n"
     ]
    }
   ],
   "source": [
    "# データロード\n",
    "dataset = datasets.load_digits()\n",
    "# 前処理\n",
    "target = torch.tensor(dataset['target'])\n",
    "target = F.one_hot(target, num_classes = 10)\n",
    "images = torch.tensor(dataset['images']).reshape(-1, 64)\n",
    "X_train, X_val, y_train, y_val = train_test_split(images, target, test_size = 0.2, random_state = 0)\n",
    "scaler = StandardScaler()\n",
    "X_train = torch.tensor(scaler.fit_transform(X_train), dtype = torch.float32)\n",
    "X_val = torch.tensor(scaler.transform(X_test), dtype = torch.float32)\n",
    "\n",
    "# パラメータ初期化\n",
    "W = torch.rand((10, 64), requires_grad = True)\n",
    "b = torch.rand((1, 10), requires_grad = True)\n",
    "\n",
    "batch_size = 30\n",
    "num_batches = np.ceil(len(y_train) / batch_size).astype(int)\n",
    "loss_log = []\n",
    "train_losses = []\n",
    "val_losses = []\n",
    "val_accuracies = []\n",
    "epochs = 30\n",
    "for epoch in range(epochs):\n",
    "    running_loss = 0\n",
    "    index_list_tr = np.random.permutation(list(range(len(X_train))))\n",
    "    for i in range(num_batches):\n",
    "        s = i * batch_size\n",
    "        e = s + batch_size\n",
    "        batch_indices = index_list_tr[s:e]\n",
    "        z = X_train[batch_indices, :] @ W.T + b\n",
    "        y_pred = softmax(z)\n",
    "        loss = cross_entropy(y_train[batch_indices, :], y_pred)\n",
    "        loss.backward()\n",
    "        loss_log.append(loss)\n",
    "        running_loss += loss.item()\n",
    "        with torch.no_grad():\n",
    "            W -= learning_rate * W.grad\n",
    "            b -= learning_rate * b.grad\n",
    "        W.grad.zero_()\n",
    "        b.grad.zero_()\n",
    "\n",
    "    # validation\n",
    "    with torch.no_grad():\n",
    "        z_val = X_val @ W.T + b\n",
    "        y_pred_val = softmax(z_val)\n",
    "        val_loss = cross_entropy(y_val, y_pred_val)\n",
    "        val_accuracy = torch.sum(torch.argmax(y_pred_val, dim=-1) == torch.argmax(y_val, dim=-1)) / y_val.shape[0]\n",
    "\n",
    "    train_losses.append(running_loss/num_batches)\n",
    "    val_losses.append(val_loss.item())\n",
    "    val_accuracies.append(val_accuracy.item())\n",
    "    \n",
    "    print(f\"epoch{epoch + 1} : train loss:{running_loss / num_batches}, val loss: {val_loss.item()}, val_accuracy: {val_accuracy.item()}\")"
   ]
  },
  {
   "cell_type": "code",
   "execution_count": 82,
   "id": "b12343f8-83d6-4898-8ca8-ceaa983716bb",
   "metadata": {},
   "outputs": [
    {
     "data": {
      "text/plain": [
       "[<matplotlib.lines.Line2D at 0x7ffef7d61250>]"
      ]
     },
     "execution_count": 82,
     "metadata": {},
     "output_type": "execute_result"
    },
    {
     "data": {
      "image/png": "[encoded data removed]",
      "text/plain": [
       "<Figure size 640x480 with 1 Axes>"
      ]
     },
     "metadata": {},
     "output_type": "display_data"
    }
   ],
   "source": [
    "plt.plot(train_losses)\n",
    "plt.plot(val_losses)"
   ]
  },
  {
   "cell_type": "code",
   "execution_count": null,
   "id": "c2060532-4c68-4f58-a8af-c5a3f1e734c2",
   "metadata": {},
   "outputs": [],
   "source": []
  }
 ],
 "metadata": {
  "kernelspec": {
   "display_name": "Python 3 (ipykernel)",
   "language": "python",
   "name": "python3"
  },
  "language_info": {
   "codemirror_mode": {
    "name": "ipython",
    "version": 3
   },
   "file_extension": ".py",
   "mimetype": "text/x-python",
   "name": "python",
   "nbconvert_exporter": "python",
   "pygments_lexer": "ipython3",
   "version": "3.8.18"
  }
 },
 "nbformat": 4,
 "nbformat_minor": 5
}
