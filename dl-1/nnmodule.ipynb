{
 "cells": [
  {
   "cell_type": "markdown",
   "id": "eb62bcc6-ef2c-4c6b-91fa-22262e41144f",
   "metadata": {},
   "source": [
    "# Pytorchのnnモジュール"
   ]
  },
  {
   "cell_type": "markdown",
   "id": "16eaa59d-e91f-48e6-8172-a8b35a04528b",
   "metadata": {},
   "source": [
    "## nn.Linear"
   ]
  },
  {
   "cell_type": "code",
   "execution_count": 1,
   "id": "605e727b-f830-42f8-8d3b-044d747c03d5",
   "metadata": {},
   "outputs": [],
   "source": [
    "from torch import nn\n",
    "import torch\n",
    "from torch.nn import functional as F\n",
    "import numpy as np\n",
    "from sklearn import datasets\n",
    "from sklearn.model_selection import train_test_split\n",
    "import matplotlib.pyplot as plt\n",
    "from sklearn.preprocessing import StandardScaler"
   ]
  },
  {
   "cell_type": "code",
   "execution_count": 2,
   "id": "74ead57d-a123-462c-8463-7d372f908b2f",
   "metadata": {},
   "outputs": [],
   "source": [
    "linear = nn.Linear(64, 30)"
   ]
  },
  {
   "cell_type": "code",
   "execution_count": 3,
   "id": "c95607df-d6ae-4d9a-9f93-fa39e73d5c1c",
   "metadata": {},
   "outputs": [
    {
     "data": {
      "text/plain": [
       "[Parameter containing:\n",
       " tensor([[ 0.1020,  0.1025,  0.1057,  ...,  0.0591,  0.0630,  0.0757],\n",
       "         [ 0.0874, -0.0131, -0.0675,  ...,  0.1167,  0.0074, -0.1079],\n",
       "         [ 0.0613,  0.0501, -0.0268,  ...,  0.0721, -0.1211, -0.0892],\n",
       "         ...,\n",
       "         [ 0.0565, -0.0948, -0.0622,  ...,  0.0782, -0.1138,  0.0827],\n",
       "         [ 0.0479,  0.1201, -0.0398,  ..., -0.0326, -0.0201,  0.0278],\n",
       "         [ 0.0373, -0.0710, -0.0453,  ...,  0.0695, -0.0716,  0.0711]],\n",
       "        requires_grad=True),\n",
       " Parameter containing:\n",
       " tensor([ 0.0907,  0.0197, -0.1081,  0.0799, -0.1172, -0.0890,  0.0351, -0.0980,\n",
       "          0.1245, -0.1144,  0.0856, -0.0506, -0.0930,  0.0557,  0.0779,  0.0777,\n",
       "          0.0219,  0.0529, -0.0377, -0.0667,  0.1007,  0.0241,  0.0571, -0.0919,\n",
       "         -0.0006,  0.0233,  0.0144, -0.0449,  0.0709,  0.0904],\n",
       "        requires_grad=True)]"
      ]
     },
     "execution_count": 3,
     "metadata": {},
     "output_type": "execute_result"
    }
   ],
   "source": [
    "list(linear.parameters())"
   ]
  },
  {
   "cell_type": "code",
   "execution_count": 5,
   "id": "bb48b6a4-aa49-49ae-bf3f-a77a048e774c",
   "metadata": {},
   "outputs": [
    {
     "data": {
      "text/plain": [
       "torch.Size([30, 64])"
      ]
     },
     "execution_count": 5,
     "metadata": {},
     "output_type": "execute_result"
    }
   ],
   "source": [
    "linear.weight.shape"
   ]
  },
  {
   "cell_type": "code",
   "execution_count": 5,
   "id": "78e8098c-da83-47f7-bd50-067da1ca7845",
   "metadata": {},
   "outputs": [
    {
     "data": {
      "text/plain": [
       "Parameter containing:\n",
       "tensor([ 0.0029,  0.0537, -0.1064,  0.0450,  0.1078,  0.0603,  0.1103,  0.0351,\n",
       "        -0.0222,  0.0227, -0.0088,  0.0681,  0.0221, -0.1046,  0.1136, -0.1058,\n",
       "        -0.0058, -0.0423, -0.0224,  0.0912, -0.0777,  0.0364,  0.1091,  0.0407,\n",
       "        -0.0270, -0.0865, -0.0208, -0.0560, -0.0938, -0.0933],\n",
       "       requires_grad=True)"
      ]
     },
     "execution_count": 5,
     "metadata": {},
     "output_type": "execute_result"
    }
   ],
   "source": [
    "linear.bias"
   ]
  },
  {
   "cell_type": "code",
   "execution_count": 8,
   "id": "0eb7b1ec-52d5-43ff-a3a0-f3229add4979",
   "metadata": {},
   "outputs": [
    {
     "data": {
      "text/plain": [
       "torch.Size([30, 64])"
      ]
     },
     "execution_count": 8,
     "metadata": {},
     "output_type": "execute_result"
    }
   ],
   "source": [
    "linear.weight.shape # 出力×入力"
   ]
  },
  {
   "cell_type": "code",
   "execution_count": 7,
   "id": "e23970b8-4a5c-4fb4-96a7-cfc325297d81",
   "metadata": {},
   "outputs": [
    {
     "data": {
      "text/plain": [
       "torch.Size([30])"
      ]
     },
     "execution_count": 7,
     "metadata": {},
     "output_type": "execute_result"
    }
   ],
   "source": [
    "linear.bias.shape"
   ]
  },
  {
   "cell_type": "code",
   "execution_count": 10,
   "id": "2b55520e-5664-4798-a236-568c37cbba2b",
   "metadata": {},
   "outputs": [],
   "source": [
    "X = torch.randn((5, 64))\n",
    "z = linear(X)"
   ]
  },
  {
   "cell_type": "code",
   "execution_count": 11,
   "id": "3a23135c-38c8-4234-9e38-dc85b3b0de2f",
   "metadata": {},
   "outputs": [
    {
     "data": {
      "text/plain": [
       "tensor([[ 1.1043,  0.2538,  0.0149,  0.4746,  1.0202, -0.4955, -0.6380, -0.2354,\n",
       "          0.0440, -0.1236,  0.3369,  0.5708, -0.0266, -0.4177, -0.0978,  0.2033,\n",
       "          0.4010, -0.0261, -1.1955,  0.0285, -0.2139,  0.2234,  0.3487,  0.3748,\n",
       "         -0.2650,  0.1134,  0.1150, -0.7471,  0.0942, -0.7808],\n",
       "        [-0.5987,  0.0250, -0.9097,  0.2593, -0.1654, -0.3981,  0.8592, -0.1029,\n",
       "         -0.0842,  1.3627,  0.4819,  0.7540,  0.6006,  0.4341, -0.0192, -0.3938,\n",
       "         -0.4958,  0.1797, -0.3430,  1.2453, -1.1131, -0.0714,  0.0860,  0.6582,\n",
       "         -0.3360, -0.2641,  0.0326, -0.5758, -0.1988, -0.5971],\n",
       "        [-0.3337, -0.4816, -0.0677,  0.5255,  0.0029,  0.8024, -0.0829, -0.2933,\n",
       "          0.0243, -0.3491, -0.5271, -0.1724,  0.2385, -0.3965,  0.8949, -1.0141,\n",
       "         -0.1645, -0.0764,  0.0148, -0.1879,  0.1609, -0.5597,  0.2238,  0.5898,\n",
       "         -1.2125,  0.1743, -0.9766,  0.2086,  0.6127, -0.3867],\n",
       "        [-0.5962, -0.0375,  0.2762, -0.8362, -0.8392, -0.0791,  0.0809, -0.4923,\n",
       "          0.8214, -0.2499, -0.3218, -0.0727, -0.8036,  0.1977, -1.0698, -0.0911,\n",
       "          1.7526, -2.0090,  0.2055, -0.2787, -0.0872,  0.0995,  1.3305, -0.1652,\n",
       "          0.5073,  0.6087, -0.2142,  0.1623,  0.8673, -1.1155],\n",
       "        [ 0.8732,  0.1520,  0.1997,  0.4611, -0.3564,  0.1334,  1.2058, -0.5113,\n",
       "          0.9445, -0.4402, -0.3361, -0.1851, -0.3668,  0.9543,  0.0050, -0.3773,\n",
       "         -0.6086, -0.3686, -0.0240,  0.2449, -0.3474,  0.3649,  0.2446, -0.1452,\n",
       "         -0.0084,  0.2043,  0.0373, -0.4586,  0.1442,  0.0615]],\n",
       "       grad_fn=<AddmmBackward0>)"
      ]
     },
     "execution_count": 11,
     "metadata": {},
     "output_type": "execute_result"
    }
   ],
   "source": [
    "z"
   ]
  },
  {
   "cell_type": "code",
   "execution_count": 13,
   "id": "ba52591b-3b43-4db2-9adf-dd6d3188f7ed",
   "metadata": {},
   "outputs": [
    {
     "data": {
      "text/plain": [
       "torch.Size([5, 30])"
      ]
     },
     "execution_count": 13,
     "metadata": {},
     "output_type": "execute_result"
    }
   ],
   "source": [
    "z.shape"
   ]
  },
  {
   "cell_type": "markdown",
   "id": "b54792bc-06b0-4b49-8226-a916a9162bc3",
   "metadata": {},
   "source": [
    "## MLP実装"
   ]
  },
  {
   "cell_type": "markdown",
   "id": "c1adb86a-7d60-4794-8291-ed8c276fb274",
   "metadata": {},
   "source": [
    "### クラスと関数を組み合わせる"
   ]
  },
  {
   "cell_type": "code",
   "execution_count": 17,
   "id": "0b053962-e8f0-4a13-86a5-fa2024fe4508",
   "metadata": {},
   "outputs": [],
   "source": [
    "class MLP(nn.Module):\n",
    "    def __init__(self, num_in, num_hidden, num_out):\n",
    "        super().__init__()\n",
    "        self.l1 = nn.Linear(num_in, num_hidden) # 隠れ層(第1層)を定義\n",
    "        self.l2 = nn.Linear(num_hidden, num_out) # 隠れ層(第2層)を定義\n",
    "\n",
    "    def forward(self, x):\n",
    "        # z1 = self.l1(x) \n",
    "        # a1 = F.relu(z1)\n",
    "        # z2 = self.l2(a1)\n",
    "        x = self.l2(F.relu(self.l1(x)))\n",
    "        return x"
   ]
  },
  {
   "cell_type": "code",
   "execution_count": 16,
   "id": "c596abbd-4d68-4b25-9631-ac6447d3c3f5",
   "metadata": {},
   "outputs": [],
   "source": [
    "model = MLP(64, 30, 10)"
   ]
  },
  {
   "cell_type": "code",
   "execution_count": 21,
   "id": "d7ea9310-d1c2-47a4-8547-cf4b51b14954",
   "metadata": {},
   "outputs": [],
   "source": [
    "X = torch.randn(5, 64)\n",
    "Z = model(X) # .__call__というメソッドが呼ばれ、forward()が実行された(nn.Moduleでそういうロジックになっている)(継承してる)"
   ]
  },
  {
   "cell_type": "code",
   "execution_count": 22,
   "id": "0b23660e-5b7a-4833-bee3-cbe2dba8c9cf",
   "metadata": {},
   "outputs": [
    {
     "data": {
      "text/plain": [
       "torch.Size([5, 10])"
      ]
     },
     "execution_count": 22,
     "metadata": {},
     "output_type": "execute_result"
    }
   ],
   "source": [
    "Z.shape"
   ]
  },
  {
   "cell_type": "markdown",
   "id": "d30b1c14-14d7-4a61-9e91-caaebedbb3f3",
   "metadata": {},
   "source": [
    "### nn.クラスのみで構成するケース"
   ]
  },
  {
   "cell_type": "code",
   "execution_count": 28,
   "id": "5aa7a815-66e1-41c3-b3a7-92b2947d5509",
   "metadata": {},
   "outputs": [],
   "source": [
    "class MLP(nn.Module):\n",
    "    def __init__(self, num_in, num_hidden, num_out):\n",
    "        super().__init__()\n",
    "        self.l1 = nn.Linear(num_in, num_hidden) # 隠れ層(第1層)を定義\n",
    "        self.l2 = nn.Linear(num_hidden, num_out) # 隠れ層(第2層)を定義\n",
    "        self.relu = nn.ReLU()\n",
    "\n",
    "    def forward(self, x):\n",
    "        x = self.l2(self.relu(self.l1(x)))\n",
    "        return x\n",
    "    "
   ]
  },
  {
   "cell_type": "code",
   "execution_count": 29,
   "id": "3c2fffe9-d402-4baf-9f93-f4950d130693",
   "metadata": {},
   "outputs": [],
   "source": [
    "model = MLP(64, 30, 10)\n",
    "X = torch.randn(5, 64)\n",
    "Z = model(X)"
   ]
  },
  {
   "cell_type": "code",
   "execution_count": 30,
   "id": "fcd47967-347b-4be6-b9e4-27a069c4ef9e",
   "metadata": {},
   "outputs": [
    {
     "data": {
      "text/plain": [
       "torch.Size([5, 10])"
      ]
     },
     "execution_count": 30,
     "metadata": {},
     "output_type": "execute_result"
    }
   ],
   "source": [
    "Z.shape"
   ]
  },
  {
   "cell_type": "markdown",
   "id": "94e45353-d231-4e0d-aade-1a97ed2d5f9c",
   "metadata": {},
   "source": [
    "### nn.Sequentialを使ったケース"
   ]
  },
  {
   "cell_type": "code",
   "execution_count": 32,
   "id": "b4337f54-96d7-4470-a924-8a981f8bfe43",
   "metadata": {},
   "outputs": [],
   "source": [
    "num_in = 64\n",
    "num_hidden = 30\n",
    "num_out = 10\n",
    "\n",
    "model = nn.Sequential(\n",
    "    nn.Linear(num_in, num_hidden),\n",
    "    nn.ReLU(),\n",
    "    nn.Linear(num_hidden, num_out)\n",
    ")"
   ]
  },
  {
   "cell_type": "code",
   "execution_count": 33,
   "id": "4d66fdee-09ed-4ff1-9f6c-f66188f06c0c",
   "metadata": {},
   "outputs": [],
   "source": [
    "Z = model(X)"
   ]
  },
  {
   "cell_type": "code",
   "execution_count": 34,
   "id": "32c00fb8-a320-4849-9998-6d3e76808a96",
   "metadata": {},
   "outputs": [
    {
     "data": {
      "text/plain": [
       "torch.Size([5, 10])"
      ]
     },
     "execution_count": 34,
     "metadata": {},
     "output_type": "execute_result"
    }
   ],
   "source": [
    "Z.shape"
   ]
  },
  {
   "cell_type": "markdown",
   "id": "d27836d8-7cdd-4731-8987-a86a9b653163",
   "metadata": {},
   "source": [
    "### MLP学習"
   ]
  },
  {
   "cell_type": "code",
   "execution_count": 55,
   "id": "a9612e4e-43de-416c-8935-3cda8f0d094e",
   "metadata": {
    "scrolled": true
   },
   "outputs": [
    {
     "name": "stdout",
     "output_type": "stream",
     "text": [
      "epoch:0, train_loss:2.091760722299417, val_losses:1.897878646850586, val_accuracy:0.5777778029441833\n",
      "epoch:1, train_loss:1.6424906825025876, val_losses:1.4792919158935547, val_accuracy:0.675000011920929\n",
      "epoch:2, train_loss:1.2183341085910797, val_losses:1.1116065979003906, val_accuracy:0.7444444298744202\n",
      "epoch:3, train_loss:0.8936007668574651, val_losses:0.843284010887146, val_accuracy:0.7833333611488342\n",
      "epoch:4, train_loss:0.6773188542574644, val_losses:0.6643317937850952, val_accuracy:0.8388888835906982\n",
      "epoch:5, train_loss:0.5351815354079008, val_losses:0.5436503291130066, val_accuracy:0.8694444298744202\n",
      "epoch:6, train_loss:0.43673677525172633, val_losses:0.454429030418396, val_accuracy:0.8972222208976746\n",
      "epoch:7, train_loss:0.3631741472830375, val_losses:0.3875693380832672, val_accuracy:0.9194444417953491\n",
      "epoch:8, train_loss:0.3072711753969391, val_losses:0.33847716450691223, val_accuracy:0.9277777671813965\n",
      "epoch:9, train_loss:0.2652244511991739, val_losses:0.3011845350265503, val_accuracy:0.9361110925674438\n",
      "epoch:10, train_loss:0.23384495809053382, val_losses:0.27267754077911377, val_accuracy:0.9472222328186035\n",
      "epoch:11, train_loss:0.20801856756831208, val_losses:0.2492516189813614, val_accuracy:0.9472222328186035\n",
      "epoch:12, train_loss:0.18821381482606134, val_losses:0.23134717345237732, val_accuracy:0.9527778029441833\n",
      "epoch:13, train_loss:0.1721301459086438, val_losses:0.21727170050144196, val_accuracy:0.9555555582046509\n",
      "epoch:14, train_loss:0.15833554502266148, val_losses:0.20477040112018585, val_accuracy:0.9611111283302307\n",
      "epoch:15, train_loss:0.1469638799317181, val_losses:0.1942160278558731, val_accuracy:0.9666666388511658\n",
      "epoch:16, train_loss:0.13732412147025266, val_losses:0.18595600128173828, val_accuracy:0.9666666388511658\n",
      "epoch:17, train_loss:0.12876740431723496, val_losses:0.17835311591625214, val_accuracy:0.9694444537162781\n",
      "epoch:18, train_loss:0.12133672934335966, val_losses:0.17179988324642181, val_accuracy:0.9694444537162781\n",
      "epoch:19, train_loss:0.11496154055930674, val_losses:0.16584661602973938, val_accuracy:0.9694444537162781\n",
      "epoch:20, train_loss:0.1091684007551521, val_losses:0.16085177659988403, val_accuracy:0.9694444537162781\n",
      "epoch:21, train_loss:0.10365661109487216, val_losses:0.15629106760025024, val_accuracy:0.9694444537162781\n",
      "epoch:22, train_loss:0.09932780634456624, val_losses:0.15212637186050415, val_accuracy:0.9694444537162781\n",
      "epoch:23, train_loss:0.09480012196581811, val_losses:0.14855796098709106, val_accuracy:0.9694444537162781\n",
      "epoch:24, train_loss:0.09053658806563665, val_losses:0.14544205367565155, val_accuracy:0.9694444537162781\n",
      "epoch:25, train_loss:0.0869074520887807, val_losses:0.1427670121192932, val_accuracy:0.9694444537162781\n",
      "epoch:26, train_loss:0.08350540895480663, val_losses:0.1402483731508255, val_accuracy:0.9694444537162781\n",
      "epoch:27, train_loss:0.08037595796243598, val_losses:0.13750632107257843, val_accuracy:0.9694444537162781\n",
      "epoch:28, train_loss:0.07739348577645917, val_losses:0.13533972203731537, val_accuracy:0.9694444537162781\n",
      "epoch:29, train_loss:0.07470986163631703, val_losses:0.13356022536754608, val_accuracy:0.9694444537162781\n",
      "epoch:30, train_loss:0.07221310228730242, val_losses:0.13148076832294464, val_accuracy:0.9694444537162781\n",
      "epoch:31, train_loss:0.06960884120780975, val_losses:0.1295599490404129, val_accuracy:0.9694444537162781\n",
      "epoch:32, train_loss:0.06736945248364161, val_losses:0.12816594541072845, val_accuracy:0.9722222089767456\n",
      "epoch:33, train_loss:0.06513902721538518, val_losses:0.12626183032989502, val_accuracy:0.9722222089767456\n",
      "epoch:34, train_loss:0.0632400576917765, val_losses:0.12495369464159012, val_accuracy:0.9722222089767456\n",
      "epoch:35, train_loss:0.06120893840367595, val_losses:0.1238609030842781, val_accuracy:0.9722222089767456\n",
      "epoch:36, train_loss:0.059347842975209154, val_losses:0.12259338051080704, val_accuracy:0.9722222089767456\n",
      "epoch:37, train_loss:0.057450048082197704, val_losses:0.12141621112823486, val_accuracy:0.9722222089767456\n",
      "epoch:38, train_loss:0.055782075059444956, val_losses:0.12012458592653275, val_accuracy:0.9750000238418579\n",
      "epoch:39, train_loss:0.05428569825987021, val_losses:0.11908930540084839, val_accuracy:0.9750000238418579\n",
      "epoch:40, train_loss:0.05264509923290461, val_losses:0.11812795698642731, val_accuracy:0.9750000238418579\n",
      "epoch:41, train_loss:0.05116589526490619, val_losses:0.11739494651556015, val_accuracy:0.9750000238418579\n",
      "epoch:42, train_loss:0.04979727182459707, val_losses:0.11671250313520432, val_accuracy:0.9750000238418579\n",
      "epoch:43, train_loss:0.048470183760703854, val_losses:0.11594277620315552, val_accuracy:0.9750000238418579\n",
      "epoch:44, train_loss:0.04718163133657072, val_losses:0.11520283669233322, val_accuracy:0.9750000238418579\n",
      "epoch:45, train_loss:0.04600861589036261, val_losses:0.11463438719511032, val_accuracy:0.9750000238418579\n",
      "epoch:46, train_loss:0.04483619547681883, val_losses:0.11395200341939926, val_accuracy:0.9777777791023254\n",
      "epoch:47, train_loss:0.043719346867874265, val_losses:0.11325431615114212, val_accuracy:0.9777777791023254\n",
      "epoch:48, train_loss:0.04263674093332762, val_losses:0.11286549270153046, val_accuracy:0.9777777791023254\n",
      "epoch:49, train_loss:0.04162893050427859, val_losses:0.11237486451864243, val_accuracy:0.9777777791023254\n",
      "epoch:50, train_loss:0.04077886468924893, val_losses:0.11173115670681, val_accuracy:0.9777777791023254\n",
      "epoch:51, train_loss:0.039692806584450104, val_losses:0.11142861843109131, val_accuracy:0.9777777791023254\n",
      "epoch:52, train_loss:0.03879098896868527, val_losses:0.11081569641828537, val_accuracy:0.9777777791023254\n",
      "epoch:53, train_loss:0.037849373649805784, val_losses:0.11040195822715759, val_accuracy:0.9777777791023254\n",
      "epoch:54, train_loss:0.037039368510401495, val_losses:0.11009345948696136, val_accuracy:0.9777777791023254\n",
      "epoch:55, train_loss:0.036167094115323074, val_losses:0.10971587151288986, val_accuracy:0.9777777791023254\n",
      "epoch:56, train_loss:0.035482096388780825, val_losses:0.10938562452793121, val_accuracy:0.9777777791023254\n",
      "epoch:57, train_loss:0.03468464605975896, val_losses:0.1089642196893692, val_accuracy:0.9777777791023254\n",
      "epoch:58, train_loss:0.0340567063637233, val_losses:0.1087205559015274, val_accuracy:0.9777777791023254\n",
      "epoch:59, train_loss:0.03323369492621472, val_losses:0.10846878588199615, val_accuracy:0.9777777791023254\n",
      "epoch:60, train_loss:0.03252390613003323, val_losses:0.10834842175245285, val_accuracy:0.9777777791023254\n",
      "epoch:61, train_loss:0.03182402531577585, val_losses:0.10807696729898453, val_accuracy:0.9777777791023254\n",
      "epoch:62, train_loss:0.031224988139001653, val_losses:0.10771159827709198, val_accuracy:0.9777777791023254\n",
      "epoch:63, train_loss:0.03070099789571638, val_losses:0.10739542543888092, val_accuracy:0.9777777791023254\n",
      "epoch:64, train_loss:0.02992890061189731, val_losses:0.1071784570813179, val_accuracy:0.9777777791023254\n",
      "epoch:65, train_loss:0.02930998020262147, val_losses:0.10710718482732773, val_accuracy:0.9777777791023254\n",
      "epoch:66, train_loss:0.02876085653648867, val_losses:0.10687902569770813, val_accuracy:0.9777777791023254\n",
      "epoch:67, train_loss:0.02815114292510164, val_losses:0.10668100416660309, val_accuracy:0.9777777791023254\n",
      "epoch:68, train_loss:0.027653322205878794, val_losses:0.10663525015115738, val_accuracy:0.9777777791023254\n",
      "epoch:69, train_loss:0.027074735388547804, val_losses:0.10643437504768372, val_accuracy:0.9777777791023254\n",
      "epoch:70, train_loss:0.026613127537226926, val_losses:0.10620235651731491, val_accuracy:0.9777777791023254\n",
      "epoch:71, train_loss:0.026132353358358767, val_losses:0.10599401593208313, val_accuracy:0.9777777791023254\n",
      "epoch:72, train_loss:0.02568959921093968, val_losses:0.1059836894273758, val_accuracy:0.9777777791023254\n",
      "epoch:73, train_loss:0.025129509944235906, val_losses:0.10583581030368805, val_accuracy:0.9777777791023254\n",
      "epoch:74, train_loss:0.024663426277887385, val_losses:0.10568185150623322, val_accuracy:0.9777777791023254\n",
      "epoch:75, train_loss:0.024253678750634815, val_losses:0.10557663440704346, val_accuracy:0.9777777791023254\n",
      "epoch:76, train_loss:0.023811578706954606, val_losses:0.1054927185177803, val_accuracy:0.9777777791023254\n",
      "epoch:77, train_loss:0.023383743508020416, val_losses:0.10537032037973404, val_accuracy:0.9777777791023254\n",
      "epoch:78, train_loss:0.023085853453570355, val_losses:0.10528439283370972, val_accuracy:0.9777777791023254\n",
      "epoch:79, train_loss:0.022650973541506875, val_losses:0.1052422821521759, val_accuracy:0.9777777791023254\n",
      "epoch:80, train_loss:0.022193037618611317, val_losses:0.10507606714963913, val_accuracy:0.9777777791023254\n",
      "epoch:81, train_loss:0.02189139268981914, val_losses:0.10488881915807724, val_accuracy:0.9777777791023254\n",
      "epoch:82, train_loss:0.021491032375100378, val_losses:0.1048370748758316, val_accuracy:0.9777777791023254\n",
      "epoch:83, train_loss:0.02111925038237435, val_losses:0.10480722039937973, val_accuracy:0.9777777791023254\n",
      "epoch:84, train_loss:0.020778331148903817, val_losses:0.10472460836172104, val_accuracy:0.9777777791023254\n",
      "epoch:85, train_loss:0.020464062254177406, val_losses:0.10472789406776428, val_accuracy:0.9777777791023254\n",
      "epoch:86, train_loss:0.020154243664971244, val_losses:0.10465791821479797, val_accuracy:0.9777777791023254\n",
      "epoch:87, train_loss:0.019865447320626117, val_losses:0.10453518480062485, val_accuracy:0.9777777791023254\n",
      "epoch:88, train_loss:0.01951892886427231, val_losses:0.10459181666374207, val_accuracy:0.9777777791023254\n",
      "epoch:89, train_loss:0.019243772306557123, val_losses:0.10454035550355911, val_accuracy:0.9777777791023254\n",
      "epoch:90, train_loss:0.018922254792414606, val_losses:0.10443928092718124, val_accuracy:0.9777777791023254\n",
      "epoch:91, train_loss:0.018642080249264836, val_losses:0.10439690202474594, val_accuracy:0.9777777791023254\n",
      "epoch:92, train_loss:0.018338703128392808, val_losses:0.10444202274084091, val_accuracy:0.9777777791023254\n",
      "epoch:93, train_loss:0.018120256921974942, val_losses:0.10442931950092316, val_accuracy:0.9777777791023254\n",
      "epoch:94, train_loss:0.017883412321680225, val_losses:0.10433962196111679, val_accuracy:0.9777777791023254\n",
      "epoch:95, train_loss:0.017626279407219652, val_losses:0.10427360236644745, val_accuracy:0.9777777791023254\n",
      "epoch:96, train_loss:0.017332520607548457, val_losses:0.10429669171571732, val_accuracy:0.9777777791023254\n",
      "epoch:97, train_loss:0.01710539442137815, val_losses:0.1042625829577446, val_accuracy:0.9777777791023254\n",
      "epoch:98, train_loss:0.016927000736662496, val_losses:0.10428769886493683, val_accuracy:0.9777777791023254\n",
      "epoch:99, train_loss:0.01659870263150272, val_losses:0.10430990904569626, val_accuracy:0.9777777791023254\n"
     ]
    }
   ],
   "source": [
    "class MLP(nn.Module):\n",
    "    def __init__(self, num_in, num_hidden, num_out):\n",
    "        super().__init__()\n",
    "        self.l1 = nn.Linear(num_in, num_hidden) # 隠れ層(第1層)を定義\n",
    "        self.l2 = nn.Linear(num_hidden, num_out) # 隠れ層(第2層)を定義\n",
    "\n",
    "    def forward(self, x):\n",
    "        # z1 = self.l1(x) \n",
    "        # a1 = F.relu(z1)\n",
    "        # z2 = self.l2(a1)\n",
    "        x = self.l2(F.relu(self.l1(x)))\n",
    "        return x\n",
    "\n",
    "# データ準備\n",
    "dataset = datasets.load_digits()\n",
    "data = dataset['data']\n",
    "target = dataset['target']\n",
    "images = dataset['images']\n",
    "\n",
    "# バリデーションデータ作成\n",
    "X_train, X_val, y_train, y_val = train_test_split(images, target, test_size = 0.2, random_state = 0)\n",
    "# 前処理\n",
    "scaler = StandardScaler()\n",
    "X_train = scaler.fit_transform(X_train.reshape(-1, 64))\n",
    "X_val = scaler.transform(X_val.reshape(-1, 64))\n",
    "X_train = torch.tensor(X_train, dtype = torch.float32).reshape(-1, 64)\n",
    "X_val= torch.tensor(X_val, dtype = torch.float32).reshape(-1, 64)\n",
    "y_train = torch.tensor(y_train)\n",
    "y_val = torch.tensor(y_val)\n",
    "\n",
    "# モデル設定\n",
    "batch_size = 30\n",
    "learning_rate = 0.03\n",
    "train_losses = []\n",
    "val_losses = []\n",
    "val_accuracies = []\n",
    "nh = 30\n",
    "m, n = X_train.shape\n",
    "num_classes = 10\n",
    "num_batches = np.ceil(X_train.shape[0] / batch_size).astype(int)\n",
    "# モデル初期化\n",
    "model = MLP(n, nh, num_classes)\n",
    "\n",
    "# モデル学習\n",
    "for epoch in range(100):\n",
    "    shuffled_indices = np.random.permutation(len(y_train))\n",
    "    running_loss = 0.0\n",
    "    \n",
    "    for n in range(num_batches):\n",
    "        start_index = n * 30\n",
    "        end_index = start_index + 30\n",
    "\n",
    "        X = X_train[shuffled_indices[start_index:end_index]]\n",
    "        y = y_train[shuffled_indices[start_index:end_index]]\n",
    "        preds = model(X)\n",
    "        loss = F.cross_entropy(preds, y)\n",
    "        running_loss += loss.item()\n",
    "\n",
    "        loss.backward()\n",
    "        with torch.no_grad():\n",
    "            for param in model.parameters():\n",
    "                param -= learning_rate * param.grad\n",
    "        model.zero_grad()\n",
    "\n",
    "    # validation\n",
    "    with torch.no_grad():\n",
    "        preds_val = model(X_val)\n",
    "        loss_val = F.cross_entropy(preds_val, y_val)\n",
    "        accuracy_val = torch.sum(torch.argmax(preds_val, dim = 1) == y_val) / y_val.shape[0]\n",
    "\n",
    "    train_losses.append(running_loss / num_batches)\n",
    "    val_losses.append(loss_val.item())\n",
    "    val_accuracies.append(accuracy_val)\n",
    "    print(f'epoch:{epoch}, train_loss:{train_losses[-1]}, val_losses:{val_losses[-1]}, val_accuracy:{val_accuracies[-1]}')"
   ]
  },
  {
   "cell_type": "code",
   "execution_count": 56,
   "id": "72d18f43-4de9-4305-b6d4-affc9db5b645",
   "metadata": {},
   "outputs": [
    {
     "data": {
      "text/plain": [
       "[<matplotlib.lines.Line2D at 0x7ffefd85f2e0>]"
      ]
     },
     "execution_count": 56,
     "metadata": {},
     "output_type": "execute_result"
    },
    {
     "data": {
      "image/png": "[encoded data removed]",
      "text/plain": [
       "<Figure size 640x480 with 1 Axes>"
      ]
     },
     "metadata": {},
     "output_type": "display_data"
    }
   ],
   "source": [
    "plt.plot(train_losses)\n",
    "plt.plot(val_losses)"
   ]
  },
  {
   "cell_type": "code",
   "execution_count": 62,
   "id": "c336f75f-c26a-4e99-872f-9ff2eef06ae1",
   "metadata": {},
   "outputs": [
    {
     "name": "stdout",
     "output_type": "stream",
     "text": [
      "torch.Size([30, 64])\n",
      "torch.Size([30])\n",
      "torch.Size([10, 30])\n",
      "torch.Size([10])\n"
     ]
    }
   ],
   "source": [
    "for param in model.parameters():\n",
    "    print(param.shape)"
   ]
  },
  {
   "cell_type": "code",
   "execution_count": 63,
   "id": "9b26349f-950e-4c59-a4ea-994ca0bd41ca",
   "metadata": {},
   "outputs": [
    {
     "name": "stdout",
     "output_type": "stream",
     "text": [
      "l1.weight torch.Size([30, 64])\n",
      "l1.bias torch.Size([30])\n",
      "l2.weight torch.Size([10, 30])\n",
      "l2.bias torch.Size([10])\n"
     ]
    }
   ],
   "source": [
    "for name, param in model.named_parameters():\n",
    "    print(name, param.shape)"
   ]
  },
  {
   "cell_type": "markdown",
   "id": "a5245ab5-110e-48d1-b7f8-f91cc3c029df",
   "metadata": {},
   "source": [
    "### コンポーネントのイテレーション"
   ]
  },
  {
   "cell_type": "code",
   "execution_count": 65,
   "id": "1f2d4457-08f5-4ace-9c2c-7473a0a51b84",
   "metadata": {},
   "outputs": [
    {
     "name": "stdout",
     "output_type": "stream",
     "text": [
      "Linear(in_features=64, out_features=30, bias=True)\n",
      "Linear(in_features=30, out_features=10, bias=True)\n"
     ]
    }
   ],
   "source": [
    "for module in model.children():\n",
    "    print(module)"
   ]
  },
  {
   "cell_type": "code",
   "execution_count": 66,
   "id": "c2a98b2f-a138-45e8-b810-1bac1975119f",
   "metadata": {},
   "outputs": [
    {
     "name": "stdout",
     "output_type": "stream",
     "text": [
      "l1 Linear(in_features=64, out_features=30, bias=True)\n",
      "l2 Linear(in_features=30, out_features=10, bias=True)\n"
     ]
    }
   ],
   "source": [
    "for name, module in model.named_children():\n",
    "    print(name, module)"
   ]
  },
  {
   "cell_type": "code",
   "execution_count": 67,
   "id": "9f111e90-4108-40f1-b52e-3d27e1977218",
   "metadata": {},
   "outputs": [
    {
     "name": "stdout",
     "output_type": "stream",
     "text": [
      "MLP(\n",
      "  (l1): Linear(in_features=64, out_features=30, bias=True)\n",
      "  (l2): Linear(in_features=30, out_features=10, bias=True)\n",
      ")\n",
      "Linear(in_features=64, out_features=30, bias=True)\n",
      "Linear(in_features=30, out_features=10, bias=True)\n"
     ]
    }
   ],
   "source": [
    "for module in model.modules():\n",
    "    print(module)"
   ]
  },
  {
   "cell_type": "code",
   "execution_count": 68,
   "id": "28990925-c8a1-4b7d-b6d0-74a2a5b36f75",
   "metadata": {},
   "outputs": [
    {
     "name": "stdout",
     "output_type": "stream",
     "text": [
      "\n",
      "l1\n",
      "l2\n"
     ]
    }
   ],
   "source": [
    "for name, module in model.named_modules():\n",
    "    print(name)"
   ]
  },
  {
   "cell_type": "code",
   "execution_count": null,
   "id": "71106758-2a97-4bcc-a869-cf366dd22c24",
   "metadata": {},
   "outputs": [],
   "source": []
  }
 ],
 "metadata": {
  "kernelspec": {
   "display_name": "Python 3 (ipykernel)",
   "language": "python",
   "name": "python3"
  },
  "language_info": {
   "codemirror_mode": {
    "name": "ipython",
    "version": 3
   },
   "file_extension": ".py",
   "mimetype": "text/x-python",
   "name": "python",
   "nbconvert_exporter": "python",
   "pygments_lexer": "ipython3",
   "version": "3.8.18"
  }
 },
 "nbformat": 4,
 "nbformat_minor": 5
}
