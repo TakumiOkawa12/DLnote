{
 "cells": [
  {
   "cell_type": "markdown",
   "id": "13092fbd-b8ac-44fd-834e-24203883f800",
   "metadata": {},
   "source": [
    "# Optimizer"
   ]
  },
  {
   "cell_type": "markdown",
   "id": "c28726c5-1980-4e78-9f83-10d3e99deaf1",
   "metadata": {},
   "source": [
    "## スクラッチ実装"
   ]
  },
  {
   "cell_type": "code",
   "execution_count": 1,
   "id": "f4d4af31-4dfb-437e-a7fb-645993042098",
   "metadata": {},
   "outputs": [],
   "source": [
    "from torch import nn\n",
    "import torch\n",
    "from torch.nn import functional as F\n",
    "import numpy as np\n",
    "from sklearn import datasets\n",
    "from sklearn.model_selection import train_test_split\n",
    "import matplotlib.pyplot as plt\n",
    "from sklearn.preprocessing import StandardScaler"
   ]
  },
  {
   "cell_type": "code",
   "execution_count": 12,
   "id": "7927a238-4732-4df0-9a71-1ebde16b59ec",
   "metadata": {},
   "outputs": [],
   "source": [
    "class MLP(nn.Module):\n",
    "    def __init__(self, num_in, num_hidden, num_out):\n",
    "        super().__init__()\n",
    "        self.l1 = nn.Linear(num_in, num_hidden) # 隠れ層(第1層)を定義\n",
    "        self.l2 = nn.Linear(num_hidden, num_out) # 隠れ層(第2層)を定義\n",
    "\n",
    "    def forward(self, x):\n",
    "        # z1 = self.l1(x) \n",
    "        # a1 = F.relu(z1)\n",
    "        # z2 = self.l2(a1)\n",
    "        x = self.l2(F.relu(self.l1(x)))\n",
    "        return x"
   ]
  },
  {
   "cell_type": "code",
   "execution_count": 1,
   "id": "2a63c259-38d6-4da7-b0e2-d3feca956df8",
   "metadata": {},
   "outputs": [],
   "source": [
    "class Optimizer(): # optim.SGD()と同様のクラス\n",
    "\n",
    "    def __init__(self, parameters, lr = 0.03):\n",
    "        self.parameters = list(parameters)\n",
    "        self.lr = lr\n",
    "\n",
    "    def step(self):\n",
    "        with torch.no_grad():\n",
    "            for param in self.parameters:\n",
    "                param -= self.lr * param.grad\n",
    "\n",
    "    def zero_grad(self):\n",
    "        for param in self.parameters:\n",
    "            if param.grad is not None:\n",
    "                param.grad.zero_()"
   ]
  },
  {
   "cell_type": "code",
   "execution_count": 17,
   "id": "ba9fba67-1260-4235-8997-0503063999b0",
   "metadata": {},
   "outputs": [
    {
     "data": {
      "text/plain": [
       "<generator object Module.parameters at 0x7ffefe65af90>"
      ]
     },
     "execution_count": 17,
     "metadata": {},
     "output_type": "execute_result"
    }
   ],
   "source": [
    "model = MLP(64, 30, 10)\n",
    "model.parameters()"
   ]
  },
  {
   "cell_type": "code",
   "execution_count": 16,
   "id": "479c4316-3fc4-42ff-bcd7-2dd363bfa403",
   "metadata": {},
   "outputs": [],
   "source": [
    "learning_rate = 0.01\n",
    "opt = Optimizer(parameters=model.parameters(), lr=learning_rate)"
   ]
  },
  {
   "cell_type": "code",
   "execution_count": 19,
   "id": "7514d336-e995-40b4-9b40-3870bb3676d6",
   "metadata": {
    "scrolled": true
   },
   "outputs": [
    {
     "name": "stdout",
     "output_type": "stream",
     "text": [
      "epoch:0, train_loss:2.2738026281197867, val_losses:2.2145540714263916, val_accuracy:0.1805555522441864\n",
      "epoch:1, train_loss:2.138106845319271, val_losses:2.0879812240600586, val_accuracy:0.3722222149372101\n",
      "epoch:2, train_loss:1.9987405265371005, val_losses:1.9540841579437256, val_accuracy:0.5305555462837219\n",
      "epoch:3, train_loss:1.8486982857187588, val_losses:1.8114182949066162, val_accuracy:0.5888888835906982\n",
      "epoch:4, train_loss:1.6890101606647174, val_losses:1.6618175506591797, val_accuracy:0.6333333253860474\n",
      "epoch:5, train_loss:1.526999570429325, val_losses:1.5124379396438599, val_accuracy:0.6583333611488342\n",
      "epoch:6, train_loss:1.3703487043579419, val_losses:1.3690534830093384, val_accuracy:0.6833333373069763\n",
      "epoch:7, train_loss:1.225645337253809, val_losses:1.2356295585632324, val_accuracy:0.7083333134651184\n",
      "epoch:8, train_loss:1.095756823817889, val_losses:1.1149777173995972, val_accuracy:0.730555534362793\n",
      "epoch:9, train_loss:0.9817953805128733, val_losses:1.0080468654632568, val_accuracy:0.75\n",
      "epoch:10, train_loss:0.882949959486723, val_losses:0.914566695690155, val_accuracy:0.7749999761581421\n",
      "epoch:11, train_loss:0.7978488653898239, val_losses:0.833057165145874, val_accuracy:0.7916666865348816\n",
      "epoch:12, train_loss:0.7241149681309859, val_losses:0.7620673179626465, val_accuracy:0.8083333373069763\n",
      "epoch:13, train_loss:0.6616640724241734, val_losses:0.6996265649795532, val_accuracy:0.8166666626930237\n",
      "epoch:14, train_loss:0.6055330124994119, val_losses:0.6448476314544678, val_accuracy:0.8416666388511658\n",
      "epoch:15, train_loss:0.5566651007781426, val_losses:0.5968837738037109, val_accuracy:0.8527777791023254\n",
      "epoch:16, train_loss:0.5131133310496807, val_losses:0.5540345311164856, val_accuracy:0.875\n",
      "epoch:17, train_loss:0.4745527617633343, val_losses:0.5159595012664795, val_accuracy:0.8888888955116272\n",
      "epoch:18, train_loss:0.4400528557598591, val_losses:0.4821079969406128, val_accuracy:0.9055555462837219\n",
      "epoch:19, train_loss:0.4091390303025643, val_losses:0.4520637094974518, val_accuracy:0.9111111164093018\n",
      "epoch:20, train_loss:0.38202286045998335, val_losses:0.42552417516708374, val_accuracy:0.9166666865348816\n",
      "epoch:21, train_loss:0.35781388357281685, val_losses:0.4020528197288513, val_accuracy:0.9194444417953491\n",
      "epoch:22, train_loss:0.3360209371894598, val_losses:0.3810248076915741, val_accuracy:0.9222221970558167\n",
      "epoch:23, train_loss:0.31686428003013134, val_losses:0.3624551594257355, val_accuracy:0.925000011920929\n",
      "epoch:24, train_loss:0.29962713612864417, val_losses:0.34621384739875793, val_accuracy:0.9277777671813965\n",
      "epoch:25, train_loss:0.28423058862487477, val_losses:0.3313458561897278, val_accuracy:0.9277777671813965\n",
      "epoch:26, train_loss:0.270558616767327, val_losses:0.31800076365470886, val_accuracy:0.9305555820465088\n",
      "epoch:27, train_loss:0.25772555110355216, val_losses:0.305878609418869, val_accuracy:0.9361110925674438\n",
      "epoch:28, train_loss:0.24652356778581938, val_losses:0.2948938012123108, val_accuracy:0.9361110925674438\n",
      "epoch:29, train_loss:0.23641751473769546, val_losses:0.2851245105266571, val_accuracy:0.9388889074325562\n",
      "epoch:30, train_loss:0.22696310002356768, val_losses:0.2761719226837158, val_accuracy:0.9388889074325562\n",
      "epoch:31, train_loss:0.21847064653411508, val_losses:0.2677707374095917, val_accuracy:0.9416666626930237\n",
      "epoch:32, train_loss:0.21011066157370806, val_losses:0.26027584075927734, val_accuracy:0.9416666626930237\n",
      "epoch:33, train_loss:0.20298891250664988, val_losses:0.2532389163970947, val_accuracy:0.9416666626930237\n",
      "epoch:34, train_loss:0.19623943216477832, val_losses:0.24672876298427582, val_accuracy:0.9444444179534912\n",
      "epoch:35, train_loss:0.18996661404768625, val_losses:0.24073569476604462, val_accuracy:0.9472222328186035\n",
      "epoch:36, train_loss:0.18390447723989686, val_losses:0.23511654138565063, val_accuracy:0.9472222328186035\n",
      "epoch:37, train_loss:0.17827256924162307, val_losses:0.22978587448596954, val_accuracy:0.9472222328186035\n",
      "epoch:38, train_loss:0.17346913491686186, val_losses:0.2248033881187439, val_accuracy:0.9472222328186035\n",
      "epoch:39, train_loss:0.1682085725478828, val_losses:0.22026051580905914, val_accuracy:0.9472222328186035\n",
      "epoch:40, train_loss:0.16362973186187446, val_losses:0.2159396857023239, val_accuracy:0.9472222328186035\n",
      "epoch:41, train_loss:0.15954035085936388, val_losses:0.21188043057918549, val_accuracy:0.9472222328186035\n",
      "epoch:42, train_loss:0.15526242352401218, val_losses:0.2080606073141098, val_accuracy:0.949999988079071\n",
      "epoch:43, train_loss:0.15149457403458655, val_losses:0.20451605319976807, val_accuracy:0.949999988079071\n",
      "epoch:44, train_loss:0.14788420304345587, val_losses:0.20098942518234253, val_accuracy:0.949999988079071\n",
      "epoch:45, train_loss:0.1442695672158152, val_losses:0.1977909505367279, val_accuracy:0.9527778029441833\n",
      "epoch:46, train_loss:0.14114271507908902, val_losses:0.19467133283615112, val_accuracy:0.9527778029441833\n",
      "epoch:47, train_loss:0.13767966410766044, val_losses:0.1917746365070343, val_accuracy:0.9527778029441833\n",
      "epoch:48, train_loss:0.1348755827639252, val_losses:0.1890210211277008, val_accuracy:0.9527778029441833\n",
      "epoch:49, train_loss:0.1317472024820745, val_losses:0.1864425390958786, val_accuracy:0.9527778029441833\n",
      "epoch:50, train_loss:0.12905692541971803, val_losses:0.18399053812026978, val_accuracy:0.9527778029441833\n",
      "epoch:51, train_loss:0.12665268041503927, val_losses:0.18162983655929565, val_accuracy:0.9527778029441833\n",
      "epoch:52, train_loss:0.12376380378069977, val_losses:0.17934824526309967, val_accuracy:0.9527778029441833\n",
      "epoch:53, train_loss:0.12134024260255198, val_losses:0.1771230250597, val_accuracy:0.9583333134651184\n",
      "epoch:54, train_loss:0.11909124402639766, val_losses:0.1751636117696762, val_accuracy:0.9583333134651184\n",
      "epoch:55, train_loss:0.1169135778133447, val_losses:0.17321264743804932, val_accuracy:0.9583333134651184\n",
      "epoch:56, train_loss:0.11458522919565439, val_losses:0.17129722237586975, val_accuracy:0.9583333134651184\n",
      "epoch:57, train_loss:0.11242006001217912, val_losses:0.16950781643390656, val_accuracy:0.9583333134651184\n",
      "epoch:58, train_loss:0.11062906500107299, val_losses:0.16790014505386353, val_accuracy:0.9583333134651184\n",
      "epoch:59, train_loss:0.10853816603776067, val_losses:0.16634899377822876, val_accuracy:0.9583333134651184\n",
      "epoch:60, train_loss:0.1066762717673555, val_losses:0.1649000346660614, val_accuracy:0.9583333134651184\n",
      "epoch:61, train_loss:0.10480854997877032, val_losses:0.16342340409755707, val_accuracy:0.9611111283302307\n",
      "epoch:62, train_loss:0.10305325392012794, val_losses:0.16192848980426788, val_accuracy:0.9638888835906982\n",
      "epoch:63, train_loss:0.10124472008707623, val_losses:0.1605604588985443, val_accuracy:0.9638888835906982\n",
      "epoch:64, train_loss:0.09966776756724964, val_losses:0.15931770205497742, val_accuracy:0.9638888835906982\n",
      "epoch:65, train_loss:0.09795349727695186, val_losses:0.15808720886707306, val_accuracy:0.9638888835906982\n",
      "epoch:66, train_loss:0.0963819765796264, val_losses:0.15690907835960388, val_accuracy:0.9638888835906982\n",
      "epoch:67, train_loss:0.0948436368489638, val_losses:0.15578939020633698, val_accuracy:0.9638888835906982\n",
      "epoch:68, train_loss:0.0936973844266807, val_losses:0.15462541580200195, val_accuracy:0.9638888835906982\n",
      "epoch:69, train_loss:0.09196381643414497, val_losses:0.15358461439609528, val_accuracy:0.9638888835906982\n",
      "epoch:70, train_loss:0.09066117393861835, val_losses:0.15263430774211884, val_accuracy:0.9638888835906982\n",
      "epoch:71, train_loss:0.089198320133922, val_losses:0.15162305533885956, val_accuracy:0.9638888835906982\n",
      "epoch:72, train_loss:0.08800409749771158, val_losses:0.15069758892059326, val_accuracy:0.9638888835906982\n",
      "epoch:73, train_loss:0.08660953200887889, val_losses:0.14984558522701263, val_accuracy:0.9638888835906982\n",
      "epoch:74, train_loss:0.08540524689791103, val_losses:0.14898529648780823, val_accuracy:0.9638888835906982\n",
      "epoch:75, train_loss:0.08411502287102242, val_losses:0.14810959994792938, val_accuracy:0.9638888835906982\n",
      "epoch:76, train_loss:0.08298028237186372, val_losses:0.14729316532611847, val_accuracy:0.9638888835906982\n",
      "epoch:77, train_loss:0.08175737360337128, val_losses:0.14656522870063782, val_accuracy:0.9638888835906982\n",
      "epoch:78, train_loss:0.08069014099116127, val_losses:0.14586660265922546, val_accuracy:0.9638888835906982\n",
      "epoch:79, train_loss:0.07958716142456979, val_losses:0.14515474438667297, val_accuracy:0.9666666388511658\n",
      "epoch:80, train_loss:0.0784840122408544, val_losses:0.14442695677280426, val_accuracy:0.9666666388511658\n",
      "epoch:81, train_loss:0.07740924359920125, val_losses:0.14375559985637665, val_accuracy:0.9666666388511658\n",
      "epoch:82, train_loss:0.0763432898869117, val_losses:0.14316728711128235, val_accuracy:0.9666666388511658\n",
      "epoch:83, train_loss:0.07535129056001703, val_losses:0.14250448346138, val_accuracy:0.9666666388511658\n",
      "epoch:84, train_loss:0.07449203977982204, val_losses:0.14190375804901123, val_accuracy:0.9666666388511658\n",
      "epoch:85, train_loss:0.07359951466787606, val_losses:0.14137029647827148, val_accuracy:0.9666666388511658\n",
      "epoch:86, train_loss:0.07248791062738746, val_losses:0.1407807618379593, val_accuracy:0.9666666388511658\n",
      "epoch:87, train_loss:0.07164523389656097, val_losses:0.14024406671524048, val_accuracy:0.9666666388511658\n",
      "epoch:88, train_loss:0.07080944969008367, val_losses:0.13966482877731323, val_accuracy:0.9666666388511658\n",
      "epoch:89, train_loss:0.06991741596721113, val_losses:0.1391434520483017, val_accuracy:0.9666666388511658\n",
      "epoch:90, train_loss:0.06912617135094479, val_losses:0.13867181539535522, val_accuracy:0.9666666388511658\n",
      "epoch:91, train_loss:0.06812759306437026, val_losses:0.13815516233444214, val_accuracy:0.9666666388511658\n",
      "epoch:92, train_loss:0.0673514682566747, val_losses:0.13765674829483032, val_accuracy:0.9666666388511658\n",
      "epoch:93, train_loss:0.06652842469823857, val_losses:0.13720455765724182, val_accuracy:0.9666666388511658\n",
      "epoch:94, train_loss:0.06576327323758353, val_losses:0.1367306411266327, val_accuracy:0.9694444537162781\n",
      "epoch:95, train_loss:0.06492456914080928, val_losses:0.13632167875766754, val_accuracy:0.9694444537162781\n",
      "epoch:96, train_loss:0.06415543099865317, val_losses:0.13592764735221863, val_accuracy:0.9694444537162781\n",
      "epoch:97, train_loss:0.06339246119993429, val_losses:0.135545015335083, val_accuracy:0.9694444537162781\n",
      "epoch:98, train_loss:0.06280874457055081, val_losses:0.13515447080135345, val_accuracy:0.9694444537162781\n",
      "epoch:99, train_loss:0.06209475256036967, val_losses:0.13476616144180298, val_accuracy:0.9694444537162781\n"
     ]
    }
   ],
   "source": [
    "# データ準備\n",
    "dataset = datasets.load_digits()\n",
    "data = dataset['data']\n",
    "target = dataset['target']\n",
    "images = dataset['images']\n",
    "\n",
    "# バリデーションデータ作成\n",
    "X_train, X_val, y_train, y_val = train_test_split(images, target, test_size = 0.2, random_state = 0)\n",
    "# 前処理\n",
    "scaler = StandardScaler()\n",
    "X_train = scaler.fit_transform(X_train.reshape(-1, 64))\n",
    "X_val = scaler.transform(X_val.reshape(-1, 64))\n",
    "X_train = torch.tensor(X_train, dtype = torch.float32).reshape(-1, 64)\n",
    "X_val= torch.tensor(X_val, dtype = torch.float32).reshape(-1, 64)\n",
    "y_train = torch.tensor(y_train)\n",
    "y_val = torch.tensor(y_val)\n",
    "\n",
    "# モデル設定\n",
    "batch_size = 30\n",
    "learning_rate = 0.03\n",
    "train_losses = []\n",
    "val_losses = []\n",
    "val_accuracies = []\n",
    "nh = 30\n",
    "m, n = X_train.shape\n",
    "num_classes = 10\n",
    "num_batches = np.ceil(X_train.shape[0] / batch_size).astype(int)\n",
    "\n",
    "# モデル学習\n",
    "for epoch in range(100):\n",
    "    shuffled_indices = np.random.permutation(len(y_train))\n",
    "    running_loss = 0.0\n",
    "    \n",
    "    for n in range(num_batches):\n",
    "        start_index = n * 30\n",
    "        end_index = start_index + 30\n",
    "\n",
    "        X = X_train[shuffled_indices[start_index:end_index]]\n",
    "        y = y_train[shuffled_indices[start_index:end_index]]\n",
    "        preds = model(X)\n",
    "        loss = F.cross_entropy(preds, y)\n",
    "        running_loss += loss.item()\n",
    "\n",
    "        loss.backward()\n",
    "        # optimizer.step()\n",
    "        # optimizer.zero_grad()\n",
    "        opt.step()\n",
    "        opt.zero_grad()\n",
    "        \n",
    "\n",
    "    # validation\n",
    "    with torch.no_grad():\n",
    "        preds_val = model(X_val)\n",
    "        loss_val = F.cross_entropy(preds_val, y_val)\n",
    "        accuracy_val = torch.sum(torch.argmax(preds_val, dim = 1) == y_val) / y_val.shape[0]\n",
    "\n",
    "    train_losses.append(running_loss / num_batches)\n",
    "    val_losses.append(loss_val.item())\n",
    "    val_accuracies.append(accuracy_val)\n",
    "    print(f'epoch:{epoch}, train_loss:{train_losses[-1]}, val_losses:{val_losses[-1]}, val_accuracy:{val_accuracies[-1]}')"
   ]
  },
  {
   "cell_type": "markdown",
   "id": "104de8e0-cdd0-43ff-a675-e93bc3776801",
   "metadata": {},
   "source": [
    "## torch.optim"
   ]
  },
  {
   "cell_type": "code",
   "execution_count": 18,
   "id": "227759d7-fffd-4fa6-9a6d-248f50d2cc3a",
   "metadata": {},
   "outputs": [],
   "source": [
    "from torch import optim\n",
    "opt = optim.SGD(model.parameters(), lr = learning_rate)"
   ]
  },
  {
   "cell_type": "code",
   "execution_count": null,
   "id": "8b73473b-fcfa-4467-90ba-497af48df3b2",
   "metadata": {},
   "outputs": [],
   "source": []
  }
 ],
 "metadata": {
  "kernelspec": {
   "display_name": "Python 3 (ipykernel)",
   "language": "python",
   "name": "python3"
  },
  "language_info": {
   "codemirror_mode": {
    "name": "ipython",
    "version": 3
   },
   "file_extension": ".py",
   "mimetype": "text/x-python",
   "name": "python",
   "nbconvert_exporter": "python",
   "pygments_lexer": "ipython3",
   "version": "3.8.18"
  }
 },
 "nbformat": 4,
 "nbformat_minor": 5
}
