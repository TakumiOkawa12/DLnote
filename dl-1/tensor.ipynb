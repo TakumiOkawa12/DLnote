{
 "cells": [
  {
   "cell_type": "markdown",
   "id": "fa99ea3f-80ff-4aef-b700-be790e4837bf",
   "metadata": {},
   "source": [
    "## Tensorの基礎"
   ]
  },
  {
   "cell_type": "code",
   "execution_count": 1,
   "id": "dfea9b03-47ee-49b4-82b5-7443d93120e2",
   "metadata": {},
   "outputs": [],
   "source": [
    "# 環境を自分で用意する場合は以下のコマンドでpytorchをインストール\n",
    "# pip install torch"
   ]
  },
  {
   "cell_type": "code",
   "execution_count": 2,
   "id": "967e419d-6b34-4ff3-bc18-0201133c020e",
   "metadata": {},
   "outputs": [
    {
     "data": {
      "text/plain": [
       "<torch._C.Generator at 0xffffb4b3f110>"
      ]
     },
     "execution_count": 2,
     "metadata": {},
     "output_type": "execute_result"
    }
   ],
   "source": [
    "import torch\n",
    "import numpy as np\n",
    "# 乱数の種を固定\n",
    "torch.manual_seed(42)"
   ]
  },
  {
   "cell_type": "markdown",
   "id": "b3dbe5d9-a752-4689-8cec-a19cb3fc33fc",
   "metadata": {},
   "source": [
    "### Tensorの作成"
   ]
  },
  {
   "cell_type": "code",
   "execution_count": 3,
   "id": "5c6d20c7-6345-41c6-aa40-bfe7040a044b",
   "metadata": {},
   "outputs": [
    {
     "name": "stdout",
     "output_type": "stream",
     "text": [
      "Tensor from list: tensor([1, 2, 3, 4])\n"
     ]
    }
   ],
   "source": [
    "my_list = [1, 2, 3, 4]\n",
    "tensor_from_list = torch.tensor(my_list)\n",
    "print(\"Tensor from list:\", tensor_from_list)"
   ]
  },
  {
   "cell_type": "code",
   "execution_count": 4,
   "id": "7e1d17a7-f3ba-46f2-be5a-acbbc45504ec",
   "metadata": {},
   "outputs": [
    {
     "data": {
      "text/plain": [
       "torch.Tensor"
      ]
     },
     "execution_count": 4,
     "metadata": {},
     "output_type": "execute_result"
    }
   ],
   "source": [
    "type(tensor_from_list)"
   ]
  },
  {
   "cell_type": "code",
   "execution_count": 5,
   "id": "c8f72a60-f298-4c4d-8ab8-e189f5ab60d6",
   "metadata": {},
   "outputs": [
    {
     "data": {
      "text/plain": [
       "torch.int64"
      ]
     },
     "execution_count": 5,
     "metadata": {},
     "output_type": "execute_result"
    }
   ],
   "source": [
    "# intのリストで作成したTensorのデータ形はint64\n",
    "tensor_from_list.dtype"
   ]
  },
  {
   "cell_type": "code",
   "execution_count": 6,
   "id": "fe65dde1-5c2d-4e08-80f1-03dfb361a558",
   "metadata": {},
   "outputs": [
    {
     "name": "stdout",
     "output_type": "stream",
     "text": [
      "Tensor from list: tensor([1., 2., 3., 4.])\n"
     ]
    },
    {
     "data": {
      "text/plain": [
       "torch.float32"
      ]
     },
     "execution_count": 6,
     "metadata": {},
     "output_type": "execute_result"
    }
   ],
   "source": [
    "# floatのlistで作ったtensorはfloat32\n",
    "my_list = [1., 2., 3., 4.]\n",
    "tensor_from_list = torch.tensor(my_list)\n",
    "print(\"Tensor from list:\", tensor_from_list)\n",
    "tensor_from_list.dtype"
   ]
  },
  {
   "cell_type": "code",
   "execution_count": 7,
   "id": "1f82a184-413c-4f8e-9b60-74a3c6bc4353",
   "metadata": {},
   "outputs": [
    {
     "data": {
      "text/plain": [
       "tensor([1., 2., 3., 4.], dtype=torch.float64)"
      ]
     },
     "execution_count": 7,
     "metadata": {},
     "output_type": "execute_result"
    }
   ],
   "source": [
    "# dtype引数でデータ型を指定\n",
    "tensor_from_list = torch.tensor(my_list, dtype=torch.float64)\n",
    "tensor_from_list"
   ]
  },
  {
   "cell_type": "markdown",
   "id": "dd697bd7-31af-4718-a204-b3bb8009ce5d",
   "metadata": {},
   "source": [
    "### Tensor作成"
   ]
  },
  {
   "cell_type": "code",
   "execution_count": 8,
   "id": "e6eba878-86be-48ea-a5d9-9e8180f6b67b",
   "metadata": {},
   "outputs": [],
   "source": [
    "zeros_tensor = torch.zeros((2, 3))\n",
    "ones_tensor = torch.ones((2, 3))\n",
    "eye_tensor = torch.eye(3)\n",
    "random_tensor = torch.rand((2, 3))"
   ]
  },
  {
   "cell_type": "code",
   "execution_count": 9,
   "id": "b168908a-d2a9-4ced-856d-ba34b93673fa",
   "metadata": {},
   "outputs": [
    {
     "name": "stdout",
     "output_type": "stream",
     "text": [
      "tensor([[0., 0., 0.],\n",
      "        [0., 0., 0.]]) torch.float32\n",
      "tensor([[1., 1., 1.],\n",
      "        [1., 1., 1.]]) torch.float32\n",
      "tensor([[1., 0., 0.],\n",
      "        [0., 1., 0.],\n",
      "        [0., 0., 1.]]) torch.float32\n",
      "tensor([[0.8823, 0.9150, 0.3829],\n",
      "        [0.9593, 0.3904, 0.6009]]) torch.float32\n"
     ]
    }
   ],
   "source": [
    "print(zeros_tensor, zeros_tensor.dtype)\n",
    "print(ones_tensor, ones_tensor.dtype)\n",
    "print(eye_tensor, eye_tensor.dtype)\n",
    "print(random_tensor, random_tensor.dtype)"
   ]
  },
  {
   "cell_type": "code",
   "execution_count": 10,
   "id": "e1bae75d-2b33-49f1-9dba-6314fed0fe05",
   "metadata": {},
   "outputs": [
    {
     "name": "stdout",
     "output_type": "stream",
     "text": [
      "[[0. 0. 0.]\n",
      " [0. 0. 0.]] float64\n",
      "[[1. 1. 1.]\n",
      " [1. 1. 1.]] float64\n",
      "[[1. 0. 0.]\n",
      " [0. 1. 0.]\n",
      " [0. 0. 1.]] float64\n",
      "[[0.24085669 0.0794469  0.79100958]\n",
      " [0.93216654 0.4858942  0.60557645]] float64\n"
     ]
    }
   ],
   "source": [
    "# NumPyとの対応\n",
    "np_zeros = np.zeros((2, 3))\n",
    "np_ones = np.ones((2, 3))\n",
    "np_eye = np.eye(3)\n",
    "np_random = np.random.rand(2, 3)\n",
    "# Numpy Arrayのデフォルトはfloat64であることに注意\n",
    "print(np_zeros, np_zeros.dtype)\n",
    "print(np_ones, np_ones.dtype)\n",
    "print(np_eye, np_eye.dtype)\n",
    "print(np_random, np_random.dtype)"
   ]
  },
  {
   "cell_type": "code",
   "execution_count": 11,
   "id": "1dca7f4b-73bd-4d92-9587-b38584cd53ad",
   "metadata": {},
   "outputs": [
    {
     "data": {
      "text/plain": [
       "torch.Size([2, 3])"
      ]
     },
     "execution_count": 11,
     "metadata": {},
     "output_type": "execute_result"
    }
   ],
   "source": [
    "# Tensorのshapeを表示\n",
    "zeros_tensor.shape"
   ]
  },
  {
   "cell_type": "markdown",
   "id": "ebdb9de1-825b-4694-bd78-30f40a316611",
   "metadata": {},
   "source": [
    "### Tensorの操作"
   ]
  },
  {
   "cell_type": "code",
   "execution_count": 12,
   "id": "9b4f8510-8b1d-498d-83f6-904753486f03",
   "metadata": {},
   "outputs": [
    {
     "name": "stdout",
     "output_type": "stream",
     "text": [
      "tensor([[[0.2566, 0.7936, 0.9408, 0.1332],\n",
      "         [0.9346, 0.5936, 0.8694, 0.5677],\n",
      "         [0.7411, 0.4294, 0.8854, 0.5739]],\n",
      "\n",
      "        [[0.2666, 0.6274, 0.2696, 0.4414],\n",
      "         [0.2969, 0.8317, 0.1053, 0.2695],\n",
      "         [0.3588, 0.1994, 0.5472, 0.0062]]]) [[[0.96320061 0.29667264 0.55869546 0.90830344]\n",
      "  [0.85471293 0.90077511 0.64138294 0.16808875]\n",
      "  [0.99938275 0.12047033 0.35890465 0.47553223]]\n",
      "\n",
      " [[0.15832426 0.33934903 0.19910761 0.50171379]\n",
      "  [0.06330832 0.1433997  0.13685701 0.38169832]\n",
      "  [0.95003842 0.20035515 0.16449229 0.32894554]]]\n"
     ]
    }
   ],
   "source": [
    "# サンプルのTensorとNumpy Arrayを作成\n",
    "tensor_example = torch.rand((2, 3, 4))\n",
    "np_example = np.random.rand(2, 3, 4)\n",
    "print(tensor_example, np_example)"
   ]
  },
  {
   "cell_type": "code",
   "execution_count": 13,
   "id": "5d7868c0-7fc8-4b42-b8ec-e858d2e22392",
   "metadata": {},
   "outputs": [
    {
     "name": "stdout",
     "output_type": "stream",
     "text": [
      "Original shape of tensor: torch.Size([2, 3, 4])\n",
      "Permuted tensor: torch.Size([3, 2, 4])\n",
      "Transposed numpy array: (3, 2, 4)\n",
      "Original shape of tensor: torch.Size([2, 3, 4])\n",
      "Transposed tensor: torch.Size([3, 2, 4])\n"
     ]
    }
   ],
   "source": [
    "# 転置\n",
    "permuted_tensor = torch.permute(tensor_example, (1, 0, 2))\n",
    "transposed_np = np.transpose(np_example, (1, 0, 2))\n",
    "print(\"Original shape of tensor:\", tensor_example.shape)\n",
    "print(\"Permuted tensor:\", permuted_tensor.shape)\n",
    "print(\"Transposed numpy array:\", transposed_np.shape)\n",
    "\n",
    "# torch.transpose()は，二つの軸を入れ替えるだけ\n",
    "transposed_tensor = torch.transpose(tensor_example, 0, 1)\n",
    "print(\"Original shape of tensor:\", tensor_example.shape)\n",
    "print(\"Transposed tensor:\", transposed_tensor.shape)"
   ]
  },
  {
   "cell_type": "code",
   "execution_count": 14,
   "id": "537091db-e8d8-4940-bdb2-9de931e41355",
   "metadata": {},
   "outputs": [
    {
     "name": "stdout",
     "output_type": "stream",
     "text": [
      "Original shape of tensor: torch.Size([2, 3, 4])\n",
      "Reshaped tensor: torch.Size([6, 4])\n",
      "Reshaped numpy array: (6, 4)\n"
     ]
    }
   ],
   "source": [
    "# reshape\n",
    "reshaped_tensor = torch.reshape(tensor_example, (6, 4))\n",
    "reshaped_np = np.reshape(np_example, (6, 4))\n",
    "\n",
    "# 結果を表示\n",
    "print(\"Original shape of tensor:\", tensor_example.shape)\n",
    "print(\"Reshaped tensor:\", reshaped_tensor.shape)\n",
    "print(\"Reshaped numpy array:\", reshaped_np.shape)"
   ]
  },
  {
   "cell_type": "code",
   "execution_count": 15,
   "id": "d0aca3ca-2450-4bb5-95cb-6091895d34fb",
   "metadata": {},
   "outputs": [
    {
     "name": "stdout",
     "output_type": "stream",
     "text": [
      "tensor([[0.2566, 0.7936, 0.9408, 0.1332],\n",
      "        [0.9346, 0.5936, 0.8694, 0.5677],\n",
      "        [0.7411, 0.4294, 0.8854, 0.5739]])\n",
      "tensor([[0.0000, 0.0000, 0.0000, 0.0000],\n",
      "        [0.9346, 0.5936, 0.8694, 0.5677],\n",
      "        [0.7411, 0.4294, 0.8854, 0.5739]])\n"
     ]
    }
   ],
   "source": [
    "# 基本的には元のメモリをそのまま使っている\n",
    "# reshape後のtensorを変更すると，元のtensorも変更されている\n",
    "print(tensor_example[0])\n",
    "reshaped_tensor[0] = 0\n",
    "print(tensor_example[0])"
   ]
  },
  {
   "cell_type": "code",
   "execution_count": 16,
   "id": "4ac75edc-3787-452c-bc29-424bd272099d",
   "metadata": {},
   "outputs": [
    {
     "name": "stdout",
     "output_type": "stream",
     "text": [
      "False\n",
      "False\n"
     ]
    }
   ],
   "source": [
    "# メモリが連続でなければreshape後のtensorはコピーを返す\n",
    "# 連続的なメモリレイアウトを持つTensorを作成\n",
    "x = torch.tensor([[1, 2], [3, 4], [5, 6]])\n",
    "\n",
    "# 連続的なメモリレイアウトを持たない部分Tensorを取得 (transposed tensor)\n",
    "y = x.T\n",
    "\n",
    "# y は非連続的なメモリレイアウトを持つことを確認\n",
    "print(y.is_contiguous())  # False が出力される\n",
    "\n",
    "# reshape を使用して y の形状を変更\n",
    "z = y.reshape(-1)\n",
    "# 以下はエラーになる\n",
    "# z = y.view(-1)\n",
    "\n",
    "# z が y とメモリを共有していないことを確認 (コピーが作成されたことを意味する)\n",
    "print(z.data_ptr() == y.data_ptr())  # False が出力される"
   ]
  },
  {
   "cell_type": "code",
   "execution_count": 17,
   "id": "56342a57-4637-4e75-b7ac-9c48c9a6bccc",
   "metadata": {},
   "outputs": [
    {
     "name": "stdout",
     "output_type": "stream",
     "text": [
      "Flattened tensor: torch.Size([24])\n",
      "Flattened numpy array: (24,)\n"
     ]
    }
   ],
   "source": [
    "# flatten\n",
    "flattened_tensor = torch.flatten(tensor_example)\n",
    "flattened_np = np_example.flatten()\n",
    "print(\"Flattened tensor:\", flattened_tensor.shape)\n",
    "print(\"Flattened numpy array:\", flattened_np.shape)"
   ]
  },
  {
   "cell_type": "code",
   "execution_count": 18,
   "id": "5d8fef57-a1d5-4ce6-8a13-cba63a5cf12e",
   "metadata": {},
   "outputs": [
    {
     "name": "stdout",
     "output_type": "stream",
     "text": [
      "torch.Size([1, 3, 1])\n",
      "(1, 3, 1)\n"
     ]
    }
   ],
   "source": [
    "# squeeze（サイズが1の次元を削除）\n",
    "tensor_example = torch.tensor([[[1], [2], [3]]])\n",
    "np_example = np.array([[[1], [2], [3]]])\n",
    "print(tensor_example.shape)\n",
    "print(np_example.shape)"
   ]
  },
  {
   "cell_type": "code",
   "execution_count": 19,
   "id": "ba0c07b8-1735-4c25-af37-d85a49ee0ade",
   "metadata": {},
   "outputs": [
    {
     "name": "stdout",
     "output_type": "stream",
     "text": [
      "Squeezed tensor: torch.Size([3])\n",
      "Squeezed numpy array: (3,)\n"
     ]
    }
   ],
   "source": [
    "squeezed_tensor = torch.squeeze(tensor_example) # 形状が(3,)になる\n",
    "squeezed_np = np.squeeze(np_example)   # 形状が(3,)になる\n",
    "print(\"Squeezed tensor:\", squeezed_tensor.shape)\n",
    "print(\"Squeezed numpy array:\", squeezed_np.shape)"
   ]
  },
  {
   "cell_type": "code",
   "execution_count": 20,
   "id": "1de3e452-2eda-49c6-aea7-8fdc8d7cb6bf",
   "metadata": {},
   "outputs": [
    {
     "name": "stdout",
     "output_type": "stream",
     "text": [
      "Unsqueezed tensor: torch.Size([1, 1, 3, 1])\n",
      "Unsqueezed numpy array: (1, 1, 3, 1)\n"
     ]
    }
   ],
   "source": [
    "# unsqueeze（指定した位置に新しい次元を追加）\n",
    "unsqueeze_tensor = torch.unsqueeze(tensor_example, 0) # 0次元目に新しい次元を追加\n",
    "expand_dims_np = np.expand_dims(np_example, 0) # 0次元目に新しい次元を追加\n",
    "print(\"Unsqueezed tensor:\", unsqueeze_tensor.shape)\n",
    "print(\"Unsqueezed numpy array:\", expand_dims_np.shape)"
   ]
  },
  {
   "cell_type": "code",
   "execution_count": 21,
   "id": "c5f28504-4d28-467d-9a32-f19fe75899e7",
   "metadata": {},
   "outputs": [
    {
     "data": {
      "text/plain": [
       "torch.Size([1, 1, 3, 1])"
      ]
     },
     "execution_count": 21,
     "metadata": {},
     "output_type": "execute_result"
    }
   ],
   "source": [
    "# unsqueezeと同様の操作\n",
    "tensor_example[None, :, :, :].shape"
   ]
  },
  {
   "cell_type": "markdown",
   "id": "1aff7731-fd56-4df4-94a9-ef129cf17f80",
   "metadata": {},
   "source": [
    "### Tensorの便利関数"
   ]
  },
  {
   "cell_type": "code",
   "execution_count": 22,
   "id": "c96cadff-3a69-411b-863a-fbb39b858d2d",
   "metadata": {},
   "outputs": [
    {
     "name": "stdout",
     "output_type": "stream",
     "text": [
      "tensor([[0.9516, 0.0753, 0.8860],\n",
      "        [0.5832, 0.3376, 0.8090]])\n",
      "[[0.65065284 0.65310825 0.77100737]\n",
      " [0.67840555 0.81108503 0.05991867]]\n"
     ]
    }
   ],
   "source": [
    "# サンプルのTensorとNumpy Array作成\n",
    "tensor_example = torch.rand((2, 3))\n",
    "np_example = np.random.rand(2, 3)\n",
    "print(tensor_example)\n",
    "print(np_example)"
   ]
  },
  {
   "cell_type": "code",
   "execution_count": 23,
   "id": "315c04ab-38c0-4f46-94f1-c017f422bf35",
   "metadata": {},
   "outputs": [
    {
     "name": "stdout",
     "output_type": "stream",
     "text": [
      "Sum of tensor: tensor(3.6427)\n",
      "Sum of numpy array: 3.6241777105827175\n",
      "Mean of tensor: tensor(0.6071)\n",
      "Mean of numpy array: 0.6040296184304529\n",
      "Standard deviation of tensor: tensor(0.3444)\n",
      "Standard deviation of numpy array: 0.25064066143283414\n",
      "Square root of tensor: tensor([[0.9755, 0.2743, 0.9413],\n",
      "        [0.7637, 0.5811, 0.8994]])\n",
      "Square root of numpy array: [[0.80663055 0.80815113 0.87807025]\n",
      " [0.82365378 0.90060259 0.24478291]]\n"
     ]
    }
   ],
   "source": [
    "# 合計\n",
    "sum_tensor = torch.sum(tensor_example)\n",
    "sum_np = np.sum(np_example)\n",
    "\n",
    "# 平均\n",
    "mean_tensor = torch.mean(tensor_example)\n",
    "mean_np = np.mean(np_example)\n",
    "\n",
    "# 標準偏差\n",
    "std_tensor = torch.std(tensor_example)\n",
    "std_np = np.std(np_example)\n",
    "\n",
    "# 平方根\n",
    "sqrt_tensor = torch.sqrt(tensor_example)\n",
    "sqrt_np = np.sqrt(np_example)\n",
    "\n",
    "# 結果を表示\n",
    "print(\"Sum of tensor:\", sum_tensor)\n",
    "print(\"Sum of numpy array:\", sum_np)\n",
    "print(\"Mean of tensor:\", mean_tensor)\n",
    "print(\"Mean of numpy array:\", mean_np)\n",
    "print(\"Standard deviation of tensor:\", std_tensor)\n",
    "print(\"Standard deviation of numpy array:\", std_np)\n",
    "print(\"Square root of tensor:\", sqrt_tensor)\n",
    "print(\"Square root of numpy array:\", sqrt_np)"
   ]
  },
  {
   "cell_type": "markdown",
   "id": "4c31cd01-ae2a-4d87-989d-f50e2fb15f73",
   "metadata": {},
   "source": [
    "### 行列の演算"
   ]
  },
  {
   "cell_type": "markdown",
   "id": "3c525e76-7008-4b6c-b330-9024217fe847",
   "metadata": {},
   "source": [
    "#### 加減算+要素毎の乗除算"
   ]
  },
  {
   "cell_type": "code",
   "execution_count": 24,
   "id": "9b603b45-07de-460f-9958-24216d79de5b",
   "metadata": {},
   "outputs": [
    {
     "name": "stdout",
     "output_type": "stream",
     "text": [
      "tensor([[0.5779, 0.9040, 0.5547],\n",
      "        [0.3423, 0.6343, 0.3644],\n",
      "        [0.7104, 0.9464, 0.7890]])\n",
      "tensor([[0.2814, 0.7886, 0.5895],\n",
      "        [0.7539, 0.1952, 0.0050],\n",
      "        [0.3068, 0.1165, 0.9103]])\n"
     ]
    }
   ],
   "source": [
    "# 3x3のTensorを作成\n",
    "a = torch.rand((3, 3))\n",
    "b = torch.rand((3, 3))\n",
    "print(a)\n",
    "print(b)"
   ]
  },
  {
   "cell_type": "code",
   "execution_count": 25,
   "id": "6f32a895-43e6-460f-8747-85b36f4110ab",
   "metadata": {},
   "outputs": [],
   "source": [
    "# 加減算および要素毎の剰余算\n",
    "add = a + b\n",
    "sub = a - b\n",
    "mul = a * b\n",
    "div = a / b"
   ]
  },
  {
   "cell_type": "code",
   "execution_count": 26,
   "id": "16ad21b4-22a0-4c62-94b1-86c9099760d9",
   "metadata": {},
   "outputs": [
    {
     "name": "stdout",
     "output_type": "stream",
     "text": [
      "tensor([[1.0143, 0.6969, 0.8501],\n",
      "        [0.6864, 0.4363, 0.5367],\n",
      "        [1.1555, 0.8370, 1.1418]])\n",
      "tensor([[1.0143, 0.6969, 0.8501],\n",
      "        [0.6864, 0.4363, 0.5367],\n",
      "        [1.1555, 0.8370, 1.1418]])\n",
      "tensor([[1.0143, 0.6969, 0.8501],\n",
      "        [0.6864, 0.4363, 0.5367],\n",
      "        [1.1555, 0.8370, 1.1418]])\n"
     ]
    }
   ],
   "source": [
    "# 行列の積\n",
    "mm = torch.mm(a, b)\n",
    "matmul = torch.matmul(a, b)\n",
    "at_op = a @ b\n",
    "print(mm)\n",
    "print(matmul)\n",
    "print(at_op)"
   ]
  },
  {
   "cell_type": "markdown",
   "id": "f96cfa94-9bb8-497b-b8c7-cda9aaf11b51",
   "metadata": {},
   "source": [
    "### ブロードキャスティング"
   ]
  },
  {
   "cell_type": "code",
   "execution_count": 27,
   "id": "a7c8abb9-0b54-4cba-b2fa-578fc3faaf61",
   "metadata": {},
   "outputs": [
    {
     "name": "stdout",
     "output_type": "stream",
     "text": [
      "tensor([[0.6440, 0.7071, 0.6581],\n",
      "        [0.4913, 0.8913, 0.1447],\n",
      "        [0.5315, 0.1587, 0.6542]])\n",
      "tensor([[5.6440, 5.7071, 5.6581],\n",
      "        [5.4913, 5.8913, 5.1447],\n",
      "        [5.5315, 5.1587, 5.6542]])\n"
     ]
    }
   ],
   "source": [
    "# (3, 3)とスカラーの演算\n",
    "a = torch.rand((3, 3))\n",
    "scalar = 5\n",
    "result1 = a + scalar\n",
    "print(a)\n",
    "print(result1)"
   ]
  },
  {
   "cell_type": "code",
   "execution_count": 28,
   "id": "dede2c5a-ef22-4dd9-80ee-55ae2c73dbb9",
   "metadata": {},
   "outputs": [
    {
     "name": "stdout",
     "output_type": "stream",
     "text": [
      "tensor([[0.6440, 0.7071, 0.6581],\n",
      "        [0.4913, 0.8913, 0.1447],\n",
      "        [0.5315, 0.1587, 0.6542]])\n",
      "tensor([[0.3278, 0.6532, 0.3958]])\n",
      "tensor([[0.9718, 1.3603, 1.0540],\n",
      "        [0.8191, 1.5445, 0.5406],\n",
      "        [0.8593, 0.8119, 1.0500]])\n"
     ]
    }
   ],
   "source": [
    "# (3, 3)と(1, 3)の演算\n",
    "b = torch.rand((1, 3))\n",
    "result2 = a + b\n",
    "print(a)\n",
    "print(b)\n",
    "print(result2)"
   ]
  },
  {
   "cell_type": "code",
   "execution_count": 29,
   "id": "d7ae179e-a1e7-46cd-aa52-ac4a22a01520",
   "metadata": {},
   "outputs": [
    {
     "name": "stdout",
     "output_type": "stream",
     "text": [
      "torch.Size([32, 128, 128, 3])\n"
     ]
    }
   ],
   "source": [
    "# (32, 128, 128, 3)と(128, 128, 3)の演算\n",
    "c = torch.rand((32, 128, 128, 3))\n",
    "d = torch.rand((128, 128, 3))\n",
    "result3 = c + d\n",
    "print(result3.shape)"
   ]
  },
  {
   "cell_type": "code",
   "execution_count": 30,
   "id": "ab4506e4-f425-4e38-a524-b6f3ee2b4f81",
   "metadata": {},
   "outputs": [],
   "source": [
    "# (32, 128, 128, 3)と(128, 128, 6)の演算は形状が不一致なためエラー\n",
    "c = torch.rand((32, 128, 128, 3))\n",
    "d = torch.rand((128, 128, 6))\n",
    "# 以下はエラー\n",
    "# result3 = c + d \n",
    "# print(result3.shape)"
   ]
  },
  {
   "cell_type": "code",
   "execution_count": 31,
   "id": "082897c9-9cf2-450b-a64b-f493bca285d6",
   "metadata": {},
   "outputs": [
    {
     "name": "stdout",
     "output_type": "stream",
     "text": [
      "torch.Size([8, 128, 128, 3])\n"
     ]
    }
   ],
   "source": [
    "# (1, 128, 128, 3)と(8, 128, 128, 1)の演算\n",
    "e = torch.rand((1, 128, 128, 3))\n",
    "f = torch.rand((8, 128, 128, 1))\n",
    "result4 = e + f\n",
    "print(result4.shape)"
   ]
  }
 ],
 "metadata": {
  "kernelspec": {
   "display_name": "Python 3 (ipykernel)",
   "language": "python",
   "name": "python3"
  },
  "language_info": {
   "codemirror_mode": {
    "name": "ipython",
    "version": 3
   },
   "file_extension": ".py",
   "mimetype": "text/x-python",
   "name": "python",
   "nbconvert_exporter": "python",
   "pygments_lexer": "ipython3",
   "version": "3.8.18"
  }
 },
 "nbformat": 4,
 "nbformat_minor": 5
}
