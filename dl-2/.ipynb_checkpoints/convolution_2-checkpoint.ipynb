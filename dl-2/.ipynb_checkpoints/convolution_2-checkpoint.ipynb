{
 "cells": [
  {
   "cell_type": "markdown",
   "id": "12058fc4-61e0-495d-898d-e8234b2bde62",
   "metadata": {},
   "source": [
    "## CNN"
   ]
  },
  {
   "cell_type": "markdown",
   "id": "bfa6f282-3b55-41be-8640-7fb9338bbac1",
   "metadata": {},
   "source": [
    "### Convolutional Layerのスクラッチ実装"
   ]
  },
  {
   "cell_type": "code",
   "execution_count": 27,
   "id": "5dd8bfdf-bdbe-418d-990c-c6011e9f86bf",
   "metadata": {},
   "outputs": [
    {
     "name": "stdout",
     "output_type": "stream",
     "text": [
      "The autoreload extension is already loaded. To reload it, use:\n",
      "  %reload_ext autoreload\n"
     ]
    }
   ],
   "source": [
    "import torchvision\n",
    "from torchvision import transforms\n",
    "import matplotlib.pyplot as plt\n",
    "import torch\n",
    "from torch import nn\n",
    "from torch.utils.data import DataLoader\n",
    "from torch import optim\n",
    "from torch.nn import functional as F\n",
    "import time\n",
    "%load_ext autoreload\n",
    "%autoreload 2\n",
    "import utils"
   ]
  },
  {
   "cell_type": "code",
   "execution_count": 11,
   "id": "7437dc7d-5239-4d8b-b14d-ce3de4c1cff3",
   "metadata": {},
   "outputs": [],
   "source": [
    "dataset = torchvision.datasets.MNIST(root = './mnist_data', train = True, download = True)\n",
    "\n",
    "im, label = dataset[0]\n",
    "im = transforms.ToTensor()(im)[0, :, :]"
   ]
  },
  {
   "cell_type": "code",
   "execution_count": 14,
   "id": "38258f2a-29ef-471a-800c-6911d9b9a5a3",
   "metadata": {},
   "outputs": [
    {
     "data": {
      "text/plain": [
       "<matplotlib.image.AxesImage at 0x7fff13de5190>"
      ]
     },
     "execution_count": 14,
     "metadata": {},
     "output_type": "execute_result"
    },
    {
     "data": {
      "image/png": "[encoded data removed]",
      "text/plain": [
       "<Figure size 640x480 with 1 Axes>"
      ]
     },
     "metadata": {},
     "output_type": "display_data"
    }
   ],
   "source": [
    "plt.imshow(im, cmap = \"gray\")"
   ]
  },
  {
   "cell_type": "code",
   "execution_count": 50,
   "id": "fa8e6573-1871-44db-b84a-f2ed96af629e",
   "metadata": {},
   "outputs": [
    {
     "data": {
      "text/plain": [
       "torch.Size([28, 28])"
      ]
     },
     "execution_count": 50,
     "metadata": {},
     "output_type": "execute_result"
    }
   ],
   "source": [
    "im.shape"
   ]
  },
  {
   "cell_type": "code",
   "execution_count": 51,
   "id": "5dc9a121-3d12-480b-8f54-be987b0ff900",
   "metadata": {},
   "outputs": [],
   "source": [
    "upper_edge_filter = torch.tensor([[-1., -1., -1.],\n",
    "                    [0., 0., 0.],\n",
    "                    [1., 1., 1.]])\n",
    "left_edge_filter = torch.tensor([[-1., 0., 1.],\n",
    "                   [-1., 0., 1.],\n",
    "                   [-1., 0., 1.]])\n",
    "\n",
    "def convolution(im, filter):\n",
    "    feature_map = torch.zeros(im.shape[0]-(filter.shape[0]-1), im.shape[1]-(filter.shape[1]-1))\n",
    "    for t in range(im.shape[0] - filter.shape[0]-1):\n",
    "        for y in range(im.shape[1]-filter.shape[1]-1):\n",
    "            feature_map[t, y] = torch.sum(im[t:t+filter.shape[0], y:y+filter.shape[1]] @ filter)\n",
    "    return feature_map"
   ]
  },
  {
   "cell_type": "code",
   "execution_count": 52,
   "id": "06f90adb-6020-42a0-abe0-c5887a36fe04",
   "metadata": {},
   "outputs": [],
   "source": [
    "upper_feature_map = convolution(im, upper_edge_filter)"
   ]
  },
  {
   "cell_type": "code",
   "execution_count": 53,
   "id": "42c6a56b-998f-4b9e-acc3-8fc4f558bb1b",
   "metadata": {},
   "outputs": [
    {
     "data": {
      "text/plain": [
       "torch.Size([26, 26])"
      ]
     },
     "execution_count": 53,
     "metadata": {},
     "output_type": "execute_result"
    }
   ],
   "source": [
    "upper_feature_map.shape"
   ]
  },
  {
   "cell_type": "code",
   "execution_count": 54,
   "id": "527517e8-33f7-4a50-9f97-3ba3af952ad8",
   "metadata": {},
   "outputs": [
    {
     "data": {
      "text/plain": [
       "<matplotlib.image.AxesImage at 0x7fff134972e0>"
      ]
     },
     "execution_count": 54,
     "metadata": {},
     "output_type": "execute_result"
    },
    {
     "data": {
      "image/png": "[encoded data removed]",
      "text/plain": [
       "<Figure size 640x480 with 1 Axes>"
      ]
     },
     "metadata": {},
     "output_type": "display_data"
    }
   ],
   "source": [
    "plt.imshow(upper_feature_map, cmap = 'gray')"
   ]
  },
  {
   "cell_type": "code",
   "execution_count": 55,
   "id": "3cc35439-abca-4125-9d02-56df0ea354ea",
   "metadata": {},
   "outputs": [],
   "source": [
    "left_feature_map = convolution(im, left_edge_filter)"
   ]
  },
  {
   "cell_type": "code",
   "execution_count": 56,
   "id": "26e747d5-420c-44a8-8bc6-e5fa011f65a6",
   "metadata": {},
   "outputs": [
    {
     "data": {
      "text/plain": [
       "torch.Size([26, 26])"
      ]
     },
     "execution_count": 56,
     "metadata": {},
     "output_type": "execute_result"
    }
   ],
   "source": [
    "left_feature_map.shape"
   ]
  },
  {
   "cell_type": "code",
   "execution_count": 57,
   "id": "5f9c9697-ff92-4e83-a7ce-1be651bf9f5a",
   "metadata": {},
   "outputs": [
    {
     "data": {
      "text/plain": [
       "<matplotlib.image.AxesImage at 0x7fff134b7790>"
      ]
     },
     "execution_count": 57,
     "metadata": {},
     "output_type": "execute_result"
    },
    {
     "data": {
      "image/png": "[encoded data removed]",
      "text/plain": [
       "<Figure size 640x480 with 1 Axes>"
      ]
     },
     "metadata": {},
     "output_type": "display_data"
    }
   ],
   "source": [
    "plt.imshow(left_feature_map, cmap = 'gray')"
   ]
  },
  {
   "cell_type": "markdown",
   "id": "4fd8746f-8700-40d4-8c47-71e6d40548ed",
   "metadata": {},
   "source": [
    "## CNN構築"
   ]
  },
  {
   "cell_type": "code",
   "execution_count": 3,
   "id": "41473a98-5eb6-4919-a80c-3f10f8a873ff",
   "metadata": {},
   "outputs": [],
   "source": [
    "conv_model = nn.Sequential(\n",
    "                # 1✖️28✖️28\n",
    "                nn.Conv2d(1, 4, kernel_size = 3, stride = 2, padding = 1),\n",
    "                nn.ReLU(),\n",
    "                # 4✖️14✖️14\n",
    "                nn.Conv2d(4, 8, kernel_size = 3, stride = 2, padding = 1),\n",
    "                nn.ReLU(),\n",
    "                # 8✖️7✖️7\n",
    "                nn.Conv2d(8, 16, kernel_size = 3, stride = 2, padding = 1),\n",
    "                nn.ReLU(),\n",
    "                # 16✖️4✖️4\n",
    "                nn.Conv2d(16, 32, kernel_size = 3, stride = 2, padding = 1),\n",
    "                nn.ReLU(),\n",
    "                # 32✖️2✖️2\n",
    "                # nn.Flatten()\n",
    "                # # 128\n",
    "                # nn.Linear(128, 10)\n",
    "                nn.Conv2d(32, 10, kernel_size = 3, stride = 2, padding = 1),\n",
    "                # 10✖️1✖️1\n",
    "                nn.Flatten()\n",
    "                # 10\n",
    "             )"
   ]
  },
  {
   "cell_type": "code",
   "execution_count": 4,
   "id": "2124d2bc-a0b5-4fda-8934-36f558604c2f",
   "metadata": {},
   "outputs": [
    {
     "data": {
      "text/plain": [
       "Sequential(\n",
       "  (0): Conv2d(1, 4, kernel_size=(3, 3), stride=(2, 2), padding=(1, 1))\n",
       "  (1): ReLU()\n",
       "  (2): Conv2d(4, 8, kernel_size=(3, 3), stride=(2, 2), padding=(1, 1))\n",
       "  (3): ReLU()\n",
       "  (4): Conv2d(8, 16, kernel_size=(3, 3), stride=(2, 2), padding=(1, 1))\n",
       "  (5): ReLU()\n",
       "  (6): Conv2d(16, 32, kernel_size=(3, 3), stride=(2, 2), padding=(1, 1))\n",
       "  (7): ReLU()\n",
       "  (8): Conv2d(32, 10, kernel_size=(3, 3), stride=(2, 2), padding=(1, 1))\n",
       "  (9): Flatten(start_dim=1, end_dim=-1)\n",
       ")"
      ]
     },
     "execution_count": 4,
     "metadata": {},
     "output_type": "execute_result"
    }
   ],
   "source": [
    "conv_model"
   ]
  },
  {
   "cell_type": "code",
   "execution_count": 6,
   "id": "6d4f5f3e-fe81-4320-ae00-48b4fc6101e7",
   "metadata": {},
   "outputs": [],
   "source": [
    "X = torch.randn((8, 1, 28, 28))\n",
    "output = conv_model(X)"
   ]
  },
  {
   "cell_type": "code",
   "execution_count": 8,
   "id": "7ac32ef6-3e7d-42b3-a026-8ef391432df2",
   "metadata": {},
   "outputs": [
    {
     "data": {
      "text/plain": [
       "torch.Size([8, 10])"
      ]
     },
     "execution_count": 8,
     "metadata": {},
     "output_type": "execute_result"
    }
   ],
   "source": [
    "output.shape"
   ]
  },
  {
   "cell_type": "code",
   "execution_count": 9,
   "id": "20f82e0c-d851-42a5-81d8-2b984c772d6e",
   "metadata": {},
   "outputs": [
    {
     "data": {
      "text/plain": [
       "tensor([[ 0.0034, -0.0217,  0.0551,  0.0284,  0.0104, -0.0636,  0.0516,  0.0052,\n",
       "         -0.0223,  0.0175],\n",
       "        [ 0.0040, -0.0263,  0.0479,  0.0338,  0.0097, -0.0696,  0.0468,  0.0016,\n",
       "         -0.0339,  0.0272],\n",
       "        [-0.0049, -0.0234,  0.0506,  0.0411,  0.0064, -0.0689,  0.0562, -0.0090,\n",
       "         -0.0290,  0.0218],\n",
       "        [ 0.0040, -0.0257,  0.0461,  0.0338,  0.0046, -0.0765,  0.0518,  0.0032,\n",
       "         -0.0315,  0.0301],\n",
       "        [ 0.0092, -0.0255,  0.0582,  0.0303,  0.0053, -0.0629,  0.0529, -0.0050,\n",
       "         -0.0262,  0.0265],\n",
       "        [-0.0010, -0.0153,  0.0453,  0.0315,  0.0214, -0.0748,  0.0637, -0.0106,\n",
       "         -0.0239,  0.0131],\n",
       "        [ 0.0038, -0.0197,  0.0456,  0.0280,  0.0098, -0.0725,  0.0554, -0.0010,\n",
       "         -0.0280,  0.0201],\n",
       "        [-0.0005, -0.0215,  0.0505,  0.0307,  0.0106, -0.0695,  0.0545,  0.0033,\n",
       "         -0.0293,  0.0228]], grad_fn=<ViewBackward0>)"
      ]
     },
     "execution_count": 9,
     "metadata": {},
     "output_type": "execute_result"
    }
   ],
   "source": [
    "output"
   ]
  },
  {
   "cell_type": "code",
   "execution_count": 15,
   "id": "586d7838-7bf8-4aac-a02e-b3b63949750e",
   "metadata": {},
   "outputs": [
    {
     "data": {
      "text/plain": [
       "[36, 4, 288, 8, 1152, 16, 4608, 32, 2880, 10]"
      ]
     },
     "execution_count": 15,
     "metadata": {},
     "output_type": "execute_result"
    }
   ],
   "source": [
    "# 各パラメータの要素の数\n",
    "[params.numel() for params in conv_model.parameters()]"
   ]
  },
  {
   "cell_type": "code",
   "execution_count": 16,
   "id": "cc6cc6fe-51ec-4e14-b0b8-19d3fe5ec6be",
   "metadata": {},
   "outputs": [],
   "source": [
    "# フィルターの数は出力サイズの数"
   ]
  },
  {
   "cell_type": "code",
   "execution_count": 17,
   "id": "95cbb165-763f-40e4-bf22-ba4e30688381",
   "metadata": {
    "scrolled": true
   },
   "outputs": [
    {
     "name": "stdout",
     "output_type": "stream",
     "text": [
      "Parameter containing:\n",
      "tensor([[[[-0.1545,  0.0300, -0.1641],\n",
      "          [ 0.0034,  0.1751,  0.0772],\n",
      "          [ 0.2960,  0.1647,  0.0150]]],\n",
      "\n",
      "\n",
      "        [[[-0.2502,  0.2592,  0.2806],\n",
      "          [-0.1578,  0.0632,  0.1747],\n",
      "          [-0.0777, -0.0813,  0.2539]]],\n",
      "\n",
      "\n",
      "        [[[ 0.1861,  0.1992, -0.2463],\n",
      "          [ 0.1497,  0.2580, -0.2187],\n",
      "          [ 0.2749,  0.2208,  0.0047]]],\n",
      "\n",
      "\n",
      "        [[[-0.1126,  0.1228, -0.1438],\n",
      "          [-0.0400,  0.2744,  0.2541],\n",
      "          [ 0.0745, -0.0011, -0.2090]]]], requires_grad=True)\n",
      "Parameter containing:\n",
      "tensor([ 0.1506, -0.1733,  0.1146,  0.1013], requires_grad=True)\n",
      "Parameter containing:\n",
      "tensor([[[[-1.1399e-01,  1.2323e-01, -1.0945e-01],\n",
      "          [-1.4212e-01,  9.3091e-02,  8.6604e-03],\n",
      "          [-5.6777e-02,  4.6030e-03,  5.9030e-02]],\n",
      "\n",
      "         [[ 8.3940e-03,  2.8701e-02,  1.3184e-01],\n",
      "          [-9.4769e-02, -1.0526e-03,  1.6713e-02],\n",
      "          [ 4.6881e-02, -1.3251e-01, -9.1082e-02]],\n",
      "\n",
      "         [[ 7.7374e-02,  6.6599e-02,  1.3542e-01],\n",
      "          [-7.8168e-02,  5.3581e-02, -8.0353e-02],\n",
      "          [ 5.7956e-02, -2.7144e-02,  1.4331e-01]],\n",
      "\n",
      "         [[-9.9220e-02,  5.4379e-02, -1.1333e-01],\n",
      "          [ 1.6155e-01, -6.4561e-02,  9.2251e-03],\n",
      "          [-9.6817e-02,  1.1075e-01, -8.9685e-02]]],\n",
      "\n",
      "\n",
      "        [[[-1.2118e-01,  1.0042e-01, -5.3603e-02],\n",
      "          [ 1.5438e-01,  4.3665e-02, -7.4249e-02],\n",
      "          [ 9.6270e-02,  1.4522e-01, -1.6660e-01]],\n",
      "\n",
      "         [[ 7.4690e-02, -6.3914e-02,  6.2210e-02],\n",
      "          [ 5.8506e-02, -7.9610e-02, -3.5171e-02],\n",
      "          [-1.0654e-01, -6.1959e-03, -1.4403e-01]],\n",
      "\n",
      "         [[-9.1278e-02, -1.3177e-01,  4.6346e-02],\n",
      "          [ 2.5957e-02, -4.2115e-03,  5.1313e-02],\n",
      "          [ 1.7008e-02, -5.3163e-02, -1.2418e-01]],\n",
      "\n",
      "         [[-6.0555e-02,  3.1119e-02,  3.2787e-02],\n",
      "          [ 1.2031e-01, -8.1701e-02,  4.2827e-02],\n",
      "          [-1.7048e-02, -9.4143e-02, -1.2815e-01]]],\n",
      "\n",
      "\n",
      "        [[[ 7.0235e-02, -1.3979e-01,  1.5688e-01],\n",
      "          [-8.4319e-02,  6.4596e-02, -3.8326e-02],\n",
      "          [ 6.6154e-02,  4.1926e-02,  1.2819e-01]],\n",
      "\n",
      "         [[ 6.9273e-02,  2.5473e-02, -8.3794e-04],\n",
      "          [-2.7702e-02,  1.4588e-01, -3.6427e-02],\n",
      "          [-1.5964e-01,  7.0162e-02,  7.0985e-03]],\n",
      "\n",
      "         [[-2.4522e-02, -7.1023e-02,  1.3653e-01],\n",
      "          [-3.3523e-02,  1.1137e-01,  1.0095e-01],\n",
      "          [ 7.2922e-02, -1.1858e-02, -1.0991e-01]],\n",
      "\n",
      "         [[-1.6051e-01, -3.8430e-02, -5.9626e-02],\n",
      "          [ 1.1664e-01,  3.2036e-02, -1.5865e-01],\n",
      "          [-1.1952e-01, -7.2510e-02, -7.4457e-02]]],\n",
      "\n",
      "\n",
      "        [[[ 3.3688e-02, -1.1501e-01, -1.1986e-02],\n",
      "          [-1.0387e-01, -1.6630e-01,  1.4753e-01],\n",
      "          [-3.7537e-03,  1.4158e-01, -3.6236e-03]],\n",
      "\n",
      "         [[-2.9044e-03,  8.9313e-03, -9.3487e-02],\n",
      "          [-1.0251e-01, -1.5113e-01, -1.0153e-01],\n",
      "          [ 6.9511e-02,  9.7712e-02, -1.4311e-01]],\n",
      "\n",
      "         [[ 9.4074e-02, -1.7573e-02,  2.3809e-02],\n",
      "          [-1.5323e-01, -1.0867e-01, -1.1937e-01],\n",
      "          [ 9.7794e-02,  1.2003e-01, -1.2054e-01]],\n",
      "\n",
      "         [[ 4.3127e-02, -7.0710e-02, -1.1823e-01],\n",
      "          [-5.4789e-02,  6.1615e-04,  1.5962e-01],\n",
      "          [ 1.0569e-01, -1.3414e-02,  8.1441e-02]]],\n",
      "\n",
      "\n",
      "        [[[ 9.1414e-02, -8.9403e-02, -3.3863e-03],\n",
      "          [-3.1536e-02,  1.4464e-01,  1.2359e-03],\n",
      "          [-2.7478e-02,  1.4313e-01,  3.1302e-02]],\n",
      "\n",
      "         [[-1.4228e-01, -1.0970e-01, -1.6640e-02],\n",
      "          [-1.3026e-01, -1.1577e-01, -1.2014e-02],\n",
      "          [ 6.3660e-02, -2.7350e-02, -8.3371e-04]],\n",
      "\n",
      "         [[ 4.9527e-03,  2.4143e-02,  7.3936e-03],\n",
      "          [-9.7727e-03,  8.3049e-02,  3.9578e-02],\n",
      "          [-1.1613e-01, -1.1898e-01,  9.7184e-02]],\n",
      "\n",
      "         [[ 1.4260e-01, -9.4835e-02,  4.4578e-02],\n",
      "          [ 2.9626e-02,  1.3749e-01,  1.5651e-01],\n",
      "          [ 1.0320e-01, -1.5287e-01, -4.5712e-04]]],\n",
      "\n",
      "\n",
      "        [[[ 8.7692e-03,  1.0285e-01, -1.2053e-02],\n",
      "          [ 1.0201e-01,  2.7628e-02, -1.0101e-01],\n",
      "          [ 8.0983e-02,  6.6656e-02, -1.1217e-01]],\n",
      "\n",
      "         [[-1.3258e-01,  7.7201e-02,  2.3365e-02],\n",
      "          [ 7.4087e-02, -1.7773e-02,  1.3969e-01],\n",
      "          [-1.0062e-01, -9.8946e-02, -1.0192e-01]],\n",
      "\n",
      "         [[ 1.7907e-02,  4.2669e-02, -1.1355e-01],\n",
      "          [-6.6346e-02,  8.5088e-02, -4.8803e-02],\n",
      "          [ 1.1522e-01,  1.4399e-01,  1.2276e-01]],\n",
      "\n",
      "         [[-1.6494e-01, -1.2726e-01,  1.5181e-01],\n",
      "          [ 1.1581e-01, -1.6516e-01, -7.2976e-02],\n",
      "          [ 2.7179e-02,  1.3552e-01, -1.5118e-01]]],\n",
      "\n",
      "\n",
      "        [[[ 2.4919e-02,  4.2615e-02, -1.2115e-01],\n",
      "          [ 1.5093e-01,  1.2092e-02,  1.3017e-01],\n",
      "          [-9.0413e-02, -1.9631e-02, -2.2822e-02]],\n",
      "\n",
      "         [[-6.8581e-02, -1.2034e-01,  2.2590e-05],\n",
      "          [ 9.4809e-02, -4.3903e-02, -9.5222e-02],\n",
      "          [ 1.3899e-01,  3.1251e-02,  3.1064e-02]],\n",
      "\n",
      "         [[ 3.7878e-02,  1.1339e-02, -5.2814e-03],\n",
      "          [-1.2392e-01,  3.2786e-02, -4.1601e-02],\n",
      "          [-1.0544e-01, -3.6774e-02,  1.6433e-01]],\n",
      "\n",
      "         [[ 2.0974e-02,  1.6250e-01, -4.6995e-02],\n",
      "          [-1.3071e-01,  1.2925e-01, -1.5960e-01],\n",
      "          [ 7.9415e-02,  7.3112e-03, -1.0644e-01]]],\n",
      "\n",
      "\n",
      "        [[[ 7.8587e-02, -1.4817e-01, -1.3982e-01],\n",
      "          [-1.5767e-01, -1.6376e-02,  7.1533e-02],\n",
      "          [-6.8248e-02,  6.6542e-02, -8.6731e-02]],\n",
      "\n",
      "         [[ 1.4561e-01,  1.1765e-01, -1.6592e-01],\n",
      "          [ 1.1290e-01,  1.4443e-01, -7.2662e-02],\n",
      "          [ 5.2944e-02,  2.6044e-02, -1.1754e-01]],\n",
      "\n",
      "         [[-4.0543e-02,  4.5989e-02, -8.7331e-02],\n",
      "          [ 1.3983e-01, -1.2617e-01,  1.5402e-01],\n",
      "          [-1.0054e-01, -8.1375e-02, -9.4191e-02]],\n",
      "\n",
      "         [[ 1.3691e-01,  1.6302e-01, -1.1441e-01],\n",
      "          [-1.3781e-01, -1.4288e-01, -1.6450e-01],\n",
      "          [ 9.8868e-02, -1.1257e-01, -1.1424e-01]]]], requires_grad=True)\n",
      "Parameter containing:\n",
      "tensor([ 0.1109,  0.0818, -0.0161,  0.0404,  0.0191,  0.0123,  0.0927,  0.0623],\n",
      "       requires_grad=True)\n",
      "Parameter containing:\n",
      "tensor([[[[-6.4092e-02, -3.1465e-02, -6.8237e-02],\n",
      "          [ 2.7404e-02, -6.9212e-02,  7.7204e-02],\n",
      "          [ 5.0668e-02,  7.0824e-02,  8.0222e-02]],\n",
      "\n",
      "         [[-1.0916e-01,  5.3141e-02, -9.8176e-02],\n",
      "          [ 5.4667e-02,  6.8225e-02,  1.0558e-01],\n",
      "          [-1.6650e-02, -5.1510e-02,  5.5657e-02]],\n",
      "\n",
      "         [[ 1.1070e-01, -8.2109e-02,  4.7698e-02],\n",
      "          [-1.1312e-01, -5.4925e-02,  2.3319e-02],\n",
      "          [ 5.8383e-02, -1.2159e-02,  8.0396e-02]],\n",
      "\n",
      "         ...,\n",
      "\n",
      "         [[-4.9815e-02,  6.1516e-02,  3.5935e-02],\n",
      "          [-1.1433e-01,  7.0586e-02,  1.3920e-02],\n",
      "          [-9.4567e-02, -9.2577e-02, -7.2072e-02]],\n",
      "\n",
      "         [[ 3.8136e-02, -1.0326e-01,  1.1181e-01],\n",
      "          [ 6.6397e-02,  4.9154e-02,  6.3882e-02],\n",
      "          [-9.1358e-02,  2.4283e-02, -5.0245e-02]],\n",
      "\n",
      "         [[ 8.8551e-02, -5.3140e-02, -3.5793e-03],\n",
      "          [ 6.5518e-02,  3.8919e-03,  3.9921e-02],\n",
      "          [ 3.7897e-02, -3.4166e-02, -2.0804e-02]]],\n",
      "\n",
      "\n",
      "        [[[ 6.4736e-02, -8.8344e-02,  6.7194e-02],\n",
      "          [-5.6935e-02, -2.6300e-02,  7.2514e-02],\n",
      "          [ 9.2074e-02, -8.4251e-02,  3.6520e-02]],\n",
      "\n",
      "         [[ 1.0470e-01, -4.0138e-02,  6.0102e-02],\n",
      "          [-1.0128e-01, -1.1141e-01,  1.0395e-01],\n",
      "          [-6.6728e-04,  3.4503e-02, -1.9531e-02]],\n",
      "\n",
      "         [[ 5.0636e-02,  7.6917e-02, -3.6622e-02],\n",
      "          [-7.1929e-02,  7.0083e-02, -9.0942e-02],\n",
      "          [ 1.1194e-01,  1.0497e-01, -8.8310e-02]],\n",
      "\n",
      "         ...,\n",
      "\n",
      "         [[-3.7423e-03, -9.6272e-02,  2.8214e-02],\n",
      "          [-2.4920e-02,  6.8069e-02,  1.1128e-01],\n",
      "          [ 8.9271e-02, -8.2675e-02,  4.7578e-02]],\n",
      "\n",
      "         [[-1.1571e-01,  5.7589e-03, -1.1407e-01],\n",
      "          [-5.4554e-02, -8.8620e-02,  8.6887e-02],\n",
      "          [-8.8266e-02, -1.0039e-01, -1.0708e-01]],\n",
      "\n",
      "         [[ 6.1680e-02,  5.3944e-04, -3.1449e-02],\n",
      "          [-3.8041e-02,  7.8389e-02, -1.8793e-02],\n",
      "          [-3.8062e-02, -1.6062e-02, -1.3374e-03]]],\n",
      "\n",
      "\n",
      "        [[[ 2.2015e-02,  1.0688e-01,  3.2213e-02],\n",
      "          [-6.2503e-02, -8.6449e-02, -1.1618e-01],\n",
      "          [ 1.8558e-02, -6.3326e-02, -6.4360e-02]],\n",
      "\n",
      "         [[ 8.2739e-02, -4.3909e-02,  6.3734e-02],\n",
      "          [ 9.0718e-02,  1.1526e-01,  8.4658e-02],\n",
      "          [ 2.3383e-02, -1.1435e-02, -3.1629e-02]],\n",
      "\n",
      "         [[ 5.8322e-02, -4.0108e-02, -3.6625e-03],\n",
      "          [ 1.0217e-01,  6.0995e-03, -1.0232e-01],\n",
      "          [ 3.5907e-02, -5.7327e-03,  4.1862e-02]],\n",
      "\n",
      "         ...,\n",
      "\n",
      "         [[-8.3735e-02,  7.6567e-02,  1.1080e-01],\n",
      "          [-1.5241e-02, -1.1009e-02,  1.1491e-01],\n",
      "          [ 1.1420e-01,  7.0051e-02, -3.3548e-02]],\n",
      "\n",
      "         [[ 6.2228e-02,  3.6491e-02,  7.4251e-02],\n",
      "          [-9.5199e-02,  9.1278e-02, -1.1036e-01],\n",
      "          [ 9.1553e-02,  7.4552e-02,  6.1424e-02]],\n",
      "\n",
      "         [[ 2.6235e-02,  8.3210e-02, -6.0260e-02],\n",
      "          [-1.0037e-01,  9.5289e-02, -5.7240e-02],\n",
      "          [-1.0764e-01,  7.0291e-02, -1.3338e-02]]],\n",
      "\n",
      "\n",
      "        ...,\n",
      "\n",
      "\n",
      "        [[[ 7.7817e-02, -9.5815e-02,  9.9432e-02],\n",
      "          [-8.4530e-02, -6.0472e-02,  9.9525e-02],\n",
      "          [-3.1490e-02,  5.8434e-02, -2.9156e-02]],\n",
      "\n",
      "         [[ 5.5620e-02,  7.9598e-02, -6.2655e-02],\n",
      "          [-7.5265e-02,  9.0129e-02, -6.1690e-02],\n",
      "          [-1.1346e-01, -1.0124e-02,  4.8481e-02]],\n",
      "\n",
      "         [[ 6.5395e-02, -1.1256e-01, -9.5583e-02],\n",
      "          [-6.2935e-02, -1.4337e-02, -8.9728e-02],\n",
      "          [-9.0522e-02, -1.3056e-02,  4.4635e-02]],\n",
      "\n",
      "         ...,\n",
      "\n",
      "         [[ 1.0673e-01,  1.0627e-01, -4.0525e-02],\n",
      "          [-8.6466e-02,  6.6217e-02, -6.4258e-02],\n",
      "          [ 3.9322e-02, -1.0664e-02,  4.9016e-02]],\n",
      "\n",
      "         [[ 6.5797e-02, -3.9376e-02, -3.2242e-02],\n",
      "          [ 3.3386e-02,  6.8625e-02,  3.8695e-02],\n",
      "          [-1.8979e-02, -1.9100e-02, -7.2886e-02]],\n",
      "\n",
      "         [[ 1.1380e-01,  1.0542e-01,  8.3376e-02],\n",
      "          [ 9.5055e-02,  6.6620e-02, -2.7597e-03],\n",
      "          [-6.3566e-03, -6.5985e-02, -2.7935e-02]]],\n",
      "\n",
      "\n",
      "        [[[ 8.5896e-02,  5.8849e-02,  5.3975e-03],\n",
      "          [ 2.4907e-02,  1.6431e-02,  1.1733e-01],\n",
      "          [-1.1276e-01, -6.5706e-02, -8.8270e-02]],\n",
      "\n",
      "         [[ 4.4214e-02,  8.4008e-03,  6.7690e-02],\n",
      "          [-2.9063e-02,  5.1577e-03,  1.0356e-01],\n",
      "          [ 1.0096e-02, -1.0388e-01, -2.4865e-02]],\n",
      "\n",
      "         [[-3.6532e-02, -8.4680e-02,  8.7934e-04],\n",
      "          [ 3.4119e-03,  4.9644e-02, -1.1152e-01],\n",
      "          [ 7.9979e-02, -3.1180e-02,  4.4371e-02]],\n",
      "\n",
      "         ...,\n",
      "\n",
      "         [[ 1.2150e-02, -1.0151e-02,  5.3062e-02],\n",
      "          [-9.7252e-02, -7.2532e-02, -5.9624e-03],\n",
      "          [-5.1877e-03, -8.2988e-02,  8.3445e-02]],\n",
      "\n",
      "         [[-5.6451e-02,  2.0077e-02, -9.6180e-02],\n",
      "          [-3.5701e-02, -9.3976e-02,  6.3536e-02],\n",
      "          [-7.0446e-03,  1.0772e-02, -1.0072e-03]],\n",
      "\n",
      "         [[-3.0568e-02,  5.3537e-02,  9.9033e-02],\n",
      "          [ 1.0195e-01,  7.8745e-02,  2.5458e-02],\n",
      "          [ 1.5386e-02,  1.0860e-01, -9.7425e-02]]],\n",
      "\n",
      "\n",
      "        [[[-7.1076e-02,  5.5046e-02, -5.8652e-02],\n",
      "          [-8.5315e-02,  5.9824e-02, -7.5103e-02],\n",
      "          [-2.7733e-02,  4.7940e-02, -3.9105e-02]],\n",
      "\n",
      "         [[-1.1060e-01,  2.2192e-02,  1.0858e-01],\n",
      "          [ 9.9800e-02, -5.1200e-02,  6.6523e-02],\n",
      "          [ 1.0284e-01, -8.4704e-02, -9.7192e-02]],\n",
      "\n",
      "         [[ 4.0062e-02, -7.9456e-02, -1.0618e-01],\n",
      "          [ 3.3454e-03,  9.3714e-02,  2.8799e-04],\n",
      "          [-1.0473e-01,  9.9146e-02, -2.4137e-02]],\n",
      "\n",
      "         ...,\n",
      "\n",
      "         [[-9.4405e-02, -6.1903e-02, -1.2030e-02],\n",
      "          [ 6.3547e-02, -5.2442e-02, -1.1159e-02],\n",
      "          [-4.2638e-02, -7.7852e-02, -9.2470e-02]],\n",
      "\n",
      "         [[-6.0126e-05, -1.7916e-02, -7.4075e-02],\n",
      "          [-5.0138e-02,  3.1863e-02,  6.3201e-02],\n",
      "          [-9.2675e-02,  6.9344e-02, -5.7756e-02]],\n",
      "\n",
      "         [[-6.2698e-02,  5.4620e-02, -3.9187e-02],\n",
      "          [-3.8240e-02, -8.0859e-02,  1.0080e-01],\n",
      "          [ 7.2145e-02, -9.3310e-03, -9.0658e-02]]]], requires_grad=True)\n",
      "Parameter containing:\n",
      "tensor([ 0.0135, -0.0046,  0.0697, -0.0591,  0.0477, -0.1034, -0.0305,  0.0089,\n",
      "        -0.0923, -0.0898,  0.0959, -0.0674,  0.0658, -0.0261, -0.0748,  0.0995],\n",
      "       requires_grad=True)\n",
      "Parameter containing:\n",
      "tensor([[[[ 0.0212, -0.0533,  0.0704],\n",
      "          [-0.0086, -0.0807, -0.0356],\n",
      "          [ 0.0789, -0.0399, -0.0134]],\n",
      "\n",
      "         [[ 0.0701,  0.0068,  0.0808],\n",
      "          [ 0.0375, -0.0712, -0.0085],\n",
      "          [-0.0301, -0.0636,  0.0669]],\n",
      "\n",
      "         [[-0.0569,  0.0609, -0.0692],\n",
      "          [ 0.0193, -0.0105, -0.0627],\n",
      "          [-0.0224, -0.0621, -0.0492]],\n",
      "\n",
      "         ...,\n",
      "\n",
      "         [[-0.0605,  0.0088,  0.0766],\n",
      "          [-0.0082,  0.0362, -0.0152],\n",
      "          [-0.0491,  0.0119, -0.0206]],\n",
      "\n",
      "         [[ 0.0367,  0.0376,  0.0772],\n",
      "          [ 0.0355,  0.0525,  0.0360],\n",
      "          [-0.0309,  0.0223,  0.0092]],\n",
      "\n",
      "         [[-0.0429,  0.0351,  0.0474],\n",
      "          [ 0.0124, -0.0466, -0.0607],\n",
      "          [ 0.0529,  0.0517, -0.0656]]],\n",
      "\n",
      "\n",
      "        [[[ 0.0452,  0.0151, -0.0430],\n",
      "          [-0.0004,  0.0687,  0.0215],\n",
      "          [-0.0024,  0.0058, -0.0659]],\n",
      "\n",
      "         [[ 0.0151, -0.0011,  0.0191],\n",
      "          [ 0.0480, -0.0194,  0.0284],\n",
      "          [-0.0161,  0.0259, -0.0700]],\n",
      "\n",
      "         [[ 0.0094, -0.0005,  0.0710],\n",
      "          [ 0.0420, -0.0648, -0.0624],\n",
      "          [-0.0189, -0.0710, -0.0415]],\n",
      "\n",
      "         ...,\n",
      "\n",
      "         [[ 0.0311, -0.0418,  0.0148],\n",
      "          [-0.0492,  0.0135,  0.0346],\n",
      "          [-0.0318, -0.0423, -0.0710]],\n",
      "\n",
      "         [[ 0.0452, -0.0721,  0.0466],\n",
      "          [ 0.0049,  0.0697, -0.0579],\n",
      "          [ 0.0333,  0.0674, -0.0220]],\n",
      "\n",
      "         [[ 0.0133,  0.0787, -0.0043],\n",
      "          [ 0.0507,  0.0108, -0.0768],\n",
      "          [ 0.0217, -0.0174, -0.0827]]],\n",
      "\n",
      "\n",
      "        [[[-0.0406,  0.0256, -0.0198],\n",
      "          [ 0.0462,  0.0509,  0.0398],\n",
      "          [ 0.0639,  0.0034, -0.0337]],\n",
      "\n",
      "         [[ 0.0410,  0.0607,  0.0739],\n",
      "          [-0.0343,  0.0079,  0.0404],\n",
      "          [ 0.0249, -0.0257,  0.0370]],\n",
      "\n",
      "         [[-0.0122, -0.0221, -0.0803],\n",
      "          [ 0.0275,  0.0259, -0.0619],\n",
      "          [ 0.0602,  0.0002,  0.0186]],\n",
      "\n",
      "         ...,\n",
      "\n",
      "         [[ 0.0639, -0.0651,  0.0784],\n",
      "          [ 0.0757, -0.0364, -0.0711],\n",
      "          [-0.0433,  0.0174, -0.0775]],\n",
      "\n",
      "         [[-0.0344,  0.0469, -0.0480],\n",
      "          [ 0.0005, -0.0626,  0.0755],\n",
      "          [ 0.0259, -0.0496,  0.0762]],\n",
      "\n",
      "         [[-0.0140,  0.0693,  0.0325],\n",
      "          [ 0.0557, -0.0070,  0.0004],\n",
      "          [ 0.0419,  0.0473, -0.0219]]],\n",
      "\n",
      "\n",
      "        ...,\n",
      "\n",
      "\n",
      "        [[[-0.0299, -0.0207, -0.0130],\n",
      "          [ 0.0604, -0.0719,  0.0296],\n",
      "          [ 0.0634, -0.0749,  0.0669]],\n",
      "\n",
      "         [[ 0.0388, -0.0528,  0.0291],\n",
      "          [-0.0404, -0.0755, -0.0424],\n",
      "          [ 0.0111,  0.0158,  0.0768]],\n",
      "\n",
      "         [[ 0.0427, -0.0105, -0.0291],\n",
      "          [ 0.0336, -0.0051,  0.0480],\n",
      "          [ 0.0583, -0.0299, -0.0273]],\n",
      "\n",
      "         ...,\n",
      "\n",
      "         [[ 0.0283, -0.0826,  0.0549],\n",
      "          [ 0.0570,  0.0111, -0.0028],\n",
      "          [-0.0817, -0.0092,  0.0579]],\n",
      "\n",
      "         [[-0.0619,  0.0079, -0.0380],\n",
      "          [-0.0190,  0.0739,  0.0523],\n",
      "          [ 0.0072,  0.0087, -0.0273]],\n",
      "\n",
      "         [[-0.0635, -0.0344, -0.0017],\n",
      "          [ 0.0317, -0.0688,  0.0602],\n",
      "          [ 0.0386,  0.0757,  0.0696]]],\n",
      "\n",
      "\n",
      "        [[[ 0.0801,  0.0553, -0.0163],\n",
      "          [ 0.0540,  0.0672, -0.0724],\n",
      "          [ 0.0516, -0.0440, -0.0427]],\n",
      "\n",
      "         [[ 0.0258,  0.0371, -0.0444],\n",
      "          [-0.0111, -0.0666, -0.0791],\n",
      "          [ 0.0424, -0.0442,  0.0439]],\n",
      "\n",
      "         [[ 0.0592,  0.0584, -0.0682],\n",
      "          [-0.0391,  0.0474, -0.0744],\n",
      "          [ 0.0164, -0.0823, -0.0390]],\n",
      "\n",
      "         ...,\n",
      "\n",
      "         [[ 0.0128,  0.0230,  0.0371],\n",
      "          [-0.0320, -0.0096,  0.0815],\n",
      "          [ 0.0480,  0.0176,  0.0501]],\n",
      "\n",
      "         [[ 0.0822, -0.0205, -0.0141],\n",
      "          [ 0.0571, -0.0400, -0.0522],\n",
      "          [-0.0367,  0.0716,  0.0494]],\n",
      "\n",
      "         [[ 0.0092, -0.0201,  0.0021],\n",
      "          [ 0.0352, -0.0318, -0.0541],\n",
      "          [ 0.0080, -0.0531, -0.0194]]],\n",
      "\n",
      "\n",
      "        [[[-0.0291, -0.0561,  0.0819],\n",
      "          [ 0.0108, -0.0138, -0.0156],\n",
      "          [ 0.0156, -0.0311,  0.0115]],\n",
      "\n",
      "         [[ 0.0096,  0.0568, -0.0803],\n",
      "          [ 0.0453,  0.0599,  0.0030],\n",
      "          [ 0.0559, -0.0392, -0.0219]],\n",
      "\n",
      "         [[-0.0164,  0.0764,  0.0120],\n",
      "          [-0.0411,  0.0175,  0.0641],\n",
      "          [-0.0212, -0.0585, -0.0487]],\n",
      "\n",
      "         ...,\n",
      "\n",
      "         [[ 0.0023,  0.0312, -0.0140],\n",
      "          [ 0.0622, -0.0193, -0.0449],\n",
      "          [ 0.0244,  0.0744, -0.0112]],\n",
      "\n",
      "         [[-0.0440,  0.0203, -0.0485],\n",
      "          [-0.0043,  0.0606,  0.0331],\n",
      "          [-0.0091, -0.0282, -0.0535]],\n",
      "\n",
      "         [[ 0.0803,  0.0750,  0.0517],\n",
      "          [-0.0448, -0.0027, -0.0731],\n",
      "          [ 0.0086, -0.0079, -0.0085]]]], requires_grad=True)\n",
      "Parameter containing:\n",
      "tensor([ 0.0510, -0.0044,  0.0203,  0.0111, -0.0733,  0.0155, -0.0680,  0.0054,\n",
      "         0.0417,  0.0567, -0.0600, -0.0459, -0.0333,  0.0748,  0.0730, -0.0790,\n",
      "         0.0565, -0.0454,  0.0800, -0.0121, -0.0177,  0.0580, -0.0574,  0.0303,\n",
      "         0.0255,  0.0347, -0.0705,  0.0787, -0.0437, -0.0348,  0.0732, -0.0419],\n",
      "       requires_grad=True)\n",
      "Parameter containing:\n",
      "tensor([[[[ 5.1453e-02, -5.6247e-03,  1.3382e-02],\n",
      "          [-5.3449e-04,  5.3211e-02, -6.8713e-03],\n",
      "          [ 2.9530e-02,  6.2503e-03, -1.4585e-02]],\n",
      "\n",
      "         [[-5.3693e-02, -3.3755e-02, -6.2033e-03],\n",
      "          [-2.7834e-02,  4.4154e-02,  4.3224e-02],\n",
      "          [ 6.4275e-03,  5.1380e-02,  4.2534e-02]],\n",
      "\n",
      "         [[ 2.9459e-03, -1.7471e-02, -5.5567e-02],\n",
      "          [-2.8691e-02, -3.9031e-02,  2.3194e-02],\n",
      "          [ 9.4645e-03,  1.4142e-02,  4.3782e-02]],\n",
      "\n",
      "         ...,\n",
      "\n",
      "         [[-5.7296e-02,  5.0676e-02,  1.6562e-02],\n",
      "          [-4.8243e-02,  2.8590e-02,  1.8468e-02],\n",
      "          [ 1.7763e-02, -2.0752e-02,  4.8955e-03]],\n",
      "\n",
      "         [[ 2.4900e-02, -1.2948e-02,  5.6850e-02],\n",
      "          [-4.0805e-03, -4.9865e-02, -4.5324e-02],\n",
      "          [ 4.1114e-02, -1.2448e-02,  5.4175e-02]],\n",
      "\n",
      "         [[ 5.7261e-02,  1.5721e-02, -5.7009e-02],\n",
      "          [-3.3041e-02, -2.2167e-02, -3.2928e-02],\n",
      "          [ 4.9648e-02, -2.3947e-02,  4.8389e-02]]],\n",
      "\n",
      "\n",
      "        [[[-3.8707e-02,  4.4817e-02, -4.4926e-02],\n",
      "          [-5.8682e-02, -3.2871e-02,  3.1894e-02],\n",
      "          [-5.4331e-02, -1.5453e-02, -2.7886e-02]],\n",
      "\n",
      "         [[-2.9313e-02, -8.9554e-03, -3.0887e-02],\n",
      "          [-4.3319e-02,  3.4487e-02, -1.9609e-02],\n",
      "          [ 4.1792e-03, -7.9030e-03,  1.4886e-02]],\n",
      "\n",
      "         [[ 1.9449e-02,  2.2604e-02,  3.4615e-02],\n",
      "          [-1.5740e-02, -4.5018e-02, -2.4744e-02],\n",
      "          [-4.7526e-02,  3.4459e-02,  2.9036e-02]],\n",
      "\n",
      "         ...,\n",
      "\n",
      "         [[ 1.9247e-02,  5.8150e-02,  3.3899e-02],\n",
      "          [ 7.5445e-04, -6.1819e-03,  2.3664e-02],\n",
      "          [ 1.9194e-02,  4.7972e-02,  3.0065e-02]],\n",
      "\n",
      "         [[-5.3376e-02, -3.5042e-02, -1.3623e-02],\n",
      "          [-4.9422e-02,  4.4575e-02, -4.1526e-02],\n",
      "          [-1.8588e-02, -5.0247e-05,  4.4704e-02]],\n",
      "\n",
      "         [[ 1.7222e-02, -4.2486e-02, -3.0522e-02],\n",
      "          [-3.9631e-02, -1.5791e-02,  5.5310e-02],\n",
      "          [-7.9642e-03,  1.1302e-02, -1.0404e-02]]],\n",
      "\n",
      "\n",
      "        [[[ 5.1163e-02, -4.1141e-02, -3.5818e-02],\n",
      "          [-2.0114e-02, -2.7441e-02,  4.5930e-02],\n",
      "          [-5.6126e-02, -5.4366e-02,  3.7429e-02]],\n",
      "\n",
      "         [[-2.1489e-02,  8.8447e-03, -5.8287e-02],\n",
      "          [-1.7898e-02,  4.6458e-02,  5.2914e-02],\n",
      "          [-1.1077e-02,  2.2964e-02, -3.7404e-02]],\n",
      "\n",
      "         [[ 3.6912e-02, -4.9618e-02,  4.9217e-02],\n",
      "          [ 1.0849e-02, -3.6436e-02, -4.4856e-02],\n",
      "          [-5.0013e-02, -5.3628e-02, -4.5079e-02]],\n",
      "\n",
      "         ...,\n",
      "\n",
      "         [[-5.4464e-04, -3.1628e-03,  6.6283e-03],\n",
      "          [ 3.9929e-02, -9.6584e-03,  5.6726e-02],\n",
      "          [ 3.5031e-03,  2.0753e-02,  2.8501e-02]],\n",
      "\n",
      "         [[-8.6601e-04, -1.3625e-03, -4.2000e-02],\n",
      "          [ 1.5739e-02, -5.0496e-03, -1.3258e-02],\n",
      "          [-3.8975e-02,  3.6404e-02, -5.7347e-02]],\n",
      "\n",
      "         [[-1.9032e-02,  2.3951e-02,  8.2553e-03],\n",
      "          [ 1.4728e-02, -2.0205e-02,  2.8011e-02],\n",
      "          [ 5.6619e-02,  5.7787e-02,  2.9459e-02]]],\n",
      "\n",
      "\n",
      "        ...,\n",
      "\n",
      "\n",
      "        [[[-4.6129e-04, -5.7151e-02,  2.8128e-02],\n",
      "          [ 3.7896e-02, -2.9470e-02,  1.7718e-02],\n",
      "          [ 2.7210e-02,  4.0499e-02,  4.1277e-02]],\n",
      "\n",
      "         [[-1.3548e-03,  1.8424e-02, -1.1561e-02],\n",
      "          [ 2.6017e-02,  3.3498e-02,  6.9804e-03],\n",
      "          [ 2.2120e-02, -4.2915e-02,  5.8908e-02]],\n",
      "\n",
      "         [[ 2.6933e-03,  3.5118e-03,  2.3259e-02],\n",
      "          [-5.2699e-02,  4.0240e-02,  3.8046e-02],\n",
      "          [ 4.9823e-02,  8.3267e-03,  8.7964e-03]],\n",
      "\n",
      "         ...,\n",
      "\n",
      "         [[-5.1843e-02, -4.6379e-02,  3.1139e-02],\n",
      "          [-1.5362e-02,  3.7457e-02, -4.1108e-02],\n",
      "          [-5.3096e-02, -1.2385e-03, -3.0633e-03]],\n",
      "\n",
      "         [[ 4.3162e-02,  5.1922e-02,  5.0985e-02],\n",
      "          [-1.8559e-02, -2.5377e-02, -3.4936e-02],\n",
      "          [-3.6357e-02,  1.0427e-02, -1.0517e-02]],\n",
      "\n",
      "         [[ 3.9752e-02, -1.8314e-02, -2.5924e-02],\n",
      "          [ 4.2287e-02,  2.7830e-03,  3.5471e-02],\n",
      "          [-1.6666e-02, -2.8636e-02,  3.3647e-02]]],\n",
      "\n",
      "\n",
      "        [[[ 2.7253e-02, -6.7688e-03,  4.9947e-03],\n",
      "          [ 4.4778e-02, -5.2739e-02,  4.3439e-02],\n",
      "          [ 4.2703e-02, -3.0991e-03, -6.9673e-03]],\n",
      "\n",
      "         [[ 4.0236e-02, -1.3556e-02,  2.3173e-02],\n",
      "          [-5.8106e-03, -4.1935e-02, -6.2995e-03],\n",
      "          [-5.4844e-02, -4.3259e-02, -5.4933e-02]],\n",
      "\n",
      "         [[ 8.6228e-03, -1.2586e-02,  3.4451e-02],\n",
      "          [-4.1470e-02,  2.5239e-02, -1.4770e-02],\n",
      "          [-3.1931e-02,  5.4524e-02, -3.6345e-02]],\n",
      "\n",
      "         ...,\n",
      "\n",
      "         [[ 3.6085e-02,  2.0938e-02, -1.6240e-02],\n",
      "          [ 3.9334e-02,  5.3234e-02,  3.8682e-02],\n",
      "          [-1.4550e-03,  1.2902e-02,  7.2817e-03]],\n",
      "\n",
      "         [[ 4.7104e-02,  3.2297e-02,  1.8713e-02],\n",
      "          [ 2.1786e-02,  1.4029e-02,  4.0980e-02],\n",
      "          [-3.3943e-02,  4.3274e-02, -1.0412e-02]],\n",
      "\n",
      "         [[ 6.0540e-03, -5.7070e-02,  4.1500e-03],\n",
      "          [-2.5738e-02, -2.6173e-02, -3.6705e-02],\n",
      "          [ 1.8536e-02,  5.1268e-02,  3.2037e-02]]],\n",
      "\n",
      "\n",
      "        [[[-3.8876e-02, -2.7087e-02,  3.4641e-02],\n",
      "          [ 1.7958e-02, -3.5977e-02,  2.0156e-02],\n",
      "          [-6.2376e-03,  3.1049e-02,  1.7711e-02]],\n",
      "\n",
      "         [[ 2.9170e-02, -2.8949e-02,  2.2157e-02],\n",
      "          [ 5.3811e-02, -3.7554e-02, -5.3583e-02],\n",
      "          [-2.7075e-02,  5.1123e-03, -5.8109e-02]],\n",
      "\n",
      "         [[ 6.6223e-04, -1.6481e-02, -6.6032e-03],\n",
      "          [ 2.0829e-02, -3.8944e-02,  4.7752e-02],\n",
      "          [ 5.6871e-02, -1.2751e-02,  4.0868e-03]],\n",
      "\n",
      "         ...,\n",
      "\n",
      "         [[ 5.0790e-02, -2.7477e-02, -1.8223e-02],\n",
      "          [-4.2229e-03, -4.8096e-02,  5.4310e-02],\n",
      "          [-9.8577e-03,  3.5632e-04, -4.8944e-02]],\n",
      "\n",
      "         [[ 4.4303e-02,  1.5578e-02, -4.5884e-02],\n",
      "          [-7.1405e-03,  2.4480e-02,  2.7767e-02],\n",
      "          [ 4.2433e-02,  1.0519e-02, -5.5700e-02]],\n",
      "\n",
      "         [[ 5.2392e-02,  4.5141e-02,  1.2738e-02],\n",
      "          [-1.5370e-02, -4.5236e-02, -3.8459e-02],\n",
      "          [-3.1163e-02, -1.7225e-02, -2.2896e-02]]]], requires_grad=True)\n",
      "Parameter containing:\n",
      "tensor([ 0.0006, -0.0402,  0.0518,  0.0298,  0.0077, -0.0537,  0.0337, -0.0173,\n",
      "        -0.0340,  0.0376], requires_grad=True)\n"
     ]
    }
   ],
   "source": [
    "for params in conv_model.parameters():\n",
    "    print(params)"
   ]
  },
  {
   "cell_type": "markdown",
   "id": "f3eb9a91-7e59-4693-9254-a4acaa2e1fdf",
   "metadata": {},
   "source": [
    "## CNN学習"
   ]
  },
  {
   "cell_type": "code",
   "execution_count": 28,
   "id": "4eaca39c-c2d4-4a48-a1c2-d16276b11461",
   "metadata": {},
   "outputs": [
    {
     "name": "stderr",
     "output_type": "stream",
     "text": [
      "                                                            "
     ]
    },
    {
     "name": "stdout",
     "output_type": "stream",
     "text": [
      "epoch: 0: train error: 2.298039718985812, validation error: 2.2878197929527184, validation accuracy: 0.11402294303797468\n"
     ]
    },
    {
     "name": "stderr",
     "output_type": "stream",
     "text": [
      "                                                            "
     ]
    },
    {
     "name": "stdout",
     "output_type": "stream",
     "text": [
      "epoch: 1: train error: 1.5693096101029849, validation error: 0.5059605084265335, validation accuracy: 0.8435522151898734\n"
     ]
    },
    {
     "name": "stderr",
     "output_type": "stream",
     "text": [
      "                                                            "
     ]
    },
    {
     "name": "stdout",
     "output_type": "stream",
     "text": [
      "epoch: 2: train error: 0.37877478232897166, validation error: 0.31678472440454025, validation accuracy: 0.9023931962025317\n"
     ]
    },
    {
     "name": "stderr",
     "output_type": "stream",
     "text": [
      "                                                            "
     ]
    },
    {
     "name": "stdout",
     "output_type": "stream",
     "text": [
      "epoch: 3: train error: 0.25892823122775377, validation error: 0.20812267118098238, validation accuracy: 0.9347310126582279\n"
     ]
    },
    {
     "name": "stderr",
     "output_type": "stream",
     "text": [
      "                                                            "
     ]
    },
    {
     "name": "stdout",
     "output_type": "stream",
     "text": [
      "epoch: 4: train error: 0.206059094828202, validation error: 0.17719816242026376, validation accuracy: 0.9439280063291139\n"
     ]
    },
    {
     "name": "stderr",
     "output_type": "stream",
     "text": [
      "                                                            "
     ]
    },
    {
     "name": "stdout",
     "output_type": "stream",
     "text": [
      "epoch: 5: train error: 0.1728220936506669, validation error: 0.14816900340934533, validation accuracy: 0.952432753164557\n"
     ]
    },
    {
     "name": "stderr",
     "output_type": "stream",
     "text": [
      "                                                            "
     ]
    },
    {
     "name": "stdout",
     "output_type": "stream",
     "text": [
      "epoch: 6: train error: 0.1520310082335843, validation error: 0.14340204079458607, validation accuracy: 0.9549050632911392\n"
     ]
    },
    {
     "name": "stderr",
     "output_type": "stream",
     "text": [
      "                                                            "
     ]
    },
    {
     "name": "stdout",
     "output_type": "stream",
     "text": [
      "epoch: 7: train error: 0.1358140671192837, validation error: 0.12683525928472983, validation accuracy: 0.9599485759493671\n"
     ]
    },
    {
     "name": "stderr",
     "output_type": "stream",
     "text": [
      "                                                            "
     ]
    },
    {
     "name": "stdout",
     "output_type": "stream",
     "text": [
      "epoch: 8: train error: 0.122908847001411, validation error: 0.1187052632729181, validation accuracy: 0.9611352848101266\n"
     ]
    },
    {
     "name": "stderr",
     "output_type": "stream",
     "text": [
      "                                                            "
     ]
    },
    {
     "name": "stdout",
     "output_type": "stream",
     "text": [
      "epoch: 9: train error: 0.11205344076858147, validation error: 0.1193800329855537, validation accuracy: 0.963310917721519\n",
      "time : 76.52782988548279\n"
     ]
    },
    {
     "name": "stderr",
     "output_type": "stream",
     "text": [
      "\r"
     ]
    }
   ],
   "source": [
    "transform = transforms.Compose([transforms.ToTensor(),\n",
    "                                transforms.Normalize((0.5,), (0.5,))])\n",
    "train_dataset = torchvision.datasets.MNIST(root = './mnist_data', train = True, download = True, transform = transform)\n",
    "val_dataset = torchvision.datasets.MNIST(root = './mnist_data', train = False, download = True, transform = transform)\n",
    "\n",
    "train_dataloader = DataLoader(train_dataset, batch_size = 128, shuffle = True, num_workers = 4)\n",
    "val_dataloader = DataLoader(val_dataset, batch_size = 128, num_workers = 4)\n",
    "\n",
    "conv_model = nn.Sequential(\n",
    "                # 1✖️28✖️28\n",
    "                nn.Conv2d(1, 4, kernel_size = 3, stride = 2, padding = 1),\n",
    "                nn.ReLU(),\n",
    "                # 4✖️14✖️14\n",
    "                nn.Conv2d(4, 8, kernel_size = 3, stride = 2, padding = 1),\n",
    "                nn.ReLU(),\n",
    "                # 8✖️7✖️7\n",
    "                nn.Conv2d(8, 16, kernel_size = 3, stride = 2, padding = 1),\n",
    "                nn.ReLU(),\n",
    "                # 16✖️4✖️4\n",
    "                nn.Conv2d(16, 32, kernel_size = 3, stride = 2, padding = 1),\n",
    "                nn.ReLU(),\n",
    "                # 32✖️2✖️2\n",
    "                # nn.Flatten()\n",
    "                # # 128\n",
    "                # nn.Linear(128, 10)\n",
    "                nn.Conv2d(32, 10, kernel_size = 3, stride = 2, padding = 1),\n",
    "                # 10✖️1✖️1\n",
    "                nn.Flatten()\n",
    "                # 10\n",
    "             )\n",
    "opt = optim.SGD(conv_model.parameters(), lr = 0.03)\n",
    "start = time.time()\n",
    "train_losses, val_losses, val_accuracies = utils.learn(conv_model, train_dataloader, val_dataloader, opt, F.cross_entropy, num_epoch = 10)\n",
    "end = time.time()\n",
    "print(f'time : {end - start}')"
   ]
  },
  {
   "cell_type": "code",
   "execution_count": 29,
   "id": "62dc5751-8b6c-4997-817e-0716795256ab",
   "metadata": {},
   "outputs": [
    {
     "data": {
      "text/plain": [
       "[<matplotlib.lines.Line2D at 0x7fff2b58c040>]"
      ]
     },
     "execution_count": 29,
     "metadata": {},
     "output_type": "execute_result"
    },
    {
     "data": {
      "image/png": "[encoded data removed]",
      "text/plain": [
       "<Figure size 640x480 with 1 Axes>"
      ]
     },
     "metadata": {},
     "output_type": "display_data"
    }
   ],
   "source": [
    "plt.plot(train_losses)\n",
    "plt.plot(val_losses)"
   ]
  },
  {
   "cell_type": "code",
   "execution_count": null,
   "id": "3fb7f1f0-aea3-44e4-95b0-3d957593977c",
   "metadata": {},
   "outputs": [],
   "source": []
  }
 ],
 "metadata": {
  "kernelspec": {
   "display_name": "Python 3 (ipykernel)",
   "language": "python",
   "name": "python3"
  },
  "language_info": {
   "codemirror_mode": {
    "name": "ipython",
    "version": 3
   },
   "file_extension": ".py",
   "mimetype": "text/x-python",
   "name": "python",
   "nbconvert_exporter": "python",
   "pygments_lexer": "ipython3",
   "version": "3.8.18"
  }
 },
 "nbformat": 4,
 "nbformat_minor": 5
}
