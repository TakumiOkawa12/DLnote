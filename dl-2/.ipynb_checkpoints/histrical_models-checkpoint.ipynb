{
 "cells": [
  {
   "cell_type": "markdown",
   "id": "9dfcb79b-3d93-41bb-933e-abe9b87b78a1",
   "metadata": {},
   "source": [
    "## 有名なモデルを実装"
   ]
  },
  {
   "cell_type": "code",
   "execution_count": 1,
   "id": "9e67e6c8-8c3f-4af6-b3ff-a15c362d92b9",
   "metadata": {},
   "outputs": [],
   "source": [
    "import torch\n",
    "from torch.nn import functional as F\n",
    "from torch import nn, optim\n",
    "from torch.utils.data import DataLoader, Subset\n",
    "import torchvision\n",
    "from torchvision import models, transforms\n",
    "from torchvision.models.vgg import VGG11_Weights\n",
    "\n",
    "%load_ext autoreload\n",
    "%autoreload 2\n",
    "import utils"
   ]
  },
  {
   "cell_type": "markdown",
   "id": "9b29e635-0d42-4171-b84c-03d872693521",
   "metadata": {},
   "source": [
    "### LeNet"
   ]
  },
  {
   "cell_type": "code",
   "execution_count": 2,
   "id": "cba7ef27-43ea-4573-a50d-3a995924361b",
   "metadata": {},
   "outputs": [],
   "source": [
    "class LeNet(nn.Module):\n",
    "    def __init__(self):\n",
    "        super().__init__()\n",
    "        self.conv1 = nn.Conv2d(1, 6, 5)\n",
    "        self.conv2 = nn.Conv2d(6, 16, 5)\n",
    "        self.flatten = nn.Flatten()\n",
    "        self.fc1 = nn.Linear(16*5*5, 120)\n",
    "        self.fc2 = nn.Linear(120, 84)\n",
    "        self.fc3 = nn.Linear(84, 10)\n",
    "\n",
    "    def forward(self, X):\n",
    "        X = F.max_pool2d(F.relu(self.conv1(X)), 2)\n",
    "        X = F.max_pool2d(F.relu(self.conv2(X)), 2)\n",
    "        X = self.flatten(X)\n",
    "        X = F.relu(self.fc1(X))\n",
    "        X = F.relu(self.fc2(X))\n",
    "        X = self.fc3(X)\n",
    "        return X"
   ]
  },
  {
   "cell_type": "code",
   "execution_count": 3,
   "id": "08ec12bf-4a8b-45da-9219-dfa65adf2a73",
   "metadata": {},
   "outputs": [
    {
     "data": {
      "text/plain": [
       "torch.Size([128, 10])"
      ]
     },
     "execution_count": 3,
     "metadata": {},
     "output_type": "execute_result"
    }
   ],
   "source": [
    "lenet = LeNet()\n",
    "X = torch.randn((128, 1, 32, 32))\n",
    "out = lenet(X)\n",
    "out.shape"
   ]
  },
  {
   "cell_type": "markdown",
   "id": "e3db64ce-62cf-4c91-aa43-d44778a7963a",
   "metadata": {},
   "source": [
    "### 既存のモデルの使用"
   ]
  },
  {
   "cell_type": "code",
   "execution_count": 4,
   "id": "c5ee510b-c113-4b60-ade0-e248ba039f80",
   "metadata": {},
   "outputs": [
    {
     "name": "stderr",
     "output_type": "stream",
     "text": [
      "Downloading: \"https://download.pytorch.org/models/vgg11-8a719046.pth\" to /root/.cache/torch/hub/checkpoints/vgg11-8a719046.pth\n",
      "100%|██████████| 507M/507M [00:55<00:00, 9.51MB/s] \n"
     ]
    },
    {
     "data": {
      "text/plain": [
       "Sequential(\n",
       "  (0): Linear(in_features=25088, out_features=4096, bias=True)\n",
       "  (1): ReLU(inplace=True)\n",
       "  (2): Dropout(p=0.5, inplace=False)\n",
       "  (3): Linear(in_features=4096, out_features=4096, bias=True)\n",
       "  (4): ReLU(inplace=True)\n",
       "  (5): Dropout(p=0.5, inplace=False)\n",
       "  (6): Linear(in_features=4096, out_features=1000, bias=True)\n",
       ")"
      ]
     },
     "execution_count": 4,
     "metadata": {},
     "output_type": "execute_result"
    }
   ],
   "source": [
    "model = models.vgg11(weights=VGG11_Weights.IMAGENET1K_V1)\n",
    "model.classifier"
   ]
  },
  {
   "cell_type": "code",
   "execution_count": 6,
   "id": "221627b8-f341-4b98-87ea-427dc98edb00",
   "metadata": {},
   "outputs": [
    {
     "name": "stdout",
     "output_type": "stream",
     "text": [
      "Files already downloaded and verified\n",
      "Files already downloaded and verified\n"
     ]
    }
   ],
   "source": [
    "# データ準備\n",
    "transform = transforms.Compose([\n",
    "    transforms.ToTensor(),\n",
    "    # transforms.Normalize((0.5, 0.5, 0.5), (0.5, 0.5, 0.5))])\n",
    "    # CIFAR10用\n",
    "    transforms.Normalize(mean=[0.4914, 0.4822, 0.4465], std=[0.2023, 0.1994, 0.2010])\n",
    "])\n",
    "classes = ('plane', 'car', 'bird', 'cat',\n",
    "           'deer', 'dog', 'frog', 'horse', 'ship', 'truck')\n",
    "train_dataset = torchvision.datasets.CIFAR10('./cifar10_data', train=True, download=True, transform=transform)\n",
    "val_dataset = torchvision.datasets.CIFAR10('./cifar10_data', train=False, download=True, transform=transform)"
   ]
  },
  {
   "cell_type": "code",
   "execution_count": 7,
   "id": "eea23cbe-44cc-4518-adf7-3a986ead04f8",
   "metadata": {},
   "outputs": [],
   "source": [
    "# データ量が多くて学習できない場合はサブデータを使用する\n",
    "train_dataset_sub = Subset(train_dataset, range(500))\n",
    "val_dataset_sub = Subset(val_dataset, range(250))\n",
    "train_loader = DataLoader(train_dataset_sub, batch_size=16, shuffle=True, num_workers=4)\n",
    "val_loader = DataLoader(val_dataset_sub, batch_size=16, num_workers=4)"
   ]
  },
  {
   "cell_type": "code",
   "execution_count": 7,
   "id": "e032b7cf-825e-4464-921a-8e8ffec37c06",
   "metadata": {},
   "outputs": [],
   "source": [
    "# 最終層の出力を10クラス分類用にする\n",
    "model.classifier[-1] = nn.Linear(4096, 10)"
   ]
  },
  {
   "cell_type": "code",
   "execution_count": 8,
   "id": "99339873-ca1f-4aea-ac39-bd7f0bc3527f",
   "metadata": {},
   "outputs": [],
   "source": [
    "# GPUで学習する場合は以下のように.to(device)でGPUにモデルを移動させる\n",
    "device = torch.device(\"cuda\" if torch.cuda.is_available() else \"cpu\") \n",
    "model.to(device)\n",
    "opt = optim.SGD(model.parameters(), lr=0.03)"
   ]
  },
  {
   "cell_type": "code",
   "execution_count": null,
   "id": "95edbefb-62ef-469b-9499-cae475276a7b",
   "metadata": {},
   "outputs": [
    {
     "name": "stderr",
     "output_type": "stream",
     "text": [
      "Training:   0%|          | 0/32 [00:00<?, ?it/s]"
     ]
    }
   ],
   "source": [
    "import time\n",
    "start = time.time()\n",
    "train_losses, val_losses, val_accuracies = utils.learn(model, train_loader, val_loader, opt, F.cross_entropy, 3)\n",
    "end = time.time()\n",
    "print(end - start)"
   ]
  }
 ],
 "metadata": {
  "kernelspec": {
   "display_name": "Python 3 (ipykernel)",
   "language": "python",
   "name": "python3"
  },
  "language_info": {
   "codemirror_mode": {
    "name": "ipython",
    "version": 3
   },
   "file_extension": ".py",
   "mimetype": "text/x-python",
   "name": "python",
   "nbconvert_exporter": "python",
   "pygments_lexer": "ipython3",
   "version": "3.8.18"
  }
 },
 "nbformat": 4,
 "nbformat_minor": 5
}
