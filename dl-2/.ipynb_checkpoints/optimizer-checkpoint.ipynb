{
 "cells": [
  {
   "cell_type": "markdown",
   "id": "a5a8f877-743b-4161-9e93-f0085da0cd6d",
   "metadata": {},
   "source": [
    "# Optimizer"
   ]
  },
  {
   "cell_type": "markdown",
   "id": "a6ddae06-97ee-4a99-8fb1-bca65a611339",
   "metadata": {},
   "source": [
    "## EMA"
   ]
  },
  {
   "cell_type": "code",
   "execution_count": 42,
   "id": "df0187cd-0ed6-44a5-a380-483f9eb5bb24",
   "metadata": {},
   "outputs": [
    {
     "name": "stdout",
     "output_type": "stream",
     "text": [
      "The autoreload extension is already loaded. To reload it, use:\n",
      "  %reload_ext autoreload\n"
     ]
    }
   ],
   "source": [
    "import numpy as np\n",
    "import matplotlib.pyplot as plt\n",
    "import torch\n",
    "from torch import nn, optim\n",
    "from torch.nn import functional as F\n",
    "from torch.utils.data import DataLoader\n",
    "import torchvision\n",
    "from torchvision import transforms\n",
    "\n",
    "%load_ext autoreload\n",
    "%autoreload 2\n",
    "import utils"
   ]
  },
  {
   "cell_type": "code",
   "execution_count": 2,
   "id": "fafa3f52-ffd3-4c9d-a4b0-b1eef2a0efb3",
   "metadata": {},
   "outputs": [],
   "source": [
    "def sin(x):\n",
    "    return np.sin(x)"
   ]
  },
  {
   "cell_type": "code",
   "execution_count": 31,
   "id": "e4ad16fa-2dfc-43dd-9ab4-1bdda3216ddc",
   "metadata": {},
   "outputs": [],
   "source": [
    "def ema(x, a = 0.9):\n",
    "    ema = []\n",
    "    for n in range(len(x)):\n",
    "        if n == 0:\n",
    "            ema.append((1 - a)*x[n])\n",
    "        else:\n",
    "            ema.append(a * ema[n-1] + (1 - a) * x[n])\n",
    "    return ema"
   ]
  },
  {
   "cell_type": "code",
   "execution_count": 32,
   "id": "12151e56-fc31-47ec-a8de-49b93d41c465",
   "metadata": {},
   "outputs": [
    {
     "data": {
      "text/plain": [
       "array([0.        , 0.6981317 , 1.3962634 , 2.0943951 , 2.7925268 ,\n",
       "       3.4906585 , 4.1887902 , 4.88692191, 5.58505361, 6.28318531])"
      ]
     },
     "execution_count": 32,
     "metadata": {},
     "output_type": "execute_result"
    }
   ],
   "source": [
    "x = np.linspace(0, 2*np.pi, 10)\n",
    "x"
   ]
  },
  {
   "cell_type": "code",
   "execution_count": 33,
   "id": "ec3ab092-15f5-4435-8fa8-be94265edc19",
   "metadata": {},
   "outputs": [
    {
     "data": {
      "text/plain": [
       "array([ 0.00000000e+00,  6.42787610e-01,  9.84807753e-01,  8.66025404e-01,\n",
       "        3.42020143e-01, -3.42020143e-01, -8.66025404e-01, -9.84807753e-01,\n",
       "       -6.42787610e-01, -2.44929360e-16])"
      ]
     },
     "execution_count": 33,
     "metadata": {},
     "output_type": "execute_result"
    }
   ],
   "source": [
    "y = sin(x)\n",
    "y"
   ]
  },
  {
   "cell_type": "code",
   "execution_count": 34,
   "id": "20501f6a-702e-4e59-9f52-a787071eb95e",
   "metadata": {},
   "outputs": [
    {
     "data": {
      "text/plain": [
       "[0.0,\n",
       " 0.06427876096865391,\n",
       " 0.1563316601730093,\n",
       " 0.22730103453415224,\n",
       " 0.2387729454133039,\n",
       " 0.18069363653940665,\n",
       " 0.07602173250702217,\n",
       " -0.030061216044900835,\n",
       " -0.09133385540906469,\n",
       " -0.08220046986815825]"
      ]
     },
     "execution_count": 34,
     "metadata": {},
     "output_type": "execute_result"
    }
   ],
   "source": [
    "e = ema(y)\n",
    "e"
   ]
  },
  {
   "cell_type": "code",
   "execution_count": 35,
   "id": "b2cb49f7-b880-44b1-aa56-3e7ff761ca93",
   "metadata": {},
   "outputs": [
    {
     "data": {
      "text/plain": [
       "[<matplotlib.lines.Line2D at 0x7fffbc8f22e0>]"
      ]
     },
     "execution_count": 35,
     "metadata": {},
     "output_type": "execute_result"
    },
    {
     "data": {
      "image/png": "[encoded data removed]",
      "text/plain": [
       "<Figure size 640x480 with 1 Axes>"
      ]
     },
     "metadata": {},
     "output_type": "display_data"
    }
   ],
   "source": [
    "plt.plot(x, y, 'o')\n",
    "plt.plot(x, y, '-')\n",
    "plt.plot(e)"
   ]
  },
  {
   "cell_type": "markdown",
   "id": "cb857f9c-6558-4c98-ab32-2c094c823f4c",
   "metadata": {},
   "source": [
    "### Momentum"
   ]
  },
  {
   "cell_type": "code",
   "execution_count": 37,
   "id": "c526de0b-1b4a-4cce-8471-8df1d82f1ab7",
   "metadata": {},
   "outputs": [],
   "source": [
    "class Optimizer():\n",
    "\n",
    "    def __init__(self, parameters, lr = 0.03, ):\n",
    "        self.parameters = list(parameters)\n",
    "        self.lr = lr\n",
    "\n",
    "    def step(self):\n",
    "        with torch.no_grad():\n",
    "            for param in self.parameters:\n",
    "                param -= self.lr * param.grad\n",
    "\n",
    "    def zero_grad(self):\n",
    "        for param in self.parameters:\n",
    "            if param.grad is not None:\n",
    "                param.grad.zero_()"
   ]
  },
  {
   "cell_type": "code",
   "execution_count": 38,
   "id": "d519063b-64c5-4ef8-b2c8-b97ff2cb5660",
   "metadata": {},
   "outputs": [],
   "source": [
    "class MomentumOptimizer():\n",
    "\n",
    "    def __init__(self, parameters, lr = 0.03, momentum = 0.9):\n",
    "        self.parameters = list(parameters)\n",
    "        self.lr = lr\n",
    "        self.momentum = momentum\n",
    "        self.v = [torch.zeros_like(param) for param in self.parameters]\n",
    "\n",
    "    def step(self):\n",
    "        with torch.no_grad():\n",
    "            for param, v in zip(self.parameters, self.v):\n",
    "                v[:] = self.momentum * v + param.grad\n",
    "                param -= self.lr * v\n",
    "\n",
    "    def zero_grad(self):\n",
    "        for param in self.parameters:\n",
    "            if param.grad is not None:\n",
    "                param.grad.zero_()"
   ]
  },
  {
   "cell_type": "code",
   "execution_count": 40,
   "id": "28428c48-6181-4c4d-b08d-09f64d440cd5",
   "metadata": {},
   "outputs": [],
   "source": [
    "conv_model = utils.get_conv_model()"
   ]
  },
  {
   "cell_type": "code",
   "execution_count": 41,
   "id": "972d3a21-6f8e-4641-b395-0e3c65b731a2",
   "metadata": {},
   "outputs": [
    {
     "data": {
      "text/plain": [
       "Sequential(\n",
       "  (0): Conv2d(1, 4, kernel_size=(3, 3), stride=(2, 2), padding=(1, 1))\n",
       "  (1): BatchNorm2d(4, eps=1e-05, momentum=0.1, affine=True, track_running_stats=True)\n",
       "  (2): ReLU()\n",
       "  (3): Conv2d(4, 8, kernel_size=(3, 3), stride=(2, 2), padding=(1, 1))\n",
       "  (4): BatchNorm2d(8, eps=1e-05, momentum=0.1, affine=True, track_running_stats=True)\n",
       "  (5): ReLU()\n",
       "  (6): Conv2d(8, 16, kernel_size=(3, 3), stride=(2, 2), padding=(1, 1))\n",
       "  (7): BatchNorm2d(16, eps=1e-05, momentum=0.1, affine=True, track_running_stats=True)\n",
       "  (8): ReLU()\n",
       "  (9): Conv2d(16, 32, kernel_size=(3, 3), stride=(2, 2), padding=(1, 1))\n",
       "  (10): BatchNorm2d(32, eps=1e-05, momentum=0.1, affine=True, track_running_stats=True)\n",
       "  (11): ReLU()\n",
       "  (12): AdaptiveAvgPool2d(output_size=1)\n",
       "  (13): Flatten(start_dim=1, end_dim=-1)\n",
       "  (14): Linear(in_features=32, out_features=10, bias=True)\n",
       ")"
      ]
     },
     "execution_count": 41,
     "metadata": {},
     "output_type": "execute_result"
    }
   ],
   "source": [
    "conv_model"
   ]
  },
  {
   "cell_type": "code",
   "execution_count": 51,
   "id": "359ab56a-ce31-43ad-80c3-83f61322d299",
   "metadata": {
    "scrolled": true
   },
   "outputs": [],
   "source": [
    "# データ準備\n",
    "transform = transforms.Compose([\n",
    "    transforms.ToTensor(),\n",
    "    transforms.Normalize((0.5,), (0.5,))\n",
    "])\n",
    "train_dataset = torchvision.datasets.FashionMNIST('./fmnist_data',train = True, download = True, transform = transform)\n",
    "val_dataset = torchvision.datasets.FashionMNIST('./fmnist_data',train = False, download = True, transform = transform)\n",
    "\n",
    "train_loader = DataLoader(train_dataset, batch_size = 1024, shuffle = True, num_workers = 4)\n",
    "val_loader = DataLoader(val_dataset, batch_size = 1024, num_workers = 4)\n",
    "opt = optim.SGD(conv_model.parameters(), lr = 0.03, momentum = 0.9)\n",
    "# opt = MomentumOptimizer(conv_model.parameters(), lr = 0.03, momentum = 0.9)"
   ]
  },
  {
   "cell_type": "code",
   "execution_count": 49,
   "id": "fe63a330-993b-4fbb-9b82-b3fc58ee7502",
   "metadata": {},
   "outputs": [
    {
     "name": "stderr",
     "output_type": "stream",
     "text": [
      "                                                          "
     ]
    },
    {
     "name": "stdout",
     "output_type": "stream",
     "text": [
      "epoch: 0: train error: 1.3342236997717518, validation error: 0.8497539281845092, validation accuracy: 0.7086316168308258\n"
     ]
    },
    {
     "name": "stderr",
     "output_type": "stream",
     "text": [
      "                                                          "
     ]
    },
    {
     "name": "stdout",
     "output_type": "stream",
     "text": [
      "epoch: 1: train error: 0.6570481152857764, validation error: 0.6093331575393677, validation accuracy: 0.7802634716033936\n"
     ]
    },
    {
     "name": "stderr",
     "output_type": "stream",
     "text": [
      "                                                          "
     ]
    },
    {
     "name": "stdout",
     "output_type": "stream",
     "text": [
      "epoch: 2: train error: 0.5430131352553933, validation error: 0.5402626931667328, validation accuracy: 0.8019551157951355\n"
     ]
    },
    {
     "name": "stderr",
     "output_type": "stream",
     "text": [
      "\r"
     ]
    }
   ],
   "source": [
    "train_losses, val_losses, val_accuracies = utils.learn(conv_model, train_loader, val_loader, opt, F.cross_entropy, 3)"
   ]
  },
  {
   "cell_type": "code",
   "execution_count": 52,
   "id": "cb0a8e78-04fb-481e-8b62-be2131982126",
   "metadata": {},
   "outputs": [
    {
     "name": "stderr",
     "output_type": "stream",
     "text": [
      "                                                          "
     ]
    },
    {
     "name": "stdout",
     "output_type": "stream",
     "text": [
      "epoch: 0: train error: 0.49135161708977265, validation error: 0.50100556910038, validation accuracy: 0.81572265625\n"
     ]
    },
    {
     "name": "stderr",
     "output_type": "stream",
     "text": [
      "                                                          "
     ]
    },
    {
     "name": "stdout",
     "output_type": "stream",
     "text": [
      "epoch: 1: train error: 0.4554477687609398, validation error: 0.47057404518127444, validation accuracy: 0.8284917116165161\n"
     ]
    },
    {
     "name": "stderr",
     "output_type": "stream",
     "text": [
      "                                                          "
     ]
    },
    {
     "name": "stdout",
     "output_type": "stream",
     "text": [
      "epoch: 2: train error: 0.43100188697798775, validation error: 0.4516157150268555, validation accuracy: 0.8330058217048645\n"
     ]
    },
    {
     "name": "stderr",
     "output_type": "stream",
     "text": [
      "\r"
     ]
    }
   ],
   "source": [
    "train_losses, val_losses, val_accuracies = utils.learn(conv_model, train_loader, val_loader, opt, F.cross_entropy, 3)"
   ]
  },
  {
   "cell_type": "code",
   "execution_count": null,
   "id": "c9c33b61-04d0-4efb-9404-f776d404f97a",
   "metadata": {},
   "outputs": [],
   "source": []
  }
 ],
 "metadata": {
  "kernelspec": {
   "display_name": "Python 3 (ipykernel)",
   "language": "python",
   "name": "python3"
  },
  "language_info": {
   "codemirror_mode": {
    "name": "ipython",
    "version": 3
   },
   "file_extension": ".py",
   "mimetype": "text/x-python",
   "name": "python",
   "nbconvert_exporter": "python",
   "pygments_lexer": "ipython3",
   "version": "3.8.18"
  }
 },
 "nbformat": 4,
 "nbformat_minor": 5
}
