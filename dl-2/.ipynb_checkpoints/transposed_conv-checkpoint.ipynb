{
 "cells": [
  {
   "cell_type": "markdown",
   "id": "30cc448f-2cb3-4e58-85f5-dfaec0b5e8b7",
   "metadata": {},
   "source": [
    "# Transposed Convolution"
   ]
  },
  {
   "cell_type": "markdown",
   "id": "aebf5f2d-d2f5-4a07-8238-d19262667a0b",
   "metadata": {},
   "source": [
    "## Transposed Convの実装"
   ]
  },
  {
   "cell_type": "code",
   "execution_count": 28,
   "id": "6592952e-7a2d-4926-8ac6-8fb27bbd4293",
   "metadata": {},
   "outputs": [
    {
     "name": "stdout",
     "output_type": "stream",
     "text": [
      "The autoreload extension is already loaded. To reload it, use:\n",
      "  %reload_ext autoreload\n"
     ]
    }
   ],
   "source": [
    "import numpy as np\n",
    "import matplotlib.pyplot as plt\n",
    "import torch\n",
    "from torch import nn, optim\n",
    "from torch.nn import functional as F\n",
    "from torch.utils.data import DataLoader\n",
    "import torchvision\n",
    "from torchvision import transforms\n",
    "from torchvision.datasets import CIFAR10, MNIST\n",
    "\n",
    "%load_ext autoreload\n",
    "%autoreload 2\n",
    "import utils"
   ]
  },
  {
   "cell_type": "code",
   "execution_count": null,
   "id": "82156ff2-57e1-4fde-845c-89925e4fc81c",
   "metadata": {},
   "outputs": [],
   "source": [
    "def transposed_conv(X, weight, stride, padding):\n",
    "    X_b, X_c, X_h, X_w = X.size\n",
    "    w_in, w_out, w_h, w_w = weight.size\n",
    "    output_size = stride*(X_h - 1)+ w_h - 2*padding\n",
    "    output = torch.zeros(output_size, output_size)\n",
    "    for h in range(X_h):\n",
    "        for w in range(X_w):\n",
    "            output[h, w]"
   ]
  },
  {
   "cell_type": "code",
   "execution_count": 21,
   "id": "35509868-bb4e-4bf5-a1d8-ba87a1ebb130",
   "metadata": {},
   "outputs": [],
   "source": [
    "def conv_transpose2d(input, weight, stride=1, padding=0):\n",
    "    batch_size, ch_in, h_in, w_in = input.shape\n",
    "    _, ch_out, f_h, f_w = weight.shape\n",
    "\n",
    "    h_out = stride * (h_in - 1) + f_h - 2*padding\n",
    "    w_out = stride * (w_in - 1) + f_w - 2*padding\n",
    "\n",
    "    output = torch.zeros((batch_size, ch_out, h_out, w_out))\n",
    "\n",
    "    for b in range(batch_size):\n",
    "        for i in range(ch_in):\n",
    "            for o in range(ch_out):\n",
    "                for h in range(h_in):\n",
    "                    for w in range(w_in):\n",
    "                        h_start = h * stride - padding\n",
    "                        w_start = w * stride - padding\n",
    "                        for f_h_idx in range(f_h):\n",
    "                            for f_w_idx in range(f_w):\n",
    "                                # 出力位置の計算\n",
    "                                h_out_idx = h_start + f_h_idx\n",
    "                                w_out_idx = w_start + f_w_idx\n",
    "    \n",
    "                                if 0 <= h_out_idx < h_out and 0 <= w_out_idx < w_out:\n",
    "                                    output[b, o, h_out_idx, w_out_idx] += input[b, i, h, w] * weight[i, o, f_h_idx, f_w_idx]\n",
    "\n",
    "    return output            "
   ]
  },
  {
   "cell_type": "code",
   "execution_count": 22,
   "id": "64de48b3-dd0f-412d-83d3-c61a972d16e1",
   "metadata": {},
   "outputs": [
    {
     "name": "stdout",
     "output_type": "stream",
     "text": [
      "torch.Size([1, 4, 7, 7])\n"
     ]
    }
   ],
   "source": [
    "input = torch.randn(1, 3, 5, 5)\n",
    "weight = torch.randn(3, 4, 3, 3)\n",
    "output = conv_transpose2d(input, weight, stride = 2, padding = 2)\n",
    "print(output.shape)"
   ]
  },
  {
   "cell_type": "code",
   "execution_count": 23,
   "id": "ce9719d3-0c5d-4aef-9e46-751d6c359bf7",
   "metadata": {},
   "outputs": [
    {
     "data": {
      "text/plain": [
       "ConvTranspose2d(3, 4, kernel_size=(3, 3), stride=(2, 2), padding=(2, 2), bias=False)"
      ]
     },
     "execution_count": 23,
     "metadata": {},
     "output_type": "execute_result"
    }
   ],
   "source": [
    "convt_layer = nn.ConvTranspose2d(3, 4, kernel_size = 3, stride = 2, padding = 2, bias = False)\n",
    "convt_layer"
   ]
  },
  {
   "cell_type": "code",
   "execution_count": 24,
   "id": "8789be01-6c49-4006-9752-c68c9f3afa23",
   "metadata": {},
   "outputs": [
    {
     "data": {
      "text/plain": [
       "torch.Size([1, 4, 7, 7])"
      ]
     },
     "execution_count": 24,
     "metadata": {},
     "output_type": "execute_result"
    }
   ],
   "source": [
    "output = convt_layer(input)\n",
    "output.shape"
   ]
  },
  {
   "cell_type": "code",
   "execution_count": 25,
   "id": "76bf92ee-b9f0-4ccb-896a-c8f986f5dccd",
   "metadata": {},
   "outputs": [],
   "source": [
    "weight = convt_layer.weight\n",
    "output_scratch = conv_transpose2d(input, weight, stride = 2, padding = 2)"
   ]
  },
  {
   "cell_type": "code",
   "execution_count": 26,
   "id": "a0f83128-6f19-458a-a646-07354e8679d0",
   "metadata": {},
   "outputs": [
    {
     "data": {
      "text/plain": [
       "True"
      ]
     },
     "execution_count": 26,
     "metadata": {},
     "output_type": "execute_result"
    }
   ],
   "source": [
    "torch.allclose(output, output_scratch)"
   ]
  },
  {
   "cell_type": "markdown",
   "id": "9bf3f223-7629-4c26-a320-e4b20726a5d0",
   "metadata": {},
   "source": [
    "## Autoencoder"
   ]
  },
  {
   "cell_type": "code",
   "execution_count": 42,
   "id": "d728f615-0aee-4451-be55-73a6fb36b37d",
   "metadata": {},
   "outputs": [],
   "source": [
    "class ConvAutoencoder(nn.Module):\n",
    "    def __init__(self):\n",
    "        super().__init__()\n",
    "        # encoder \n",
    "        self.conv1 = nn.Conv2d(1, 16, 3, padding=1)\n",
    "        self.conv2 = nn.Conv2d(16, 4, 3, padding=1)\n",
    "        self.pool = nn.MaxPool2d(2, 2)\n",
    "\n",
    "        # decoder\n",
    "        self.t_conv1 = nn.ConvTranspose2d(4, 16, 2, stride=2)\n",
    "        self.t_conv2 = nn.ConvTranspose2d(16, 1, 2, stride=2)\n",
    "\n",
    "    def forward(self, X):\n",
    "        # encoder\n",
    "        X = self.pool(F.relu(self.conv1(X)))\n",
    "        X = self.pool(F.relu(self.conv2(X)))\n",
    "        # decoder\n",
    "        X = F.relu(self.t_conv1(X))\n",
    "        X = F.sigmoid(self.t_conv2(X))\n",
    "        return X"
   ]
  },
  {
   "cell_type": "code",
   "execution_count": 43,
   "id": "57e4a37e-8cc6-4428-86f8-ddd1bc76a265",
   "metadata": {
    "scrolled": true
   },
   "outputs": [],
   "source": [
    "# データ準備\n",
    "transform = transforms.ToTensor()\n",
    "train_dataset = MNIST('./mnist_data', train=True, download=True, transform=transform)\n",
    "val_dataset = MNIST('./mnist_data', train=False, download=True, transform=transform)\n",
    "\n",
    "train_loader = DataLoader(train_dataset, batch_size=128, shuffle=True)\n",
    "val_loader = DataLoader(val_dataset, batch_size=128)"
   ]
  },
  {
   "cell_type": "code",
   "execution_count": 45,
   "id": "140803d9-e037-45e4-a8f6-8d908fdb2d91",
   "metadata": {},
   "outputs": [],
   "source": [
    "model = ConvAutoencoder()\n",
    "# loss_func = F.mse_loss\n",
    "opt = optim.Adam(model.parameters(), lr=0.001)\n",
    "num_epochs = 10"
   ]
  },
  {
   "cell_type": "code",
   "execution_count": 47,
   "id": "1d3eee5d-39fa-4cbc-9540-f264ecc035df",
   "metadata": {},
   "outputs": [
    {
     "name": "stdout",
     "output_type": "stream",
     "text": [
      "Epoch: 1: train loss: 12.282333761898439\n",
      "Epoch: 2: train loss: 4.017202931426481\n",
      "Epoch: 3: train loss: 2.6370115585164475\n",
      "Epoch: 4: train loss: 2.332567609195262\n",
      "Epoch: 5: train loss: 2.15471668665343\n",
      "Epoch: 6: train loss: 2.0159659721831016\n",
      "Epoch: 7: train loss: 1.9226022683608253\n",
      "Epoch: 8: train loss: 1.860785471223819\n",
      "Epoch: 9: train loss: 1.8157691334737645\n",
      "Epoch: 10: train loss: 1.7811265372391194\n"
     ]
    }
   ],
   "source": [
    "# 学習ループ\n",
    "for epoch in range(1, num_epochs+1):\n",
    "    \n",
    "    train_loss = 0.0\n",
    "    for X, _ in train_loader:\n",
    "        opt.zero_grad()\n",
    "        outputs = model(X)\n",
    "        loss = F.mse_loss(outputs, X)\n",
    "        loss.backward()\n",
    "        opt.step()\n",
    "        train_loss += loss.item()*X.shape[0]\n",
    "    train_loss = train_loss / len(train_loader)\n",
    "    print(f'Epoch: {epoch}: train loss: {train_loss}')"
   ]
  },
  {
   "cell_type": "code",
   "execution_count": null,
   "id": "a69434b4-5442-4808-8b31-f268734b2a11",
   "metadata": {},
   "outputs": [],
   "source": []
  }
 ],
 "metadata": {
  "kernelspec": {
   "display_name": "Python 3 (ipykernel)",
   "language": "python",
   "name": "python3"
  },
  "language_info": {
   "codemirror_mode": {
    "name": "ipython",
    "version": 3
   },
   "file_extension": ".py",
   "mimetype": "text/x-python",
   "name": "python",
   "nbconvert_exporter": "python",
   "pygments_lexer": "ipython3",
   "version": "3.8.18"
  }
 },
 "nbformat": 4,
 "nbformat_minor": 5
}
