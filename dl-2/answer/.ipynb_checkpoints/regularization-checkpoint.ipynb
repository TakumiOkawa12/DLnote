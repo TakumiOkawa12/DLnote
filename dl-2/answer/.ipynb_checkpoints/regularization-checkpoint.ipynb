{
 "cells": [
  {
   "cell_type": "markdown",
   "id": "b28743fb-7922-4143-af0a-29fb02118f5a",
   "metadata": {},
   "source": [
    "## Regularization"
   ]
  },
  {
   "cell_type": "markdown",
   "id": "00e3fdec-e04c-4b33-9bbc-b546be77bf4f",
   "metadata": {},
   "source": [
    "### L2正則(重み減衰)をスクラッチ実装"
   ]
  },
  {
   "cell_type": "code",
   "execution_count": 38,
   "id": "2fdaf880-ca50-4e59-9bb6-40509528e5d6",
   "metadata": {},
   "outputs": [
    {
     "name": "stdout",
     "output_type": "stream",
     "text": [
      "The autoreload extension is already loaded. To reload it, use:\n",
      "  %reload_ext autoreload\n"
     ]
    }
   ],
   "source": [
    "import matplotlib.pyplot as plt\n",
    "import torch\n",
    "from torch.nn import functional as F\n",
    "from torch import nn, optim\n",
    "from torch.utils.data import DataLoader\n",
    "import torchvision\n",
    "from torchvision import transforms\n",
    "\n",
    "%load_ext autoreload\n",
    "%autoreload 2\n",
    "import utils"
   ]
  },
  {
   "cell_type": "code",
   "execution_count": 4,
   "id": "ce5de38b-3846-4ef8-9933-4c5c2cbe52b6",
   "metadata": {},
   "outputs": [
    {
     "data": {
      "text/plain": [
       "tensor([[1., 2., 3.],\n",
       "        [4., 5., 6.]])"
      ]
     },
     "execution_count": 4,
     "metadata": {},
     "output_type": "execute_result"
    }
   ],
   "source": [
    "X = torch.tensor([[1., 2., 3.], [4., 5., 6.]])\n",
    "X"
   ]
  },
  {
   "cell_type": "code",
   "execution_count": 5,
   "id": "2452e3f3-cc26-4acc-bf4c-05dd74e8319d",
   "metadata": {},
   "outputs": [
    {
     "data": {
      "text/plain": [
       "tensor(9.5394)"
      ]
     },
     "execution_count": 5,
     "metadata": {},
     "output_type": "execute_result"
    }
   ],
   "source": [
    "torch.linalg.norm(X)"
   ]
  },
  {
   "cell_type": "code",
   "execution_count": 11,
   "id": "065bb4d2-7548-4055-a30e-48ac0f07c097",
   "metadata": {},
   "outputs": [
    {
     "data": {
      "text/plain": [
       "tensor(9.5394)"
      ]
     },
     "execution_count": 11,
     "metadata": {},
     "output_type": "execute_result"
    }
   ],
   "source": [
    "torch.sqrt(torch.sum(X**2))"
   ]
  },
  {
   "cell_type": "code",
   "execution_count": 27,
   "id": "ca3c7fe1-b1b4-4d80-bebb-61a83638ccbd",
   "metadata": {},
   "outputs": [],
   "source": [
    "def get_conv_model():\n",
    "    return nn.Sequential(\n",
    "    # 3x28x28\n",
    "    nn.Conv2d(3, 4, kernel_size=3, stride=2, padding=1),\n",
    "    nn.ReLU(),\n",
    "    # 4x14x14\n",
    "    nn.Conv2d(4, 8, kernel_size=3, stride=2, padding=1),\n",
    "    nn.ReLU(),\n",
    "    # 8x7x7\n",
    "    nn.Conv2d(8, 16, kernel_size=3, stride=2, padding=1),\n",
    "    nn.ReLU(),\n",
    "    # 16x4x4\n",
    "    nn.Conv2d(16, 32, kernel_size=3, stride=2, padding=1),\n",
    "    nn.ReLU(),\n",
    "    # 32x2x2 -> GAP -> 32 x 1 x 1\n",
    "    \n",
    "    nn.Flatten(),\n",
    "    # # 128 -> 32\n",
    "    nn.Linear(128, 10)\n",
    "    # nn.Linear(32, 10)\n",
    "    # 10\n",
    ")"
   ]
  },
  {
   "cell_type": "code",
   "execution_count": 16,
   "id": "745294ae-34d0-4c1f-8118-b6530c0f7d8f",
   "metadata": {
    "scrolled": true
   },
   "outputs": [],
   "source": [
    "l2_reg = torch.tensor(0.)\n",
    "for name, param in conv_model.named_parameters():\n",
    "    # print(name, param)\n",
    "    if 'weight' in name:\n",
    "        l2_reg += torch.linalg.norm(param)**2\n",
    "# loss += (weight_decay / (2*m)) * l2_reg"
   ]
  },
  {
   "cell_type": "markdown",
   "id": "98ae8386-4937-48f9-aee0-46c5b95c2858",
   "metadata": {},
   "source": [
    "### PytorchでのL2正則"
   ]
  },
  {
   "cell_type": "code",
   "execution_count": 19,
   "id": "e9333617-91ac-4e70-ac1a-36ea136f42d9",
   "metadata": {},
   "outputs": [
    {
     "data": {
      "text/plain": [
       "SGD (\n",
       "Parameter Group 0\n",
       "    dampening: 0\n",
       "    differentiable: False\n",
       "    foreach: None\n",
       "    lr: 0.03\n",
       "    maximize: False\n",
       "    momentum: 0\n",
       "    nesterov: False\n",
       "    weight_decay: 0.01\n",
       ")"
      ]
     },
     "execution_count": 19,
     "metadata": {},
     "output_type": "execute_result"
    }
   ],
   "source": [
    "optim.SGD(conv_model.parameters(), lr=0.03, weight_decay=0.01)"
   ]
  },
  {
   "cell_type": "markdown",
   "id": "a8b4240d-daad-4077-9f40-06e88b20f53c",
   "metadata": {},
   "source": [
    "### L2正則の有無でモデル比較"
   ]
  },
  {
   "cell_type": "code",
   "execution_count": 35,
   "id": "bcfd1568-3fb6-45bc-85d7-a29fd7f92925",
   "metadata": {},
   "outputs": [
    {
     "name": "stdout",
     "output_type": "stream",
     "text": [
      "Files already downloaded and verified\n",
      "Files already downloaded and verified\n"
     ]
    }
   ],
   "source": [
    "conv_model = get_conv_model()\n",
    "conv_model_l2 = get_conv_model()\n",
    "transform = transforms.Compose([\n",
    "    transforms.ToTensor(),\n",
    "    # transforms.Normalize((0.5, 0.5, 0.5), (0.5, 0.5, 0.5))])\n",
    "    # CIFAR10用\n",
    "    transforms.Normalize(mean=[0.4914, 0.4822, 0.4465], std=[0.2023, 0.1994, 0.2010])\n",
    "])\n",
    "classes = ('plane', 'car', 'bird', 'cat',\n",
    "           'deer', 'dog', 'frog', 'horse', 'ship', 'truck')\n",
    "train_dataset = torchvision.datasets.CIFAR10('./cifar10_data', train=True, download=True, transform=transform)\n",
    "val_dataset = torchvision.datasets.CIFAR10('./cifar10_data', train=False, download=True, transform=transform)\n",
    "train_loader = DataLoader(train_dataset, batch_size=128, shuffle=True, num_workers=4)\n",
    "val_loader = DataLoader(val_dataset, batch_size=128, num_workers=4)\n",
    "\n",
    "opt = optim.SGD(conv_model.parameters(), lr=0.03)\n",
    "opt_l2 = optim.SGD(conv_model_l2.parameters(), lr=0.03, weight_decay=0.001)"
   ]
  },
  {
   "cell_type": "code",
   "execution_count": 36,
   "id": "f67bd131-5c31-4655-ac8e-1c6c0de21f5e",
   "metadata": {
    "scrolled": true
   },
   "outputs": [
    {
     "name": "stderr",
     "output_type": "stream",
     "text": [
      "                                                           "
     ]
    },
    {
     "name": "stdout",
     "output_type": "stream",
     "text": [
      "epoch: 0: train error: 2.2246250898941704, validation error: 2.080264696592017, validation accuracy: 0.24693433544303797\n"
     ]
    },
    {
     "name": "stderr",
     "output_type": "stream",
     "text": [
      "                                                           "
     ]
    },
    {
     "name": "stdout",
     "output_type": "stream",
     "text": [
      "epoch: 1: train error: 1.9966881845308386, validation error: 1.9009313975708395, validation accuracy: 0.2983583860759494\n"
     ]
    },
    {
     "name": "stderr",
     "output_type": "stream",
     "text": [
      "                                                           "
     ]
    },
    {
     "name": "stdout",
     "output_type": "stream",
     "text": [
      "epoch: 2: train error: 1.8241069036371567, validation error: 1.7330490969404388, validation accuracy: 0.3861748417721519\n"
     ]
    },
    {
     "name": "stderr",
     "output_type": "stream",
     "text": [
      "                                                           "
     ]
    },
    {
     "name": "stdout",
     "output_type": "stream",
     "text": [
      "epoch: 3: train error: 1.6870894532679293, validation error: 1.6355544011804122, validation accuracy: 0.41663370253164556\n"
     ]
    },
    {
     "name": "stderr",
     "output_type": "stream",
     "text": [
      "                                                           "
     ]
    },
    {
     "name": "stdout",
     "output_type": "stream",
     "text": [
      "epoch: 4: train error: 1.6135314910308174, validation error: 1.5801331966738157, validation accuracy: 0.42592958860759494\n"
     ]
    },
    {
     "name": "stderr",
     "output_type": "stream",
     "text": [
      "                                                           "
     ]
    },
    {
     "name": "stdout",
     "output_type": "stream",
     "text": [
      "epoch: 5: train error: 1.5606963585709672, validation error: 1.5498074383675298, validation accuracy: 0.4408623417721519\n"
     ]
    },
    {
     "name": "stderr",
     "output_type": "stream",
     "text": [
      "                                                           "
     ]
    },
    {
     "name": "stdout",
     "output_type": "stream",
     "text": [
      "epoch: 6: train error: 1.5223685536543121, validation error: 1.501591854457614, validation accuracy: 0.4675632911392405\n"
     ]
    },
    {
     "name": "stderr",
     "output_type": "stream",
     "text": [
      "                                                           "
     ]
    },
    {
     "name": "stdout",
     "output_type": "stream",
     "text": [
      "epoch: 7: train error: 1.4859035902316002, validation error: 1.5075445974929422, validation accuracy: 0.4677610759493671\n"
     ]
    },
    {
     "name": "stderr",
     "output_type": "stream",
     "text": [
      "                                                           "
     ]
    },
    {
     "name": "stdout",
     "output_type": "stream",
     "text": [
      "epoch: 8: train error: 1.4579774815103281, validation error: 1.5641641601731506, validation accuracy: 0.43947784810126583\n"
     ]
    },
    {
     "name": "stderr",
     "output_type": "stream",
     "text": [
      "                                                           "
     ]
    },
    {
     "name": "stdout",
     "output_type": "stream",
     "text": [
      "epoch: 9: train error: 1.4344490242126349, validation error: 1.4131576592409159, validation accuracy: 0.4922863924050633\n"
     ]
    },
    {
     "name": "stderr",
     "output_type": "stream",
     "text": [
      "                                                           "
     ]
    },
    {
     "name": "stdout",
     "output_type": "stream",
     "text": [
      "epoch: 10: train error: 1.4136724203748776, validation error: 1.4362744953058943, validation accuracy: 0.4775514240506329\n"
     ]
    },
    {
     "name": "stderr",
     "output_type": "stream",
     "text": [
      "                                                           "
     ]
    },
    {
     "name": "stdout",
     "output_type": "stream",
     "text": [
      "epoch: 11: train error: 1.3934568483811205, validation error: 1.4632086044625392, validation accuracy: 0.48269382911392406\n"
     ]
    },
    {
     "name": "stderr",
     "output_type": "stream",
     "text": [
      "                                                           "
     ]
    },
    {
     "name": "stdout",
     "output_type": "stream",
     "text": [
      "epoch: 12: train error: 1.3773677644827176, validation error: 1.395505488673343, validation accuracy: 0.4975276898734177\n"
     ]
    },
    {
     "name": "stderr",
     "output_type": "stream",
     "text": [
      "                                                           \r"
     ]
    },
    {
     "name": "stdout",
     "output_type": "stream",
     "text": [
      "epoch: 13: train error: 1.3630376886528777, validation error: 1.3725146628633331, validation accuracy: 0.5106803797468354\n"
     ]
    },
    {
     "name": "stderr",
     "output_type": "stream",
     "text": [
      "                                                           "
     ]
    },
    {
     "name": "stdout",
     "output_type": "stream",
     "text": [
      "epoch: 14: train error: 1.3478073070726126, validation error: 1.3787605566314505, validation accuracy: 0.5076147151898734\n"
     ]
    },
    {
     "name": "stderr",
     "output_type": "stream",
     "text": [
      "                                                           "
     ]
    },
    {
     "name": "stdout",
     "output_type": "stream",
     "text": [
      "epoch: 15: train error: 1.3366520636526824, validation error: 1.3472413880915581, validation accuracy: 0.5143393987341772\n"
     ]
    },
    {
     "name": "stderr",
     "output_type": "stream",
     "text": [
      "                                                           "
     ]
    },
    {
     "name": "stdout",
     "output_type": "stream",
     "text": [
      "epoch: 16: train error: 1.3251440799449716, validation error: 1.332213593434684, validation accuracy: 0.5216574367088608\n"
     ]
    },
    {
     "name": "stderr",
     "output_type": "stream",
     "text": [
      "                                                           "
     ]
    },
    {
     "name": "stdout",
     "output_type": "stream",
     "text": [
      "epoch: 17: train error: 1.3140707543438963, validation error: 1.3580919473986082, validation accuracy: 0.5117681962025317\n"
     ]
    },
    {
     "name": "stderr",
     "output_type": "stream",
     "text": [
      "                                                           "
     ]
    },
    {
     "name": "stdout",
     "output_type": "stream",
     "text": [
      "epoch: 18: train error: 1.3014158129387194, validation error: 1.4443409442901611, validation accuracy: 0.49179193037974683\n"
     ]
    },
    {
     "name": "stderr",
     "output_type": "stream",
     "text": [
      "                                                           \r"
     ]
    },
    {
     "name": "stdout",
     "output_type": "stream",
     "text": [
      "epoch: 19: train error: 1.2890535873525284, validation error: 1.3146359181102318, validation accuracy: 0.5259098101265823\n"
     ]
    },
    {
     "name": "stderr",
     "output_type": "stream",
     "text": [
      "                                                           "
     ]
    },
    {
     "name": "stdout",
     "output_type": "stream",
     "text": [
      "epoch: 0: train error: 2.273727035888321, validation error: 2.1603981513011306, validation accuracy: 0.22132120253164558\n"
     ]
    },
    {
     "name": "stderr",
     "output_type": "stream",
     "text": [
      "                                                           "
     ]
    },
    {
     "name": "stdout",
     "output_type": "stream",
     "text": [
      "epoch: 1: train error: 2.0405923076297925, validation error: 1.9272692671305016, validation accuracy: 0.29420490506329117\n"
     ]
    },
    {
     "name": "stderr",
     "output_type": "stream",
     "text": [
      "                                                           "
     ]
    },
    {
     "name": "stdout",
     "output_type": "stream",
     "text": [
      "epoch: 2: train error: 1.9085314170173977, validation error: 1.8483465683611133, validation accuracy: 0.32308148734177217\n"
     ]
    },
    {
     "name": "stderr",
     "output_type": "stream",
     "text": [
      "                                                           "
     ]
    },
    {
     "name": "stdout",
     "output_type": "stream",
     "text": [
      "epoch: 3: train error: 1.8021562901299324, validation error: 1.728266291980502, validation accuracy: 0.37885680379746833\n"
     ]
    },
    {
     "name": "stderr",
     "output_type": "stream",
     "text": [
      "                                                           "
     ]
    },
    {
     "name": "stdout",
     "output_type": "stream",
     "text": [
      "epoch: 4: train error: 1.700273092140627, validation error: 1.6492412920239605, validation accuracy: 0.41445806962025317\n"
     ]
    },
    {
     "name": "stderr",
     "output_type": "stream",
     "text": [
      "                                                           "
     ]
    },
    {
     "name": "stdout",
     "output_type": "stream",
     "text": [
      "epoch: 5: train error: 1.6262403089372093, validation error: 1.6169688067858732, validation accuracy: 0.4345332278481013\n"
     ]
    },
    {
     "name": "stderr",
     "output_type": "stream",
     "text": [
      "                                                           "
     ]
    },
    {
     "name": "stdout",
     "output_type": "stream",
     "text": [
      "epoch: 6: train error: 1.5731172000660616, validation error: 1.527233383323573, validation accuracy: 0.46251977848101267\n"
     ]
    },
    {
     "name": "stderr",
     "output_type": "stream",
     "text": [
      "                                                           "
     ]
    },
    {
     "name": "stdout",
     "output_type": "stream",
     "text": [
      "epoch: 7: train error: 1.5308764877221774, validation error: 1.5021965096268473, validation accuracy: 0.46954113924050633\n"
     ]
    },
    {
     "name": "stderr",
     "output_type": "stream",
     "text": [
      "                                                           "
     ]
    },
    {
     "name": "stdout",
     "output_type": "stream",
     "text": [
      "epoch: 8: train error: 1.4976888757837399, validation error: 1.4978228234037567, validation accuracy: 0.47151898734177217\n"
     ]
    },
    {
     "name": "stderr",
     "output_type": "stream",
     "text": [
      "                                                           "
     ]
    },
    {
     "name": "stdout",
     "output_type": "stream",
     "text": [
      "epoch: 9: train error: 1.466552003875108, validation error: 1.4939811033538626, validation accuracy: 0.4642009493670886\n"
     ]
    },
    {
     "name": "stderr",
     "output_type": "stream",
     "text": [
      "                                                           "
     ]
    },
    {
     "name": "stdout",
     "output_type": "stream",
     "text": [
      "epoch: 10: train error: 1.4455951010174763, validation error: 1.4439670451079742, validation accuracy: 0.4864517405063291\n"
     ]
    },
    {
     "name": "stderr",
     "output_type": "stream",
     "text": [
      "                                                           "
     ]
    },
    {
     "name": "stdout",
     "output_type": "stream",
     "text": [
      "epoch: 11: train error: 1.420304129190762, validation error: 1.4365169398392303, validation accuracy: 0.48961629746835444\n"
     ]
    },
    {
     "name": "stderr",
     "output_type": "stream",
     "text": [
      "                                                           "
     ]
    },
    {
     "name": "stdout",
     "output_type": "stream",
     "text": [
      "epoch: 12: train error: 1.40476769102199, validation error: 1.4156904929800878, validation accuracy: 0.496934335443038\n"
     ]
    },
    {
     "name": "stderr",
     "output_type": "stream",
     "text": [
      "                                                           "
     ]
    },
    {
     "name": "stdout",
     "output_type": "stream",
     "text": [
      "epoch: 13: train error: 1.3832101239572705, validation error: 1.403738181802291, validation accuracy: 0.4963409810126582\n"
     ]
    },
    {
     "name": "stderr",
     "output_type": "stream",
     "text": [
      "                                                           "
     ]
    },
    {
     "name": "stdout",
     "output_type": "stream",
     "text": [
      "epoch: 14: train error: 1.369434819501989, validation error: 1.407750055759768, validation accuracy: 0.497626582278481\n"
     ]
    },
    {
     "name": "stderr",
     "output_type": "stream",
     "text": [
      "                                                           "
     ]
    },
    {
     "name": "stdout",
     "output_type": "stream",
     "text": [
      "epoch: 15: train error: 1.3589552512864018, validation error: 1.3776057868064204, validation accuracy: 0.5136471518987342\n"
     ]
    },
    {
     "name": "stderr",
     "output_type": "stream",
     "text": [
      "                                                           "
     ]
    },
    {
     "name": "stdout",
     "output_type": "stream",
     "text": [
      "epoch: 16: train error: 1.3437765336707426, validation error: 1.3660375257081623, validation accuracy: 0.5141416139240507\n"
     ]
    },
    {
     "name": "stderr",
     "output_type": "stream",
     "text": [
      "                                                           "
     ]
    },
    {
     "name": "stdout",
     "output_type": "stream",
     "text": [
      "epoch: 17: train error: 1.3319832324371923, validation error: 1.3670103534867493, validation accuracy: 0.5088014240506329\n"
     ]
    },
    {
     "name": "stderr",
     "output_type": "stream",
     "text": [
      "                                                           "
     ]
    },
    {
     "name": "stdout",
     "output_type": "stream",
     "text": [
      "epoch: 18: train error: 1.3237982281028766, validation error: 1.3461237406428856, validation accuracy: 0.5204707278481012\n"
     ]
    },
    {
     "name": "stderr",
     "output_type": "stream",
     "text": [
      "                                                           \r"
     ]
    },
    {
     "name": "stdout",
     "output_type": "stream",
     "text": [
      "epoch: 19: train error: 1.3113191027165678, validation error: 1.3649867652337762, validation accuracy: 0.5124604430379747\n"
     ]
    }
   ],
   "source": [
    "num_epoch = 20\n",
    "train_losses, val_losses, val_accuracies = utils.learn(conv_model, train_loader, val_loader, opt, F.cross_entropy, num_epoch=num_epoch)\n",
    "train_losses_l2, val_losses_l2, val_accuracies_l2 = utils.learn(conv_model_l2, train_loader, val_loader, opt_l2, F.cross_entropy, num_epoch=num_epoch)"
   ]
  },
  {
   "cell_type": "code",
   "execution_count": 42,
   "id": "123a543e-8401-497c-8fd2-8f9f69c4e574",
   "metadata": {},
   "outputs": [
    {
     "data": {
      "text/plain": [
       "<matplotlib.legend.Legend at 0xffff6334b280>"
      ]
     },
     "execution_count": 42,
     "metadata": {},
     "output_type": "execute_result"
    },
    {
     "data": {
      "image/png": "[encoded data removed]",
      "text/plain": [
       "<Figure size 640x480 with 1 Axes>"
      ]
     },
     "metadata": {},
     "output_type": "display_data"
    }
   ],
   "source": [
    "\n",
    "plt.plot(train_losses, label='train loss without weight decay')\n",
    "plt.plot(train_losses_l2, label='train loss with weight decay')\n",
    "plt.plot(val_losses_l2, label='val loss with weight decay')\n",
    "plt.plot(val_losses, label='val loss without weight decay')\n",
    "plt.xlabel('epoch')\n",
    "plt.ylabel('loss')\n",
    "plt.legend()"
   ]
  },
  {
   "cell_type": "markdown",
   "id": "506e7875-f172-4f30-8ea5-e890fdc83ee4",
   "metadata": {},
   "source": [
    "## Dropout"
   ]
  },
  {
   "cell_type": "markdown",
   "id": "93fc97bd-a73e-4e36-b1d4-9d0f5afdccaa",
   "metadata": {},
   "source": [
    "### Dropoutスクラッチ実装"
   ]
  },
  {
   "cell_type": "code",
   "execution_count": 85,
   "id": "bf28859b-05ca-4fc7-9499-65ec6a41dee7",
   "metadata": {},
   "outputs": [],
   "source": [
    "def dropout(X, drop_p):\n",
    "    keep_p = 1 - drop_p\n",
    "    mask = torch.rand(X.shape) < keep_p\n",
    "    return X * mask / keep_p"
   ]
  },
  {
   "cell_type": "code",
   "execution_count": 86,
   "id": "fd13532c-4d83-4dae-b5a8-c21e39af79fc",
   "metadata": {},
   "outputs": [],
   "source": [
    "X = torch.randn((100, 100))\n",
    "droped_X = dropout(X, 0.3)"
   ]
  },
  {
   "cell_type": "code",
   "execution_count": 87,
   "id": "ca670823-3f76-48d2-90a0-4a8621c894d0",
   "metadata": {},
   "outputs": [
    {
     "data": {
      "text/plain": [
       "tensor([[ 3.5037, -2.3092,  0.0000,  ..., -1.5941, -3.1091,  0.1775],\n",
       "        [-2.0106, -2.2587,  1.4425,  ..., -1.9002,  0.4735,  1.0987],\n",
       "        [-2.2269,  2.1493, -0.8432,  ...,  1.2416, -1.6369, -0.0000],\n",
       "        ...,\n",
       "        [ 0.0000, -1.6361,  2.6275,  ...,  1.7669, -1.7954, -0.0000],\n",
       "        [ 1.5061,  0.8856, -1.5497,  ..., -1.0820, -0.2844, -1.4572],\n",
       "        [-0.0000,  0.5236,  1.7422,  ...,  0.2194,  1.7398, -1.6336]])"
      ]
     },
     "execution_count": 87,
     "metadata": {},
     "output_type": "execute_result"
    }
   ],
   "source": [
    "droped_X"
   ]
  },
  {
   "cell_type": "code",
   "execution_count": 77,
   "id": "9b0ae338-2099-4975-ba29-8ccb5131e2cc",
   "metadata": {},
   "outputs": [],
   "source": [
    "mask = torch.rand(X.shape) < keep_p"
   ]
  },
  {
   "cell_type": "code",
   "execution_count": 80,
   "id": "9f54d35e-3c34-4611-acf6-fdcd0aff01f0",
   "metadata": {},
   "outputs": [
    {
     "data": {
      "text/plain": [
       "tensor([[ 9.2728, -0.0000, -0.0000,  ...,  0.0000,  0.0000, -0.0000],\n",
       "        [ 4.1800, -0.0000, -0.0000,  ..., -0.0000, -0.0000,  0.0000],\n",
       "        [-5.2948,  0.0000,  1.1391,  ..., -0.0000,  0.0000, -1.5241],\n",
       "        ...,\n",
       "        [-0.0000,  2.6783,  0.8299,  ..., -0.0000, -0.0000,  0.0000],\n",
       "        [ 1.5349, -5.4385,  0.0000,  ...,  0.0000, -0.0000,  0.0000],\n",
       "        [-0.3661, -0.0000, -0.0000,  ...,  3.5400, -0.0000,  7.6866]])"
      ]
     },
     "execution_count": 80,
     "metadata": {},
     "output_type": "execute_result"
    }
   ],
   "source": [
    "X * mask / keep_p"
   ]
  },
  {
   "cell_type": "code",
   "execution_count": 67,
   "id": "4e637ec8-45fe-4835-a4f0-a91be3a38859",
   "metadata": {},
   "outputs": [],
   "source": [
    "def relu(X):\n",
    "    return torch.clamp(X, min=0)"
   ]
  },
  {
   "cell_type": "code",
   "execution_count": 70,
   "id": "cb87e89e-a5f4-43f3-b63e-53dc9c104642",
   "metadata": {},
   "outputs": [
    {
     "data": {
      "text/plain": [
       "tensor(3708.3809)"
      ]
     },
     "execution_count": 70,
     "metadata": {},
     "output_type": "execute_result"
    }
   ],
   "source": [
    "relu_out = relu(X)\n",
    "(relu_out * mask).sum() / keep_p"
   ]
  },
  {
   "cell_type": "code",
   "execution_count": 69,
   "id": "56a82a17-27db-4b63-aa51-045cf15cfd3c",
   "metadata": {},
   "outputs": [
    {
     "data": {
      "text/plain": [
       "tensor(3937.4744)"
      ]
     },
     "execution_count": 69,
     "metadata": {},
     "output_type": "execute_result"
    }
   ],
   "source": [
    "relu_out.sum()"
   ]
  },
  {
   "cell_type": "markdown",
   "id": "0c33d80b-0853-42fa-ad2d-4cb90e1f39b0",
   "metadata": {},
   "source": [
    "### nn.Dropout"
   ]
  },
  {
   "cell_type": "code",
   "execution_count": 89,
   "id": "de8e8ebf-372f-4d33-abdc-901263b5fa5f",
   "metadata": {},
   "outputs": [],
   "source": [
    "model = nn.Sequential(\n",
    "    nn.Linear(64, 20),\n",
    "    nn.ReLU(),\n",
    "    nn.Dropout(p=0.4),\n",
    "    nn.Linear(20, 10)\n",
    ")"
   ]
  },
  {
   "cell_type": "code",
   "execution_count": 90,
   "id": "34bc4971-5499-4b5b-8c7e-59d59c97bce7",
   "metadata": {},
   "outputs": [
    {
     "data": {
      "text/plain": [
       "Sequential(\n",
       "  (0): Linear(in_features=64, out_features=20, bias=True)\n",
       "  (1): ReLU()\n",
       "  (2): Dropout(p=0.4, inplace=False)\n",
       "  (3): Linear(in_features=20, out_features=10, bias=True)\n",
       ")"
      ]
     },
     "execution_count": 90,
     "metadata": {},
     "output_type": "execute_result"
    }
   ],
   "source": [
    "model"
   ]
  },
  {
   "cell_type": "code",
   "execution_count": null,
   "id": "24219a23-01f7-4608-af5f-66f1c73b8a00",
   "metadata": {},
   "outputs": [],
   "source": []
  }
 ],
 "metadata": {
  "kernelspec": {
   "display_name": "Python 3 (ipykernel)",
   "language": "python",
   "name": "python3"
  },
  "language_info": {
   "codemirror_mode": {
    "name": "ipython",
    "version": 3
   },
   "file_extension": ".py",
   "mimetype": "text/x-python",
   "name": "python",
   "nbconvert_exporter": "python",
   "pygments_lexer": "ipython3",
   "version": "3.8.18"
  }
 },
 "nbformat": 4,
 "nbformat_minor": 5
}
