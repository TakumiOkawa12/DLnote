{
 "cells": [
  {
   "cell_type": "markdown",
   "id": "2072fc75-ade7-47e9-a7f0-f93d355d34bc",
   "metadata": {},
   "source": [
    "## Deeper Model"
   ]
  },
  {
   "cell_type": "markdown",
   "id": "9fac59e2-e0ca-4119-a88d-dfc78725d88d",
   "metadata": {},
   "source": [
    "### Residual Block"
   ]
  },
  {
   "cell_type": "code",
   "execution_count": 1,
   "id": "607822f9-5200-478f-8c4b-e704f9839fab",
   "metadata": {},
   "outputs": [],
   "source": [
    "import numpy as np\n",
    "import matplotlib.pyplot as plt\n",
    "import torch\n",
    "from torch.nn import init\n",
    "from torch.nn import functional as F\n",
    "from torch.utils.data import DataLoader\n",
    "from torch import nn, optim\n",
    "import torchvision\n",
    "from torchvision import transforms\n",
    "\n",
    "%load_ext autoreload\n",
    "%autoreload 2\n",
    "import utils"
   ]
  },
  {
   "cell_type": "code",
   "execution_count": 34,
   "id": "5279e895-7b18-4a7b-bfa6-8c79863d5855",
   "metadata": {},
   "outputs": [],
   "source": [
    "class ResidualBlock(nn.Module):\n",
    "\n",
    "    def __init__(self, in_ch, out_ch, stride=1):\n",
    "        super().__init__()\n",
    "        self.conv1 = nn.Conv2d(in_ch, out_ch, kernel_size=3, stride=stride, padding=1, bias=False)\n",
    "        self.bn1 = nn.BatchNorm2d(out_ch)\n",
    "        self.conv2 = nn.Conv2d(out_ch, out_ch, kernel_size=3, stride=1, padding=1, bias=False)\n",
    "        self.bn2 = nn.BatchNorm2d(out_ch)\n",
    "\n",
    "        self.shortcut = nn.Sequential()\n",
    "\n",
    "        if stride != 1 or in_ch != out_ch:\n",
    "            self.shortcut = nn.Sequential(\n",
    "                nn.Conv2d(in_ch, out_ch, kernel_size=1, stride=stride, bias=False),\n",
    "                nn.BatchNorm2d(out_ch)\n",
    "            )\n",
    "\n",
    "    def forward(self, X):\n",
    "        out = F.relu(self.bn1(self.conv1(X)))\n",
    "        out = self.bn2(self.conv2(out))\n",
    "        out += self.shortcut(X)\n",
    "        out = F.relu(out)\n",
    "        return out\n",
    "\n",
    "class PreActBlock(nn.Module):\n",
    "\n",
    "    def __init__(self, in_ch, out_ch, stride=1):\n",
    "        super().__init__()\n",
    "        self.bn1 = nn.BatchNorm2d(in_ch)\n",
    "        self.conv1 = nn.Conv2d(in_ch, out_ch, kernel_size=3, stride=stride, padding=1, bias=False)\n",
    "        self.bn2 = nn.BatchNorm2d(out_ch)\n",
    "        self.conv2 = nn.Conv2d(out_ch, out_ch, kernel_size=3, stride=1, padding=1, bias=False)\n",
    "        self.shortcut = nn.Sequential()\n",
    "\n",
    "        if stride != 1 or in_ch != out_ch:\n",
    "            self.shortcut = nn.Sequential(\n",
    "                nn.Conv2d(in_ch, out_ch, kernel_size=1, stride=stride, bias=False),\n",
    "            )\n",
    "\n",
    "    def forward(self, X):\n",
    "        out = self.conv1(F.relu(self.bn1(X)))\n",
    "        out = self.conv2(F.relu(self.bn2(out)))\n",
    "        out += self.shortcut(X)\n",
    "        return out"
   ]
  },
  {
   "cell_type": "code",
   "execution_count": 30,
   "id": "180bd2cf-d943-43fb-a447-46f39915a568",
   "metadata": {},
   "outputs": [],
   "source": [
    "resblock = ResidualBlock(3, 64, stride=2)\n",
    "preact = PreActBlock(3, 64, stride=1)"
   ]
  },
  {
   "cell_type": "code",
   "execution_count": 31,
   "id": "277250b9-1260-4b2a-a281-94a62e17357d",
   "metadata": {},
   "outputs": [
    {
     "data": {
      "text/plain": [
       "PreActBlock(\n",
       "  (bn1): BatchNorm2d(3, eps=1e-05, momentum=0.1, affine=True, track_running_stats=True)\n",
       "  (conv1): Conv2d(3, 64, kernel_size=(3, 3), stride=(1, 1), padding=(1, 1))\n",
       "  (bn2): BatchNorm2d(64, eps=1e-05, momentum=0.1, affine=True, track_running_stats=True)\n",
       "  (conv2): Conv2d(64, 64, kernel_size=(3, 3), stride=(1, 1), padding=(1, 1))\n",
       "  (shortcut): Sequential(\n",
       "    (0): Conv2d(3, 64, kernel_size=(1, 1), stride=(1, 1))\n",
       "  )\n",
       ")"
      ]
     },
     "execution_count": 31,
     "metadata": {},
     "output_type": "execute_result"
    }
   ],
   "source": [
    "preact"
   ]
  },
  {
   "cell_type": "code",
   "execution_count": 32,
   "id": "fd053efb-cac3-4058-88b5-4d1b92a86e3b",
   "metadata": {},
   "outputs": [],
   "source": [
    "X = torch.randn(1, 3, 32, 32)\n",
    "output = preact(X)"
   ]
  },
  {
   "cell_type": "code",
   "execution_count": 33,
   "id": "47f40bf4-149e-42f4-adbe-c375f26b8ced",
   "metadata": {},
   "outputs": [
    {
     "data": {
      "text/plain": [
       "torch.Size([1, 64, 32, 32])"
      ]
     },
     "execution_count": 33,
     "metadata": {},
     "output_type": "execute_result"
    }
   ],
   "source": [
    "output.shape"
   ]
  },
  {
   "cell_type": "markdown",
   "id": "f67a5db0-158c-43a6-98ba-8eba23b7d65b",
   "metadata": {},
   "source": [
    "### Bottleneck構造"
   ]
  },
  {
   "cell_type": "code",
   "execution_count": 37,
   "id": "d6f63082-9f69-43f3-81d1-11b0ff3bacfe",
   "metadata": {},
   "outputs": [],
   "source": [
    "class Bottleneck(nn.Module):\n",
    "\n",
    "    def __init__(self, in_ch, out_ch, stride=1):\n",
    "        super().__init__()\n",
    "        self.expansion_factor = 4\n",
    "        self.conv1 = nn.Conv2d(in_ch, out_ch, kernel_size=1, stride=1, padding=0, bias=False)\n",
    "        self.bn1 = nn.BatchNorm2d(out_ch)\n",
    "        \n",
    "        self.conv2 = nn.Conv2d(out_ch, out_ch, kernel_size=3, stride=stride, padding=1, bias=False)\n",
    "        self.bn2 = nn.BatchNorm2d(out_ch)\n",
    "\n",
    "        self.conv3 = nn.Conv2d(out_ch, out_ch*self.expansion_factor, kernel_size=1, stride=1, padding=0, bias=False)\n",
    "        self.bn3 = nn.BatchNorm2d(out_ch*self.expansion_factor)\n",
    "\n",
    "        self.shortcut = nn.Sequential()\n",
    "\n",
    "        if stride != 1 or in_ch != out_ch*self.expansion_factor:\n",
    "            self.shortcut = nn.Sequential(\n",
    "                nn.Conv2d(in_ch, out_ch*self.expansion_factor, kernel_size=1, stride=stride, bias=False),\n",
    "                nn.BatchNorm2d(out_ch*self.expansion_factor)\n",
    "            )\n",
    "\n",
    "    def forward(self, X):\n",
    "        out = F.relu(self.bn1(self.conv1(X)))\n",
    "        out = F.relu(self.bn2(self.conv2(out)))\n",
    "        out = self.bn3(self.conv3(out))\n",
    "        out += self.shortcut(X)\n",
    "        out = F.relu(out)\n",
    "        return out"
   ]
  },
  {
   "cell_type": "code",
   "execution_count": 39,
   "id": "6a5e6b89-de71-40e3-b748-43be6c7884f9",
   "metadata": {},
   "outputs": [
    {
     "data": {
      "text/plain": [
       "torch.Size([1, 256, 32, 32])"
      ]
     },
     "execution_count": 39,
     "metadata": {},
     "output_type": "execute_result"
    }
   ],
   "source": [
    "bottleneck = Bottleneck(256, 64, stride=1)\n",
    "X = torch.randn(1, 256, 32, 32)\n",
    "output = bottleneck(X)\n",
    "output.shape"
   ]
  },
  {
   "cell_type": "code",
   "execution_count": 40,
   "id": "05a15ea2-ab11-40d3-891f-c192246e87fe",
   "metadata": {},
   "outputs": [],
   "source": [
    "output2 = nn.Conv2d(256, 256, kernel_size=3, stride=1, padding=1)(X)"
   ]
  },
  {
   "cell_type": "code",
   "execution_count": 41,
   "id": "594a39a1-c073-4904-998c-8c12ba8692f3",
   "metadata": {},
   "outputs": [
    {
     "data": {
      "text/plain": [
       "torch.Size([1, 256, 32, 32])"
      ]
     },
     "execution_count": 41,
     "metadata": {},
     "output_type": "execute_result"
    }
   ],
   "source": [
    "output2.shape"
   ]
  },
  {
   "cell_type": "markdown",
   "id": "aa8f11a6-f65f-411c-be89-99dddbcbdd41",
   "metadata": {},
   "source": [
    "### Inception"
   ]
  },
  {
   "cell_type": "code",
   "execution_count": 56,
   "id": "864aab1c-2a52-4b33-9a81-2e6970358a7e",
   "metadata": {},
   "outputs": [],
   "source": [
    "class InceptionModule(nn.Module):\n",
    "\n",
    "    def __init__(self, in_ch, out_ch1, out_ch3, out_ch5, out_ch_pool):\n",
    "        super().__init__()\n",
    "\n",
    "        # 1x1\n",
    "        self.branch1 = nn.Sequential(\n",
    "            nn.Conv2d(in_ch, out_ch1, kernel_size=1),\n",
    "            nn.BatchNorm2d(out_ch1),\n",
    "            nn.ReLU(),\n",
    "        )\n",
    "\n",
    "        # 3x3\n",
    "        self.branch2 = nn.Sequential(\n",
    "            # point-wise\n",
    "            nn.Conv2d(in_ch, out_ch3, kernel_size=1),\n",
    "            nn.BatchNorm2d(out_ch3),\n",
    "            nn.ReLU(),\n",
    "            # 3x3 conv\n",
    "            nn.Conv2d(out_ch3, out_ch3, kernel_size=3, padding=1),\n",
    "            nn.BatchNorm2d(out_ch3),\n",
    "            nn.ReLU(),\n",
    "        )\n",
    "\n",
    "        # 5x5\n",
    "        self.branch3 = nn.Sequential(\n",
    "            # point-wise\n",
    "            nn.Conv2d(in_ch, out_ch5, kernel_size=1),\n",
    "            nn.BatchNorm2d(out_ch5),\n",
    "            nn.ReLU(),\n",
    "            # 5x5 conv\n",
    "            nn.Conv2d(out_ch5, out_ch5, kernel_size=5, padding=2),\n",
    "            nn.BatchNorm2d(out_ch5),\n",
    "            nn.ReLU(),\n",
    "        )\n",
    "\n",
    "        # pooling\n",
    "        self.branch4 = nn.Sequential(\n",
    "            nn.MaxPool2d(kernel_size=3, stride=1, padding=1),\n",
    "            nn.Conv2d(in_ch, out_ch_pool, kernel_size=1),\n",
    "            nn.BatchNorm2d(out_ch_pool),\n",
    "            nn.ReLU(),\n",
    "        )\n",
    "        \n",
    "    def forward(self, X):\n",
    "        branch1 = self.branch1(X)\n",
    "        branch2 = self.branch2(X)\n",
    "        branch3 = self.branch3(X)\n",
    "        branch4 = self.branch4(X)\n",
    "\n",
    "        return torch.cat([branch1, branch2, branch3, branch4], dim=1)"
   ]
  },
  {
   "cell_type": "code",
   "execution_count": 57,
   "id": "8e17c0f2-7153-4300-a56a-74bf9568cc8a",
   "metadata": {},
   "outputs": [
    {
     "name": "stdout",
     "output_type": "stream",
     "text": [
      "torch.Size([16, 256, 28, 28])\n"
     ]
    }
   ],
   "source": [
    "X = torch.randn(16, 192, 28, 28)\n",
    "module = InceptionModule(192, 64, 128, 32, 32)\n",
    "out = module(X)\n",
    "print(out.shape)"
   ]
  },
  {
   "cell_type": "code",
   "execution_count": 58,
   "id": "5f11f89c-377f-4110-a658-86910623f3bf",
   "metadata": {},
   "outputs": [
    {
     "data": {
      "text/plain": [
       "InceptionModule(\n",
       "  (branch1): Sequential(\n",
       "    (0): Conv2d(192, 64, kernel_size=(1, 1), stride=(1, 1))\n",
       "    (1): BatchNorm2d(64, eps=1e-05, momentum=0.1, affine=True, track_running_stats=True)\n",
       "    (2): ReLU()\n",
       "  )\n",
       "  (branch2): Sequential(\n",
       "    (0): Conv2d(192, 128, kernel_size=(1, 1), stride=(1, 1))\n",
       "    (1): BatchNorm2d(128, eps=1e-05, momentum=0.1, affine=True, track_running_stats=True)\n",
       "    (2): ReLU()\n",
       "    (3): Conv2d(128, 128, kernel_size=(3, 3), stride=(1, 1), padding=(1, 1))\n",
       "    (4): BatchNorm2d(128, eps=1e-05, momentum=0.1, affine=True, track_running_stats=True)\n",
       "    (5): ReLU()\n",
       "  )\n",
       "  (branch3): Sequential(\n",
       "    (0): Conv2d(192, 32, kernel_size=(1, 1), stride=(1, 1))\n",
       "    (1): BatchNorm2d(32, eps=1e-05, momentum=0.1, affine=True, track_running_stats=True)\n",
       "    (2): ReLU()\n",
       "    (3): Conv2d(32, 32, kernel_size=(5, 5), stride=(1, 1), padding=(2, 2))\n",
       "    (4): BatchNorm2d(32, eps=1e-05, momentum=0.1, affine=True, track_running_stats=True)\n",
       "    (5): ReLU()\n",
       "  )\n",
       "  (branch4): Sequential(\n",
       "    (0): MaxPool2d(kernel_size=3, stride=1, padding=1, dilation=1, ceil_mode=False)\n",
       "    (1): Conv2d(192, 32, kernel_size=(1, 1), stride=(1, 1))\n",
       "    (2): BatchNorm2d(32, eps=1e-05, momentum=0.1, affine=True, track_running_stats=True)\n",
       "    (3): ReLU()\n",
       "  )\n",
       ")"
      ]
     },
     "execution_count": 58,
     "metadata": {},
     "output_type": "execute_result"
    }
   ],
   "source": [
    "module"
   ]
  },
  {
   "cell_type": "code",
   "execution_count": 52,
   "id": "d4e135f0-a17f-4013-a411-6251765add5c",
   "metadata": {},
   "outputs": [
    {
     "data": {
      "text/plain": [
       "torch.Size([1, 6])"
      ]
     },
     "execution_count": 52,
     "metadata": {},
     "output_type": "execute_result"
    }
   ],
   "source": [
    "torch.cat([a, b], dim=1).shape"
   ]
  },
  {
   "cell_type": "code",
   "execution_count": null,
   "id": "551e1982-f68b-4650-851c-8b9b448a8dfd",
   "metadata": {},
   "outputs": [],
   "source": []
  }
 ],
 "metadata": {
  "kernelspec": {
   "display_name": "Python 3 (ipykernel)",
   "language": "python",
   "name": "python3"
  },
  "language_info": {
   "codemirror_mode": {
    "name": "ipython",
    "version": 3
   },
   "file_extension": ".py",
   "mimetype": "text/x-python",
   "name": "python",
   "nbconvert_exporter": "python",
   "pygments_lexer": "ipython3",
   "version": "3.8.18"
  }
 },
 "nbformat": 4,
 "nbformat_minor": 5
}
