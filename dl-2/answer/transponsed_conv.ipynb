{
 "cells": [
  {
   "cell_type": "markdown",
   "id": "013d0028-6397-476a-b42a-1c370bd0f3f5",
   "metadata": {},
   "source": [
    "## Transposed Conv"
   ]
  },
  {
   "cell_type": "markdown",
   "id": "fb3510e1-4c9e-4a2c-a99f-b4cebf84bb46",
   "metadata": {},
   "source": [
    "### Transposed Convの実装"
   ]
  },
  {
   "cell_type": "code",
   "execution_count": 2,
   "id": "c2d1b954-d6ab-4b38-b3a4-36a3ed504c05",
   "metadata": {},
   "outputs": [],
   "source": [
    "import numpy as np\n",
    "import torch\n",
    "from torchvision import transforms\n",
    "from torch import optim, nn\n",
    "from torch.nn import functional as F\n",
    "from torchvision.datasets import CIFAR10, MNIST\n",
    "from torch.utils.data import DataLoader\n",
    "from torchvision.utils import make_grid\n",
    "import matplotlib.pyplot as plt\n",
    "\n",
    "%load_ext autoreload\n",
    "%autoreload 2\n",
    "import utils\n"
   ]
  },
  {
   "cell_type": "code",
   "execution_count": 5,
   "id": "c2aac902-cffd-4e52-83ca-9c0dd84d2e90",
   "metadata": {},
   "outputs": [],
   "source": [
    "def conv_transpose2d(input, weight, stride=1, padding=0):\n",
    "    batch_size, ch_in, h_in, w_in = input.shape\n",
    "    _, ch_out, f_h, f_w = weight.shape\n",
    "\n",
    "    h_out = stride * (h_in - 1) + f_h - 2*padding\n",
    "    w_out = stride * (w_in - 1) + f_w - 2*padding\n",
    "\n",
    "    output = torch.zeros((batch_size, ch_out, h_out, w_out))\n",
    "\n",
    "    for b in range(batch_size):\n",
    "        for i in range(ch_in):\n",
    "            for o in range(ch_out):\n",
    "                for h in range(h_in):\n",
    "                    for w in range(w_in):\n",
    "                        h_start = h * stride - padding\n",
    "                        w_start = w * stride - padding\n",
    "                        for f_h_idx in range(f_h):\n",
    "                            for f_w_idx in range(f_w):\n",
    "                                # 出力位置の計算\n",
    "                                h_out_idx = h_start + f_h_idx\n",
    "                                w_out_idx = w_start + f_w_idx\n",
    "    \n",
    "                                if 0 <= h_out_idx < h_out and 0 <= w_out_idx < w_out:\n",
    "                                    output[b, o, h_out_idx, w_out_idx] += input[b, i, h, w] * weight[i, o, f_h_idx, f_w_idx]\n",
    "\n",
    "    return output            "
   ]
  },
  {
   "cell_type": "code",
   "execution_count": 6,
   "id": "906f77d3-0753-4050-af6b-3a397a58c0e6",
   "metadata": {},
   "outputs": [
    {
     "data": {
      "text/plain": [
       "True"
      ]
     },
     "execution_count": 6,
     "metadata": {},
     "output_type": "execute_result"
    }
   ],
   "source": [
    "input = torch.randn(1, 3, 5, 5)\n",
    "convt_layer = nn.ConvTranspose2d(3, 4, kernel_size=3, stride=2, padding=2, bias=False)\n",
    "weight = convt_layer.weight\n",
    "output_scratch = conv_transpose2d(input, weight, stride=2, padding=2)\n",
    "output = convt_layer(input)\n",
    "torch.allclose(output, output_scratch)"
   ]
  },
  {
   "cell_type": "markdown",
   "id": "6ffedd83-0339-4948-92df-1bd64da9e860",
   "metadata": {},
   "source": [
    "### Autoencoder"
   ]
  },
  {
   "cell_type": "code",
   "execution_count": 27,
   "id": "26fd660b-34d0-4c07-bef5-4b97b887f8df",
   "metadata": {},
   "outputs": [],
   "source": [
    "class ConvAutoencoder(nn.Module):\n",
    "    def __init__(self):\n",
    "        super().__init__()\n",
    "        # encoder \n",
    "        self.conv1 = nn.Conv2d(1, 16, 3, padding=1)\n",
    "        self.conv2 = nn.Conv2d(16, 4, 3, padding=1)\n",
    "        self.pool = nn.MaxPool2d(2, 2)\n",
    "\n",
    "        # decoder\n",
    "        self.t_conv1 = nn.ConvTranspose2d(4, 16, 2, stride=2)\n",
    "        self.t_conv2 = nn.ConvTranspose2d(16, 1, 2, stride=2)\n",
    "\n",
    "    def forward(self, X):\n",
    "        # encoder\n",
    "        X = self.pool(F.relu(self.conv1(X)))\n",
    "        X = self.pool(F.relu(self.conv2(X)))\n",
    "        # decoder\n",
    "        X = F.relu(self.t_conv1(X))\n",
    "        X = F.sigmoid(self.t_conv2(X))\n",
    "        return X"
   ]
  },
  {
   "cell_type": "code",
   "execution_count": 4,
   "id": "47ccd67a-59fb-4bd1-92cb-e44497e36cf8",
   "metadata": {},
   "outputs": [],
   "source": [
    "# データ準備\n",
    "transform = transforms.ToTensor()\n",
    "train_dataset = MNIST('./mnist_data', train=True, download=True, transform=transform)\n",
    "val_dataset = MNIST('./mnist_data', train=False, download=True, transform=transform)\n",
    "\n",
    "train_loader = DataLoader(train_dataset, batch_size=128, shuffle=True)\n",
    "val_loader = DataLoader(val_dataset, batch_size=128)"
   ]
  },
  {
   "cell_type": "code",
   "execution_count": 6,
   "id": "cd611f7d-1d71-44a8-bd5a-01f56a6a214b",
   "metadata": {},
   "outputs": [],
   "source": [
    "X, y = next(iter(train_loader))"
   ]
  },
  {
   "cell_type": "code",
   "execution_count": 9,
   "id": "577ca89e-4774-42d8-94b7-45db3a2df259",
   "metadata": {},
   "outputs": [
    {
     "data": {
      "text/plain": [
       "tensor(1.)"
      ]
     },
     "execution_count": 9,
     "metadata": {},
     "output_type": "execute_result"
    }
   ],
   "source": [
    "X.max()"
   ]
  },
  {
   "cell_type": "code",
   "execution_count": 29,
   "id": "6e4d6e2a-73a0-437e-b9cd-2d75ec4e036b",
   "metadata": {},
   "outputs": [],
   "source": [
    "model = ConvAutoencoder()\n",
    "# loss_func = F.mse_loss\n",
    "opt = optim.Adam(model.parameters(), lr=0.001)\n",
    "num_epochs = 10"
   ]
  },
  {
   "cell_type": "code",
   "execution_count": 30,
   "id": "13d37cc1-a73c-4659-9b53-911d978ec4f9",
   "metadata": {},
   "outputs": [
    {
     "name": "stdout",
     "output_type": "stream",
     "text": [
      "Epoch: 1: train loss: 15.16270569595955\n",
      "Epoch: 2: train loss: 3.5327834469168935\n",
      "Epoch: 3: train loss: 2.4705053857648807\n",
      "Epoch: 4: train loss: 2.23381078942244\n",
      "Epoch: 5: train loss: 2.0919489530103803\n",
      "Epoch: 6: train loss: 1.9995183233004898\n",
      "Epoch: 7: train loss: 1.9314281855946156\n",
      "Epoch: 8: train loss: 1.877678239205753\n",
      "Epoch: 9: train loss: 1.8345250396459087\n",
      "Epoch: 10: train loss: 1.7980707713535853\n"
     ]
    }
   ],
   "source": [
    "# 学習ループ\n",
    "for epoch in range(1, num_epochs+1):\n",
    "    \n",
    "    train_loss = 0.0\n",
    "    for X, _ in train_loader:\n",
    "        opt.zero_grad()\n",
    "        outputs = model(X)\n",
    "        loss = F.mse_loss(outputs, X)\n",
    "        loss.backward()\n",
    "        opt.step()\n",
    "        train_loss += loss.item()*X.shape[0]\n",
    "    train_loss = train_loss / len(train_loader)\n",
    "    print(f'Epoch: {epoch}: train loss: {train_loss}')"
   ]
  },
  {
   "cell_type": "code",
   "execution_count": 31,
   "id": "4e7bc5b5-4e5e-406e-b051-1f0382fd4482",
   "metadata": {},
   "outputs": [],
   "source": [
    "val_loader = DataLoader(val_dataset, batch_size=8)\n",
    "images, labels = next(iter(val_loader))"
   ]
  },
  {
   "cell_type": "code",
   "execution_count": 32,
   "id": "88436a1e-6008-4ab3-97bd-d18ff41c0a15",
   "metadata": {},
   "outputs": [],
   "source": [
    "outputs = model(images)"
   ]
  },
  {
   "cell_type": "code",
   "execution_count": 36,
   "id": "e56c80d7-db25-4227-9395-7bf51ccd304d",
   "metadata": {},
   "outputs": [
    {
     "data": {
      "text/plain": [
       "<matplotlib.image.AxesImage at 0xffff64402820>"
      ]
     },
     "execution_count": 36,
     "metadata": {},
     "output_type": "execute_result"
    },
    {
     "data": {
      "image/png": "[encoded data removed]",
      "text/plain": [
       "<Figure size 640x480 with 1 Axes>"
      ]
     },
     "metadata": {},
     "output_type": "display_data"
    }
   ],
   "source": [
    "images_grid = make_grid(images)\n",
    "outputs_grid = make_grid(outputs)\n",
    "plt.imshow(torch.permute(images_grid, (1, 2, 0)))"
   ]
  },
  {
   "cell_type": "code",
   "execution_count": 37,
   "id": "e1d5b296-0e63-4b17-9c77-67532b8ac6c6",
   "metadata": {},
   "outputs": [
    {
     "data": {
      "text/plain": [
       "<matplotlib.image.AxesImage at 0xffff652f5eb0>"
      ]
     },
     "execution_count": 37,
     "metadata": {},
     "output_type": "execute_result"
    },
    {
     "data": {
      "image/png": "[encoded data removed]",
      "text/plain": [
       "<Figure size 640x480 with 1 Axes>"
      ]
     },
     "metadata": {},
     "output_type": "display_data"
    }
   ],
   "source": [
    "plt.imshow(torch.permute(outputs_grid, (1, 2, 0)))"
   ]
  },
  {
   "cell_type": "code",
   "execution_count": null,
   "id": "785c8c36-1ea4-416f-8b40-323144898d61",
   "metadata": {},
   "outputs": [],
   "source": []
  }
 ],
 "metadata": {
  "kernelspec": {
   "display_name": "Python 3 (ipykernel)",
   "language": "python",
   "name": "python3"
  },
  "language_info": {
   "codemirror_mode": {
    "name": "ipython",
    "version": 3
   },
   "file_extension": ".py",
   "mimetype": "text/x-python",
   "name": "python",
   "nbconvert_exporter": "python",
   "pygments_lexer": "ipython3",
   "version": "3.8.18"
  }
 },
 "nbformat": 4,
 "nbformat_minor": 5
}
