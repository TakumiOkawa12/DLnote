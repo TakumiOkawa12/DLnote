{
 "cells": [
  {
   "cell_type": "markdown",
   "id": "4d91a2ac-9e0d-4194-b31b-0e9694749834",
   "metadata": {},
   "source": [
    "# CNN"
   ]
  },
  {
   "cell_type": "markdown",
   "id": "59f79fec-90c3-4e1d-a451-5bd109d51969",
   "metadata": {},
   "source": [
    "## Convolutional Layerのスクラッチ実装"
   ]
  },
  {
   "cell_type": "code",
   "execution_count": 138,
   "id": "97dc6db0-5d54-4ee7-941c-4de61ad5e619",
   "metadata": {},
   "outputs": [
    {
     "name": "stdout",
     "output_type": "stream",
     "text": [
      "The autoreload extension is already loaded. To reload it, use:\n",
      "  %reload_ext autoreload\n"
     ]
    }
   ],
   "source": [
    "import torchvision\n",
    "from torchvision import transforms\n",
    "import matplotlib.pyplot as plt\n",
    "import torch\n",
    "from torch import nn\n",
    "from torch.utils.data import DataLoader\n",
    "from torch import optim\n",
    "from torch.nn import functional as F\n",
    "import time\n",
    "%load_ext autoreload\n",
    "%autoreload 2\n",
    "import utils"
   ]
  },
  {
   "cell_type": "code",
   "execution_count": 84,
   "id": "e49b7728-c973-44cd-bba2-74272a5ab9ee",
   "metadata": {},
   "outputs": [],
   "source": [
    "dataset = torchvision.datasets.MNIST(root = './mnist_data', train = True, download = True)\n",
    "im, label = dataset[0]\n",
    "im = transforms.ToTensor()(im)[0, :, :]"
   ]
  },
  {
   "cell_type": "code",
   "execution_count": 85,
   "id": "69c7d4ec-d662-4e5a-8a47-91e72674047a",
   "metadata": {},
   "outputs": [
    {
     "data": {
      "text/plain": [
       "<matplotlib.image.AxesImage at 0x7f74c41ce9a0>"
      ]
     },
     "execution_count": 85,
     "metadata": {},
     "output_type": "execute_result"
    },
    {
     "data": {
      "image/png": "[encoded data removed]",
      "text/plain": [
       "<Figure size 640x480 with 1 Axes>"
      ]
     },
     "metadata": {},
     "output_type": "display_data"
    }
   ],
   "source": [
    "plt.imshow(im, cmap = 'gray')"
   ]
  },
  {
   "cell_type": "code",
   "execution_count": 27,
   "id": "a1345fc9-1125-4d8f-b851-fdbf99c06d2a",
   "metadata": {},
   "outputs": [
    {
     "data": {
      "text/plain": [
       "Dataset MNIST\n",
       "    Number of datapoints: 60000\n",
       "    Root location: ./mnist_data\n",
       "    Split: Train"
      ]
     },
     "execution_count": 27,
     "metadata": {},
     "output_type": "execute_result"
    }
   ],
   "source": [
    "dataset"
   ]
  },
  {
   "cell_type": "code",
   "execution_count": 88,
   "id": "8a02e479-ca39-441f-8192-6a25157a42c3",
   "metadata": {},
   "outputs": [],
   "source": [
    "upper_edge_filter = torch.tensor([[-1., -1., -1.],\n",
    "                                 [0., 0., 0.],\n",
    "                                 [1., 1., 1.]])\n",
    "left_edge_filter = torch.tensor([[-1., 0., 1.],\n",
    "                                 [-1., 0., 1.],\n",
    "                                 [-1., 0., 1.]])\n",
    "\n",
    "def convolution(im, filter):\n",
    "    feature_map = torch.zeros((im.shape[0] - filter.shape[0]-1, im.shape[1] - filter.shape[1]-1))\n",
    "    for n in range(im.shape[0] - filter.shape[0]-1):\n",
    "        for i in range(im.shape[1] - filter.shape[1]-1):\n",
    "            feature_map[n, i] = torch.sum(im[n:n+filter.shape[0], i:i+filter.shape[1]] @ filter)\n",
    "    return feature_map\n",
    "\n",
    "feature_map = convolution(im, upper_edge_filter)"
   ]
  },
  {
   "cell_type": "code",
   "execution_count": 68,
   "id": "8a37b49a-14e6-48ff-be2c-299fa3824313",
   "metadata": {},
   "outputs": [
    {
     "data": {
      "text/plain": [
       "torch.Size([26, 26])"
      ]
     },
     "execution_count": 68,
     "metadata": {},
     "output_type": "execute_result"
    }
   ],
   "source": [
    "feature_map.shape"
   ]
  },
  {
   "cell_type": "code",
   "execution_count": 89,
   "id": "89648f79-6479-4ee2-995f-65421246b920",
   "metadata": {},
   "outputs": [
    {
     "data": {
      "text/plain": [
       "<matplotlib.image.AxesImage at 0x7f74c40ffee0>"
      ]
     },
     "execution_count": 89,
     "metadata": {},
     "output_type": "execute_result"
    },
    {
     "data": {
      "image/png": "[encoded data removed]",
      "text/plain": [
       "<Figure size 640x480 with 1 Axes>"
      ]
     },
     "metadata": {},
     "output_type": "display_data"
    }
   ],
   "source": [
    "# upper edge filter\n",
    "plt.imshow(feature_map, cmap = 'gray') "
   ]
  },
  {
   "cell_type": "code",
   "execution_count": 87,
   "id": "b27bf9de-717f-4d30-9bbe-489f45d12bf7",
   "metadata": {},
   "outputs": [
    {
     "data": {
      "text/plain": [
       "<matplotlib.image.AxesImage at 0x7f74c4179d30>"
      ]
     },
     "execution_count": 87,
     "metadata": {},
     "output_type": "execute_result"
    },
    {
     "data": {
      "image/png": "[encoded data removed]",
      "text/plain": [
       "<Figure size 640x480 with 1 Axes>"
      ]
     },
     "metadata": {},
     "output_type": "display_data"
    }
   ],
   "source": [
    "# left edge filter\n",
    "plt.imshow(feature_map, cmap = 'gray')"
   ]
  },
  {
   "cell_type": "code",
   "execution_count": 82,
   "id": "c107c2cd-0303-4791-9df1-905694a97ec5",
   "metadata": {},
   "outputs": [
    {
     "data": {
      "text/plain": [
       "torch.Size([26, 26])"
      ]
     },
     "execution_count": 82,
     "metadata": {},
     "output_type": "execute_result"
    }
   ],
   "source": [
    "feature_map = torch.zeros((26, 26))\n",
    "feature_map.shape"
   ]
  },
  {
   "cell_type": "markdown",
   "id": "9fe7e934-a84e-43d3-bcca-e6e142877607",
   "metadata": {},
   "source": [
    "## CNN構築"
   ]
  },
  {
   "cell_type": "code",
   "execution_count": 141,
   "id": "f6fb9306-bd99-421c-ad6d-a41d783d19e8",
   "metadata": {},
   "outputs": [],
   "source": [
    "conv_model = nn.Sequential(\n",
    "    # 1×28×28\n",
    "    nn.Conv2d(1, 4, kernel_size = 3, stride = 2, padding = 1),\n",
    "    nn.ReLU(),\n",
    "    # 4×14×14\n",
    "    nn.Conv2d(4, 8, kernel_size = 3, stride = 2, padding = 1),\n",
    "    nn.ReLU(),\n",
    "    # 8×7×7\n",
    "    nn.Conv2d(8, 16, kernel_size = 3, stride = 2, padding = 1), # 奇数の場合は繰り上がったサイスで出力される\n",
    "    nn.ReLU(),\n",
    "    # 16×4×4\n",
    "    nn.Conv2d(16, 32, kernel_size = 3, stride = 2, padding = 1),\n",
    "    nn.ReLU(),\n",
    "    # 32×2×2\n",
    "    # nn.flatten()\n",
    "    # # 128\n",
    "    # nn.Linear(128, 10)\n",
    "    nn.Conv2d(32, 10, kernel_size = 3, stride = 2, padding = 1),\n",
    "    # 10×1×1\n",
    "    nn.Flatten()\n",
    "    # 10\n",
    ")"
   ]
  },
  {
   "cell_type": "code",
   "execution_count": 97,
   "id": "23621787-5c0b-4658-822e-1f196eb03925",
   "metadata": {},
   "outputs": [
    {
     "data": {
      "text/plain": [
       "Sequential(\n",
       "  (0): Conv2d(1, 4, kernel_size=(3, 3), stride=(2, 2), padding=(1, 1))\n",
       "  (1): ReLU()\n",
       "  (2): Conv2d(4, 8, kernel_size=(3, 3), stride=(2, 2), padding=(1, 1))\n",
       "  (3): ReLU()\n",
       "  (4): Conv2d(8, 16, kernel_size=(3, 3), stride=(2, 2), padding=(1, 1))\n",
       "  (5): ReLU()\n",
       "  (6): Conv2d(16, 32, kernel_size=(3, 3), stride=(2, 2), padding=(1, 1))\n",
       "  (7): ReLU()\n",
       "  (8): Conv2d(32, 10, kernel_size=(3, 3), stride=(2, 2), padding=(1, 1))\n",
       "  (9): Flatten(start_dim=1, end_dim=-1)\n",
       ")"
      ]
     },
     "execution_count": 97,
     "metadata": {},
     "output_type": "execute_result"
    }
   ],
   "source": [
    "conv_model"
   ]
  },
  {
   "cell_type": "code",
   "execution_count": 98,
   "id": "ebc69d11-8b39-4f6a-9778-907e10eb61fa",
   "metadata": {},
   "outputs": [],
   "source": [
    "X = torch.randn((8, 1, 28, 28))\n",
    "output = conv_model(X)"
   ]
  },
  {
   "cell_type": "code",
   "execution_count": 99,
   "id": "82521d91-ea21-40ba-82d1-4805b82740a4",
   "metadata": {},
   "outputs": [
    {
     "data": {
      "text/plain": [
       "tensor([[-7.0689e-02,  6.1168e-02, -5.3871e-02, -7.4455e-02,  3.2488e-02,\n",
       "          3.1415e-02, -4.3814e-02, -1.6877e-02,  3.0845e-02,  8.4458e-03],\n",
       "        [-7.2078e-02,  6.3393e-02, -4.3798e-02, -7.5886e-02,  2.8349e-02,\n",
       "          3.6379e-02, -4.8181e-02, -1.5627e-02,  3.0007e-02,  6.4423e-03],\n",
       "        [-6.9026e-02,  6.2565e-02, -5.8965e-02, -7.0220e-02,  3.6907e-02,\n",
       "          2.7884e-02, -4.4056e-02, -1.2323e-02,  2.8474e-02,  7.3341e-03],\n",
       "        [-7.4321e-02,  6.4814e-02, -4.3407e-02, -7.0797e-02,  2.9283e-02,\n",
       "          3.9846e-02, -4.6687e-02, -1.3118e-02,  2.8098e-02, -4.5247e-05],\n",
       "        [-6.6513e-02,  6.6461e-02, -5.2165e-02, -7.1781e-02,  3.4516e-02,\n",
       "          4.0103e-02, -3.8834e-02, -1.6528e-02,  3.6890e-02,  2.3783e-03],\n",
       "        [-7.7849e-02,  5.8134e-02, -4.9508e-02, -7.3147e-02,  3.7872e-02,\n",
       "          3.5493e-02, -4.3187e-02, -1.2807e-02,  3.0599e-02,  8.4280e-03],\n",
       "        [-7.4159e-02,  6.5312e-02, -5.3097e-02, -7.1799e-02,  3.2260e-02,\n",
       "          3.0328e-02, -4.4714e-02, -1.2471e-02,  2.9502e-02,  3.2015e-03],\n",
       "        [-7.2973e-02,  6.3311e-02, -5.0040e-02, -7.4922e-02,  3.0767e-02,\n",
       "          2.8721e-02, -4.1028e-02, -9.3437e-03,  2.8439e-02,  5.9353e-03]],\n",
       "       grad_fn=<ViewBackward0>)"
      ]
     },
     "execution_count": 99,
     "metadata": {},
     "output_type": "execute_result"
    }
   ],
   "source": [
    "output"
   ]
  },
  {
   "cell_type": "code",
   "execution_count": 101,
   "id": "d5204bd3-b712-4e46-a512-a26367bd4754",
   "metadata": {},
   "outputs": [
    {
     "data": {
      "text/plain": [
       "torch.Size([8, 10])"
      ]
     },
     "execution_count": 101,
     "metadata": {},
     "output_type": "execute_result"
    }
   ],
   "source": [
    "output.shape"
   ]
  },
  {
   "cell_type": "code",
   "execution_count": 106,
   "id": "19ecd12e-3275-4274-949b-aad8610d09ee",
   "metadata": {},
   "outputs": [
    {
     "data": {
      "text/plain": [
       "tensor(9034)"
      ]
     },
     "execution_count": 106,
     "metadata": {},
     "output_type": "execute_result"
    }
   ],
   "source": [
    "torch.tensor([params.numel() for params in conv_model.parameters()]).sum()"
   ]
  },
  {
   "cell_type": "code",
   "execution_count": 146,
   "id": "2fa9e2dc-f04b-4fd1-a508-022426a3fdd8",
   "metadata": {},
   "outputs": [
    {
     "name": "stderr",
     "output_type": "stream",
     "text": [
      "                                                            "
     ]
    },
    {
     "name": "stdout",
     "output_type": "stream",
     "text": [
      "epoch: 0: train error: 2.2926548467770314, validation error: 2.2582084951521475, validation accuracy: 0.13419699367088608\n"
     ]
    },
    {
     "name": "stderr",
     "output_type": "stream",
     "text": [
      "                                                            "
     ]
    },
    {
     "name": "stdout",
     "output_type": "stream",
     "text": [
      "epoch: 1: train error: 1.0157873457047477, validation error: 0.35692121824131734, validation accuracy: 0.8947784810126582\n"
     ]
    },
    {
     "name": "stderr",
     "output_type": "stream",
     "text": [
      "                                                            "
     ]
    },
    {
     "name": "stdout",
     "output_type": "stream",
     "text": [
      "epoch: 2: train error: 0.31069381983041255, validation error: 0.24730900194071517, validation accuracy: 0.9283030063291139\n"
     ]
    },
    {
     "name": "stderr",
     "output_type": "stream",
     "text": [
      "                                                            "
     ]
    },
    {
     "name": "stdout",
     "output_type": "stream",
     "text": [
      "epoch: 3: train error: 0.22521820348272445, validation error: 0.1814605892411893, validation accuracy: 0.944620253164557\n"
     ]
    },
    {
     "name": "stderr",
     "output_type": "stream",
     "text": [
      "                                                            "
     ]
    },
    {
     "name": "stdout",
     "output_type": "stream",
     "text": [
      "epoch: 4: train error: 0.18098366557598622, validation error: 0.154505132768256, validation accuracy: 0.9525316455696202\n"
     ]
    },
    {
     "name": "stderr",
     "output_type": "stream",
     "text": [
      "                                                            "
     ]
    },
    {
     "name": "stdout",
     "output_type": "stream",
     "text": [
      "epoch: 5: train error: 0.15360402120456004, validation error: 0.14857105337543106, validation accuracy: 0.9529272151898734\n"
     ]
    },
    {
     "name": "stderr",
     "output_type": "stream",
     "text": [
      "                                                            "
     ]
    },
    {
     "name": "stdout",
     "output_type": "stream",
     "text": [
      "epoch: 6: train error: 0.13523913557325473, validation error: 0.12264044129855553, validation accuracy: 0.9623219936708861\n"
     ]
    },
    {
     "name": "stderr",
     "output_type": "stream",
     "text": [
      "                                                            "
     ]
    },
    {
     "name": "stdout",
     "output_type": "stream",
     "text": [
      "epoch: 7: train error: 0.12013454070842977, validation error: 0.11824837443713523, validation accuracy: 0.9625197784810127\n"
     ]
    },
    {
     "name": "stderr",
     "output_type": "stream",
     "text": [
      "                                                            "
     ]
    },
    {
     "name": "stdout",
     "output_type": "stream",
     "text": [
      "epoch: 8: train error: 0.11060176446620844, validation error: 0.12312892227303944, validation accuracy: 0.9611352848101266\n"
     ]
    },
    {
     "name": "stderr",
     "output_type": "stream",
     "text": [
      "                                                            "
     ]
    },
    {
     "name": "stdout",
     "output_type": "stream",
     "text": [
      "epoch: 9: train error: 0.10257643820650415, validation error: 0.11872704181808365, validation accuracy: 0.9604430379746836\n",
      "time : 45.56822752952576\n"
     ]
    },
    {
     "name": "stderr",
     "output_type": "stream",
     "text": [
      "\r"
     ]
    }
   ],
   "source": [
    "transform = transforms.Compose([transforms.ToTensor(),\n",
    "                                transforms.Normalize((0.5,), (0.5,))])\n",
    "train_dataset = torchvision.datasets.MNIST(root = './mnist_data', train = True, download = True, transform = transform)\n",
    "val_dataset = torchvision.datasets.MNIST(root = './mnist_data', train = False, download = True, transform = transform)\n",
    "train_loader = DataLoader(train_dataset, batch_size = 128, shuffle = True, num_workers = 4)\n",
    "val_loader = DataLoader(val_dataset, batch_size = 128, num_workers = 4)\n",
    "\n",
    "# GPUで処理する場合は以下\n",
    "device = torch.device(\"cuda\" if torch.cuda.is_available() else \"cpu\")\n",
    "conv_model.to(device)\n",
    "\n",
    "conv_model = nn.Sequential(\n",
    "    # 1×28×28\n",
    "    nn.Conv2d(1, 4, kernel_size = 3, stride = 2, padding = 1),\n",
    "    nn.ReLU(),\n",
    "    # 4×14×14\n",
    "    nn.Conv2d(4, 8, kernel_size = 3, stride = 2, padding = 1),\n",
    "    nn.ReLU(),\n",
    "    # 8×7×7\n",
    "    nn.Conv2d(8, 16, kernel_size = 3, stride = 2, padding = 1), # 奇数の場合は繰り上がったサイスで出力される\n",
    "    nn.ReLU(),\n",
    "    # 16×4×4\n",
    "    nn.Conv2d(16, 32, kernel_size = 3, stride = 2, padding = 1),\n",
    "    nn.ReLU(),\n",
    "    # 32×2×2\n",
    "    # nn.flatten()\n",
    "    # # 128\n",
    "    # nn.Linear(128, 10)\n",
    "    nn.Conv2d(32, 10, kernel_size = 3, stride = 2, padding = 1),\n",
    "    # 10×1×1\n",
    "    nn.Flatten()\n",
    "    # 10\n",
    ")\n",
    "opt = optim.SGD(conv_model.parameters(), lr = 0.03)\n",
    "start = time.time()\n",
    "train_losses, val_losses, val_accuracies = utils.learn(conv_model, train_loader, val_loader, opt, loss_func = F.cross_entropy, num_epoch = 10)\n",
    "end = time.time()\n",
    "print(f'time : {end - start}')"
   ]
  },
  {
   "cell_type": "code",
   "execution_count": 147,
   "id": "f9491f33-0968-4195-9401-44e9dc1ae0c7",
   "metadata": {},
   "outputs": [
    {
     "data": {
      "text/plain": [
       "[<matplotlib.lines.Line2D at 0x7f74fcbc8bb0>]"
      ]
     },
     "execution_count": 147,
     "metadata": {},
     "output_type": "execute_result"
    },
    {
     "data": {
      "image/png": "[encoded data removed]",
      "text/plain": [
       "<Figure size 640x480 with 1 Axes>"
      ]
     },
     "metadata": {},
     "output_type": "display_data"
    }
   ],
   "source": [
    "plt.plot(train_losses)\n",
    "plt.plot(val_losses)"
   ]
  },
  {
   "cell_type": "code",
   "execution_count": null,
   "id": "f44c407b-ec2e-4d20-9e35-8e107b8826db",
   "metadata": {},
   "outputs": [],
   "source": []
  }
 ],
 "metadata": {
  "kernelspec": {
   "display_name": "Python 3 (ipykernel)",
   "language": "python",
   "name": "python3"
  },
  "language_info": {
   "codemirror_mode": {
    "name": "ipython",
    "version": 3
   },
   "file_extension": ".py",
   "mimetype": "text/x-python",
   "name": "python",
   "nbconvert_exporter": "python",
   "pygments_lexer": "ipython3",
   "version": "3.8.18"
  }
 },
 "nbformat": 4,
 "nbformat_minor": 5
}
