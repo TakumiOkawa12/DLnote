{
 "cells": [
  {
   "cell_type": "markdown",
   "id": "4215914c-f657-48dc-9dda-40298d80deda",
   "metadata": {},
   "source": [
    "# Deeper Model"
   ]
  },
  {
   "cell_type": "code",
   "execution_count": 1,
   "id": "bd393b36-fb4b-499f-8c31-f8664ff30d71",
   "metadata": {},
   "outputs": [],
   "source": [
    "import numpy as np\n",
    "import matplotlib.pyplot as plt\n",
    "import torch\n",
    "from torch import nn, optim\n",
    "from torch.nn import functional as F\n",
    "from torch.utils.data import DataLoader\n",
    "import torchvision\n",
    "from torchvision import transforms\n",
    "\n",
    "%load_ext autoreload\n",
    "%autoreload 2\n",
    "import utils"
   ]
  },
  {
   "cell_type": "markdown",
   "id": "55547d74-b5c7-43ae-84a7-ea9697105ae9",
   "metadata": {},
   "source": [
    "## Residual Block"
   ]
  },
  {
   "cell_type": "code",
   "execution_count": 28,
   "id": "0f60c600-93c4-4990-a1c5-fdedbc2eb5b4",
   "metadata": {},
   "outputs": [],
   "source": [
    "class ResidualBlock(nn.Module):\n",
    "\n",
    "    def __init__(self, in_ch, out_ch, stride = 1):\n",
    "        super().__init__()\n",
    "        self.conv1 = nn.Conv2d(in_ch, out_ch, kernel_size = 3, stride = stride, padding = 1, bias=False)\n",
    "        self.bn1 = nn.BatchNorm2d(out_ch)\n",
    "        self.conv2 = nn.Conv2d(out_ch, out_ch, kernel_size = 3, stride = 1, padding = 1, bias=False)\n",
    "        self.bn2 = nn.BatchNorm2d(out_ch)\n",
    "\n",
    "        self.shortcut = nn.Sequential()\n",
    "\n",
    "        if stride != 1 or in_ch != out_ch:\n",
    "            self.shortcut = nn.Sequential(\n",
    "                nn.Conv2d(in_ch, out_ch, kernel_size = 1, stride = stride, bias=False),\n",
    "                nn.BatchNorm2d(out_ch)\n",
    "            )\n",
    "\n",
    "    def forward(self, X):\n",
    "        out = F.relu(self.bn1(self.conv1(X)))\n",
    "        out = self.bn2(self.conv2(out))\n",
    "        out += self.shortcut(X)\n",
    "        out = F.relu(out)\n",
    "        return out\n",
    "\n",
    "\n",
    "class PreResidualBlock(nn.Module):\n",
    "\n",
    "    def __init__(self, in_ch, out_ch, stride = 1):\n",
    "        super().__init__()\n",
    "        self.conv1 = nn.Conv2d(in_ch, out_ch, kernel_size = 3, stride = stride, padding = 1, bias=False) # BatchNormでバイアスを学習しているのでこちらでは不要\n",
    "        self.bn1 = nn.BatchNorm2d(in_ch)\n",
    "        self.conv2 = nn.Conv2d(out_ch, out_ch, kernel_size = 3, stride = 1, padding = 1, bias=False) # BatchNormでバイアスを学習しているのでこちらでは不要\n",
    "        self.bn2 = nn.BatchNorm2d(out_ch)\n",
    "\n",
    "        self.shortcut = nn.Sequential()\n",
    "\n",
    "        if stride != 1 or in_ch != out_ch:\n",
    "            self.shortcut = nn.Sequential(\n",
    "                nn.Conv2d(in_ch, out_ch, kernel_size = 1, stride = stride, bias=False) # ここではなるべく恒等関数にしたい(入力時のものを後ろのレイヤーに持っていきたい)のでバイアスは不要\n",
    "            )\n",
    "\n",
    "    def forward(self, X):\n",
    "        out = self.conv1(F.relu(self.bn1(X)))\n",
    "        out = self.conv2(F.relu(self.bn2(out)))\n",
    "        out = F.relu(out)\n",
    "        out += self.shortcut(X)\n",
    "        return out\n",
    "        "
   ]
  },
  {
   "cell_type": "code",
   "execution_count": 11,
   "id": "a840827b-3523-4735-b6e1-ec1db1eec9ca",
   "metadata": {},
   "outputs": [],
   "source": [
    "resblock = ResidualBlock(3, 64, stride = 2)"
   ]
  },
  {
   "cell_type": "code",
   "execution_count": 12,
   "id": "794a9a19-c572-46cd-aa60-2df38ca97c13",
   "metadata": {},
   "outputs": [
    {
     "data": {
      "text/plain": [
       "ResidualBlock(\n",
       "  (conv1): Conv2d(3, 64, kernel_size=(3, 3), stride=(2, 2), padding=(1, 1), bias=False)\n",
       "  (bn1): BatchNorm2d(64, eps=1e-05, momentum=0.1, affine=True, track_running_stats=True)\n",
       "  (conv2): Conv2d(64, 64, kernel_size=(3, 3), stride=(1, 1), padding=(1, 1), bias=False)\n",
       "  (bn2): BatchNorm2d(64, eps=1e-05, momentum=0.1, affine=True, track_running_stats=True)\n",
       "  (shortcut): Sequential(\n",
       "    (0): Conv2d(3, 64, kernel_size=(1, 1), stride=(2, 2), bias=False)\n",
       "    (1): BatchNorm2d(64, eps=1e-05, momentum=0.1, affine=True, track_running_stats=True)\n",
       "  )\n",
       ")"
      ]
     },
     "execution_count": 12,
     "metadata": {},
     "output_type": "execute_result"
    }
   ],
   "source": [
    "resblock"
   ]
  },
  {
   "cell_type": "code",
   "execution_count": 13,
   "id": "29261d15-152c-4eaa-a10b-79035b2bd1e0",
   "metadata": {},
   "outputs": [],
   "source": [
    "X = torch.randn(1, 3, 32, 32)\n",
    "output = resblock(X)"
   ]
  },
  {
   "cell_type": "code",
   "execution_count": 14,
   "id": "3424b71e-6b22-4ca1-9e54-662bb1861bf4",
   "metadata": {},
   "outputs": [
    {
     "data": {
      "text/plain": [
       "torch.Size([1, 64, 16, 16])"
      ]
     },
     "execution_count": 14,
     "metadata": {},
     "output_type": "execute_result"
    }
   ],
   "source": [
    "output.shape"
   ]
  },
  {
   "cell_type": "code",
   "execution_count": 24,
   "id": "4d13a382-cd5f-42c8-b514-ba2aa6a65553",
   "metadata": {},
   "outputs": [],
   "source": [
    "preresblock = PreResidualBlock(3, 64, stride = 2)"
   ]
  },
  {
   "cell_type": "code",
   "execution_count": 25,
   "id": "8472f66f-c348-4a5c-8dd9-fbff7e440d60",
   "metadata": {},
   "outputs": [
    {
     "data": {
      "text/plain": [
       "PreResidualBlock(\n",
       "  (conv1): Conv2d(3, 64, kernel_size=(3, 3), stride=(2, 2), padding=(1, 1), bias=False)\n",
       "  (bn1): BatchNorm2d(3, eps=1e-05, momentum=0.1, affine=True, track_running_stats=True)\n",
       "  (conv2): Conv2d(64, 64, kernel_size=(3, 3), stride=(1, 1), padding=(1, 1), bias=False)\n",
       "  (bn2): BatchNorm2d(64, eps=1e-05, momentum=0.1, affine=True, track_running_stats=True)\n",
       "  (shortcut): Sequential(\n",
       "    (0): Conv2d(3, 64, kernel_size=(1, 1), stride=(2, 2), bias=False)\n",
       "  )\n",
       ")"
      ]
     },
     "execution_count": 25,
     "metadata": {},
     "output_type": "execute_result"
    }
   ],
   "source": [
    "preresblock"
   ]
  },
  {
   "cell_type": "code",
   "execution_count": 26,
   "id": "df7a267f-8ee9-4419-adc9-198dcb221c95",
   "metadata": {},
   "outputs": [
    {
     "data": {
      "text/plain": [
       "torch.Size([1, 64, 16, 16])"
      ]
     },
     "execution_count": 26,
     "metadata": {},
     "output_type": "execute_result"
    }
   ],
   "source": [
    "output = preresblock(X)\n",
    "output.shape"
   ]
  },
  {
   "cell_type": "markdown",
   "id": "50cf112d-14a1-4965-b28d-3ce01c0ebe9c",
   "metadata": {},
   "source": [
    "### Point-Wise-ConvolutionとBottleneck構造"
   ]
  },
  {
   "cell_type": "code",
   "execution_count": 43,
   "id": "3ca0950d-2c07-4366-b235-61bb0de1f1eb",
   "metadata": {},
   "outputs": [],
   "source": [
    "class Bottleneck_ResidualBlock(nn.Module):\n",
    "\n",
    "    def __init__(self, in_ch, out_ch, stride = 1, expansion_factor = 4):\n",
    "        super().__init__()\n",
    "        self.pw1 = nn.Conv2d(in_ch, out_ch, kernel_size = 1, stride = 1, padding = 0, bias = False)\n",
    "        self.bn1 = nn.BatchNorm2d(out_ch)\n",
    "        self.conv1 = nn.Conv2d(out_ch, out_ch, kernel_size = 3, stride = stride, padding = 1, bias = False)\n",
    "        self.bn2 = nn.BatchNorm2d(out_ch)\n",
    "        self.pw2 = nn.Conv2d(out_ch, out_ch*expansion_factor, kernel_size = 1, stride = 1, padding = 0, bias = False)\n",
    "        self.bn3 = nn.BatchNorm2d(out_ch*expansion_factor)\n",
    "        self.shortcut = nn.Sequential()\n",
    "\n",
    "        if in_ch != out_ch*expansion_factor or stride != 1:\n",
    "            self.shortcut = nn.Sequential(\n",
    "                nn.Conv2d(in_ch, out_ch*expansion_factor, kernel_size = 1, stride = stride, padding = 0, bias = False)\n",
    "                ,nn.BatchNorm2d(out_ch*expansion_factor)\n",
    "            )\n",
    "\n",
    "    def forward(self, X):\n",
    "        out = F.relu(self.bn1(self.pw1(X)))\n",
    "        out = F.relu(self.bn2(self.conv1(out)))\n",
    "        out = self.pw2(out)\n",
    "        out += self.shortcut(X)\n",
    "        out = F.relu(out)\n",
    "        return out"
   ]
  },
  {
   "cell_type": "code",
   "execution_count": 44,
   "id": "e954abf4-97d9-457d-ab1e-e778a384ea01",
   "metadata": {},
   "outputs": [
    {
     "data": {
      "text/plain": [
       "torch.Size([1, 256, 14, 14])"
      ]
     },
     "execution_count": 44,
     "metadata": {},
     "output_type": "execute_result"
    }
   ],
   "source": [
    "X = torch.randn(1, 256, 28, 28)\n",
    "bottleneck_resblock = Bottleneck_ResidualBlock(in_ch = 256, out_ch = 64, stride = 2, expansion_factor = 4)\n",
    "output = bottleneck_resblock(X)\n",
    "output.shape"
   ]
  },
  {
   "cell_type": "markdown",
   "id": "8d566bd1-68e8-4c71-8b34-418a2e48f2d8",
   "metadata": {},
   "source": [
    "### Inceptionモジュール"
   ]
  },
  {
   "cell_type": "code",
   "execution_count": 73,
   "id": "e14a6645-a4a0-4e74-97ec-f17905607cd6",
   "metadata": {},
   "outputs": [],
   "source": [
    "class Inception(nn.Module):\n",
    "\n",
    "    def __init__(self, in_ch, out_ch1, out_ch3, out_ch5, out_ch_pool):\n",
    "        super().__init__()\n",
    "        self.conv1 = nn.Conv2d(in_ch, out_ch1, kernel_size = 1, stride = 1, bias = False)\n",
    "        self.bn1 = nn.BatchNorm2d(out_ch1)\n",
    "\n",
    "        self.pw1 = nn.Conv2d(in_ch, out_ch3, kernel_size = 3, stride = 1, padding = 1, bias = False)\n",
    "        self.conv2 = nn.Conv2d(out_ch3, out_ch3, kernel_size = 3, stride = 1, padding = 1, bias = False)\n",
    "        self.bn2 = nn.BatchNorm2d(out_ch3)\n",
    "\n",
    "        self.pw2 = nn.Conv2d(in_ch, out_ch5, kernel_size = 5, stride = 1, padding = 2, bias = False)\n",
    "        self.conv3 = nn.Conv2d(out_ch5, out_ch5, kernel_size = 3, stride = 1, padding = 1, bias = False)\n",
    "        self.bn3 = nn.BatchNorm2d(out_ch5)\n",
    "\n",
    "        self.max_pooling = nn.MaxPool2d(kernel_size = 3, stride = 1, padding = 1)\n",
    "        self.pw3 = nn.Conv2d(in_ch, out_ch_pool, kernel_size = 1, stride = 1, bias = False)\n",
    "        self.bn4 = nn.BatchNorm2d(out_ch5)\n",
    "\n",
    "    def forward(self, X):\n",
    "        out1 = F.relu(self.bn1(self.conv1(X)))\n",
    "        out2 = F.relu(self.bn2(self.conv2(self.pw1(X))))\n",
    "        out3 = F.relu(self.bn3(self.conv3(self.pw2(X))))\n",
    "        out4 = F.relu(self.bn4(self.pw3(self.max_pooling(X))))\n",
    "        out = torch.concat((out1,out2,out3,out4), dim = 1)\n",
    "        return out"
   ]
  },
  {
   "cell_type": "code",
   "execution_count": 74,
   "id": "cef96311-ab07-4db8-8e89-56bc21f76e86",
   "metadata": {},
   "outputs": [],
   "source": [
    "X = torch.randn(1, 192, 28, 28)"
   ]
  },
  {
   "cell_type": "code",
   "execution_count": 75,
   "id": "cb02ad00-fb3a-4a96-90ca-8da64301e3c1",
   "metadata": {},
   "outputs": [],
   "source": [
    "inception = Inception(in_ch = 192, out_ch1 = 64, out_ch3 =  128, out_ch5 =  32, out_ch_pool = 32)"
   ]
  },
  {
   "cell_type": "code",
   "execution_count": 76,
   "id": "d5905d0b-e7e6-4787-8076-08fba3cc53b7",
   "metadata": {},
   "outputs": [
    {
     "data": {
      "text/plain": [
       "torch.Size([1, 256, 28, 28])"
      ]
     },
     "execution_count": 76,
     "metadata": {},
     "output_type": "execute_result"
    }
   ],
   "source": [
    "output = inception(X)\n",
    "output.shape"
   ]
  },
  {
   "cell_type": "code",
   "execution_count": 77,
   "id": "5331c1cc-4234-4bcb-b048-e31b6daa6054",
   "metadata": {},
   "outputs": [],
   "source": [
    "class InceptionModule(nn.Module):\n",
    "\n",
    "    def __init__(self, in_ch, out_ch1, out_ch3, out_ch5, out_ch_pool):\n",
    "        super().__init__()\n",
    "\n",
    "        # 1x1\n",
    "        self.branch1 = nn.Sequential(\n",
    "            nn.Conv2d(in_ch, out_ch1, kernel_size=1),\n",
    "            nn.BatchNorm2d(out_ch1),\n",
    "            nn.ReLU(),\n",
    "        )\n",
    "\n",
    "        # 3x3\n",
    "        self.branch2 = nn.Sequential(\n",
    "            # point-wise\n",
    "            nn.Conv2d(in_ch, out_ch3, kernel_size=1),\n",
    "            nn.BatchNorm2d(out_ch3),\n",
    "            nn.ReLU(),\n",
    "            # 3x3 conv\n",
    "            nn.Conv2d(out_ch3, out_ch3, kernel_size=3, padding=1),\n",
    "            nn.BatchNorm2d(out_ch3),\n",
    "            nn.ReLU(),\n",
    "        )\n",
    "\n",
    "        # 5x5\n",
    "        self.branch3 = nn.Sequential(\n",
    "            # point-wise\n",
    "            nn.Conv2d(in_ch, out_ch5, kernel_size=1),\n",
    "            nn.BatchNorm2d(out_ch5),\n",
    "            nn.ReLU(),\n",
    "            # 5x5 conv\n",
    "            nn.Conv2d(out_ch5, out_ch5, kernel_size=5, padding=2),\n",
    "            nn.BatchNorm2d(out_ch5),\n",
    "            nn.ReLU(),\n",
    "        )\n",
    "\n",
    "        # pooling\n",
    "        self.branch4 = nn.Sequential(\n",
    "            nn.MaxPool2d(kernel_size=3, stride=1, padding=1),\n",
    "            nn.Conv2d(in_ch, out_ch_pool, kernel_size=1),\n",
    "            nn.BatchNorm2d(out_ch_pool),\n",
    "            nn.ReLU(),\n",
    "        )\n",
    "        \n",
    "    def forward(self, X):\n",
    "        branch1 = self.branch1(X)\n",
    "        branch2 = self.branch2(X)\n",
    "        branch3 = self.branch3(X)\n",
    "        branch4 = self.branch4(X)\n",
    "\n",
    "        return torch.cat([branch1, branch2, branch3, branch4], dim=1)"
   ]
  },
  {
   "cell_type": "code",
   "execution_count": 78,
   "id": "534891d2-2096-4d3c-a990-3d0bbbf97c8d",
   "metadata": {},
   "outputs": [
    {
     "name": "stdout",
     "output_type": "stream",
     "text": [
      "torch.Size([16, 256, 28, 28])\n"
     ]
    }
   ],
   "source": [
    "X = torch.randn(16, 192, 28, 28)\n",
    "module = InceptionModule(192, 64, 128, 32, 32)\n",
    "out = module(X)\n",
    "print(out.shape)"
   ]
  },
  {
   "cell_type": "code",
   "execution_count": null,
   "id": "905cf2b6-4f19-41ea-b7e4-16d9d3b6d648",
   "metadata": {},
   "outputs": [],
   "source": []
  }
 ],
 "metadata": {
  "kernelspec": {
   "display_name": "Python 3 (ipykernel)",
   "language": "python",
   "name": "python3"
  },
  "language_info": {
   "codemirror_mode": {
    "name": "ipython",
    "version": 3
   },
   "file_extension": ".py",
   "mimetype": "text/x-python",
   "name": "python",
   "nbconvert_exporter": "python",
   "pygments_lexer": "ipython3",
   "version": "3.8.18"
  }
 },
 "nbformat": 4,
 "nbformat_minor": 5
}
