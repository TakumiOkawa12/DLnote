{
 "cells": [
  {
   "cell_type": "markdown",
   "id": "ef8815cf-a60e-4d25-8e87-37dd8976de19",
   "metadata": {},
   "source": [
    "# MACs"
   ]
  },
  {
   "cell_type": "markdown",
   "id": "be391b4d-e43a-4509-a3ce-5f77bb32623f",
   "metadata": {},
   "source": [
    "## MACsを計算する"
   ]
  },
  {
   "cell_type": "code",
   "execution_count": 1,
   "id": "626c8d1d-9bb3-44cc-91f3-555b00256f16",
   "metadata": {},
   "outputs": [],
   "source": [
    "import numpy as np\n",
    "import matplotlib.pyplot as plt\n",
    "import torch\n",
    "from torch import nn, optim\n",
    "from torch.nn import functional as F\n",
    "from torch.utils.data import DataLoader\n",
    "import torchvision\n",
    "from torchvision import transforms\n",
    "\n",
    "%load_ext autoreload\n",
    "%autoreload 2\n",
    "import utils"
   ]
  },
  {
   "cell_type": "code",
   "execution_count": 7,
   "id": "ac88f6f7-9b6d-4b37-9e27-aa66a3b5cb40",
   "metadata": {},
   "outputs": [],
   "source": [
    "def calc_output_shape(layer, input_shape):\n",
    "    input = torch.randn(input_shape)\n",
    "    output = layer(input)\n",
    "    return tuple(output.shape)"
   ]
  },
  {
   "cell_type": "code",
   "execution_count": 11,
   "id": "0fa22e75-607b-4aa4-a7ff-98dc4822441e",
   "metadata": {},
   "outputs": [],
   "source": [
    "def calc_macs_conv2d(layer, input_shape):\n",
    "    batch_size, in_ch, in_h, in_w = input_shape\n",
    "    out_ch, _, f_h, f_w = layer.weight.shape\n",
    "\n",
    "    _, _, out_h, out_w = calc_output_shape(layer, input_shape)\n",
    "\n",
    "    macs = batch_size * in_ch * out_ch * f_h * f_w * out_h * out_w\n",
    "    return macs\n",
    "\n",
    "\n",
    "def calc_macs_linear(layer, input_shape):\n",
    "    batch_size, in_features = input_shape\n",
    "    out_features, _ = layer.weight.shape\n",
    "\n",
    "    macs = batch_size * in_features * out_features\n",
    "    return macs"
   ]
  },
  {
   "cell_type": "code",
   "execution_count": 9,
   "id": "594f11ba-42c7-4b99-bcbd-6f45f27080e9",
   "metadata": {},
   "outputs": [],
   "source": [
    "input_shape = (1, 1, 128, 128)\n",
    "X = torch.randn(input_shape)\n",
    "layer = nn.Conv2d(1, 8, kernel_size = 3)\n",
    "# output = layer(X)"
   ]
  },
  {
   "cell_type": "code",
   "execution_count": 10,
   "id": "7ceb87b7-f319-4245-a2f4-183e90136177",
   "metadata": {},
   "outputs": [
    {
     "name": "stderr",
     "output_type": "stream",
     "text": [
      "[W NNPACK.cpp:64] Could not initialize NNPACK! Reason: Unsupported hardware.\n"
     ]
    },
    {
     "data": {
      "text/plain": [
       "1143072"
      ]
     },
     "execution_count": 10,
     "metadata": {},
     "output_type": "execute_result"
    }
   ],
   "source": [
    "calc_macs_conv2d(layer, input_shape)"
   ]
  },
  {
   "cell_type": "code",
   "execution_count": 12,
   "id": "ae7b361c-5d96-4573-b0f6-5a9021821126",
   "metadata": {},
   "outputs": [
    {
     "data": {
      "text/plain": [
       "640"
      ]
     },
     "execution_count": 12,
     "metadata": {},
     "output_type": "execute_result"
    }
   ],
   "source": [
    "linear_layer = nn.Linear(64, 10)\n",
    "input_shape = (1, 64)\n",
    "calc_macs_linear(linear_layer, input_shape)"
   ]
  },
  {
   "cell_type": "markdown",
   "id": "787ee213-b4c2-41f0-b9c1-4b75083efde4",
   "metadata": {},
   "source": [
    "## thopでMACsを求める"
   ]
  },
  {
   "cell_type": "code",
   "execution_count": 13,
   "id": "7592919e-386a-410e-a800-909408ec2e4d",
   "metadata": {},
   "outputs": [],
   "source": [
    "import thop"
   ]
  },
  {
   "cell_type": "code",
   "execution_count": 14,
   "id": "ee7459e2-17f2-40c3-887c-8f43e8cc3acf",
   "metadata": {},
   "outputs": [
    {
     "name": "stdout",
     "output_type": "stream",
     "text": [
      "[INFO] Register count_convNd() for <class 'torch.nn.modules.conv.Conv2d'>.\n"
     ]
    }
   ],
   "source": [
    "macs, params = thop.profile(layer, (X,))"
   ]
  },
  {
   "cell_type": "code",
   "execution_count": 15,
   "id": "728e2ea8-e740-49a9-bdea-549ba7e78ce2",
   "metadata": {},
   "outputs": [
    {
     "data": {
      "text/plain": [
       "1143072.0"
      ]
     },
     "execution_count": 15,
     "metadata": {},
     "output_type": "execute_result"
    }
   ],
   "source": [
    "macs"
   ]
  },
  {
   "cell_type": "code",
   "execution_count": 17,
   "id": "ce37c771-4700-4112-992d-f6c0a0b6099f",
   "metadata": {},
   "outputs": [
    {
     "name": "stdout",
     "output_type": "stream",
     "text": [
      "[INFO] Register count_linear() for <class 'torch.nn.modules.linear.Linear'>.\n"
     ]
    }
   ],
   "source": [
    "X = torch.randn(input_shape)\n",
    "macs, params = thop.profile(linear_layer, (X,))"
   ]
  },
  {
   "cell_type": "code",
   "execution_count": 18,
   "id": "e4b56a01-c2b9-48a0-9483-98c2b4ad6e16",
   "metadata": {},
   "outputs": [
    {
     "data": {
      "text/plain": [
       "640.0"
      ]
     },
     "execution_count": 18,
     "metadata": {},
     "output_type": "execute_result"
    }
   ],
   "source": [
    "macs"
   ]
  },
  {
   "cell_type": "code",
   "execution_count": null,
   "id": "85e7efa6-d623-42da-8f92-c7da5034d824",
   "metadata": {},
   "outputs": [],
   "source": []
  }
 ],
 "metadata": {
  "kernelspec": {
   "display_name": "Python 3 (ipykernel)",
   "language": "python",
   "name": "python3"
  },
  "language_info": {
   "codemirror_mode": {
    "name": "ipython",
    "version": 3
   },
   "file_extension": ".py",
   "mimetype": "text/x-python",
   "name": "python",
   "nbconvert_exporter": "python",
   "pygments_lexer": "ipython3",
   "version": "3.8.18"
  }
 },
 "nbformat": 4,
 "nbformat_minor": 5
}
