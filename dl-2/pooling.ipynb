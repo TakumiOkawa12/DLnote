{
 "cells": [
  {
   "cell_type": "markdown",
   "id": "a4861de7-61e7-4699-975d-7473227a2e39",
   "metadata": {},
   "source": [
    "# Pooling Layer"
   ]
  },
  {
   "cell_type": "markdown",
   "id": "b53fd5e1-a9f4-4e26-a0cd-5d46f26566ac",
   "metadata": {},
   "source": [
    "## Pooling Layerをスクラッチ実装"
   ]
  },
  {
   "cell_type": "code",
   "execution_count": 1,
   "id": "1926aa95-02bd-41f9-81d8-fc08766bb075",
   "metadata": {},
   "outputs": [],
   "source": [
    "import torchvision\n",
    "from torchvision import transforms\n",
    "import matplotlib.pyplot as plt\n",
    "import torch\n",
    "import numpy as np\n",
    "from torch import nn\n",
    "from torch.utils.data import DataLoader\n",
    "from torch import optim\n",
    "from torch.nn import functional as F\n",
    "import time\n",
    "%load_ext autoreload\n",
    "%autoreload 2\n",
    "import utils"
   ]
  },
  {
   "cell_type": "code",
   "execution_count": 2,
   "id": "4f580fd8-0df3-4b34-b7e1-fab463159992",
   "metadata": {},
   "outputs": [],
   "source": [
    "dataset = torchvision.datasets.MNIST(root = './mnist_data', train = True, download = True)\n",
    "im, label = dataset[0]\n",
    "im = transforms.ToTensor()(im)[0, :, :]"
   ]
  },
  {
   "cell_type": "code",
   "execution_count": 3,
   "id": "702d86e5-0a04-4dff-8320-53418ab3b541",
   "metadata": {},
   "outputs": [
    {
     "data": {
      "text/plain": [
       "torch.Size([28, 28])"
      ]
     },
     "execution_count": 3,
     "metadata": {},
     "output_type": "execute_result"
    }
   ],
   "source": [
    "im.shape"
   ]
  },
  {
   "cell_type": "code",
   "execution_count": 4,
   "id": "2438fb02-aba7-4204-aed7-bcae0f5d00c2",
   "metadata": {},
   "outputs": [],
   "source": [
    "def max_pooling(X, kernel_size=2, stride=2):\n",
    "    X_h, X_w = X.shape\n",
    "    output_data = []\n",
    "\n",
    "    for i in range(0, X_h - kernel_size + 1, stride):\n",
    "        row = []\n",
    "        for j in range(0, X_w - kernel_size + 1, stride):\n",
    "            row.append(X[i:i+kernel_size, j:j+kernel_size].max().item())\n",
    "        output_data.append(row)\n",
    "    return torch.tensor(output_data)"
   ]
  },
  {
   "cell_type": "code",
   "execution_count": 5,
   "id": "891a8b45-e5bd-4fff-a511-29257836e799",
   "metadata": {},
   "outputs": [],
   "source": [
    "result = max_pooling(im, 2, 2)"
   ]
  },
  {
   "cell_type": "code",
   "execution_count": 6,
   "id": "660eb26f-ec9e-4f69-94de-fbf28c06f24c",
   "metadata": {},
   "outputs": [
    {
     "data": {
      "text/plain": [
       "torch.Size([14, 14])"
      ]
     },
     "execution_count": 6,
     "metadata": {},
     "output_type": "execute_result"
    }
   ],
   "source": [
    "result.shape"
   ]
  },
  {
   "cell_type": "code",
   "execution_count": 7,
   "id": "9ab51ae3-89a1-4734-bf25-210fb411e288",
   "metadata": {},
   "outputs": [
    {
     "data": {
      "text/plain": [
       "tensor([[0.0000, 0.0000, 0.0000, 0.0000, 0.0000, 0.0000, 0.0000, 0.0000, 0.0000,\n",
       "         0.0000, 0.0000, 0.0000, 0.0000, 0.0000],\n",
       "        [0.0000, 0.0000, 0.0000, 0.0000, 0.0000, 0.0000, 0.0000, 0.0000, 0.0000,\n",
       "         0.0000, 0.0000, 0.0000, 0.0000, 0.0000],\n",
       "        [0.0000, 0.0000, 0.0000, 0.0000, 0.0000, 0.0000, 0.0706, 0.0706, 0.5333,\n",
       "         0.6863, 1.0000, 0.9686, 0.0000, 0.0000],\n",
       "        [0.0000, 0.0000, 0.0000, 0.1922, 0.9922, 0.9922, 0.9922, 0.9922, 0.9922,\n",
       "         0.8824, 0.9922, 0.7647, 0.0000, 0.0000],\n",
       "        [0.0000, 0.0000, 0.0000, 0.0706, 0.9922, 0.9922, 0.9922, 0.7765, 0.9686,\n",
       "         0.0000, 0.0000, 0.0000, 0.0000, 0.0000],\n",
       "        [0.0000, 0.0000, 0.0000, 0.0000, 0.0549, 0.6039, 0.9922, 0.0078, 0.0000,\n",
       "         0.0000, 0.0000, 0.0000, 0.0000, 0.0000],\n",
       "        [0.0000, 0.0000, 0.0000, 0.0000, 0.0000, 0.0431, 0.9922, 0.8824, 0.4235,\n",
       "         0.0000, 0.0000, 0.0000, 0.0000, 0.0000],\n",
       "        [0.0000, 0.0000, 0.0000, 0.0000, 0.0000, 0.0000, 0.3176, 0.9922, 0.9922,\n",
       "         0.5882, 0.0000, 0.0000, 0.0000, 0.0000],\n",
       "        [0.0000, 0.0000, 0.0000, 0.0000, 0.0000, 0.0000, 0.0000, 0.0627, 0.9882,\n",
       "         0.9922, 0.2510, 0.0000, 0.0000, 0.0000],\n",
       "        [0.0000, 0.0000, 0.0000, 0.0000, 0.0000, 0.0000, 0.5804, 0.9922, 0.9922,\n",
       "         0.9922, 0.0078, 0.0000, 0.0000, 0.0000],\n",
       "        [0.0000, 0.0000, 0.0000, 0.0000, 0.2588, 0.9922, 0.9922, 0.9922, 0.9922,\n",
       "         0.3059, 0.0000, 0.0000, 0.0000, 0.0000],\n",
       "        [0.0000, 0.0000, 0.6745, 0.9922, 0.9922, 0.9922, 0.9922, 0.3137, 0.0000,\n",
       "         0.0000, 0.0000, 0.0000, 0.0000, 0.0000],\n",
       "        [0.0000, 0.0000, 0.9922, 0.9922, 0.8314, 0.5176, 0.0000, 0.0000, 0.0000,\n",
       "         0.0000, 0.0000, 0.0000, 0.0000, 0.0000],\n",
       "        [0.0000, 0.0000, 0.0000, 0.0000, 0.0000, 0.0000, 0.0000, 0.0000, 0.0000,\n",
       "         0.0000, 0.0000, 0.0000, 0.0000, 0.0000]])"
      ]
     },
     "execution_count": 7,
     "metadata": {},
     "output_type": "execute_result"
    }
   ],
   "source": [
    "result"
   ]
  },
  {
   "cell_type": "code",
   "execution_count": 8,
   "id": "ceb88e80-1d7f-42aa-b4ba-6d62cbb24c19",
   "metadata": {},
   "outputs": [
    {
     "data": {
      "text/plain": [
       "<matplotlib.image.AxesImage at 0x7fff13e2da90>"
      ]
     },
     "execution_count": 8,
     "metadata": {},
     "output_type": "execute_result"
    },
    {
     "data": {
      "image/png": "[encoded data removed]",
      "text/plain": [
       "<Figure size 640x480 with 2 Axes>"
      ]
     },
     "metadata": {},
     "output_type": "display_data"
    }
   ],
   "source": [
    "fig, axes = plt.subplots(1, 2)\n",
    "axes[0].imshow(result, cmap = 'gray')\n",
    "axes[1].imshow(im, cmap = 'gray')"
   ]
  },
  {
   "cell_type": "code",
   "execution_count": 70,
   "id": "945f2d81-9c0d-4e73-97b2-0ba23fbe3ab1",
   "metadata": {},
   "outputs": [],
   "source": [
    "upper_edge_filter = torch.tensor([[-1., -1., -1.],\n",
    "                                 [0., 0., 0.],\n",
    "                                 [1., 1., 1.]])\n",
    "def convolution(im, filter):\n",
    "    feature_map = torch.zeros((im.shape[0] - filter.shape[0]-1, im.shape[1] - filter.shape[1]-1))\n",
    "    for n in range(im.shape[0] - filter.shape[0]-1):\n",
    "        for i in range(im.shape[1] - filter.shape[1]-1):\n",
    "            feature_map[n, i] = torch.sum(im[n:n+filter.shape[0], i:i+filter.shape[1]] @ filter)\n",
    "    return feature_map\n",
    "\n",
    "def relu(X):\n",
    "    return torch.clamp(X, min = 0)\n",
    "\n",
    "feature_map = convolution(im, upper_edge_filter)\n",
    "feature_map = relu(feature_map)"
   ]
  },
  {
   "cell_type": "code",
   "execution_count": 71,
   "id": "ba439c09-34bc-4283-b320-47e06768b732",
   "metadata": {},
   "outputs": [],
   "source": [
    "output = max_pooling(feature_map)"
   ]
  },
  {
   "cell_type": "code",
   "execution_count": 74,
   "id": "ca637ec8-81ee-4512-8575-3c4ba3ba48af",
   "metadata": {},
   "outputs": [
    {
     "data": {
      "text/plain": [
       "<matplotlib.image.AxesImage at 0x7fff11379cd0>"
      ]
     },
     "execution_count": 74,
     "metadata": {},
     "output_type": "execute_result"
    },
    {
     "data": {
      "image/png": "[encoded data removed]",
      "text/plain": [
       "<Figure size 640x480 with 2 Axes>"
      ]
     },
     "metadata": {},
     "output_type": "display_data"
    }
   ],
   "source": [
    "fig, axes = plt.subplots(1, 2)\n",
    "axes[0].imshow(output, cmap = 'gray')\n",
    "axes[1].imshow(feature_map, cmap = 'gray')"
   ]
  },
  {
   "cell_type": "markdown",
   "id": "6e669d16-a978-4b7a-bc77-90937f897c22",
   "metadata": {},
   "source": [
    "## PytorchのMax Pooling Layer"
   ]
  },
  {
   "cell_type": "code",
   "execution_count": 5,
   "id": "9f672370-3885-44e8-968d-69b39499228f",
   "metadata": {},
   "outputs": [],
   "source": [
    "transform = transforms.Compose([transforms.ToTensor(),\n",
    "                                transforms.Normalize((0.5,), (0.5,))])\n",
    "train_dataset = torchvision.datasets.MNIST(root = './mnist_data', train = True, download = True, transform = transform)\n",
    "val_dataset = torchvision.datasets.MNIST(root = './mnist_data', train = False, download = True, transform = transform)\n",
    "train_loader = DataLoader(train_dataset, batch_size = 128, shuffle = True, num_workers = 4)\n",
    "val_loader = DataLoader(val_dataset, batch_size = 128, num_workers = 4)"
   ]
  },
  {
   "cell_type": "code",
   "execution_count": 32,
   "id": "0b6f0092-a8f5-4265-a61a-d3e03e8235db",
   "metadata": {},
   "outputs": [],
   "source": [
    "conv_model = nn.Sequential(\n",
    "    # 1×28×28\n",
    "    nn.Conv2d(1, 4, kernel_size = 3, stride = 1, padding = 1),\n",
    "    nn.ReLU(),\n",
    "    nn.MaxPool2d(2, 2),\n",
    "    # 4×14×14\n",
    "    nn.Conv2d(4, 8, kernel_size = 3, stride = 1, padding = 1),\n",
    "    nn.ReLU(),\n",
    "    nn.MaxPool2d(2, 2),\n",
    "    # 8×7×7\n",
    "    nn.Conv2d(8, 16, kernel_size = 3, stride = 1, padding = 1),\n",
    "    nn.ReLU(),\n",
    "    nn.MaxPool2d(2, 2),\n",
    "    # 16×3×3\n",
    "    nn.Conv2d(16, 32, kernel_size = 3, stride = 1, padding = 1),\n",
    "    nn.ReLU(),\n",
    "    nn.MaxPool2d(2, 2),\n",
    "    # 32×1×1\n",
    "    nn.Conv2d(32, 10, kernel_size = 3, stride = 1, padding = 1),\n",
    "    # 10×1×1\n",
    "    nn.Flatten()\n",
    "    # 10\n",
    ")\n",
    "\n",
    "class ConvModel(nn.Module):\n",
    "    def __init__(self, in_ch):\n",
    "        super().__init__()\n",
    "        self.conv1 = nn.Conv2d(in_ch, 4, kernel_size = 3, stride = 1, padding = 1)\n",
    "        self.conv2 = nn.Conv2d(4, 8, kernel_size = 3, stride = 1, padding = 1)\n",
    "        self.conv3 = nn.Conv2d(8, 16, kernel_size = 3, stride = 1, padding = 1)\n",
    "        self.conv4 = nn.Conv2d(16, 32, kernel_size = 3, stride = 1, padding = 1)\n",
    "        self.conv5 = nn.Conv2d(32, 10, kernel_size = 3, stride = 1, padding = 1)\n",
    "        self.flatten = nn.Flatten()\n",
    "\n",
    "    def forward(self, X):\n",
    "        X = F.relu(self.conv1(X))\n",
    "        X = F.max_pool2d(X, 2)\n",
    "        X = F.relu(self.conv2(X))\n",
    "        X = F.max_pool2d(X, 2)\n",
    "        X = F.relu(self.conv3(X))\n",
    "        X = F.max_pool2d(X, 2)\n",
    "        X = F.relu(self.conv4(X))\n",
    "        X = F.max_pool2d(X, 2)\n",
    "        X = F.relu(self.conv5(X))\n",
    "        X = self.flatten(X)\n",
    "        return X"
   ]
  },
  {
   "cell_type": "code",
   "execution_count": 33,
   "id": "b82e3e22-4827-46ab-a553-0ba07a0a0d6e",
   "metadata": {},
   "outputs": [],
   "source": [
    "X, y = next(iter(train_loader))"
   ]
  },
  {
   "cell_type": "code",
   "execution_count": 34,
   "id": "659ae286-f276-4034-a216-2877255c0fa7",
   "metadata": {},
   "outputs": [
    {
     "data": {
      "text/plain": [
       "torch.Size([128, 1, 28, 28])"
      ]
     },
     "execution_count": 34,
     "metadata": {},
     "output_type": "execute_result"
    }
   ],
   "source": [
    "X.shape"
   ]
  },
  {
   "cell_type": "code",
   "execution_count": 28,
   "id": "7807661b-29bd-46d0-9ddb-555bf46a5d28",
   "metadata": {},
   "outputs": [],
   "source": [
    "preds = conv_model(X)"
   ]
  },
  {
   "cell_type": "code",
   "execution_count": 29,
   "id": "55d08666-553c-42f5-a363-528939ac648b",
   "metadata": {},
   "outputs": [
    {
     "data": {
      "text/plain": [
       "torch.Size([128, 10])"
      ]
     },
     "execution_count": 29,
     "metadata": {},
     "output_type": "execute_result"
    }
   ],
   "source": [
    "preds.shape"
   ]
  },
  {
   "cell_type": "code",
   "execution_count": 35,
   "id": "16e39fd1-1b0a-495c-9b0c-77a68cc53cbb",
   "metadata": {},
   "outputs": [],
   "source": [
    "conv_model2 = ConvModel(in_ch = 1)"
   ]
  },
  {
   "cell_type": "code",
   "execution_count": 36,
   "id": "43f5c2cf-e815-45a6-a3ac-b3c91700f16a",
   "metadata": {},
   "outputs": [],
   "source": [
    "preds = conv_model2(X)"
   ]
  },
  {
   "cell_type": "code",
   "execution_count": 37,
   "id": "950931f7-d28f-4229-9b1e-60da9f1eb68f",
   "metadata": {},
   "outputs": [
    {
     "data": {
      "text/plain": [
       "tensor([[0.0000, 0.0000, 0.0244,  ..., 0.0127, 0.0181, 0.0700],\n",
       "        [0.0000, 0.0000, 0.0238,  ..., 0.0124, 0.0213, 0.0689],\n",
       "        [0.0000, 0.0000, 0.0286,  ..., 0.0122, 0.0203, 0.0733],\n",
       "        ...,\n",
       "        [0.0000, 0.0000, 0.0253,  ..., 0.0127, 0.0190, 0.0672],\n",
       "        [0.0000, 0.0000, 0.0286,  ..., 0.0147, 0.0164, 0.0691],\n",
       "        [0.0000, 0.0000, 0.0229,  ..., 0.0153, 0.0209, 0.0657]],\n",
       "       grad_fn=<ViewBackward0>)"
      ]
     },
     "execution_count": 37,
     "metadata": {},
     "output_type": "execute_result"
    }
   ],
   "source": [
    "preds"
   ]
  },
  {
   "cell_type": "code",
   "execution_count": null,
   "id": "cb1433b3-280b-4d35-bfb2-f818143d471c",
   "metadata": {},
   "outputs": [],
   "source": []
  }
 ],
 "metadata": {
  "kernelspec": {
   "display_name": "Python 3 (ipykernel)",
   "language": "python",
   "name": "python3"
  },
  "language_info": {
   "codemirror_mode": {
    "name": "ipython",
    "version": 3
   },
   "file_extension": ".py",
   "mimetype": "text/x-python",
   "name": "python",
   "nbconvert_exporter": "python",
   "pygments_lexer": "ipython3",
   "version": "3.8.18"
  }
 },
 "nbformat": 4,
 "nbformat_minor": 5
}
