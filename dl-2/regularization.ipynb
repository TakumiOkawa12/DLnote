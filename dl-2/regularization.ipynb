{
 "cells": [
  {
   "cell_type": "markdown",
   "id": "b50eb83f-42a1-4251-b3f5-73cf51846a16",
   "metadata": {},
   "source": [
    "## Regularization"
   ]
  },
  {
   "cell_type": "markdown",
   "id": "158466b2-54e7-4b7f-b275-faf671a1f1e8",
   "metadata": {},
   "source": [
    "### L2正則(重み減衰)をスクラッチ実装"
   ]
  },
  {
   "cell_type": "code",
   "execution_count": 53,
   "id": "cdc2237a-637b-4669-af9f-d086c66dca87",
   "metadata": {},
   "outputs": [
    {
     "name": "stdout",
     "output_type": "stream",
     "text": [
      "The autoreload extension is already loaded. To reload it, use:\n",
      "  %reload_ext autoreload\n"
     ]
    }
   ],
   "source": [
    "import torch\n",
    "from torch import nn\n",
    "from torch.nn import functional as F\n",
    "from torch import optim\n",
    "import torchvision\n",
    "from torchvision import models, transforms\n",
    "from torch.utils.data import DataLoader\n",
    "import matplotlib.pyplot as plt\n",
    "%load_ext autoreload\n",
    "%autoreload 2\n",
    "import utils"
   ]
  },
  {
   "cell_type": "code",
   "execution_count": 3,
   "id": "39cf29e9-6709-441b-933a-2901c0bc0d6a",
   "metadata": {},
   "outputs": [
    {
     "data": {
      "text/plain": [
       "tensor([[1., 2., 3.],\n",
       "        [4., 5., 6.]])"
      ]
     },
     "execution_count": 3,
     "metadata": {},
     "output_type": "execute_result"
    }
   ],
   "source": [
    "X = torch.tensor([[1., 2., 3.], [4., 5., 6.]])\n",
    "X"
   ]
  },
  {
   "cell_type": "code",
   "execution_count": 4,
   "id": "751ac264-7ad7-4b53-b4da-12c1fa55ee04",
   "metadata": {},
   "outputs": [
    {
     "data": {
      "text/plain": [
       "tensor(9.5394)"
      ]
     },
     "execution_count": 4,
     "metadata": {},
     "output_type": "execute_result"
    }
   ],
   "source": [
    "torch.linalg.norm(X)"
   ]
  },
  {
   "cell_type": "code",
   "execution_count": 5,
   "id": "ab99331b-a3c5-4893-8803-39393172911e",
   "metadata": {},
   "outputs": [
    {
     "data": {
      "text/plain": [
       "tensor(9.5394)"
      ]
     },
     "execution_count": 5,
     "metadata": {},
     "output_type": "execute_result"
    }
   ],
   "source": [
    "torch.sqrt(torch.sum(X**2))"
   ]
  },
  {
   "cell_type": "code",
   "execution_count": 48,
   "id": "64f92d87-b551-4319-b280-bebb48339dff",
   "metadata": {},
   "outputs": [],
   "source": [
    "def get_conv_model(): \n",
    "    return nn.Sequential(\n",
    "                # 3✖️28✖️28\n",
    "                nn.Conv2d(3, 4, kernel_size = 3, stride = 2, padding = 1),\n",
    "                nn.ReLU(),\n",
    "                # 4✖️14✖️14\n",
    "                nn.Conv2d(4, 8, kernel_size = 3, stride = 2, padding = 1),\n",
    "                nn.ReLU(),\n",
    "                # 8✖️7✖️7\n",
    "                nn.Conv2d(8, 16, kernel_size = 3, stride = 2, padding = 1),\n",
    "                nn.ReLU(),\n",
    "                # 16✖️4✖️4\n",
    "                nn.Conv2d(16, 32, kernel_size = 3, stride = 2, padding = 1),\n",
    "                nn.ReLU(),\n",
    "                # 32✖️2✖️2\n",
    "                # nn.Flatten()\n",
    "                # # 128\n",
    "                # nn.Linear(128, 10)\n",
    "                nn.Conv2d(32, 10, kernel_size = 3, stride = 2, padding = 1),\n",
    "                # 10✖️1✖️1\n",
    "                nn.Flatten()\n",
    "                # 10\n",
    "             )"
   ]
  },
  {
   "cell_type": "code",
   "execution_count": 17,
   "id": "7b68a240-f474-47af-aad9-d661f5d93332",
   "metadata": {},
   "outputs": [],
   "source": [
    "l2_reg = torch.tensor(0.)\n",
    "for name, params in conv_model.named_parameters():\n",
    "    # print(name, params)\n",
    "    if 'weight' in name:\n",
    "        l2_reg = torch.linalg.norm(params)**2\n",
    "\n",
    "# loss += (weight_decay / (2*m)) * l2_reg"
   ]
  },
  {
   "cell_type": "markdown",
   "id": "06ac217d-775a-4e54-b6d4-14b3ba49787a",
   "metadata": {},
   "source": [
    "### PytorchでのL2正則"
   ]
  },
  {
   "cell_type": "code",
   "execution_count": 19,
   "id": "70c2de95-11ba-4f4f-a29d-693b9a19b2e3",
   "metadata": {},
   "outputs": [
    {
     "data": {
      "text/plain": [
       "SGD (\n",
       "Parameter Group 0\n",
       "    dampening: 0\n",
       "    differentiable: False\n",
       "    foreach: None\n",
       "    lr: 0.03\n",
       "    maximize: False\n",
       "    momentum: 0\n",
       "    nesterov: False\n",
       "    weight_decay: 0.01\n",
       ")"
      ]
     },
     "execution_count": 19,
     "metadata": {},
     "output_type": "execute_result"
    }
   ],
   "source": [
    "optim.SGD(conv_model.parameters(), lr = 0.03, weight_decay = 0.01)"
   ]
  },
  {
   "cell_type": "markdown",
   "id": "dc9f4e82-1f9a-4c6f-b154-b1a583f3e833",
   "metadata": {},
   "source": [
    "### L2正則の有無による精度比較"
   ]
  },
  {
   "cell_type": "code",
   "execution_count": 49,
   "id": "e4583e2c-042f-4264-937a-06f72a569bf2",
   "metadata": {},
   "outputs": [
    {
     "name": "stdout",
     "output_type": "stream",
     "text": [
      "Files already downloaded and verified\n",
      "Files already downloaded and verified\n"
     ]
    }
   ],
   "source": [
    "conv_model = get_conv_model()\n",
    "conv_model_l2 = get_conv_model()\n",
    "\n",
    "# データ準備\n",
    "transform = transforms.Compose([\n",
    "    transforms.ToTensor(),\n",
    "    # transforms.Normalize((0.5, 0.5, 0.5), (0.5, 0.5, 0.5))])\n",
    "    # CIFAR10用\n",
    "    transforms.Normalize(mean=[0.4914, 0.4822, 0.4465], std=[0.2023, 0.1994, 0.2010])\n",
    "])\n",
    "classes = ('plane', 'car', 'bird', 'cat',\n",
    "           'deer', 'dog', 'frog', 'horse', 'ship', 'truck')\n",
    "train_dataset = torchvision.datasets.CIFAR10('./cifar10_data', train=True, download=True, transform=transform)\n",
    "val_dataset = torchvision.datasets.CIFAR10('./cifar10_data', train=False, download=True, transform=transform)\n",
    "train_loader = DataLoader(train_dataset, batch_size=128, shuffle=True, num_workers=4)\n",
    "val_loader = DataLoader(val_dataset, batch_size=128, num_workers=4)"
   ]
  },
  {
   "cell_type": "code",
   "execution_count": 50,
   "id": "744605f2-4023-435e-a275-0e11df0750f2",
   "metadata": {
    "scrolled": true
   },
   "outputs": [
    {
     "name": "stderr",
     "output_type": "stream",
     "text": [
      "                                                           "
     ]
    },
    {
     "name": "stdout",
     "output_type": "stream",
     "text": [
      "epoch: 0: train error: 2.242599175714166, validation error: 2.067428951021991, validation accuracy: 0.2489121835443038\n"
     ]
    },
    {
     "name": "stderr",
     "output_type": "stream",
     "text": [
      "                                                           "
     ]
    },
    {
     "name": "stdout",
     "output_type": "stream",
     "text": [
      "epoch: 1: train error: 1.9713008275727177, validation error: 1.8578428799592996, validation accuracy: 0.3313884493670886\n"
     ]
    },
    {
     "name": "stderr",
     "output_type": "stream",
     "text": [
      "                                                           "
     ]
    },
    {
     "name": "stdout",
     "output_type": "stream",
     "text": [
      "epoch: 2: train error: 1.782260543550067, validation error: 1.6999543754360344, validation accuracy: 0.3885482594936709\n"
     ]
    },
    {
     "name": "stderr",
     "output_type": "stream",
     "text": [
      "                                                           "
     ]
    },
    {
     "name": "stdout",
     "output_type": "stream",
     "text": [
      "epoch: 3: train error: 1.6576265874116316, validation error: 1.618484312974954, validation accuracy: 0.4104034810126582\n"
     ]
    },
    {
     "name": "stderr",
     "output_type": "stream",
     "text": [
      "                                                           "
     ]
    },
    {
     "name": "stdout",
     "output_type": "stream",
     "text": [
      "epoch: 4: train error: 1.5808824285521836, validation error: 1.5542507880850682, validation accuracy: 0.43819224683544306\n"
     ]
    },
    {
     "name": "stderr",
     "output_type": "stream",
     "text": [
      "                                                           "
     ]
    },
    {
     "name": "stdout",
     "output_type": "stream",
     "text": [
      "epoch: 5: train error: 1.5225285169718517, validation error: 1.5069709457928622, validation accuracy: 0.45114715189873417\n"
     ]
    },
    {
     "name": "stderr",
     "output_type": "stream",
     "text": [
      "                                                           "
     ]
    },
    {
     "name": "stdout",
     "output_type": "stream",
     "text": [
      "epoch: 6: train error: 1.4849965038811763, validation error: 1.4762638022628012, validation accuracy: 0.46410205696202533\n"
     ]
    },
    {
     "name": "stderr",
     "output_type": "stream",
     "text": [
      "                                                           "
     ]
    },
    {
     "name": "stdout",
     "output_type": "stream",
     "text": [
      "epoch: 7: train error: 1.4557149282196904, validation error: 1.4646638254576092, validation accuracy: 0.47606803797468356\n"
     ]
    },
    {
     "name": "stderr",
     "output_type": "stream",
     "text": [
      "                                                           "
     ]
    },
    {
     "name": "stdout",
     "output_type": "stream",
     "text": [
      "epoch: 8: train error: 1.4321350005581557, validation error: 1.43911807597438, validation accuracy: 0.4856606012658228\n"
     ]
    },
    {
     "name": "stderr",
     "output_type": "stream",
     "text": [
      "                                                           "
     ]
    },
    {
     "name": "stdout",
     "output_type": "stream",
     "text": [
      "epoch: 9: train error: 1.4072352519730473, validation error: 1.3925614734239216, validation accuracy: 0.5052412974683544\n"
     ]
    },
    {
     "name": "stderr",
     "output_type": "stream",
     "text": [
      "                                                           "
     ]
    },
    {
     "name": "stdout",
     "output_type": "stream",
     "text": [
      "epoch: 10: train error: 1.3929431828696404, validation error: 1.4216079470477527, validation accuracy: 0.4861550632911392\n"
     ]
    },
    {
     "name": "stderr",
     "output_type": "stream",
     "text": [
      "                                                           "
     ]
    },
    {
     "name": "stdout",
     "output_type": "stream",
     "text": [
      "epoch: 11: train error: 1.3773782994131298, validation error: 1.3766941179203083, validation accuracy: 0.5052412974683544\n"
     ]
    },
    {
     "name": "stderr",
     "output_type": "stream",
     "text": [
      "                                                           "
     ]
    },
    {
     "name": "stdout",
     "output_type": "stream",
     "text": [
      "epoch: 12: train error: 1.3654218369432727, validation error: 1.362701506554326, validation accuracy: 0.5100870253164557\n"
     ]
    },
    {
     "name": "stderr",
     "output_type": "stream",
     "text": [
      "                                                           "
     ]
    },
    {
     "name": "stdout",
     "output_type": "stream",
     "text": [
      "epoch: 13: train error: 1.351781338377072, validation error: 1.3540275609945949, validation accuracy: 0.5162183544303798\n"
     ]
    },
    {
     "name": "stderr",
     "output_type": "stream",
     "text": [
      "                                                           "
     ]
    },
    {
     "name": "stdout",
     "output_type": "stream",
     "text": [
      "epoch: 14: train error: 1.3383701411659454, validation error: 1.3851405020001568, validation accuracy: 0.5032634493670886\n"
     ]
    },
    {
     "name": "stderr",
     "output_type": "stream",
     "text": [
      "                                                           "
     ]
    },
    {
     "name": "stdout",
     "output_type": "stream",
     "text": [
      "epoch: 15: train error: 1.327383041686719, validation error: 1.3373175829271726, validation accuracy: 0.5292721518987342\n"
     ]
    },
    {
     "name": "stderr",
     "output_type": "stream",
     "text": [
      "                                                           "
     ]
    },
    {
     "name": "stdout",
     "output_type": "stream",
     "text": [
      "epoch: 16: train error: 1.3181370661386749, validation error: 1.352094037623345, validation accuracy: 0.5175039556962026\n"
     ]
    },
    {
     "name": "stderr",
     "output_type": "stream",
     "text": [
      "                                                           "
     ]
    },
    {
     "name": "stdout",
     "output_type": "stream",
     "text": [
      "epoch: 17: train error: 1.3058549650489826, validation error: 1.319399442853807, validation accuracy: 0.5275909810126582\n"
     ]
    },
    {
     "name": "stderr",
     "output_type": "stream",
     "text": [
      "                                                           "
     ]
    },
    {
     "name": "stdout",
     "output_type": "stream",
     "text": [
      "epoch: 18: train error: 1.2994918875072314, validation error: 1.3188719311846961, validation accuracy: 0.5222507911392406\n"
     ]
    },
    {
     "name": "stderr",
     "output_type": "stream",
     "text": [
      "                                                           "
     ]
    },
    {
     "name": "stdout",
     "output_type": "stream",
     "text": [
      "epoch: 19: train error: 1.290113988434872, validation error: 1.3463992076584055, validation accuracy: 0.5168117088607594\n"
     ]
    },
    {
     "name": "stderr",
     "output_type": "stream",
     "text": [
      "                                                           "
     ]
    },
    {
     "name": "stdout",
     "output_type": "stream",
     "text": [
      "epoch: 0: train error: 2.302441869550349, validation error: 2.3009248353257963, validation accuracy: 0.125\n"
     ]
    },
    {
     "name": "stderr",
     "output_type": "stream",
     "text": [
      "                                                           "
     ]
    },
    {
     "name": "stdout",
     "output_type": "stream",
     "text": [
      "epoch: 1: train error: 2.2811239186455223, validation error: 2.153048998192896, validation accuracy: 0.22913370253164558\n"
     ]
    },
    {
     "name": "stderr",
     "output_type": "stream",
     "text": [
      "                                                           "
     ]
    },
    {
     "name": "stdout",
     "output_type": "stream",
     "text": [
      "epoch: 2: train error: 2.025457719707733, validation error: 1.915088843695725, validation accuracy: 0.3068631329113924\n"
     ]
    },
    {
     "name": "stderr",
     "output_type": "stream",
     "text": [
      "                                                           "
     ]
    },
    {
     "name": "stdout",
     "output_type": "stream",
     "text": [
      "epoch: 3: train error: 1.8475335330304588, validation error: 1.7779124733767933, validation accuracy: 0.353935917721519\n"
     ]
    },
    {
     "name": "stderr",
     "output_type": "stream",
     "text": [
      "                                                           "
     ]
    },
    {
     "name": "stdout",
     "output_type": "stream",
     "text": [
      "epoch: 4: train error: 1.7160356142331876, validation error: 1.6472440097905412, validation accuracy: 0.4158425632911392\n"
     ]
    },
    {
     "name": "stderr",
     "output_type": "stream",
     "text": [
      "                                                           "
     ]
    },
    {
     "name": "stdout",
     "output_type": "stream",
     "text": [
      "epoch: 5: train error: 1.6263514071169412, validation error: 1.5725872788248183, validation accuracy: 0.4397745253164557\n"
     ]
    },
    {
     "name": "stderr",
     "output_type": "stream",
     "text": [
      "                                                           "
     ]
    },
    {
     "name": "stdout",
     "output_type": "stream",
     "text": [
      "epoch: 6: train error: 1.5588917427355675, validation error: 1.539472970781447, validation accuracy: 0.4464992088607595\n"
     ]
    },
    {
     "name": "stderr",
     "output_type": "stream",
     "text": [
      "                                                           "
     ]
    },
    {
     "name": "stdout",
     "output_type": "stream",
     "text": [
      "epoch: 7: train error: 1.5096448803191904, validation error: 1.6058973466293722, validation accuracy: 0.41999604430379744\n"
     ]
    },
    {
     "name": "stderr",
     "output_type": "stream",
     "text": [
      "                                                           "
     ]
    },
    {
     "name": "stdout",
     "output_type": "stream",
     "text": [
      "epoch: 8: train error: 1.4683955365129748, validation error: 1.4449123777920687, validation accuracy: 0.4814082278481013\n"
     ]
    },
    {
     "name": "stderr",
     "output_type": "stream",
     "text": [
      "                                                           "
     ]
    },
    {
     "name": "stdout",
     "output_type": "stream",
     "text": [
      "epoch: 9: train error: 1.4325425350452627, validation error: 1.4523546288285074, validation accuracy: 0.47923259493670883\n"
     ]
    },
    {
     "name": "stderr",
     "output_type": "stream",
     "text": [
      "                                                           "
     ]
    },
    {
     "name": "stdout",
     "output_type": "stream",
     "text": [
      "epoch: 10: train error: 1.409302120318498, validation error: 1.4083629016634784, validation accuracy: 0.4990110759493671\n"
     ]
    },
    {
     "name": "stderr",
     "output_type": "stream",
     "text": [
      "                                                           "
     ]
    },
    {
     "name": "stdout",
     "output_type": "stream",
     "text": [
      "epoch: 11: train error: 1.3840268511906304, validation error: 1.386898185633406, validation accuracy: 0.5025712025316456\n"
     ]
    },
    {
     "name": "stderr",
     "output_type": "stream",
     "text": [
      "                                                           "
     ]
    },
    {
     "name": "stdout",
     "output_type": "stream",
     "text": [
      "epoch: 12: train error: 1.3604310144243947, validation error: 1.4006000198895419, validation accuracy: 0.49861550632911394\n"
     ]
    },
    {
     "name": "stderr",
     "output_type": "stream",
     "text": [
      "                                                           "
     ]
    },
    {
     "name": "stdout",
     "output_type": "stream",
     "text": [
      "epoch: 13: train error: 1.341850562168814, validation error: 1.3507716851898386, validation accuracy: 0.5181962025316456\n"
     ]
    },
    {
     "name": "stderr",
     "output_type": "stream",
     "text": [
      "                                                           "
     ]
    },
    {
     "name": "stdout",
     "output_type": "stream",
     "text": [
      "epoch: 14: train error: 1.324271292027915, validation error: 1.3244684466832801, validation accuracy: 0.5286787974683544\n"
     ]
    },
    {
     "name": "stderr",
     "output_type": "stream",
     "text": [
      "                                                           "
     ]
    },
    {
     "name": "stdout",
     "output_type": "stream",
     "text": [
      "epoch: 15: train error: 1.307388229138406, validation error: 1.3266716275034072, validation accuracy: 0.5277887658227848\n"
     ]
    },
    {
     "name": "stderr",
     "output_type": "stream",
     "text": [
      "                                                           "
     ]
    },
    {
     "name": "stdout",
     "output_type": "stream",
     "text": [
      "epoch: 16: train error: 1.2925596688409595, validation error: 1.3527782597119296, validation accuracy: 0.5176028481012658\n"
     ]
    },
    {
     "name": "stderr",
     "output_type": "stream",
     "text": [
      "                                                           "
     ]
    },
    {
     "name": "stdout",
     "output_type": "stream",
     "text": [
      "epoch: 17: train error: 1.2798085328563096, validation error: 1.3137994280344323, validation accuracy: 0.5347112341772152\n"
     ]
    },
    {
     "name": "stderr",
     "output_type": "stream",
     "text": [
      "                                                           "
     ]
    },
    {
     "name": "stdout",
     "output_type": "stream",
     "text": [
      "epoch: 18: train error: 1.2700321448733434, validation error: 1.3160795833491072, validation accuracy: 0.5320411392405063\n"
     ]
    },
    {
     "name": "stderr",
     "output_type": "stream",
     "text": [
      "                                                           "
     ]
    },
    {
     "name": "stdout",
     "output_type": "stream",
     "text": [
      "epoch: 19: train error: 1.258572086348863, validation error: 1.2680566099625599, validation accuracy: 0.5512262658227848\n"
     ]
    },
    {
     "name": "stderr",
     "output_type": "stream",
     "text": [
      "\r"
     ]
    }
   ],
   "source": [
    "opt_reg = optim.SGD(conv_model_l2.parameters(), lr = 0.03, weight_decay = 0.001)\n",
    "opt = optim.SGD(conv_model.parameters(), lr = 0.03)\n",
    "\n",
    "train_losses, val_losses, val_accuracies = utils.learn(conv_model, train_loader, val_loader, opt, F.cross_entropy, num_epoch = 20)\n",
    "train_losses_reg, val_losses_reg, val_accuracies_reg = utils.learn(conv_model_l2, train_loader, val_loader, opt_reg, F.cross_entropy, num_epoch = 20)"
   ]
  },
  {
   "cell_type": "code",
   "execution_count": 54,
   "id": "cd09310c-06f8-4609-be72-6cccf81fdf7b",
   "metadata": {},
   "outputs": [
    {
     "data": {
      "text/plain": [
       "<matplotlib.legend.Legend at 0x7fff2b3b5d30>"
      ]
     },
     "execution_count": 54,
     "metadata": {},
     "output_type": "execute_result"
    },
    {
     "data": {
      "image/png": "[encoded data removed]",
      "text/plain": [
       "<Figure size 640x480 with 1 Axes>"
      ]
     },
     "metadata": {},
     "output_type": "display_data"
    }
   ],
   "source": [
    "plt.plot(train_losses, label='train loss without weight decay')\n",
    "plt.plot(train_losses_reg, label='train loss with weight decay')\n",
    "plt.plot(val_losses_reg, label='val loss with weight decay')\n",
    "plt.plot(val_losses, label='val loss without weight decay')\n",
    "plt.xlabel('epoch')\n",
    "plt.ylabel('loss')\n",
    "plt.legend()"
   ]
  },
  {
   "cell_type": "markdown",
   "id": "dfe6fa81-dc98-4368-a032-0b586c384958",
   "metadata": {},
   "source": [
    "## Dropout"
   ]
  },
  {
   "cell_type": "markdown",
   "id": "5bff6b5f-2b27-46b2-a0ca-290ad29932e2",
   "metadata": {},
   "source": [
    "### Dropoutをスクラッチ実装"
   ]
  },
  {
   "cell_type": "code",
   "execution_count": 55,
   "id": "c658a22a-77a1-4e4b-a6bc-59c49b2b605b",
   "metadata": {},
   "outputs": [],
   "source": [
    "def dropout(X, drop_p):\n",
    "    keep_p = 1 - drop_p\n",
    "    mask = torch.randn(X.shape) < keep_p\n",
    "    return X * mask / keep_p"
   ]
  },
  {
   "cell_type": "code",
   "execution_count": 56,
   "id": "8e24eeab-1506-47df-8523-79702cd1457b",
   "metadata": {},
   "outputs": [],
   "source": [
    "def relu(X):\n",
    "    return torch.clamp(X, min = 0)"
   ]
  },
  {
   "cell_type": "code",
   "execution_count": 58,
   "id": "5f2e5eda-b1b3-4d24-9a01-1e6aa7364eb5",
   "metadata": {},
   "outputs": [],
   "source": [
    "X = torch.randn(100, 100)\n",
    "droped_X = dropout(X, 0.3)"
   ]
  },
  {
   "cell_type": "code",
   "execution_count": 59,
   "id": "957c188f-a945-4fc5-bdc4-fd67530a8e47",
   "metadata": {},
   "outputs": [
    {
     "data": {
      "text/plain": [
       "tensor([[-2.1210,  2.1616,  0.0000,  ..., -0.5795,  1.6862, -3.5816],\n",
       "        [ 1.0150,  0.0867,  0.6299,  ..., -0.0000, -0.2220,  0.0000],\n",
       "        [-2.1122, -1.1792,  3.1743,  ...,  0.4487,  2.9804,  1.1877],\n",
       "        ...,\n",
       "        [-0.0000, -1.2912,  0.0000,  ..., -0.3984,  1.0764, -0.4257],\n",
       "        [-0.0000,  0.7890,  0.8053,  ...,  2.4697,  0.5553, -2.5767],\n",
       "        [-0.1023, -0.0000, -2.1048,  ...,  0.4642, -0.0000, -0.0096]])"
      ]
     },
     "execution_count": 59,
     "metadata": {},
     "output_type": "execute_result"
    }
   ],
   "source": [
    "droped_X"
   ]
  },
  {
   "cell_type": "markdown",
   "id": "0bab90fc-5553-482a-99e7-24191c709ddb",
   "metadata": {},
   "source": [
    "### PytorchでのDropout"
   ]
  },
  {
   "cell_type": "code",
   "execution_count": 61,
   "id": "62839bfa-ba43-487e-a53c-855b6d6f37ca",
   "metadata": {},
   "outputs": [],
   "source": [
    "model = nn.Sequential(\n",
    "    nn.Linear(64, 20),\n",
    "    nn.ReLU(),\n",
    "    nn.Dropout(p = 0.4),\n",
    "    nn.Linear(20, 10)\n",
    ")"
   ]
  },
  {
   "cell_type": "code",
   "execution_count": 62,
   "id": "741a255e-013a-4571-9c87-e9df8d3ff7e6",
   "metadata": {},
   "outputs": [
    {
     "data": {
      "text/plain": [
       "Sequential(\n",
       "  (0): Linear(in_features=64, out_features=20, bias=True)\n",
       "  (1): ReLU()\n",
       "  (2): Dropout(p=0.4, inplace=False)\n",
       "  (3): Linear(in_features=20, out_features=10, bias=True)\n",
       ")"
      ]
     },
     "execution_count": 62,
     "metadata": {},
     "output_type": "execute_result"
    }
   ],
   "source": [
    "model"
   ]
  },
  {
   "cell_type": "code",
   "execution_count": null,
   "id": "cf3e9d97-7fe7-4c61-84df-39663d38a5d4",
   "metadata": {},
   "outputs": [],
   "source": []
  }
 ],
 "metadata": {
  "kernelspec": {
   "display_name": "Python 3 (ipykernel)",
   "language": "python",
   "name": "python3"
  },
  "language_info": {
   "codemirror_mode": {
    "name": "ipython",
    "version": 3
   },
   "file_extension": ".py",
   "mimetype": "text/x-python",
   "name": "python",
   "nbconvert_exporter": "python",
   "pygments_lexer": "ipython3",
   "version": "3.8.18"
  }
 },
 "nbformat": 4,
 "nbformat_minor": 5
}
