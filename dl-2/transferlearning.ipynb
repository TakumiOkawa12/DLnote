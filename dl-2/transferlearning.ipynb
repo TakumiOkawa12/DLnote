{
 "cells": [
  {
   "cell_type": "markdown",
   "id": "16063c13-e011-4576-adbb-75fe4e342861",
   "metadata": {},
   "source": [
    "## Transferlearning"
   ]
  },
  {
   "cell_type": "code",
   "execution_count": null,
   "id": "f735557a-8fd5-4e0e-ac7f-66b4b62dfb48",
   "metadata": {},
   "outputs": [],
   "source": [
    "import torch\n",
    "from torch.nn import functional as F\n",
    "import torchvision.models as models\n",
    "from torchvision.models import ResNet18_Weights\n",
    "import torchvision.transforms as transforms\n",
    "from torchvision.datasets import CIFAR10\n",
    "from torch.utils.data import DataLoader\n",
    "from torch import optim, nn\n",
    "\n",
    "from google.colab import drive\n",
    "drive.mount('/content/drive')\n",
    "import sys\n",
    "sys.path.append('/content/drive/My Drive/Colab Notebooks')\n",
    "\n",
    "%load_ext autoreload\n",
    "%autoreload 2\n",
    "import utils\n",
    "\n",
    "# GPUの設定\n",
    "device = torch.device(\"cuda:0\" if torch.cuda.is_available() else \"cpu\")\n",
    "\n",
    "model = models.resnet18(weights=ResNet18_Weights.IMAGENET1K_V1)\n",
    "model"
   ]
  },
  {
   "cell_type": "code",
   "execution_count": null,
   "id": "86306ad2-3dd9-473a-9124-b5a5e37cb109",
   "metadata": {},
   "outputs": [],
   "source": [
    "num_classes = 10\n",
    "model.fc = nn.Linear(512, num_classes)\n",
    "\n",
    "# パラメータの重みを凍結\n",
    "for name, param in model.named_parameters():\n",
    "    if not name.startswith('fc'):\n",
    "        param.requires_grad = False\n",
    "\n",
    "transform = transforms.Compose([\n",
    "    transforms.Resize((224, 224)),\n",
    "    transforms.ToTensor(),\n",
    "    transforms.Normalize((0.5, 0.5, 0.5), (0.5, 0.5, 0.5))\n",
    "])\n",
    "\n",
    "train_dataset = CIFAR10(root='./cifar10_data', train=True, download=True, transform=transform)\n",
    "val_dataset = CIFAR10(root='./cifar10_data', train=False, download=True, transform=transform)\n",
    "\n",
    "train_loader = DataLoader(train_dataset, batch_size=1024, shuffle=True, num_workers=4)\n",
    "val_loader = DataLoader(val_dataset, batch_size=1024, shuffle=False, num_workers=4)\n",
    "\n",
    "# モデルをGPUに移動\n",
    "model = model.to(device)\n",
    "\n",
    "opt = optim.Adam(model.parameters(), lr=0.03)\n",
    "\n",
    "# resnetは大きいのでCUDAが必要\n",
    "train_losses, val_losses, val_accuracies, losses_in_epoch = utils.learn(model, train_loader, val_loader, opt, F.cross_entropy, 3)"
   ]
  },
  {
   "cell_type": "code",
   "execution_count": null,
   "id": "45e03a30-9945-4963-ab4f-087c40a4815a",
   "metadata": {},
   "outputs": [],
   "source": []
  }
 ],
 "metadata": {
  "kernelspec": {
   "display_name": "Python 3 (ipykernel)",
   "language": "python",
   "name": "python3"
  },
  "language_info": {
   "codemirror_mode": {
    "name": "ipython",
    "version": 3
   },
   "file_extension": ".py",
   "mimetype": "text/x-python",
   "name": "python",
   "nbconvert_exporter": "python",
   "pygments_lexer": "ipython3",
   "version": "3.8.18"
  }
 },
 "nbformat": 4,
 "nbformat_minor": 5
}
