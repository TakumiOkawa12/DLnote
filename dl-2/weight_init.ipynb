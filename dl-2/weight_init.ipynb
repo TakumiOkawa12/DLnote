{
 "cells": [
  {
   "cell_type": "markdown",
   "id": "938edea8-17a9-44cd-8736-ad43d616b901",
   "metadata": {},
   "source": [
    "## 重み初期化"
   ]
  },
  {
   "cell_type": "code",
   "execution_count": 13,
   "id": "b76f517e-d0ad-493d-be25-30b49436d2bd",
   "metadata": {},
   "outputs": [],
   "source": [
    "import torch\n",
    "from torch import nn, optim\n",
    "from torch.nn import init\n",
    "from torch.nn import functional as F\n",
    "from torch.utils.data import DataLoader\n",
    "import torchvision\n",
    "from torchvision import transforms\n",
    "from functools import partial\n",
    "import matplotlib.pyplot as plt\n",
    "import numpy as np\n",
    "\n",
    "%load_ext autoreload\n",
    "%autoreload 2\n",
    "import utils"
   ]
  },
  {
   "cell_type": "markdown",
   "id": "9138048a-6d6e-4846-9a77-d81e02fe8521",
   "metadata": {},
   "source": [
    "### Xavierの初期化"
   ]
  },
  {
   "cell_type": "code",
   "execution_count": 24,
   "id": "54389ba8-5c42-4642-9ef3-7a8e3369ef3e",
   "metadata": {},
   "outputs": [
    {
     "name": "stdout",
     "output_type": "stream",
     "text": [
      "tensor(-0.0060) tensor(1.1168)\n"
     ]
    },
    {
     "data": {
      "text/plain": [
       "tensor([[-0.2391, -0.5007, -0.6922,  ...,  0.3678, -0.3084, -0.7777],\n",
       "        [ 0.2905,  0.2817,  0.3490,  ..., -0.2360,  0.2540,  0.5578],\n",
       "        [ 0.2290,  0.0092, -0.0281,  ..., -0.0654,  0.2377,  0.3167],\n",
       "        ...,\n",
       "        [-0.6328, -1.2054, -1.6357,  ...,  0.9476, -0.7491, -1.8050],\n",
       "        [-0.6814,  0.1882,  0.3912,  ...,  0.0442, -0.9129, -1.1293],\n",
       "        [-0.2482,  1.5669,  2.2883,  ..., -0.8815, -0.5745,  0.3754]])"
      ]
     },
     "execution_count": 24,
     "metadata": {},
     "output_type": "execute_result"
    }
   ],
   "source": [
    "X = torch.randn(60, 30)\n",
    "n_out, n_in = 30, 30\n",
    "# 正規分布: N(0, 2/(n_in+n_out))\n",
    "std = torch.sqrt(torch.tensor(2. / (n_in + n_out)))\n",
    "# 一様分布: U(-sqrt(6/(n_in+n_out)), sqrt(6/(n_in+n_out)))\n",
    "limit = torch.sqrt(torch.tensor(6./(n_in + n_out)))\n",
    "\n",
    "for i in range(50):\n",
    "    # W = torch.randn(n_out, n_in) * std\n",
    "    W = torch.rand(n_out, n_in)*2*limit - limit\n",
    "    X = X @ W.T\n",
    "print(X.mean(), X.std())\n",
    "X"
   ]
  },
  {
   "cell_type": "markdown",
   "id": "922cb97a-3a58-4e39-ac89-1ddd5cbf8180",
   "metadata": {},
   "source": [
    "### Kaiming初期化"
   ]
  },
  {
   "cell_type": "code",
   "execution_count": 28,
   "id": "d11ec0be-7e63-4865-8788-42efbc3411dc",
   "metadata": {},
   "outputs": [
    {
     "name": "stdout",
     "output_type": "stream",
     "text": [
      "tensor(0.0352) tensor(0.0544)\n"
     ]
    },
    {
     "data": {
      "text/plain": [
       "tensor([[0.0000, 0.0276, 0.0000,  ..., 0.0281, 0.0264, 0.0576],\n",
       "        [0.0000, 0.1291, 0.0000,  ..., 0.1085, 0.1284, 0.2367],\n",
       "        [0.0000, 0.1473, 0.0000,  ..., 0.1429, 0.1472, 0.2953],\n",
       "        ...,\n",
       "        [0.0000, 0.0892, 0.0000,  ..., 0.0884, 0.0900, 0.1847],\n",
       "        [0.0000, 0.0362, 0.0000,  ..., 0.0381, 0.0312, 0.0750],\n",
       "        [0.0000, 0.0513, 0.0000,  ..., 0.0625, 0.0441, 0.1235]])"
      ]
     },
     "execution_count": 28,
     "metadata": {},
     "output_type": "execute_result"
    }
   ],
   "source": [
    "X = torch.randn(60, 30)\n",
    "n_out, n_in = 30, 30\n",
    "# 正規分布: N(0, 2/(n_in))\n",
    "std = torch.sqrt(torch.tensor(2. / n_in))\n",
    "# 一様分布: U(-sqrt(6/(n_in)), sqrt(6/(n_in)))\n",
    "limit = torch.sqrt(torch.tensor(6./n_in))\n",
    "\n",
    "for i in range(50):\n",
    "    W = torch.randn(n_out, n_in) * std\n",
    "    # W = torch.rand(n_out, n_in)*2*limit - limit\n",
    "    X = X @ W.T\n",
    "    X = torch.clamp(X, min = 0)\n",
    "print(X.mean(), X.std())\n",
    "X"
   ]
  },
  {
   "cell_type": "markdown",
   "id": "4fbdf0fa-4191-493b-98fa-3c7042eccadb",
   "metadata": {},
   "source": [
    "### Pytorchのkaiming初期化"
   ]
  },
  {
   "cell_type": "code",
   "execution_count": 10,
   "id": "0c0e2ade-4b38-483c-b368-c15b37b2cfae",
   "metadata": {},
   "outputs": [
    {
     "name": "stdout",
     "output_type": "stream",
     "text": [
      "tensor(-0.0162, grad_fn=<MeanBackward0>) tensor(0.2042, grad_fn=<StdBackward0>)\n",
      "tensor(-0.0536, grad_fn=<MeanBackward0>) tensor(0.4938, grad_fn=<StdBackward0>)\n"
     ]
    },
    {
     "name": "stderr",
     "output_type": "stream",
     "text": [
      "/tmp/ipykernel_40/906392062.py:3: UserWarning: nn.init.kaiming_normal is now deprecated in favor of nn.init.kaiming_normal_.\n",
      "  init.kaiming_normal(conv.weight)\n"
     ]
    }
   ],
   "source": [
    "conv = nn.Conv2d(1, 8, kernel_size = 3, stride = 2, padding = 1)\n",
    "print(conv.weight.mean(), conv.weight.std()) # default std = np.sqrt(1/3*n_in*k*k)\n",
    "init.kaiming_normal(conv.weight)\n",
    "print(conv.weight.mean(), conv.weight.std()) # kaiming std = np.sqrt(2/n_in*k*k)"
   ]
  },
  {
   "cell_type": "markdown",
   "id": "7cdaec5a-0954-45b8-923e-d2b4d0300444",
   "metadata": {},
   "source": [
    "### batch norm + kiming init"
   ]
  },
  {
   "cell_type": "code",
   "execution_count": 21,
   "id": "2853d0b6-3806-4cf6-9191-b63aa6031067",
   "metadata": {},
   "outputs": [],
   "source": [
    "def get_conv_model():\n",
    "    return nn.Sequential(\n",
    "    # 1x28x28\n",
    "    nn.Conv2d(1, 4, kernel_size=3, stride=2, padding=1),\n",
    "    nn.BatchNorm2d(4),\n",
    "    nn.ReLU(),\n",
    "    # 4x14x14\n",
    "    nn.Conv2d(4, 8, kernel_size=3, stride=2, padding=1),\n",
    "    nn.BatchNorm2d(8),\n",
    "    nn.ReLU(),\n",
    "    # 8x7x7\n",
    "    nn.Conv2d(8, 16, kernel_size=3, stride=2, padding=1),\n",
    "    nn.BatchNorm2d(16),\n",
    "    nn.ReLU(),\n",
    "    # 16x4x4\n",
    "    nn.Conv2d(16, 32, kernel_size=3, stride=2, padding=1),\n",
    "    nn.BatchNorm2d(32),\n",
    "    nn.ReLU(),\n",
    "    # 32x2x2\n",
    "    nn.AdaptiveAvgPool2d(1),\n",
    "    # 32x1x1\n",
    "    nn.Flatten(),\n",
    "    # 32\n",
    "    nn.Linear(32, 10)\n",
    "    # 10\n",
    ")\n",
    "conv_model = get_conv_model()"
   ]
  },
  {
   "cell_type": "code",
   "execution_count": 22,
   "id": "95e5ff8d-bf7a-42fc-aae5-59565813eb4b",
   "metadata": {},
   "outputs": [],
   "source": [
    "for layer in conv_model:\n",
    "    if isinstance(layer, nn.Linear) or isinstance(layer, nn.Conv2d):\n",
    "        init.kaiming_normal_(layer.weight)"
   ]
  },
  {
   "cell_type": "code",
   "execution_count": 23,
   "id": "28646b37-82d9-4dde-8b48-e710164c5962",
   "metadata": {},
   "outputs": [],
   "source": [
    "# データ準備\n",
    "transform = transforms.Compose([\n",
    "    transforms.ToTensor(),\n",
    "    transforms.Normalize((0.5,), (0.5,))\n",
    "])\n",
    "train_dataset = torchvision.datasets.FashionMNIST('./fmnist_data', train = True, download = True, transform = transform)\n",
    "val_dataset = torchvision.datasets.FashionMNIST('./fmnist_data', train = False, download = True, transform = transform)\n",
    "train_loader = DataLoader(train_dataset, batch_size = 1024, shuffle = True, num_workers = 4)\n",
    "val_loader = DataLoader(val_dataset, batch_size = 1024, shuffle = False, num_workers = 4)\n",
    "\n",
    "opt = optim.SGD(conv_model.parameters(), lr = 0.6)"
   ]
  },
  {
   "cell_type": "code",
   "execution_count": 24,
   "id": "79b4743a-719e-4165-a006-5a9e98a1cc37",
   "metadata": {},
   "outputs": [],
   "source": [
    "act_stats = utils.ActivationStatistics(conv_model)"
   ]
  },
  {
   "cell_type": "code",
   "execution_count": 25,
   "id": "597bbe92-5efc-4623-b2af-284b358f04c5",
   "metadata": {},
   "outputs": [
    {
     "name": "stderr",
     "output_type": "stream",
     "text": [
      "                                                          "
     ]
    },
    {
     "name": "stdout",
     "output_type": "stream",
     "text": [
      "epoch: 0: train error: 0.9445504849239931, validation error: 0.6044596910476685, validation accuracy: 0.7850247144699096\n"
     ]
    },
    {
     "name": "stderr",
     "output_type": "stream",
     "text": [
      "                                                          "
     ]
    },
    {
     "name": "stdout",
     "output_type": "stream",
     "text": [
      "epoch: 1: train error: 0.502600534992703, validation error: 0.49538477063179015, validation accuracy: 0.8227080702781677\n"
     ]
    },
    {
     "name": "stderr",
     "output_type": "stream",
     "text": [
      "                                                          "
     ]
    },
    {
     "name": "stdout",
     "output_type": "stream",
     "text": [
      "epoch: 2: train error: 0.43476225814576874, validation error: 0.47066461741924287, validation accuracy: 0.8229113519191742\n"
     ]
    },
    {
     "name": "stderr",
     "output_type": "stream",
     "text": [
      "\r"
     ]
    }
   ],
   "source": [
    "train_losses, val_losses, val_accuracies = utils.learn(conv_model, train_loader, val_loader, opt, F.cross_entropy, 3)"
   ]
  },
  {
   "cell_type": "code",
   "execution_count": null,
   "id": "2e4d8937-1688-4556-948c-2f194df96e1e",
   "metadata": {},
   "outputs": [],
   "source": []
  }
 ],
 "metadata": {
  "kernelspec": {
   "display_name": "Python 3 (ipykernel)",
   "language": "python",
   "name": "python3"
  },
  "language_info": {
   "codemirror_mode": {
    "name": "ipython",
    "version": 3
   },
   "file_extension": ".py",
   "mimetype": "text/x-python",
   "name": "python",
   "nbconvert_exporter": "python",
   "pygments_lexer": "ipython3",
   "version": "3.8.18"
  }
 },
 "nbformat": 4,
 "nbformat_minor": 5
}
