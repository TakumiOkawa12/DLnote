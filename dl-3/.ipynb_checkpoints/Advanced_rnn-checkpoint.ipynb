{
 "cells": [
  {
   "cell_type": "markdown",
   "id": "389c1e33-ec31-49f3-88ac-e6ff0ee4e539",
   "metadata": {},
   "source": [
    "# RNNの更なる工夫"
   ]
  },
  {
   "cell_type": "markdown",
   "id": "bb1d21f0-eab4-4e20-93c6-cb6e4dcb410f",
   "metadata": {},
   "source": [
    "## Bidirectional RNN"
   ]
  },
  {
   "cell_type": "code",
   "execution_count": 16,
   "id": "186ada0c-5f00-4e24-9b83-2e709b94bdfc",
   "metadata": {},
   "outputs": [],
   "source": [
    "import torch\n",
    "from torch import nn\n",
    "import math"
   ]
  },
  {
   "cell_type": "code",
   "execution_count": 10,
   "id": "4decb1b8-a23c-42cc-88c1-0b8a674c7ba7",
   "metadata": {},
   "outputs": [],
   "source": [
    "class myRNN:\n",
    "    def __init__(self, input_size, hidden_size, bidirectional = False):\n",
    "        self.hidden_size = hidden_size\n",
    "        self.bidirectional = bidirectional\n",
    "\n",
    "        init_range = 1.0/math.sqrt(hidden_size)\n",
    "\n",
    "        self.W_in = torch.empty(hidden_size, input_size).uniform_(-init_range, init_range).clone().detach().requires_grad_(True)\n",
    "        self.W_h = torch.empty(hidden_size, hidden_size).uniform_(-init_range, init_range).clone().detach().requires_grad_(True)\n",
    "        self.b_in = torch.empty(hidden_size).uniform_(-init_range, init_range).clone().detach().requires_grad_(True)\n",
    "        self.b_h = torch.empty(hidden_size).uniform_(-init_range, init_range).clone().detach().requires_grad_(True)\n",
    "\n",
    "        self.W_in_backward = torch.empty(hidden_size, input_size).uniform_(-init_range, init_range).clone().detach().requires_grad_(True)\n",
    "        self.W_h_backward = torch.empty(hidden_size, hidden_size).uniform_(-init_range, init_range).clone().detach().requires_grad_(True)\n",
    "        self.b_in_backward = torch.empty(hidden_size).uniform_(-init_range, init_range).clone().detach().requires_grad_(True)\n",
    "        self.b_h_backward = torch.empty(hidden_size).uniform_(-init_range, init_range).clone().detach().requires_grad_(True)\n",
    "        \n",
    "    def forward(self, input, h_0=None):\n",
    "        # input: [batch_size, seq_len, input_size]\n",
    "        self.input = input\n",
    "        self.h_0 = h_0\n",
    "        batch_size, self.seq_len, _ = input.size()\n",
    "\n",
    "        if h_0 is None:\n",
    "            self.h_0 = torch.zeros(1, batch_size, self.hidden_size)#.to(device)\n",
    "\n",
    "        h = self.h_0 # [1, batch_size, hidden_size]\n",
    "        outputs = []\n",
    "        # 順方向の処理\n",
    "        for i in range(self.seq_len):\n",
    "            # [batch_size, hidden_size]\n",
    "            h = torch.tanh(input[:, i]@self.W_in.T + self.b_in + h.squeeze(0)@self.W_h.T + self.b_h)\n",
    "            outputs.append(h.unsqueeze(1))# [batch_size, hidden_size] -> # [batch_size, 1, hidden_size]\n",
    "        self.output_seq = torch.cat(outputs, dim=1)\n",
    "        h_n = h.unsqueeze(0) # [batch_size, hidden_size] -> [1, batch_size, hidden_size]\n",
    "\n",
    "        # 逆方向の処理\n",
    "        if self.bidirectional:\n",
    "            h_backward = self.h_0\n",
    "            outputs_backward = []\n",
    "            for i in reversed(range(self.seq_len)):\n",
    "                h_backward = torch.tanh(input[:, i]@self.W_in_backward.T + self.b_in_backward + h_backward.squeeze(0)@self.W_h_backward + self.b_h_backward)\n",
    "                outputs_backward.append(h_backward.unsqueeze(1))\n",
    "            outputs_backward = outputs_backward[::-1]\n",
    "            self.output_seq_backward = torch.cat(outputs_backward, dim = 1)\n",
    "            h_n_backward = h_backward.unsqueeze(0)\n",
    "            self.output_seq = torch.cat([self.output_seq, self.output_seq_backward], dim = 2)\n",
    "            h_n = torch.cat([h_n, h_n_backward], dim = 0)\n",
    "\n",
    "        else:\n",
    "            pass\n",
    "\n",
    "        return self.output_seq, h_n"
   ]
  },
  {
   "cell_type": "code",
   "execution_count": 17,
   "id": "1075576b-468e-4fc4-bf5a-d472d7e3e556",
   "metadata": {},
   "outputs": [],
   "source": [
    "# BiRNNのテスト\n",
    "input_size = 10\n",
    "hidden_size = 3\n",
    "batch_size = 8\n",
    "seq_len = 5\n",
    "\n",
    "# サンプルのTensor\n",
    "input_tensor = torch.randn(batch_size, seq_len, input_size)\n",
    "birnn = myRNN(input_size, hidden_size, bidirectional=True)\n",
    "output_seq, h_n = birnn.forward(input_tensor)"
   ]
  },
  {
   "cell_type": "code",
   "execution_count": 18,
   "id": "7dd7ab33-f6f3-453b-8c15-50e937bca6b7",
   "metadata": {},
   "outputs": [
    {
     "data": {
      "text/plain": [
       "torch.Size([8, 5, 6])"
      ]
     },
     "execution_count": 18,
     "metadata": {},
     "output_type": "execute_result"
    }
   ],
   "source": [
    "output_seq.shape"
   ]
  },
  {
   "cell_type": "code",
   "execution_count": 19,
   "id": "069149e4-aa7b-45a5-bc83-d52686d12041",
   "metadata": {},
   "outputs": [
    {
     "data": {
      "text/plain": [
       "torch.Size([2, 8, 3])"
      ]
     },
     "execution_count": 19,
     "metadata": {},
     "output_type": "execute_result"
    }
   ],
   "source": [
    "h_n.shape"
   ]
  },
  {
   "cell_type": "code",
   "execution_count": 20,
   "id": "6312717f-5692-475a-b2b9-1288785066ff",
   "metadata": {},
   "outputs": [
    {
     "data": {
      "text/plain": [
       "tensor([[True, True, True],\n",
       "        [True, True, True],\n",
       "        [True, True, True],\n",
       "        [True, True, True],\n",
       "        [True, True, True],\n",
       "        [True, True, True],\n",
       "        [True, True, True],\n",
       "        [True, True, True]])"
      ]
     },
     "execution_count": 20,
     "metadata": {},
     "output_type": "execute_result"
    }
   ],
   "source": [
    "output_seq[:, -1, :hidden_size] == h_n[0]"
   ]
  },
  {
   "cell_type": "markdown",
   "id": "c00768df-a223-40d7-a89e-445a73174690",
   "metadata": {},
   "source": [
    "## PytorchのBidirectional"
   ]
  },
  {
   "cell_type": "code",
   "execution_count": 27,
   "id": "9bf3247c-adaa-458b-a347-75782d810947",
   "metadata": {},
   "outputs": [],
   "source": [
    "class Model(nn.Module):\n",
    "    def __init__(self, input_size, hidden_size, output_size, rnn_type = 'LSTM', bidirectional = False):\n",
    "        super().__init__()\n",
    "        self.bidirectional = bidirectional\n",
    "        self.num_directions = 2 if self.bidirectional else 1\n",
    "        \n",
    "        if rnn_type == 'RNN':\n",
    "            self.rnn = nn.RNN(input_size, hidden_size, batch_first = True, bidirectional = self.bidirectional)\n",
    "\n",
    "        elif rnn_type == 'LSTM':\n",
    "            self.rnn = nn.LSTM(input_size, hidden_size, batch_first = True, bidirectional = self.bidirectional)\n",
    "\n",
    "        elif rnn_type == 'GRU':\n",
    "            self.rnn = nn.GRU(input_size, hidden_size, batch_first = True, bidirectional = self.bidirectional)\n",
    "\n",
    "        # elif rnn_type == 'UGRNN':\n",
    "        #     self.rnn = UGRNN(input_size, hidden_size, batch_first = True, bidirectional = self.bidirectional)\n",
    "        else:\n",
    "            raise ValueError('Unsupported RNN type. Choose from [\"LSTM\", \"RNN\", \"GRU\", \"UGRNN\"]')\n",
    "\n",
    "        self.fc = nn.Linear(hidden_size*self.num_directions, output_size)\n",
    "\n",
    "    def forward(self, x):\n",
    "        output_seq, _ = self.rnn(x)\n",
    "        # output_seq : [batch_size, seq_len, hidden_size]\n",
    "        # h_n : [1, batch_size, hidden_size]\n",
    "        out = self.fc(output_seq[:, -1, :])\n",
    "        return out\n",
    "        "
   ]
  },
  {
   "cell_type": "code",
   "execution_count": 28,
   "id": "9137b4a0-2255-4cf3-b1fc-a1b0be3ef86a",
   "metadata": {},
   "outputs": [],
   "source": [
    "output_size = 3\n",
    "model = Model(input_size, hidden_size, output_size, rnn_type = 'LSTM', bidirectional = True)\n",
    "output = model(input_tensor)"
   ]
  },
  {
   "cell_type": "code",
   "execution_count": 29,
   "id": "66cccd75-f652-4ef3-9fb7-7784d0c1b09c",
   "metadata": {},
   "outputs": [
    {
     "data": {
      "text/plain": [
       "torch.Size([8, 3])"
      ]
     },
     "execution_count": 29,
     "metadata": {},
     "output_type": "execute_result"
    }
   ],
   "source": [
    "output.shape"
   ]
  },
  {
   "cell_type": "markdown",
   "id": "5c5b3c7c-2753-4998-b87d-41fb0450a729",
   "metadata": {},
   "source": [
    "## Deep RNN"
   ]
  },
  {
   "cell_type": "code",
   "execution_count": 30,
   "id": "9fa3e453-fe16-46e8-b56b-414ff3d110ad",
   "metadata": {},
   "outputs": [
    {
     "name": "stdout",
     "output_type": "stream",
     "text": [
      "Num Layers: 1\n",
      "Output Shape :torch.Size([8, 5, 6])\n",
      "Last Hidden State Shape :torch.Size([2, 5, 3])\n",
      "Num Layers: 2\n",
      "Output Shape :torch.Size([8, 5, 6])\n",
      "Last Hidden State Shape :torch.Size([4, 5, 3])\n",
      "Num Layers: 3\n",
      "Output Shape :torch.Size([8, 5, 6])\n",
      "Last Hidden State Shape :torch.Size([6, 5, 3])\n"
     ]
    }
   ],
   "source": [
    "num_layers_list = [1, 2, 3]\n",
    "\n",
    "for num_layers in num_layers_list:\n",
    "    rnn = nn.RNN(input_size, hidden_size, num_layers=num_layers, bidirectional=True)\n",
    "    output_seq, h_n = rnn(input_tensor)\n",
    "\n",
    "    print(f\"Num Layers: {num_layers}\")\n",
    "    print(f\"Output Shape :{output_seq.shape}\")\n",
    "    print(f\"Last Hidden State Shape :{h_n.shape}\")"
   ]
  },
  {
   "cell_type": "code",
   "execution_count": 31,
   "id": "954df33d-f05d-4a41-9fac-b795c1ff0adb",
   "metadata": {},
   "outputs": [],
   "source": [
    "class Model(nn.Module):\n",
    "    def __init__(self, input_size, hidden_size, output_size, num_layers = 1,  rnn_type = 'LSTM', bidirectional = False):\n",
    "        super().__init__()\n",
    "        self.bidirectional = bidirectional\n",
    "        self.num_directions = 2 if self.bidirectional else 1\n",
    "        \n",
    "        if rnn_type == 'RNN':\n",
    "            self.rnn = nn.RNN(input_size, hidden_size, num_layers = num_layers, batch_first = True, bidirectional = self.bidirectional)\n",
    "\n",
    "        elif rnn_type == 'LSTM':\n",
    "            self.rnn = nn.LSTM(input_size, hidden_size, num_layers = num_layers, batch_first = True, bidirectional = self.bidirectional)\n",
    "\n",
    "        elif rnn_type == 'GRU':\n",
    "            self.rnn = nn.GRU(input_size, hidden_size, num_layers = num_layers, batch_first = True, bidirectional = self.bidirectional)\n",
    "\n",
    "        # elif rnn_type == 'UGRNN':\n",
    "        #     self.rnn = UGRNN(input_size, hidden_size, batch_first = True, bidirectional = self.bidirectional)\n",
    "        else:\n",
    "            raise ValueError('Unsupported RNN type. Choose from [\"LSTM\", \"RNN\", \"GRU\", \"UGRNN\"]')\n",
    "\n",
    "        self.fc = nn.Linear(hidden_size*self.num_directions, output_size)\n",
    "\n",
    "    def forward(self, x):\n",
    "        output_seq, _ = self.rnn(x)\n",
    "        # output_seq : [batch_size, seq_len, hidden_size]\n",
    "        # h_n : [1, batch_size, hidden_size]\n",
    "        out = self.fc(output_seq[:, -1, :])\n",
    "        return out\n",
    "        "
   ]
  },
  {
   "cell_type": "code",
   "execution_count": 32,
   "id": "f7ac6700-75ff-4441-a8bb-580ccdff69ab",
   "metadata": {},
   "outputs": [
    {
     "name": "stdout",
     "output_type": "stream",
     "text": [
      "torch.Size([8, 3])\n"
     ]
    }
   ],
   "source": [
    "model = Model(input_size, hidden_size, output_size, num_layers = 2, rnn_type = 'LSTM', bidirectional = True)\n",
    "out = model(input_tensor)\n",
    "print(out.shape)"
   ]
  },
  {
   "cell_type": "code",
   "execution_count": null,
   "id": "3f855de5-979f-4d85-804b-8d0f9a0c5ab7",
   "metadata": {},
   "outputs": [],
   "source": []
  }
 ],
 "metadata": {
  "kernelspec": {
   "display_name": "Python 3 (ipykernel)",
   "language": "python",
   "name": "python3"
  },
  "language_info": {
   "codemirror_mode": {
    "name": "ipython",
    "version": 3
   },
   "file_extension": ".py",
   "mimetype": "text/x-python",
   "name": "python",
   "nbconvert_exporter": "python",
   "pygments_lexer": "ipython3",
   "version": "3.8.18"
  }
 },
 "nbformat": 4,
 "nbformat_minor": 5
}
