{
 "cells": [
  {
   "cell_type": "markdown",
   "id": "18b920da-57b6-4f9a-8dbf-c6c637a9ff32",
   "metadata": {},
   "source": [
    "# ゲート付きRNN"
   ]
  },
  {
   "cell_type": "markdown",
   "id": "51cb5cad-f49e-4f5c-824f-8e1afbdfb0e8",
   "metadata": {},
   "source": [
    "## UGRNN"
   ]
  },
  {
   "cell_type": "code",
   "execution_count": 1,
   "id": "4782f107-05b3-4622-9c57-8bb041c8e825",
   "metadata": {},
   "outputs": [],
   "source": [
    "import torch\n",
    "import torch.nn as nn"
   ]
  },
  {
   "cell_type": "code",
   "execution_count": 2,
   "id": "8706fcc2-a524-4075-8f83-c59f5da325fd",
   "metadata": {},
   "outputs": [],
   "source": [
    "class UGRNN(nn.Module):\n",
    "    def __init__(self, input_size, hidden_size):\n",
    "        super().__init__()\n",
    "        self.hidden_size = hidden_size\n",
    "\n",
    "         # 線形変換\n",
    "        self.transform = nn.Linear(input_size+hidden_size, hidden_size)\n",
    "        self.update_gate = nn.Linear(input_size+hidden_size, hidden_size)\n",
    "\n",
    "        # 活性化関数\n",
    "        self.tanh = nn.Tanh()\n",
    "        self.sigmoid = nn.Sigmoid()\n",
    "\n",
    "    def forward(self, input, h_0=None):\n",
    "        # input（batch firstを想定）: [batch_size, seq_len, input_size]\n",
    "        batch_size, seq_len, _ = input.size()\n",
    "\n",
    "        if h_0 is None:\n",
    "            h_0 = torch.zeros(1, batch_size, self.hidden_size)#.to(device)\n",
    "\n",
    "        h = h_0.squeeze(0) # [1, batch_size, hidden_size] → [batch_size, hidden_size]\n",
    "        outputs = []\n",
    "        for i in range(seq_len):\n",
    "            # [batch_size, hidden_size]\n",
    "            combined = torch.cat((input[:, i, :], h), dim = 1)\n",
    "            h_candidate = self.tanh(self.transform(combined))\n",
    "            update_gate = self.sigmoid(self.update_gate(combined))\n",
    "            h = update_gate * h_candidate + (1-update_gate) * h\n",
    "            outputs.append(h.unsqueeze(1))# [batch_size, hidden_size] -> # [batch_size, 1, hidden_size]\n",
    "        output_seq = torch.cat(outputs, dim=1)\n",
    "        h_n = h.unsqueeze(0) # [batch_size, hidden_size] -> [1, batch_size, hidden_size]\n",
    "\n",
    "        return output_seq, h_n"
   ]
  },
  {
   "cell_type": "code",
   "execution_count": 3,
   "id": "08b7d123-012a-4136-a596-8f599de2290d",
   "metadata": {},
   "outputs": [],
   "source": [
    "input_size = 10\n",
    "hidden_size = 3\n",
    "seq_len = 4\n",
    "batch_size = 5\n",
    "\n",
    "input_tensor = torch.randn(batch_size, seq_len, input_size)\n",
    "ugrnn = UGRNN(input_size, hidden_size)\n",
    "output_seq, h_n = ugrnn(input_tensor)"
   ]
  },
  {
   "cell_type": "code",
   "execution_count": 5,
   "id": "154dbb5d-4003-48f3-b926-1e88a187143b",
   "metadata": {},
   "outputs": [
    {
     "data": {
      "text/plain": [
       "torch.Size([5, 4, 3])"
      ]
     },
     "execution_count": 5,
     "metadata": {},
     "output_type": "execute_result"
    }
   ],
   "source": [
    "output_seq.shape"
   ]
  },
  {
   "cell_type": "code",
   "execution_count": 7,
   "id": "70ef9ec3-658c-4bc1-8f71-3807bbfcf14e",
   "metadata": {},
   "outputs": [
    {
     "data": {
      "text/plain": [
       "torch.Size([1, 5, 3])"
      ]
     },
     "execution_count": 7,
     "metadata": {},
     "output_type": "execute_result"
    }
   ],
   "source": [
    "h_n.shape"
   ]
  },
  {
   "cell_type": "code",
   "execution_count": null,
   "id": "adb9859b-c682-403c-8d6c-ad71e590dcc5",
   "metadata": {},
   "outputs": [],
   "source": []
  }
 ],
 "metadata": {
  "kernelspec": {
   "display_name": "Python 3 (ipykernel)",
   "language": "python",
   "name": "python3"
  },
  "language_info": {
   "codemirror_mode": {
    "name": "ipython",
    "version": 3
   },
   "file_extension": ".py",
   "mimetype": "text/x-python",
   "name": "python",
   "nbconvert_exporter": "python",
   "pygments_lexer": "ipython3",
   "version": "3.8.18"
  }
 },
 "nbformat": 4,
 "nbformat_minor": 5
}
