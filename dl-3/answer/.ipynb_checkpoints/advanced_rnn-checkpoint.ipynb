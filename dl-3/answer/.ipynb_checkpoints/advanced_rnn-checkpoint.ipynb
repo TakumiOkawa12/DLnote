{
 "cells": [
  {
   "cell_type": "markdown",
   "id": "ff1a61f5-bcbe-4569-89a5-d1aa2d3dff17",
   "metadata": {},
   "source": [
    "## RNNのさらなる工夫"
   ]
  },
  {
   "cell_type": "markdown",
   "id": "edbba8ef-8acd-4fb1-a90d-a4086dbf6d04",
   "metadata": {},
   "source": [
    "### Bidirectional RNN"
   ]
  },
  {
   "cell_type": "code",
   "execution_count": 1,
   "id": "6dbf8c4e-314d-4292-81f3-96ba2ae54475",
   "metadata": {},
   "outputs": [],
   "source": [
    "import math\n",
    "import torch\n",
    "class myRNN:\n",
    "    def __init__(self, input_size, hidden_size, bidirectional=False):\n",
    "        self.hidden_size = hidden_size\n",
    "        self.bidirectional = bidirectional\n",
    "\n",
    "        init_range = 1.0/math.sqrt(hidden_size)\n",
    "\n",
    "        # 順方向の重みとバイアス\n",
    "        self.W_in = torch.empty(hidden_size, input_size).uniform_(-init_range, init_range).requires_grad_(True)\n",
    "        self.W_h = torch.empty(hidden_size, hidden_size).uniform_(-init_range, init_range).requires_grad_(True)\n",
    "        self.b_in = torch.empty(hidden_size).uniform_(-init_range, init_range).requires_grad_(True)\n",
    "        self.b_h = torch.empty(hidden_size).uniform_(-init_range, init_range).requires_grad_(True)\n",
    "\n",
    "        # 逆方向の重みとバイアス\n",
    "        self.W_in_backward = torch.empty(hidden_size, input_size).uniform_(-init_range, init_range).requires_grad_(True)\n",
    "        self.W_h_backward = torch.empty(hidden_size, hidden_size).uniform_(-init_range, init_range).requires_grad_(True)\n",
    "        self.b_in_backward = torch.empty(hidden_size).uniform_(-init_range, init_range).requires_grad_(True)\n",
    "        self.b_h_backward = torch.empty(hidden_size).uniform_(-init_range, init_range).requires_grad_(True)\n",
    "        \n",
    "    def forward(self, input, h_0=None):\n",
    "        # input: [batch_size, seq_len, input_size]\n",
    "        self.input = input\n",
    "        self.h_0 = h_0\n",
    "        batch_size, self.seq_len, _ = input.size()\n",
    "\n",
    "        if h_0 is None:\n",
    "            self.h_0 = torch.zeros(1, batch_size, self.hidden_size)#.to(device)\n",
    "\n",
    "        # 順方向の処理\n",
    "        h = self.h_0 # [1, batch_size, hidden_size]\n",
    "        outputs = []\n",
    "        for i in range(self.seq_len):\n",
    "            # [batch_size, hidden_size]\n",
    "            h = torch.tanh(input[:, i]@self.W_in.T + self.b_in + h.squeeze(0)@self.W_h.T + self.b_h)\n",
    "            outputs.append(h.unsqueeze(1))# [batch_size, hidden_size] -> # [batch_size, 1, hidden_size]\n",
    "        self.output_seq = torch.cat(outputs, dim=1)\n",
    "\n",
    "        # 逆方向の処理(双方向の場合)\n",
    "        if self.bidirectional:\n",
    "            h_backward = self.h_0\n",
    "            outputs_backward = []\n",
    "            for i in reversed(range(self.seq_len)):\n",
    "                # [batch_size, hidden_size]\n",
    "                h_backward = torch.tanh(input[:, i]@self.W_in_backward.T + self.b_in_backward + h_backward.squeeze(0)@self.W_h_backward.T + self.b_h_backward)\n",
    "                outputs_backward.append(h_backward.unsqueeze(1))# [batch_size, hidden_size] -> # [batch_size, 1, hidden_size]\n",
    "            # 順方向と逆方向の隠れ状態を同じステップで結合するようにする\n",
    "            outputs_backward = outputs_backward[::-1 ]\n",
    "            self.output_seq_backward = torch.cat(outputs_backward, dim=1) \n",
    "            self.output_seq = torch.cat((self.output_seq, self.output_seq_backward), dim=2)\n",
    "            # biRNNでは，h_n[0]に順方向の最後(t=T)の隠れ状態を保持し，h_n[1]に逆方向の最後(つまりシーケンス上ではt=1)の隠れ状態とする\n",
    "            h_n = torch.cat((h.unsqueeze(0), h_backward.unsqueeze(0)), dim=0) # [batch_size, hidden_size] -> [2, batch_size, hidden_size]        \n",
    "        else:\n",
    "            h_n = h.unsqueeze(0)\n",
    "\n",
    "        return self.output_seq, h_n"
   ]
  },
  {
   "cell_type": "code",
   "execution_count": 2,
   "id": "0e927bf8-33bb-4f3f-8d4c-d28b2fd9b7df",
   "metadata": {},
   "outputs": [],
   "source": [
    "import torch\n",
    "# BiRNNのテスト\n",
    "input_size = 10\n",
    "hidden_size = 3\n",
    "batch_size = 8\n",
    "seq_len = 5\n",
    "\n",
    "# サンプルのTensor\n",
    "input_tensor = torch.randn(batch_size, seq_len, input_size)\n",
    "birnn = myRNN(input_size, hidden_size, bidirectional=True)\n",
    "output_seq, h_n = birnn.forward(input_tensor)"
   ]
  },
  {
   "cell_type": "code",
   "execution_count": 3,
   "id": "599a7720-a908-4bb9-95a0-d2b30b983cd7",
   "metadata": {},
   "outputs": [
    {
     "data": {
      "text/plain": [
       "tensor(True)"
      ]
     },
     "execution_count": 3,
     "metadata": {},
     "output_type": "execute_result"
    }
   ],
   "source": [
    "# t=T\n",
    "(output_seq[:, -1, :hidden_size] == h_n[0]).all()"
   ]
  },
  {
   "cell_type": "code",
   "execution_count": 4,
   "id": "7ce448f5-e508-4cb1-84d9-edc848a48cae",
   "metadata": {},
   "outputs": [
    {
     "data": {
      "text/plain": [
       "tensor(True)"
      ]
     },
     "execution_count": 4,
     "metadata": {},
     "output_type": "execute_result"
    }
   ],
   "source": [
    "# t=1\n",
    "(output_seq[:, 0, hidden_size:] == h_n[1]).all()"
   ]
  },
  {
   "cell_type": "code",
   "execution_count": 5,
   "id": "e9314618-998c-47be-85c3-e22f89aae28d",
   "metadata": {},
   "outputs": [
    {
     "data": {
      "text/plain": [
       "torch.Size([2, 8, 3])"
      ]
     },
     "execution_count": 5,
     "metadata": {},
     "output_type": "execute_result"
    }
   ],
   "source": [
    "h_n.shape"
   ]
  },
  {
   "cell_type": "markdown",
   "id": "23578916-714b-4259-ab2d-1641872e91fa",
   "metadata": {},
   "source": [
    "### PytorchのBidirectional"
   ]
  },
  {
   "cell_type": "code",
   "execution_count": 6,
   "id": "151a8826-b121-49d8-8440-25ce2bd1fc95",
   "metadata": {},
   "outputs": [],
   "source": [
    "import torch.nn as nn\n",
    "class Model(nn.Module):\n",
    "    def __init__(self, input_size, hidden_size, output_size, rnn_type='LSTM', bidirectional=False):\n",
    "\n",
    "        super().__init__()\n",
    "        self.hidden_size = hidden_size\n",
    "        self.num_directions = 2 if bidirectional else 1\n",
    "        \n",
    "        if rnn_type == 'RNN':\n",
    "            self.rnn = nn.RNN(input_size, hidden_size, batch_first=True, bidirectional=bidirectional)\n",
    "        elif rnn_type == 'LSTM':\n",
    "            self.rnn = nn.LSTM(input_size, hidden_size, batch_first=True, bidirectional=bidirectional)\n",
    "        elif rnn_type == 'GRU':\n",
    "            self.rnn = nn.GRU(input_size, hidden_size, batch_first=True, bidirectional=bidirectional)\n",
    "        # elif rnn_type == 'UGRNN':\n",
    "        #     self.rnn = UGRNN(input_size, hidden_size, batch_first=True)\n",
    "        else:\n",
    "            raise ValueError('Unsupported RNN type. Choose from [\"LSTM\", \"RNN\", \"GRU\", \"UGRNN\"]')\n",
    "            \n",
    "        self.fc = nn.Linear(hidden_size*self.num_directions, output_size)\n",
    "\n",
    "    def forward(self, x):\n",
    "        output_seq, _ = self.rnn(x)\n",
    "        # output_seq: [batch_size, seq_len, hidden_size]\n",
    "        output_seq = output_seq[:, -1, :]\n",
    "        out = self.fc(output_seq)\n",
    "        return out"
   ]
  },
  {
   "cell_type": "code",
   "execution_count": 7,
   "id": "1a8371ab-abf3-43be-a262-cb29f28471dd",
   "metadata": {},
   "outputs": [],
   "source": [
    "rnn = nn.RNN(input_size, hidden_size, bidirectional=True)\n",
    "output_seq, hn = rnn(input_tensor)"
   ]
  },
  {
   "cell_type": "code",
   "execution_count": 8,
   "id": "271d31dd-44f8-439a-9948-b98e2d4e18c5",
   "metadata": {},
   "outputs": [
    {
     "data": {
      "text/plain": [
       "torch.Size([8, 5, 6])"
      ]
     },
     "execution_count": 8,
     "metadata": {},
     "output_type": "execute_result"
    }
   ],
   "source": [
    "output_seq.shape"
   ]
  },
  {
   "cell_type": "code",
   "execution_count": 9,
   "id": "52aa87fe-9c51-4d2e-bde9-27b0fca09f6c",
   "metadata": {},
   "outputs": [],
   "source": [
    "output_size = 3\n",
    "model = Model(input_size, hidden_size, output_size, rnn_type='LSTM', bidirectional=True)\n",
    "out = model(input_tensor)"
   ]
  },
  {
   "cell_type": "code",
   "execution_count": 10,
   "id": "fbef62e4-2e18-4b78-b32e-5c2a0a324f9d",
   "metadata": {},
   "outputs": [
    {
     "data": {
      "text/plain": [
       "torch.Size([8, 3])"
      ]
     },
     "execution_count": 10,
     "metadata": {},
     "output_type": "execute_result"
    }
   ],
   "source": [
    "out.shape"
   ]
  },
  {
   "cell_type": "code",
   "execution_count": 11,
   "id": "d6b9b835-7c3f-44ec-b1a3-cd44394e85ee",
   "metadata": {},
   "outputs": [
    {
     "data": {
      "text/plain": [
       "2"
      ]
     },
     "execution_count": 11,
     "metadata": {},
     "output_type": "execute_result"
    }
   ],
   "source": [
    "model.num_directions"
   ]
  },
  {
   "cell_type": "markdown",
   "id": "fb312dcc-6cb0-4f12-83b2-90269a205389",
   "metadata": {},
   "source": [
    "### Deep RNN"
   ]
  },
  {
   "cell_type": "code",
   "execution_count": 12,
   "id": "2ac76448-f6f3-4563-8d4e-ce142b35d3a1",
   "metadata": {},
   "outputs": [
    {
     "name": "stdout",
     "output_type": "stream",
     "text": [
      "Num Layers: 1\n",
      "Output Shape :torch.Size([8, 5, 6])\n",
      "Last Hidden State Shape :torch.Size([2, 5, 3])\n",
      "Num Layers: 2\n",
      "Output Shape :torch.Size([8, 5, 6])\n",
      "Last Hidden State Shape :torch.Size([4, 5, 3])\n",
      "Num Layers: 3\n",
      "Output Shape :torch.Size([8, 5, 6])\n",
      "Last Hidden State Shape :torch.Size([6, 5, 3])\n"
     ]
    }
   ],
   "source": [
    "num_layers_list = [1, 2, 3]\n",
    "\n",
    "for num_layers in num_layers_list:\n",
    "    rnn = nn.RNN(input_size, hidden_size, num_layers=num_layers, bidirectional=True)\n",
    "    output_seq, h_n = rnn(input_tensor)\n",
    "\n",
    "    print(f\"Num Layers: {num_layers}\")\n",
    "    print(f\"Output Shape :{output_seq.shape}\")\n",
    "    print(f\"Last Hidden State Shape :{h_n.shape}\")"
   ]
  },
  {
   "cell_type": "code",
   "execution_count": 13,
   "id": "df19e16b-9f94-4b6b-a052-1f89b6d9e368",
   "metadata": {},
   "outputs": [],
   "source": [
    "class Model(nn.Module):\n",
    "    def __init__(self, input_size, hidden_size, output_size, num_layers=1, rnn_type='LSTM', bidirectional=False):\n",
    "\n",
    "        super().__init__()\n",
    "        self.hidden_size = hidden_size\n",
    "        self.num_directions = 2 if bidirectional else 1\n",
    "        \n",
    "        if rnn_type == 'RNN':\n",
    "            self.rnn = nn.RNN(input_size, hidden_size, num_layers=num_layers, batch_first=True, bidirectional=bidirectional)\n",
    "        elif rnn_type == 'LSTM':\n",
    "            self.rnn = nn.LSTM(input_size, hidden_size, num_layers=num_layers, batch_first=True, bidirectional=bidirectional)\n",
    "        elif rnn_type == 'GRU':\n",
    "            self.rnn = nn.GRU(input_size, hidden_size, num_layers=num_layers, batch_first=True, bidirectional=bidirectional)\n",
    "        # elif rnn_type == 'UGRNN':\n",
    "        #     self.rnn = UGRNN(input_size, hidden_size, batch_first=True)\n",
    "        else:\n",
    "            raise ValueError('Unsupported RNN type. Choose from [\"LSTM\", \"RNN\", \"GRU\", \"UGRNN\"]')\n",
    "            \n",
    "        self.fc = nn.Linear(hidden_size*self.num_directions, output_size)\n",
    "\n",
    "    def forward(self, x):\n",
    "        output_seq, _ = self.rnn(x)\n",
    "        # output_seq: [batch_size, seq_len, hidden_size]\n",
    "        output_seq = output_seq[:, -1, :]\n",
    "        out = self.fc(output_seq)\n",
    "        return out"
   ]
  },
  {
   "cell_type": "code",
   "execution_count": 14,
   "id": "435a08e6-654c-47b5-8381-33fc043720f2",
   "metadata": {},
   "outputs": [
    {
     "name": "stdout",
     "output_type": "stream",
     "text": [
      "torch.Size([8, 3])\n"
     ]
    }
   ],
   "source": [
    "model = Model(input_size, hidden_size, output_size, num_layers=2, rnn_type='LSTM', bidirectional=True)\n",
    "out = model(input_tensor)\n",
    "print(out.shape)"
   ]
  },
  {
   "cell_type": "code",
   "execution_count": null,
   "id": "29690fd7-cf08-44c2-a770-7a8099fc6d48",
   "metadata": {},
   "outputs": [],
   "source": []
  }
 ],
 "metadata": {
  "kernelspec": {
   "display_name": "Python 3 (ipykernel)",
   "language": "python",
   "name": "python3"
  },
  "language_info": {
   "codemirror_mode": {
    "name": "ipython",
    "version": 3
   },
   "file_extension": ".py",
   "mimetype": "text/x-python",
   "name": "python",
   "nbconvert_exporter": "python",
   "pygments_lexer": "ipython3",
   "version": "3.8.18"
  }
 },
 "nbformat": 4,
 "nbformat_minor": 5
}
