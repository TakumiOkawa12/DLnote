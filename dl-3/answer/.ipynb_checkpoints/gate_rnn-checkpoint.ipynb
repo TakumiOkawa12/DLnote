{
 "cells": [
  {
   "cell_type": "markdown",
   "id": "bc3b87e5-8367-410f-8aa9-bccaf4b109e9",
   "metadata": {},
   "source": [
    "## ゲート付きRNN"
   ]
  },
  {
   "cell_type": "markdown",
   "id": "34aff160-9306-406b-9e90-d4015bcc344b",
   "metadata": {},
   "source": [
    "### UGRNN"
   ]
  },
  {
   "cell_type": "code",
   "execution_count": 1,
   "id": "0d4a2509-69f5-4d24-9ab3-0d69d7a1625c",
   "metadata": {},
   "outputs": [],
   "source": [
    "import torch.nn as nn\n",
    "class UGRNN(nn.Module):\n",
    "    def __init__(self, input_size, hidden_size):\n",
    "        super().__init__()\n",
    "        self.hidden_size = hidden_size\n",
    "\n",
    "        # 線形変換\n",
    "        self.transform = nn.Linear(input_size+hidden_size, hidden_size)\n",
    "        self.update_gate = nn.Linear(input_size+hidden_size, hidden_size)\n",
    "\n",
    "        # 活性化関数\n",
    "        self.tanh = nn.Tanh()\n",
    "        self.sigmoid = nn.Sigmoid()\n",
    "        \n",
    "        \n",
    "    def forward(self, input, h_0=None):\n",
    "        # input: [batch_size, seq_len, input_size]\n",
    "        batch_size, self.seq_len, _ = input.size()\n",
    "\n",
    "        if h_0 is None:\n",
    "            h_0 = torch.zeros(1, batch_size, self.hidden_size)#.to(device)\n",
    "\n",
    "        h = h_0.squeeze(0) # [1, batch_size, hidden_size] -> [batch_size, hidden_size]\n",
    "        outputs = []\n",
    "        for i in range(self.seq_len):\n",
    "            # [batch_size, hidden_size]\n",
    "            # h = torch.tanh(input[:, i]@self.W_in.T + self.b_in + h.squeeze(0)@self.W_h.T + self.b_h)\n",
    "            combined = torch.cat((input[:, i, :], h), dim=1)\n",
    "            hidden_candidate = self.tanh(self.transform(combined))\n",
    "            update_gate = self.sigmoid(self.update_gate(combined))\n",
    "            h = update_gate * hidden_candidate + (1-update_gate) * h\n",
    "            outputs.append(h.unsqueeze(1))# [batch_size, hidden_size] -> # [batch_size, 1, hidden_size]\n",
    "        self.output_seq = torch.cat(outputs, dim=1)\n",
    "        h_n = h.unsqueeze(0) # [batch_size, hidden_size] -> [1, batch_size, hidden_size]\n",
    "\n",
    "        return self.output_seq, h_n"
   ]
  },
  {
   "cell_type": "code",
   "execution_count": 2,
   "id": "6d0a0539-641a-4197-a9f3-d07475cef64a",
   "metadata": {},
   "outputs": [],
   "source": [
    "import torch\n",
    "# UGRNNのテスト\n",
    "input_size = 10\n",
    "hidden_size = 3\n",
    "batch_size = 8\n",
    "seq_len = 5\n",
    "\n",
    "# サンプルのTensor\n",
    "input_tensor = torch.randn(batch_size, seq_len, input_size)\n",
    "ugrnn = UGRNN(input_size, hidden_size)\n",
    "output_seq, h_n = ugrnn(input_tensor)"
   ]
  },
  {
   "cell_type": "code",
   "execution_count": 3,
   "id": "ed39ea95-9c11-4602-89b8-11b8737bf663",
   "metadata": {},
   "outputs": [
    {
     "data": {
      "text/plain": [
       "torch.Size([8, 5, 3])"
      ]
     },
     "execution_count": 3,
     "metadata": {},
     "output_type": "execute_result"
    }
   ],
   "source": [
    "output_seq.shape"
   ]
  },
  {
   "cell_type": "code",
   "execution_count": 4,
   "id": "343d97f5-941d-457f-98d1-830b7a530a86",
   "metadata": {},
   "outputs": [
    {
     "data": {
      "text/plain": [
       "torch.Size([1, 8, 3])"
      ]
     },
     "execution_count": 4,
     "metadata": {},
     "output_type": "execute_result"
    }
   ],
   "source": [
    "h_n.shape"
   ]
  },
  {
   "cell_type": "markdown",
   "id": "231a5a16-e0dd-49e7-9176-3ef2fc7c5246",
   "metadata": {},
   "source": [
    "### LSTM"
   ]
  },
  {
   "cell_type": "code",
   "execution_count": 5,
   "id": "e0a8c999-8911-497f-93d3-c98f6c383d85",
   "metadata": {},
   "outputs": [],
   "source": [
    "class myLSTM(nn.Module):\n",
    "    def __init__(self, input_size, hidden_size):\n",
    "        super().__init__()\n",
    "        self.hidden_size = hidden_size\n",
    "\n",
    "        # ゲート\n",
    "        self.update_gate = nn.Linear(input_size+hidden_size, hidden_size)\n",
    "        self.forget_gate = nn.Linear(input_size+hidden_size, hidden_size)\n",
    "        self.output_gate = nn.Linear(input_size+hidden_size, hidden_size)\n",
    "\n",
    "        # セル状態の更新に必要な全結合層\n",
    "        self.cell_candidate = nn.Linear(input_size+hidden_size, hidden_size)\n",
    "\n",
    "        # 活性化関数\n",
    "        self.tanh = nn.Tanh()\n",
    "        self.sigmoid = nn.Sigmoid()\n",
    "        \n",
    "        \n",
    "    def forward(self, input, h_0=None, c_0=None):\n",
    "        # input: [batch_size, seq_len, input_size]\n",
    "        batch_size, self.seq_len, _ = input.size()\n",
    "\n",
    "        if h_0 is None:\n",
    "            h_0 = torch.zeros(1, batch_size, self.hidden_size)#.to(device)\n",
    "        if c_0 is None:\n",
    "            c_0 = torch.zeros(1, batch_size, self.hidden_size)#.to(device)\n",
    "\n",
    "        h = h_0.squeeze(0) # [1, batch_size, hidden_size] -> [batch_size, hidden_size]\n",
    "        c = c_0.squeeze(0) # [1, batch_size, hidden_size] -> [batch_size, hidden_size]\n",
    "        outputs = []\n",
    "        for i in range(self.seq_len):\n",
    "            # [batch_size, hidden_size]\n",
    "            # h = torch.tanh(input[:, i]@self.W_in.T + self.b_in + h.squeeze(0)@self.W_h.T + self.b_h)\n",
    "            combined = torch.cat((input[:, i, :], h), dim=1)\n",
    "            cell_candidate = self.tanh(self.cell_candidate(combined))\n",
    "\n",
    "            update_gate = self.sigmoid(self.update_gate(combined))\n",
    "            forget_gate = self.sigmoid(self.forget_gate(combined))\n",
    "            output_gate = self.sigmoid(self.output_gate(combined))\n",
    "            \n",
    "            c = update_gate * cell_candidate + forget_gate * c\n",
    "            h = output_gate * self.tanh(c)\n",
    "            \n",
    "            outputs.append(h.unsqueeze(1))# [batch_size, hidden_size] -> # [batch_size, 1, hidden_size]\n",
    "        self.output_seq = torch.cat(outputs, dim=1)\n",
    "        h_n = h.unsqueeze(0) # [batch_size, hidden_size] -> [1, batch_size, hidden_size]\n",
    "        c_n = c.unsqueeze(0) # [batch_size, hidden_size] -> [1, batch_size, hidden_size]\n",
    "\n",
    "        return self.output_seq, (h_n, c_n)"
   ]
  },
  {
   "cell_type": "code",
   "execution_count": 6,
   "id": "9c075c06-657b-4ba2-b4a3-fd3e20e2ff96",
   "metadata": {},
   "outputs": [],
   "source": [
    "# テスト\n",
    "lstm = myLSTM(input_size, hidden_size)\n",
    "output_seq, (h_n, c_n) = lstm(input_tensor)"
   ]
  },
  {
   "cell_type": "code",
   "execution_count": 7,
   "id": "74c2d266-9146-4226-8faf-fb2d0e8ae677",
   "metadata": {},
   "outputs": [
    {
     "data": {
      "text/plain": [
       "torch.Size([8, 5, 3])"
      ]
     },
     "execution_count": 7,
     "metadata": {},
     "output_type": "execute_result"
    }
   ],
   "source": [
    "output_seq.shape"
   ]
  },
  {
   "cell_type": "code",
   "execution_count": 8,
   "id": "851e72d8-d21e-47ec-82fa-00d716035594",
   "metadata": {},
   "outputs": [
    {
     "data": {
      "text/plain": [
       "torch.Size([1, 8, 3])"
      ]
     },
     "execution_count": 8,
     "metadata": {},
     "output_type": "execute_result"
    }
   ],
   "source": [
    "h_n.shape"
   ]
  },
  {
   "cell_type": "code",
   "execution_count": 9,
   "id": "a1ca30fd-0aa5-4dbf-8b2d-f59497914953",
   "metadata": {},
   "outputs": [
    {
     "data": {
      "text/plain": [
       "torch.Size([1, 8, 3])"
      ]
     },
     "execution_count": 9,
     "metadata": {},
     "output_type": "execute_result"
    }
   ],
   "source": [
    "c_n.shape"
   ]
  },
  {
   "cell_type": "markdown",
   "id": "732151c6-460c-4995-9830-cf36134dd662",
   "metadata": {},
   "source": [
    "### PytorchのGRUとLSTMを使用する"
   ]
  },
  {
   "cell_type": "code",
   "execution_count": 10,
   "id": "8101e3c7-1a46-4999-bc63-e6490c3950d5",
   "metadata": {},
   "outputs": [],
   "source": [
    "# LSTM\n",
    "lstm = nn.LSTM(input_size, hidden_size, batch_first=True)\n",
    "output_seq, (h_n, c_n) = lstm(input_tensor)"
   ]
  },
  {
   "cell_type": "code",
   "execution_count": 11,
   "id": "1cde901f-df06-431d-b305-3bd498d4894c",
   "metadata": {},
   "outputs": [
    {
     "data": {
      "text/plain": [
       "torch.Size([8, 5, 3])"
      ]
     },
     "execution_count": 11,
     "metadata": {},
     "output_type": "execute_result"
    }
   ],
   "source": [
    "output_seq.shape"
   ]
  },
  {
   "cell_type": "code",
   "execution_count": 12,
   "id": "bc4e3b87-f38b-4788-878e-e10bad83f05c",
   "metadata": {},
   "outputs": [
    {
     "name": "stdout",
     "output_type": "stream",
     "text": [
      "torch.Size([1, 8, 3]) torch.Size([1, 8, 3])\n"
     ]
    }
   ],
   "source": [
    "print(h_n.shape, c_n.shape)"
   ]
  },
  {
   "cell_type": "code",
   "execution_count": 13,
   "id": "d72ac6c5-b4ca-4dfa-b2e0-e105814abcb4",
   "metadata": {},
   "outputs": [],
   "source": [
    "# GRU\n",
    "gru = nn.GRU(input_size, hidden_size, batch_first=True)\n",
    "output_seq, h_n = gru(input_tensor)"
   ]
  },
  {
   "cell_type": "code",
   "execution_count": 14,
   "id": "5be86dda-4c6e-4966-b987-a35c422eb1b5",
   "metadata": {},
   "outputs": [
    {
     "name": "stdout",
     "output_type": "stream",
     "text": [
      "torch.Size([8, 5, 3]) torch.Size([1, 8, 3])\n"
     ]
    }
   ],
   "source": [
    "print(output_seq.shape, h_n.shape)"
   ]
  },
  {
   "cell_type": "code",
   "execution_count": 15,
   "id": "1c992941-729c-451d-bac4-2c4dafc25974",
   "metadata": {},
   "outputs": [],
   "source": [
    "class Model(nn.Module):\n",
    "    def __init__(self, input_size, hidden_size, output_size, rnn_type='LSTM'):\n",
    "\n",
    "        super().__init__()\n",
    "        \n",
    "        if rnn_type == 'RNN':\n",
    "            self.rnn = nn.RNN(input_size, hidden_size, batch_first=True)\n",
    "        elif rnn_type == 'LSTM':\n",
    "            self.rnn = nn.LSTM(input_size, hidden_size, batch_first=True)\n",
    "        elif rnn_type == 'GRU':\n",
    "            self.rnn = nn.GRU(input_size, hidden_size, batch_first=True)\n",
    "        elif rnn_type == 'UGRNN':\n",
    "            self.rnn = UGRNN(input_size, hidden_size)\n",
    "        else:\n",
    "            raise ValueError('Unsupported RNN type. Choose from [\"LSTM\", \"RNN\", \"GRU\", \"UGRNN\"]')\n",
    "            \n",
    "        self.fc = nn.Linear(hidden_size, output_size)\n",
    "\n",
    "    def forward(self, x):\n",
    "        output_seq, _ = self.rnn(x)\n",
    "        # output_seq: [batch_size, seq_len, hidden_size]\n",
    "        # h_n: [1, batch_size, hidden_size]\n",
    "        out = self.fc(output_seq[:, -1, :])\n",
    "        return out"
   ]
  },
  {
   "cell_type": "code",
   "execution_count": 16,
   "id": "49d222e0-1c2c-4f04-8a78-8fc1de3f429c",
   "metadata": {},
   "outputs": [
    {
     "name": "stdout",
     "output_type": "stream",
     "text": [
      "torch.Size([8, 3])\n"
     ]
    }
   ],
   "source": [
    "output_size = 3\n",
    "model = Model(input_size, hidden_size, output_size, rnn_type='GRU')\n",
    "output = model(input_tensor)\n",
    "print(output.shape)"
   ]
  }
 ],
 "metadata": {
  "kernelspec": {
   "display_name": "Python 3 (ipykernel)",
   "language": "python",
   "name": "python3"
  },
  "language_info": {
   "codemirror_mode": {
    "name": "ipython",
    "version": 3
   },
   "file_extension": ".py",
   "mimetype": "text/x-python",
   "name": "python",
   "nbconvert_exporter": "python",
   "pygments_lexer": "ipython3",
   "version": "3.8.18"
  }
 },
 "nbformat": 4,
 "nbformat_minor": 5
}
