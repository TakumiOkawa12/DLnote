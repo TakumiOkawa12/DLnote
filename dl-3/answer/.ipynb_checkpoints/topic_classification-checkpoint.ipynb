{
 "cells": [
  {
   "cell_type": "markdown",
   "metadata": {
    "id": "Qe2QJDFNfeck"
   },
   "source": [
    "## トピック分類"
   ]
  },
  {
   "cell_type": "markdown",
   "metadata": {
    "id": "01c0AUCvfjXH"
   },
   "source": [
    "#### データ準備"
   ]
  },
  {
   "cell_type": "code",
   "execution_count": null,
   "metadata": {
    "colab": {
     "base_uri": "https://localhost:8080/"
    },
    "id": "Bhv3KTfefqL1",
    "outputId": "70c11d03-1e99-44f6-fcae-4dcec0aed794"
   },
   "outputs": [
    {
     "name": "stdout",
     "output_type": "stream",
     "text": [
      "Collecting portalocker\n",
      "  Downloading portalocker-2.8.2-py3-none-any.whl (17 kB)\n",
      "Installing collected packages: portalocker\n",
      "Successfully installed portalocker-2.8.2\n"
     ]
    }
   ],
   "source": [
    "!pip install portalocker"
   ]
  },
  {
   "cell_type": "code",
   "execution_count": null,
   "metadata": {
    "id": "xyc_KZSkfupW"
   },
   "outputs": [],
   "source": [
    "from torchtext import datasets\n",
    "from sklearn.model_selection import train_test_split\n",
    "data = datasets.AG_NEWS(split='train')\n",
    "data = list(data)\n",
    "train_data, remaining = train_test_split(data, train_size=0.1, random_state=0)\n",
    "_, val_data = train_test_split(remaining, test_size=0.1, random_state=0)"
   ]
  },
  {
   "cell_type": "code",
   "execution_count": null,
   "metadata": {
    "colab": {
     "base_uri": "https://localhost:8080/"
    },
    "id": "z365jsVogUEb",
    "outputId": "662a2f47-f0e6-4b6b-e2c2-86e106453c7f"
   },
   "outputs": [
    {
     "data": {
      "text/plain": [
       "[(3,\n",
       "  \"Wall St. Bears Claw Back Into the Black (Reuters) Reuters - Short-sellers, Wall Street's dwindling\\\\band of ultra-cynics, are seeing green again.\"),\n",
       " (3,\n",
       "  'Carlyle Looks Toward Commercial Aerospace (Reuters) Reuters - Private investment firm Carlyle Group,\\\\which has a reputation for making well-timed and occasionally\\\\controversial plays in the defense industry, has quietly placed\\\\its bets on another part of the market.'),\n",
       " (3,\n",
       "  \"Oil and Economy Cloud Stocks' Outlook (Reuters) Reuters - Soaring crude prices plus worries\\\\about the economy and the outlook for earnings are expected to\\\\hang over the stock market next week during the depth of the\\\\summer doldrums.\")]"
      ]
     },
     "execution_count": 2,
     "metadata": {},
     "output_type": "execute_result"
    }
   ],
   "source": [
    "# 1: \"World\", 2:\"Sports\", 3:\"Business\", 4:\"Sci/Tech\"\n",
    "list(data)[:3]"
   ]
  },
  {
   "cell_type": "code",
   "execution_count": null,
   "metadata": {
    "colab": {
     "base_uri": "https://localhost:8080/"
    },
    "id": "qoFBOW2mgcfK",
    "outputId": "cc761365-e2c3-4b51-e023-e2075aebb4e4"
   },
   "outputs": [
    {
     "data": {
      "text/plain": [
       "3    30000\n",
       "4    30000\n",
       "2    30000\n",
       "1    30000\n",
       "dtype: int64"
      ]
     },
     "execution_count": 3,
     "metadata": {},
     "output_type": "execute_result"
    }
   ],
   "source": [
    "import pandas as pd\n",
    "labels = [label for label, text in data]\n",
    "labels = pd.Series(labels)\n",
    "labels.value_counts()"
   ]
  },
  {
   "cell_type": "code",
   "execution_count": null,
   "metadata": {
    "colab": {
     "base_uri": "https://localhost:8080/",
     "height": 447
    },
    "id": "xya2j4bdhpbK",
    "outputId": "43f90f24-c2df-483f-e9ad-92df9c7e281f"
   },
   "outputs": [
    {
     "data": {
      "text/plain": [
       "<Axes: ylabel='Count'>"
      ]
     },
     "execution_count": 4,
     "metadata": {},
     "output_type": "execute_result"
    },
    {
     "data": {
      "image/png": "[encoded data removed]",
      "text/plain": [
       "<Figure size 640x480 with 1 Axes>"
      ]
     },
     "metadata": {},
     "output_type": "display_data"
    }
   ],
   "source": [
    "import seaborn as sns\n",
    "text_lens = pd.Series([len(text.split()) for _, text in data])\n",
    "sns.histplot(text_lens)"
   ]
  },
  {
   "cell_type": "markdown",
   "metadata": {
    "id": "0q7zcH9kqhk_"
   },
   "source": [
    "#### データ準備"
   ]
  },
  {
   "cell_type": "code",
   "execution_count": null,
   "metadata": {
    "id": "Oi95WzrGuKVp"
   },
   "outputs": [],
   "source": [
    "from torchtext.data.utils import get_tokenizer\n",
    "tokenizer = get_tokenizer(\"basic_english\")"
   ]
  },
  {
   "cell_type": "code",
   "execution_count": null,
   "metadata": {
    "colab": {
     "base_uri": "https://localhost:8080/"
    },
    "id": "3TafFERCuaRv",
    "outputId": "b8b5ea9a-7d88-462c-a575-e0c5501fae43"
   },
   "outputs": [
    {
     "data": {
      "text/plain": [
       "['i', 'am', 'a', 'student']"
      ]
     },
     "execution_count": 6,
     "metadata": {},
     "output_type": "execute_result"
    }
   ],
   "source": [
    "tokenizer(\"I am a student\")"
   ]
  },
  {
   "cell_type": "markdown",
   "metadata": {
    "id": "I1mGUfIOuze6"
   },
   "source": [
    "#### イテレータ作成"
   ]
  },
  {
   "cell_type": "code",
   "execution_count": null,
   "metadata": {
    "id": "WFn-dcVvu1ed"
   },
   "outputs": [],
   "source": [
    "def yield_tokens(data_iter):\n",
    "    for _, text in data_iter:\n",
    "        yield tokenizer(text)"
   ]
  },
  {
   "cell_type": "code",
   "execution_count": null,
   "metadata": {
    "id": "ACkQbEiNvLpx"
   },
   "outputs": [],
   "source": [
    "# next(yiled_tokens(data))"
   ]
  },
  {
   "cell_type": "code",
   "execution_count": null,
   "metadata": {
    "id": "hZdOLFrzvM6l"
   },
   "outputs": [],
   "source": []
  },
  {
   "cell_type": "markdown",
   "metadata": {
    "id": "wanRaAkTuclZ"
   },
   "source": [
    "#### 辞書作成"
   ]
  },
  {
   "cell_type": "code",
   "execution_count": null,
   "metadata": {
    "id": "P7LtGRREulFT"
   },
   "outputs": [],
   "source": [
    "from torchtext.vocab import build_vocab_from_iterator\n",
    "vocab = build_vocab_from_iterator(yield_tokens(data), specials=['<unk>'])\n",
    "vocab.set_default_index(vocab[\"<unk>\"])"
   ]
  },
  {
   "cell_type": "code",
   "execution_count": null,
   "metadata": {
    "colab": {
     "base_uri": "https://localhost:8080/"
    },
    "id": "qnESei6Yup0M",
    "outputId": "2f400074-950d-4291-998f-b6f03aefb02e"
   },
   "outputs": [
    {
     "data": {
      "text/plain": [
       "12544"
      ]
     },
     "execution_count": 10,
     "metadata": {},
     "output_type": "execute_result"
    }
   ],
   "source": [
    "vocab[\"hello\"]"
   ]
  },
  {
   "cell_type": "code",
   "execution_count": null,
   "metadata": {
    "colab": {
     "base_uri": "https://localhost:8080/"
    },
    "id": "O3O-GMhKviEy",
    "outputId": "57da709d-8756-46f8-aea7-73795773cc17"
   },
   "outputs": [
    {
     "data": {
      "text/plain": [
       "0"
      ]
     },
     "execution_count": 11,
     "metadata": {},
     "output_type": "execute_result"
    }
   ],
   "source": [
    "# 存在しない単語のindex\n",
    "vocab[\"xxxx\"]"
   ]
  },
  {
   "cell_type": "code",
   "execution_count": null,
   "metadata": {
    "colab": {
     "base_uri": "https://localhost:8080/",
     "height": 35
    },
    "id": "Hm25QA-mvmNM",
    "outputId": "1b10387c-4a1b-403d-c305-511207d0a264"
   },
   "outputs": [
    {
     "data": {
      "application/vnd.google.colaboratory.intrinsic+json": {
       "type": "string"
      },
      "text/plain": [
       "'hello'"
      ]
     },
     "execution_count": 12,
     "metadata": {},
     "output_type": "execute_result"
    }
   ],
   "source": [
    "# indexからの逆引き\n",
    "vocab.get_itos()[12544]"
   ]
  },
  {
   "cell_type": "markdown",
   "metadata": {
    "id": "QjlsgRJEv71Q"
   },
   "source": [
    "#### DataLoader作成"
   ]
  },
  {
   "cell_type": "code",
   "execution_count": null,
   "metadata": {
    "colab": {
     "base_uri": "https://localhost:8080/"
    },
    "id": "kGRZWoCb1Vmp",
    "outputId": "c3e1322b-2427-4afd-fb16-16a1d5b04d3e"
   },
   "outputs": [
    {
     "data": {
      "text/plain": [
       "[(2,\n",
       "  'SECOND LOOKSnapshots from the latest in college football The boys of Pi Kappa Phi better look out. Mississippi State pulls off the SEC stunner of this Millennium, beating Ron Zook and Florida 38-31.'),\n",
       " (1,\n",
       "  'Summit of French-Speaking Countries Condemns Ivory Coast Leaders at a summit in Burkina Faso of mostly French-speaking nations have condemned authorities in divided Ivory Coast for resuming hostilities in the rebel-held north earlier this month.'),\n",
       " (4,\n",
       "  'Lost faith in Internet Explorer? Try another browser Microsoft has won the browser wars, but a battle is raging for the runner-up spot and one of the contenders has recently been refreshed.')]"
      ]
     },
     "execution_count": 13,
     "metadata": {},
     "output_type": "execute_result"
    }
   ],
   "source": [
    "train_data[:3]"
   ]
  },
  {
   "cell_type": "code",
   "execution_count": null,
   "metadata": {
    "id": "YBBmvye41jjS"
   },
   "outputs": [],
   "source": [
    "# batch: [(label, text), (label, text),...,]\n",
    "import torch\n",
    "from torch.nn.utils.rnn import pad_sequence\n",
    "def collate_batch(batch):\n",
    "    label_list = []\n",
    "    text_list = []\n",
    "    for label, text in batch:\n",
    "        label_list.append(label - 1)\n",
    "        text_list.append(torch.tensor([vocab[token] for token in tokenizer(text)])) # [\"I am a student\"] - >[\"I\", \"am\", \"a\", \"student\"] -> (ex.)[4, 1, 6, 7]\n",
    "\n",
    "    # padding\n",
    "    label_list = torch.tensor(label_list)\n",
    "    text_list = pad_sequence(text_list, batch_first=True, padding_value=0)\n",
    "    return label_list, text_list"
   ]
  },
  {
   "cell_type": "code",
   "execution_count": null,
   "metadata": {
    "id": "M9yJnaG71QPJ"
   },
   "outputs": [],
   "source": [
    "from torch.utils.data import DataLoader\n",
    "train_loader = DataLoader(train_data, batch_size=8, collate_fn=collate_batch, shuffle=True)\n",
    "val_loader = DataLoader(val_data, batch_size=8, collate_fn=collate_batch, shuffle=False)"
   ]
  },
  {
   "cell_type": "code",
   "execution_count": null,
   "metadata": {
    "id": "ZyrGQffL5gbc"
   },
   "outputs": [],
   "source": [
    "label, text = next(iter(train_loader))"
   ]
  },
  {
   "cell_type": "code",
   "execution_count": null,
   "metadata": {
    "colab": {
     "base_uri": "https://localhost:8080/"
    },
    "id": "JfQ8xe6s5qQw",
    "outputId": "e2a3d055-4987-4c29-eb1b-740f7bae100b"
   },
   "outputs": [
    {
     "data": {
      "text/plain": [
       "tensor([2, 2, 3, 0, 3, 1, 2, 2])"
      ]
     },
     "execution_count": 17,
     "metadata": {},
     "output_type": "execute_result"
    }
   ],
   "source": [
    "label"
   ]
  },
  {
   "cell_type": "markdown",
   "metadata": {
    "id": "jHtnRHjI5snN"
   },
   "source": [
    "### word embedding matrixの作成"
   ]
  },
  {
   "cell_type": "code",
   "execution_count": null,
   "metadata": {
    "colab": {
     "base_uri": "https://localhost:8080/"
    },
    "id": "Sin2CJic-bT7",
    "outputId": "0491c4e8-aebd-40b3-d796-25c3ca5d3bcd"
   },
   "outputs": [
    {
     "name": "stdout",
     "output_type": "stream",
     "text": [
      "Mounted at /content/drive\n"
     ]
    }
   ],
   "source": [
    "# gensimのword2vecを使用\n",
    "\n",
    "# google drive のマウント\n",
    "from google.colab import drive\n",
    "drive_path = '/content/drive'\n",
    "drive.mount(drive_path)\n",
    "\n",
    "from gensim.models import KeyedVectors\n",
    "word2vec = KeyedVectors.load_word2vec_format(f'{drive_path}/MyDrive/models/GoogleNews-vectors-negative300.bin', binary=True)"
   ]
  },
  {
   "cell_type": "code",
   "execution_count": null,
   "metadata": {
    "colab": {
     "base_uri": "https://localhost:8080/"
    },
    "id": "VzlKHJds-4jG",
    "outputId": "6778811e-67b1-4ec8-a037-3fec7f34c740"
   },
   "outputs": [
    {
     "name": "stderr",
     "output_type": "stream",
     "text": [
      "<ipython-input-19-4b40536924b1>:7: UserWarning: The given NumPy array is not writable, and PyTorch does not support non-writable tensors. This means writing to this tensor will result in undefined behavior. You may want to copy the array to protect its data or make it writable before converting it to a tensor. This type of warning will be suppressed for the rest of this program. (Triggered internally at ../torch/csrc/utils/tensor_numpy.cpp:206.)\n",
      "  embedding_matrix[i] = torch.from_numpy(word2vec[word])\n"
     ]
    }
   ],
   "source": [
    "import numpy as np\n",
    "# unkownには，word2vecの全単語の平均のベクトルを適用する\n",
    "unk_vector = torch.from_numpy(np.mean(word2vec.vectors, axis=0))\n",
    "embedding_matrix = torch.zeros((len(vocab), 300))\n",
    "for i, word in enumerate(vocab.get_itos()):\n",
    "    if word in word2vec:\n",
    "        embedding_matrix[i] = torch.from_numpy(word2vec[word])\n",
    "    else:\n",
    "        embedding_matrix[i] = unk_vector"
   ]
  },
  {
   "cell_type": "markdown",
   "metadata": {
    "id": "Sa7-Z4kG_80U"
   },
   "source": [
    "### モデル"
   ]
  },
  {
   "cell_type": "code",
   "execution_count": null,
   "metadata": {
    "id": "9hayAblIE8fo"
   },
   "outputs": [],
   "source": [
    "import torch.nn as nn\n",
    "class Model(nn.Module):\n",
    "    def __init__(self, vocab_size, embedding_dim, hidden_size, output_size, embedding_matrix=None, num_layers=1, rnn_type='LSTM', bidirectional=False):\n",
    "\n",
    "        super().__init__()\n",
    "        self.hidden_size = hidden_size\n",
    "        self.num_directions = 2 if bidirectional else 1\n",
    "\n",
    "        # embedding layer追加 (vocab_size x embedding_dim)\n",
    "        if embedding_matrix is not None:\n",
    "            self.embedding = nn.Embedding.from_pretrained(embedding_matrix, freeze=False) # embedding matrixで重みを初期化\n",
    "        else:\n",
    "            self.embedding = nn.Embedding(vocab_size, embedding_dim)\n",
    "        input_size = embedding_dim\n",
    "\n",
    "        if rnn_type == 'RNN':\n",
    "            self.rnn = nn.RNN(input_size, hidden_size, num_layers=num_layers, batch_first=True, bidirectional=bidirectional)\n",
    "        elif rnn_type == 'LSTM':\n",
    "            self.rnn = nn.LSTM(input_size, hidden_size, num_layers=num_layers, batch_first=True, bidirectional=bidirectional)\n",
    "        elif rnn_type == 'GRU':\n",
    "            self.rnn = nn.GRU(input_size, hidden_size, num_layers=num_layers, batch_first=True, bidirectional=bidirectional)\n",
    "        else:\n",
    "            raise ValueError('Unsupported RNN type. Choose from [\"LSTM\", \"RNN\", \"GRU\", \"UGRNN\"]')\n",
    "\n",
    "        self.fc = nn.Linear(hidden_size*self.num_directions, output_size)\n",
    "\n",
    "    def forward(self, x):\n",
    "        x = self.embedding(x)\n",
    "        output_seq, _ = self.rnn(x)\n",
    "        output_seq = output_seq[:, -1, :]\n",
    "        # output_seq: [batch_size, seq_len, hidden_size*num_directions]\n",
    "        out = self.fc(output_seq)\n",
    "        return out"
   ]
  },
  {
   "cell_type": "markdown",
   "metadata": {
    "id": "VPEuRthaGw-V"
   },
   "source": [
    "### 学習ループ"
   ]
  },
  {
   "cell_type": "code",
   "execution_count": null,
   "metadata": {
    "id": "gFw9izj_O_1Y"
   },
   "outputs": [],
   "source": [
    "# 学習ループ\n",
    "def train(model, train_loader, val_loader, optimizer, criterion, num_epochs):\n",
    "    device = torch.device(\"cuda\" if torch.cuda.is_available() else \"cpu\")\n",
    "    model.to(device)\n",
    "\n",
    "    for epoch in range(num_epochs):\n",
    "        model.train()\n",
    "        train_loss = 0\n",
    "        for i, (labels, sentences) in enumerate(train_loader):\n",
    "            sentences = sentences.to(device)\n",
    "            labels = labels.to(device)\n",
    "            optimizer.zero_grad()\n",
    "\n",
    "            outputs = model(sentences)\n",
    "            loss = criterion(outputs, labels)\n",
    "\n",
    "            loss.backward()\n",
    "\n",
    "            optimizer.step()\n",
    "            train_loss += loss.item()\n",
    "\n",
    "        avg_train_loss = train_loss / len(train_loader)\n",
    "        print(f\"Epoch {epoch+1}/{num_epochs}, Average Training Loss: {avg_train_loss:.4f}\")\n",
    "\n",
    "        # 検証データを使用して検証エラーを計算\n",
    "        model.eval()\n",
    "        val_loss = 0\n",
    "        total_samples = 0\n",
    "        total_correct = 0\n",
    "        for labels, sentences in val_loader:\n",
    "            sentences = sentences.to(device)\n",
    "            labels = labels.to(device)\n",
    "\n",
    "            outputs = model(sentences)\n",
    "            # loss計算\n",
    "            loss = criterion(outputs, labels)\n",
    "            val_loss += loss.item()\n",
    "\n",
    "            # accuracy計算\n",
    "            _, predicted = torch.max(outputs, dim=-1)\n",
    "            total_correct += (predicted == labels).sum().item()\n",
    "            total_samples += labels.numel()\n",
    "\n",
    "        avg_val_loss = val_loss / len(val_loader)\n",
    "        val_accuracy = total_correct / total_samples\n",
    "        print(f\"Val Loss: {avg_val_loss:.4f}, Val Accuracy: {val_accuracy:.4f}\")"
   ]
  },
  {
   "cell_type": "code",
   "execution_count": null,
   "metadata": {
    "id": "Zaoua7LTQhpf"
   },
   "outputs": [],
   "source": [
    "vocab_size = len(vocab)\n",
    "num_classes = 4\n",
    "embedding_dim = 300\n",
    "hidden_size = 64\n",
    "output_size = num_classes\n",
    "learning_rate = 0.001\n",
    "num_epochs = 3\n",
    "num_layers = 1\n",
    "\n",
    "# モデル作成\n",
    "model = Model(vocab_size, embedding_dim, hidden_size, output_size, embedding_matrix=embedding_matrix, num_layers=num_layers, rnn_type='LSTM', bidirectional=True)\n",
    "\n",
    "# 損失関数とOptimizer\n",
    "optimizer = torch.optim.Adam(model.parameters(), lr=learning_rate)\n",
    "criterion = nn.CrossEntropyLoss()"
   ]
  },
  {
   "cell_type": "code",
   "execution_count": null,
   "metadata": {
    "colab": {
     "base_uri": "https://localhost:8080/"
    },
    "id": "NbWm5sEOREH2",
    "outputId": "d13aca58-4888-4e94-f5ef-04644a84408a"
   },
   "outputs": [
    {
     "name": "stdout",
     "output_type": "stream",
     "text": [
      "Epoch 1/3, Average Training Loss: 0.4860\n",
      "Val Loss: 0.3318, Val Accuracy: 0.8891\n",
      "Epoch 2/3, Average Training Loss: 0.1938\n",
      "Val Loss: 0.4326, Val Accuracy: 0.8625\n",
      "Epoch 3/3, Average Training Loss: 0.0884\n",
      "Val Loss: 0.3630, Val Accuracy: 0.8888\n"
     ]
    }
   ],
   "source": [
    "train(model, train_loader, val_loader, optimizer, criterion, num_epochs)"
   ]
  }
 ],
 "metadata": {
  "colab": {
   "provenance": []
  },
  "kernelspec": {
   "display_name": "Python 3 (ipykernel)",
   "language": "python",
   "name": "python3"
  },
  "language_info": {
   "codemirror_mode": {
    "name": "ipython",
    "version": 3
   },
   "file_extension": ".py",
   "mimetype": "text/x-python",
   "name": "python",
   "nbconvert_exporter": "python",
   "pygments_lexer": "ipython3",
   "version": "3.8.18"
  }
 },
 "nbformat": 4,
 "nbformat_minor": 4
}
