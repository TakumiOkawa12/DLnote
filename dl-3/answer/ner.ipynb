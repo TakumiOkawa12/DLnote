{
 "cells": [
  {
   "cell_type": "markdown",
   "id": "c6300d91-c04c-4d94-a7f6-a8ceaae30496",
   "metadata": {},
   "source": [
    "## NER"
   ]
  },
  {
   "cell_type": "markdown",
   "id": "00f43fc8-bb15-45c6-b616-ebcf43807c78",
   "metadata": {},
   "source": [
    "### データ準備"
   ]
  },
  {
   "cell_type": "markdown",
   "id": "02634034-1185-4275-8c2c-61861867c4a2",
   "metadata": {},
   "source": [
    "#### データロード"
   ]
  },
  {
   "cell_type": "code",
   "execution_count": 1,
   "id": "75e561b4-2101-4795-8814-1a4810e36d40",
   "metadata": {},
   "outputs": [],
   "source": [
    "import pickle\n",
    "# pickle.load('ner_dataset_senteces.txt')\n",
    "def load_dataset(sentences_file_name='ner_dataset_sentences.txt', labels_file_name='ner_dataset_labels.txt'):\n",
    "    with open(sentences_file_name, 'rb') as fp:\n",
    "        sentences = pickle.load(fp)\n",
    "    with open(labels_file_name, 'rb') as fp:\n",
    "        labels = pickle.load(fp)\n",
    "    return sentences, labels    \n"
   ]
  },
  {
   "cell_type": "code",
   "execution_count": 2,
   "id": "d940b4b4-8014-4de1-b561-1cc9e7749a85",
   "metadata": {},
   "outputs": [],
   "source": [
    "sentences, labels = load_dataset()"
   ]
  },
  {
   "cell_type": "code",
   "execution_count": 3,
   "id": "c8780447-f8f1-418d-9ab5-17e51be9b061",
   "metadata": {},
   "outputs": [
    {
     "data": {
      "text/plain": [
       "['The cat sat on the mat .',\n",
       " 'John lives in New York .',\n",
       " 'I have two dogs .',\n",
       " 'She works at Google .',\n",
       " 'The Eiffel Tower is in Paris .',\n",
       " 'He is from Spain .',\n",
       " 'I visited the Great Wall of China .',\n",
       " 'She is studying at Oxford University .',\n",
       " 'He works for the United Nations .',\n",
       " 'Berlin is the capital of Germany .']"
      ]
     },
     "execution_count": 3,
     "metadata": {},
     "output_type": "execute_result"
    }
   ],
   "source": [
    "sentences[:10]"
   ]
  },
  {
   "cell_type": "code",
   "execution_count": 4,
   "id": "cffc39a8-0bd4-46b4-983e-c34e5e5e2a0b",
   "metadata": {},
   "outputs": [
    {
     "data": {
      "text/plain": [
       "[['O', 'O', 'O', 'O', 'O', 'O', 'O'],\n",
       " ['B-per', 'O', 'O', 'B-geo', 'I-geo', 'O'],\n",
       " ['O', 'O', 'O', 'O', 'O'],\n",
       " ['O', 'O', 'O', 'B-org', 'O'],\n",
       " ['O', 'B-geo', 'I-geo', 'O', 'O', 'B-geo', 'O'],\n",
       " ['O', 'O', 'O', 'B-geo', 'O'],\n",
       " ['O', 'O', 'O', 'B-geo', 'I-geo', 'I-geo', 'I-geo', 'O'],\n",
       " ['O', 'O', 'O', 'O', 'B-org', 'I-org', 'O'],\n",
       " ['O', 'O', 'O', 'O', 'B-org', 'I-org', 'O'],\n",
       " ['B-geo', 'O', 'O', 'O', 'O', 'B-geo', 'O']]"
      ]
     },
     "execution_count": 4,
     "metadata": {},
     "output_type": "execute_result"
    }
   ],
   "source": [
    "labels[:10]"
   ]
  },
  {
   "cell_type": "markdown",
   "id": "98eef78e-2f4c-4cf9-ab2f-bca75343d0e1",
   "metadata": {},
   "source": [
    "#### ラベルエンコード"
   ]
  },
  {
   "cell_type": "code",
   "execution_count": 5,
   "id": "31665fbd-6d76-4657-8ccf-a6ee89b531b6",
   "metadata": {},
   "outputs": [],
   "source": [
    "from sklearn.preprocessing import LabelEncoder\n",
    "all_labels = [label for sublist in labels for label in sublist]\n",
    "label_encoder = LabelEncoder()\n",
    "label_encoder.fit(all_labels)\n",
    "encoded_labels = [label_encoder.transform(label)+1 for label in labels] # paddingのラベルが0であることを考慮し，ラベルを1ずらす"
   ]
  },
  {
   "cell_type": "code",
   "execution_count": 6,
   "id": "42c51529-fc53-438f-a846-cbcdaf03e748",
   "metadata": {},
   "outputs": [
    {
     "data": {
      "text/plain": [
       "[array([7, 7, 7, 7, 7, 7, 7]),\n",
       " array([3, 7, 7, 1, 4, 7]),\n",
       " array([7, 7, 7, 7, 7])]"
      ]
     },
     "execution_count": 6,
     "metadata": {},
     "output_type": "execute_result"
    }
   ],
   "source": [
    "encoded_labels[:3]"
   ]
  },
  {
   "cell_type": "markdown",
   "id": "19b6a1a9-ab62-4e3e-8cd9-65e3383b636b",
   "metadata": {},
   "source": [
    "#### 辞書作成とエンコード"
   ]
  },
  {
   "cell_type": "code",
   "execution_count": 7,
   "id": "3577a7bb-8fcf-458c-89b4-576d346671fb",
   "metadata": {},
   "outputs": [],
   "source": [
    "# 辞書初期化\n",
    "word2idx = {\"<PAD>\": 0}"
   ]
  },
  {
   "cell_type": "code",
   "execution_count": 8,
   "id": "5441bd6b-a3ff-42dc-9ffb-3897ec53f9b6",
   "metadata": {},
   "outputs": [],
   "source": [
    "encoded_sentences = []\n",
    "for sentence in sentences:\n",
    "    encoded_sentence = [word2idx.setdefault(word, len(word2idx)) for word in sentence.split()]\n",
    "    encoded_sentences.append(encoded_sentence)"
   ]
  },
  {
   "cell_type": "code",
   "execution_count": 9,
   "id": "6718713e-b217-42e1-884f-f9d60fa7d9d7",
   "metadata": {},
   "outputs": [
    {
     "data": {
      "text/plain": [
       "[[1, 2, 3, 4, 5, 6, 7], [8, 9, 10, 11, 12, 7], [13, 14, 15, 16, 7]]"
      ]
     },
     "execution_count": 9,
     "metadata": {},
     "output_type": "execute_result"
    }
   ],
   "source": [
    "encoded_sentences[:3]"
   ]
  },
  {
   "cell_type": "markdown",
   "id": "ec45a6f9-0058-453e-a4c9-fc31bd8723ee",
   "metadata": {},
   "source": [
    "#### 学習データと検証データ分割"
   ]
  },
  {
   "cell_type": "code",
   "execution_count": 10,
   "id": "7a4e3cfb-2512-44a4-9b80-510e3bdf24de",
   "metadata": {},
   "outputs": [],
   "source": [
    "from sklearn.model_selection import train_test_split\n",
    "X_train, X_val, y_train, y_val, train_sentences, val_sentences = train_test_split(encoded_sentences, encoded_labels, sentences, test_size=0.2, random_state=42)"
   ]
  },
  {
   "cell_type": "code",
   "execution_count": 11,
   "id": "2327bd7e-47fc-4443-90e3-e348be621f4f",
   "metadata": {},
   "outputs": [
    {
     "data": {
      "text/plain": [
       "[[94, 51, 95, 96, 97, 98, 7], [17, 18, 19, 87, 7], [1, 50, 51, 52, 10, 53, 7]]"
      ]
     },
     "execution_count": 11,
     "metadata": {},
     "output_type": "execute_result"
    }
   ],
   "source": [
    "X_train[:3]"
   ]
  },
  {
   "cell_type": "code",
   "execution_count": 12,
   "id": "235d71f1-a9dc-4b3d-99e6-bc39b44e5015",
   "metadata": {},
   "outputs": [
    {
     "data": {
      "text/plain": [
       "['They are visiting London this summer .',\n",
       " 'She works at Facebook .',\n",
       " 'The Pyramids are located in Egypt .']"
      ]
     },
     "execution_count": 12,
     "metadata": {},
     "output_type": "execute_result"
    }
   ],
   "source": [
    "train_sentences[:3]"
   ]
  },
  {
   "cell_type": "markdown",
   "id": "a5eb89db-4035-430c-afcf-eaca4513f99d",
   "metadata": {},
   "source": [
    "#### padding"
   ]
  },
  {
   "cell_type": "code",
   "execution_count": 13,
   "id": "2864e632-9f2c-4f95-ad77-cfcdee52699d",
   "metadata": {},
   "outputs": [
    {
     "name": "stdout",
     "output_type": "stream",
     "text": [
      "tensor([[1, 2, 3, 0],\n",
      "        [4, 5, 0, 0],\n",
      "        [6, 7, 8, 9]])\n"
     ]
    }
   ],
   "source": [
    "import torch\n",
    "from torch.nn.utils.rnn import pad_sequence\n",
    "\n",
    "seq1 = torch.tensor([1, 2, 3])\n",
    "seq2 = torch.tensor([4, 5])\n",
    "seq3 = torch.tensor([6, 7, 8, 9])\n",
    "\n",
    "sequences = [seq1, seq2, seq3]\n",
    "padded_sequences = pad_sequence(sequences, batch_first=True)\n",
    "print(padded_sequences)"
   ]
  },
  {
   "cell_type": "code",
   "execution_count": 14,
   "id": "881ceac1-ae42-4160-905a-2052ce29474c",
   "metadata": {},
   "outputs": [],
   "source": [
    "X_train = pad_sequence([torch.tensor(x) for x in X_train], batch_first=True)\n",
    "X_val = pad_sequence([torch.tensor(x) for x in X_val], batch_first=True)\n",
    "y_train = pad_sequence([torch.tensor(y) for y in y_train], batch_first=True)\n",
    "y_val = pad_sequence([torch.tensor(y) for y in y_val], batch_first=True)"
   ]
  },
  {
   "cell_type": "code",
   "execution_count": 15,
   "id": "af8ef15b-2545-418c-8961-50026a9fb158",
   "metadata": {},
   "outputs": [
    {
     "data": {
      "text/plain": [
       "torch.Size([24, 10])"
      ]
     },
     "execution_count": 15,
     "metadata": {},
     "output_type": "execute_result"
    }
   ],
   "source": [
    "X_train.shape"
   ]
  },
  {
   "cell_type": "markdown",
   "id": "4a321418-553d-417e-9d82-d8adfee819a5",
   "metadata": {},
   "source": [
    "#### NERのモデル"
   ]
  },
  {
   "cell_type": "code",
   "execution_count": 16,
   "id": "1fd68736-b5f2-489b-b575-7cf04cd55be9",
   "metadata": {},
   "outputs": [],
   "source": [
    "import torch.nn as nn\n",
    "class Model(nn.Module):\n",
    "    def __init__(self, vocab_size, embedding_dim, hidden_size, output_size, num_layers=1, rnn_type='LSTM', bidirectional=False):\n",
    "\n",
    "        super().__init__()\n",
    "        self.num_directions = 2 if bidirectional else 1\n",
    "        \n",
    "        # embedding layer追加 (vocab_size x embedding_dim)\n",
    "        self.embedding = nn.Embedding(vocab_size, embedding_dim, padding_idx=0)\n",
    "        input_size = embedding_dim\n",
    "        \n",
    "        if rnn_type == 'RNN':\n",
    "            self.rnn = nn.RNN(input_size, hidden_size, num_layers=num_layers, batch_first=True, bidirectional=bidirectional)\n",
    "        elif rnn_type == 'LSTM':\n",
    "            self.rnn = nn.LSTM(input_size, hidden_size, num_layers=num_layers, batch_first=True, bidirectional=bidirectional)\n",
    "        elif rnn_type == 'GRU':\n",
    "            self.rnn = nn.GRU(input_size, hidden_size, num_layers=num_layers, batch_first=True, bidirectional=bidirectional)\n",
    "        else:\n",
    "            raise ValueError('Unsupported RNN type. Choose from [\"LSTM\", \"RNN\", \"GRU\", \"UGRNN\"]')\n",
    "            \n",
    "        self.fc = nn.Linear(hidden_size*self.num_directions, output_size)\n",
    "\n",
    "    def forward(self, x):\n",
    "        x = self.embedding(x)\n",
    "        output_seq, _ = self.rnn(x)\n",
    "\n",
    "        # many to many の場合は，\n",
    "        # output_seq: [batch_size, seq_len, hidden_size*num_directions]\n",
    "        out = self.fc(output_seq)\n",
    "        return out"
   ]
  },
  {
   "cell_type": "code",
   "execution_count": 17,
   "id": "2e499c8e-7800-44ef-8cf9-f0593b1b2ac9",
   "metadata": {},
   "outputs": [],
   "source": [
    "import torch\n",
    "# BiRNNのテスト\n",
    "# input_size = 10\n",
    "vocab_size = 300\n",
    "embedding_dim = 50\n",
    "hidden_size = 3\n",
    "batch_size = 24\n",
    "seq_len = 10\n",
    "output_size = 3\n",
    "# サンプルのTensor\n",
    "# input_tensor = torch.randn(batch_size, seq_len, vocab_size)\n",
    "model = Model(vocab_size, embedding_dim, hidden_size, output_size, bidirectional=True, )\n",
    "out = model(X_train)"
   ]
  },
  {
   "cell_type": "code",
   "execution_count": 18,
   "id": "0499b31a-35e5-4f86-9b30-08d409b23541",
   "metadata": {},
   "outputs": [
    {
     "data": {
      "text/plain": [
       "tensor([[ 0.2210, -0.3100,  0.0265],\n",
       "        [ 0.0576, -0.1342,  0.1030],\n",
       "        [ 0.4368,  0.0911,  0.2392],\n",
       "        [ 0.6323,  0.0702,  0.0960],\n",
       "        [ 0.2668, -0.0237,  0.0247],\n",
       "        [-0.0732,  0.0372,  0.1260],\n",
       "        [ 0.3789, -0.0255,  0.0600],\n",
       "        [ 0.2555, -0.0246, -0.0072],\n",
       "        [ 0.2557, -0.0593, -0.0093],\n",
       "        [ 0.2613, -0.0771, -0.0071]], grad_fn=<SelectBackward0>)"
      ]
     },
     "execution_count": 18,
     "metadata": {},
     "output_type": "execute_result"
    }
   ],
   "source": [
    "out[0]"
   ]
  },
  {
   "cell_type": "markdown",
   "id": "c29cad3d-1623-4424-9b92-21c738445651",
   "metadata": {},
   "source": [
    "### 学習ループ"
   ]
  },
  {
   "cell_type": "code",
   "execution_count": 19,
   "id": "f5c1c6f8-3cdd-4d8a-9731-3aa266d8308d",
   "metadata": {},
   "outputs": [
    {
     "name": "stdout",
     "output_type": "stream",
     "text": [
      "Epoch 1/40, Average Training Loss: 1.9692\n",
      "Val Loss: 1.7057, Val Accuracy: 0.5833\n",
      "Epoch 2/40, Average Training Loss: 1.3873\n",
      "Val Loss: 1.1822, Val Accuracy: 0.5833\n",
      "Epoch 3/40, Average Training Loss: 0.9466\n",
      "Val Loss: 1.1030, Val Accuracy: 0.5833\n",
      "Epoch 4/40, Average Training Loss: 0.8277\n",
      "Val Loss: 0.9434, Val Accuracy: 0.5833\n",
      "Epoch 5/40, Average Training Loss: 0.6396\n",
      "Val Loss: 0.8606, Val Accuracy: 0.5833\n",
      "Epoch 6/40, Average Training Loss: 0.5389\n",
      "Val Loss: 0.8200, Val Accuracy: 0.5833\n",
      "Epoch 7/40, Average Training Loss: 0.4286\n",
      "Val Loss: 0.8165, Val Accuracy: 0.5833\n",
      "Epoch 8/40, Average Training Loss: 0.3184\n",
      "Val Loss: 0.8276, Val Accuracy: 0.5833\n",
      "Epoch 9/40, Average Training Loss: 0.2291\n",
      "Val Loss: 0.8360, Val Accuracy: 0.5833\n",
      "Epoch 10/40, Average Training Loss: 0.1611\n",
      "Val Loss: 0.8449, Val Accuracy: 0.6042\n",
      "Epoch 11/40, Average Training Loss: 0.1192\n",
      "Val Loss: 0.8833, Val Accuracy: 0.6042\n",
      "Epoch 12/40, Average Training Loss: 0.0849\n",
      "Val Loss: 0.9146, Val Accuracy: 0.6042\n",
      "Epoch 13/40, Average Training Loss: 0.0636\n",
      "Val Loss: 0.9257, Val Accuracy: 0.6042\n",
      "Epoch 14/40, Average Training Loss: 0.0475\n",
      "Val Loss: 0.9396, Val Accuracy: 0.6042\n",
      "Epoch 15/40, Average Training Loss: 0.0373\n",
      "Val Loss: 0.9600, Val Accuracy: 0.6042\n",
      "Epoch 16/40, Average Training Loss: 0.0295\n",
      "Val Loss: 0.9825, Val Accuracy: 0.6042\n",
      "Epoch 17/40, Average Training Loss: 0.0252\n",
      "Val Loss: 0.9971, Val Accuracy: 0.6042\n",
      "Epoch 18/40, Average Training Loss: 0.0213\n",
      "Val Loss: 1.0031, Val Accuracy: 0.6042\n",
      "Epoch 19/40, Average Training Loss: 0.0179\n",
      "Val Loss: 1.0108, Val Accuracy: 0.6042\n",
      "Epoch 20/40, Average Training Loss: 0.0155\n",
      "Val Loss: 1.0229, Val Accuracy: 0.6042\n",
      "Epoch 21/40, Average Training Loss: 0.0140\n",
      "Val Loss: 1.0362, Val Accuracy: 0.6042\n",
      "Epoch 22/40, Average Training Loss: 0.0123\n",
      "Val Loss: 1.0502, Val Accuracy: 0.6042\n",
      "Epoch 23/40, Average Training Loss: 0.0111\n",
      "Val Loss: 1.0582, Val Accuracy: 0.6042\n",
      "Epoch 24/40, Average Training Loss: 0.0099\n",
      "Val Loss: 1.0646, Val Accuracy: 0.6042\n",
      "Epoch 25/40, Average Training Loss: 0.0091\n",
      "Val Loss: 1.0738, Val Accuracy: 0.6042\n",
      "Epoch 26/40, Average Training Loss: 0.0084\n",
      "Val Loss: 1.0807, Val Accuracy: 0.6042\n",
      "Epoch 27/40, Average Training Loss: 0.0076\n",
      "Val Loss: 1.0876, Val Accuracy: 0.6042\n",
      "Epoch 28/40, Average Training Loss: 0.0071\n",
      "Val Loss: 1.0975, Val Accuracy: 0.6042\n",
      "Epoch 29/40, Average Training Loss: 0.0064\n",
      "Val Loss: 1.1040, Val Accuracy: 0.6042\n",
      "Epoch 30/40, Average Training Loss: 0.0059\n",
      "Val Loss: 1.1096, Val Accuracy: 0.6042\n",
      "Epoch 31/40, Average Training Loss: 0.0056\n",
      "Val Loss: 1.1140, Val Accuracy: 0.6042\n",
      "Epoch 32/40, Average Training Loss: 0.0052\n",
      "Val Loss: 1.1215, Val Accuracy: 0.6042\n",
      "Epoch 33/40, Average Training Loss: 0.0049\n",
      "Val Loss: 1.1278, Val Accuracy: 0.6042\n",
      "Epoch 34/40, Average Training Loss: 0.0045\n",
      "Val Loss: 1.1331, Val Accuracy: 0.6042\n",
      "Epoch 35/40, Average Training Loss: 0.0043\n",
      "Val Loss: 1.1403, Val Accuracy: 0.6042\n",
      "Epoch 36/40, Average Training Loss: 0.0040\n",
      "Val Loss: 1.1460, Val Accuracy: 0.6042\n",
      "Epoch 37/40, Average Training Loss: 0.0039\n",
      "Val Loss: 1.1492, Val Accuracy: 0.6042\n",
      "Epoch 38/40, Average Training Loss: 0.0035\n",
      "Val Loss: 1.1535, Val Accuracy: 0.6042\n",
      "Epoch 39/40, Average Training Loss: 0.0035\n",
      "Val Loss: 1.1573, Val Accuracy: 0.6042\n",
      "Epoch 40/40, Average Training Loss: 0.0032\n",
      "Val Loss: 1.1625, Val Accuracy: 0.6042\n"
     ]
    }
   ],
   "source": [
    "from torch.utils.data import DataLoader, TensorDataset\n",
    "vocab_size = len(word2idx)\n",
    "num_classes = len(label_encoder.classes_) + 1 # padding用のクラスも含める\n",
    "embedding_dim = 50\n",
    "hidden_size = 40\n",
    "output_size = num_classes\n",
    "batch_size = 3\n",
    "learning_rate = 0.003\n",
    "num_epochs = 40\n",
    "\n",
    "# モデル作成\n",
    "model = Model(vocab_size, embedding_dim, hidden_size, output_size, num_layers=1, rnn_type='LSTM', bidirectional=True)\n",
    "\n",
    "# Data Loader作成\n",
    "train_dataset = TensorDataset(X_train, y_train)\n",
    "val_dataset = TensorDataset(X_val, y_val)\n",
    "train_loader = DataLoader(train_dataset, batch_size=batch_size, shuffle=True)\n",
    "val_loader = DataLoader(val_dataset, batch_size=batch_size, shuffle=False)\n",
    "\n",
    "# 損失関数とOptimizer\n",
    "optimizer = torch.optim.Adam(model.parameters(), lr=learning_rate)\n",
    "criterion = nn.CrossEntropyLoss(ignore_index=0)\n",
    "\n",
    "# 学習ループ\n",
    "for epoch in range(num_epochs):\n",
    "    model.train()\n",
    "    train_loss = 0\n",
    "    for i, (sentences, labels) in enumerate(train_loader):\n",
    "        optimizer.zero_grad()\n",
    "        \n",
    "        outputs = model(sentences)\n",
    "        loss = criterion(outputs.view(-1, num_classes), labels.view(-1))\n",
    "        \n",
    "        loss.backward()\n",
    "        \n",
    "        optimizer.step()\n",
    "        train_loss += loss.item()\n",
    "\n",
    "    avg_train_loss = train_loss / len(train_loader)\n",
    "    print(f\"Epoch {epoch+1}/{num_epochs}, Average Training Loss: {avg_train_loss:.4f}\")\n",
    "\n",
    "    # 検証データを使用して検証エラーを計算\n",
    "    model.eval()\n",
    "    val_loss = 0\n",
    "    total_samples = 0\n",
    "    total_correct = 0\n",
    "    for sentences, labels in val_loader:\n",
    "        \n",
    "        outputs = model(sentences)\n",
    "        # loss計算\n",
    "        loss = criterion(outputs.view(-1, num_classes), labels.view(-1))\n",
    "        val_loss += loss.item()\n",
    "\n",
    "        # accuracy計算\n",
    "        _, predicted = torch.max(outputs, dim=-1)\n",
    "        total_correct += (predicted == labels).sum().item()\n",
    "        total_samples += labels.numel()\n",
    "\n",
    "    avg_val_loss = val_loss / len(val_loader)\n",
    "    val_accuracy = total_correct / total_samples\n",
    "    print(f\"Val Loss: {avg_val_loss:.4f}, Val Accuracy: {val_accuracy:.4f}\")"
   ]
  },
  {
   "cell_type": "markdown",
   "id": "03f1f1bc-665f-4d2e-ae6c-00430d05d2d5",
   "metadata": {},
   "source": [
    "### 検証データの出力確認"
   ]
  },
  {
   "cell_type": "code",
   "execution_count": 20,
   "id": "58b55e37-46c0-4f0f-9b88-e5b1ff0a2b23",
   "metadata": {},
   "outputs": [],
   "source": [
    "model.eval()\n",
    "val_outputs = model(X_val)"
   ]
  },
  {
   "cell_type": "code",
   "execution_count": 21,
   "id": "a0531b2c-d6d6-4fa1-acfc-e551ca1edbf7",
   "metadata": {},
   "outputs": [],
   "source": [
    "_, predicted_labels = torch.max(val_outputs, dim=-1)"
   ]
  },
  {
   "cell_type": "code",
   "execution_count": 22,
   "id": "ba72deb3-b059-4aa9-a2fa-1657b9b7c653",
   "metadata": {},
   "outputs": [
    {
     "name": "stdout",
     "output_type": "stream",
     "text": [
      "original sentence: He lives in Los Angeles .\n",
      "predicted labels: ['O' 'O' 'O' 'O' 'O' 'O']\n",
      "\n",
      "original sentence: She is from Australia .\n",
      "predicted labels: ['O' 'O' 'O' 'O' 'O']\n",
      "\n",
      "original sentence: The Great Barrier Reef is in Australia .\n",
      "predicted labels: ['O' 'B-geo' 'I-geo' 'O' 'O' 'O' 'O' 'O']\n",
      "\n",
      "original sentence: The Amazon is the largest rainforest .\n",
      "predicted labels: ['O' 'B-geo' 'O' 'O' 'O' 'B-geo' 'O']\n",
      "\n",
      "original sentence: He works for the United Nations .\n",
      "predicted labels: ['O' 'O' 'O' 'O' 'O' 'B-org' 'O']\n",
      "\n",
      "original sentence: Berlin is the capital of Germany .\n",
      "predicted labels: ['O' 'O' 'O' 'O' 'I-org' 'I-org' 'O']\n",
      "\n"
     ]
    }
   ],
   "source": [
    "for sentence, label in zip(val_sentences, predicted_labels):\n",
    "    words = sentence.split()\n",
    "    decoded_labels = label_encoder.inverse_transform(label[:len(words)]-1) # もとのラベルIDに戻す(padding分で+1していた分を戻す\n",
    "    print(f'original sentence: {sentence}')\n",
    "    print(f'predicted labels: {decoded_labels}')\n",
    "    print()"
   ]
  },
  {
   "cell_type": "code",
   "execution_count": null,
   "id": "defbf902-a079-496c-8628-70b54e385482",
   "metadata": {},
   "outputs": [],
   "source": []
  }
 ],
 "metadata": {
  "kernelspec": {
   "display_name": "Python 3 (ipykernel)",
   "language": "python",
   "name": "python3"
  },
  "language_info": {
   "codemirror_mode": {
    "name": "ipython",
    "version": 3
   },
   "file_extension": ".py",
   "mimetype": "text/x-python",
   "name": "python",
   "nbconvert_exporter": "python",
   "pygments_lexer": "ipython3",
   "version": "3.8.18"
  }
 },
 "nbformat": 4,
 "nbformat_minor": 5
}
