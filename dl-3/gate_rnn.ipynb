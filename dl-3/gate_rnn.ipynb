{
 "cells": [
  {
   "cell_type": "markdown",
   "id": "18b920da-57b6-4f9a-8dbf-c6c637a9ff32",
   "metadata": {},
   "source": [
    "# ゲート付きRNN"
   ]
  },
  {
   "cell_type": "markdown",
   "id": "51cb5cad-f49e-4f5c-824f-8e1afbdfb0e8",
   "metadata": {},
   "source": [
    "## UGRNN"
   ]
  },
  {
   "cell_type": "code",
   "execution_count": 1,
   "id": "4782f107-05b3-4622-9c57-8bb041c8e825",
   "metadata": {},
   "outputs": [],
   "source": [
    "import torch\n",
    "import torch.nn as nn"
   ]
  },
  {
   "cell_type": "code",
   "execution_count": 2,
   "id": "8706fcc2-a524-4075-8f83-c59f5da325fd",
   "metadata": {},
   "outputs": [],
   "source": [
    "class UGRNN(nn.Module):\n",
    "    def __init__(self, input_size, hidden_size):\n",
    "        super().__init__()\n",
    "        self.hidden_size = hidden_size\n",
    "\n",
    "         # 線形変換\n",
    "        self.transform = nn.Linear(input_size+hidden_size, hidden_size)\n",
    "        self.update_gate = nn.Linear(input_size+hidden_size, hidden_size)\n",
    "\n",
    "        # 活性化関数\n",
    "        self.tanh = nn.Tanh()\n",
    "        self.sigmoid = nn.Sigmoid()\n",
    "\n",
    "    def forward(self, input, h_0=None):\n",
    "        # input（batch firstを想定）: [batch_size, seq_len, input_size]\n",
    "        batch_size, seq_len, _ = input.size()\n",
    "\n",
    "        if h_0 is None:\n",
    "            h_0 = torch.zeros(1, batch_size, self.hidden_size)#.to(device)\n",
    "\n",
    "        h = h_0.squeeze(0) # [1, batch_size, hidden_size] → [batch_size, hidden_size]\n",
    "        outputs = []\n",
    "        for i in range(seq_len):\n",
    "            # [batch_size, hidden_size]\n",
    "            combined = torch.cat((input[:, i, :], h), dim = 1)\n",
    "            h_candidate = self.tanh(self.transform(combined))\n",
    "            update_gate = self.sigmoid(self.update_gate(combined))\n",
    "            h = update_gate * h_candidate + (1-update_gate) * h\n",
    "            outputs.append(h.unsqueeze(1))# [batch_size, hidden_size] -> # [batch_size, 1, hidden_size]\n",
    "        output_seq = torch.cat(outputs, dim=1)\n",
    "        h_n = h.unsqueeze(0) # [batch_size, hidden_size] -> [1, batch_size, hidden_size]\n",
    "\n",
    "        return output_seq, h_n"
   ]
  },
  {
   "cell_type": "code",
   "execution_count": 3,
   "id": "08b7d123-012a-4136-a596-8f599de2290d",
   "metadata": {},
   "outputs": [],
   "source": [
    "input_size = 10\n",
    "hidden_size = 3\n",
    "seq_len = 4\n",
    "batch_size = 5\n",
    "\n",
    "input_tensor = torch.randn(batch_size, seq_len, input_size)\n",
    "ugrnn = UGRNN(input_size, hidden_size)\n",
    "output_seq, h_n = ugrnn(input_tensor)"
   ]
  },
  {
   "cell_type": "code",
   "execution_count": 5,
   "id": "154dbb5d-4003-48f3-b926-1e88a187143b",
   "metadata": {},
   "outputs": [
    {
     "data": {
      "text/plain": [
       "torch.Size([5, 4, 3])"
      ]
     },
     "execution_count": 5,
     "metadata": {},
     "output_type": "execute_result"
    }
   ],
   "source": [
    "output_seq.shape"
   ]
  },
  {
   "cell_type": "markdown",
   "id": "46d27c99-69b5-42ce-8db8-420b7d5173ec",
   "metadata": {},
   "source": [
    "## LSTM"
   ]
  },
  {
   "cell_type": "code",
   "execution_count": 24,
   "id": "ee70197d-5052-4cc9-a733-dac326b9370f",
   "metadata": {},
   "outputs": [],
   "source": [
    "class myLSTM(nn.Module):\n",
    "    def __init__(self, input_size, hidden_size):\n",
    "        super().__init__()\n",
    "        self.hidden_size = hidden_size\n",
    "\n",
    "         # 線形変換\n",
    "        self.output_gate = nn.Linear(input_size+hidden_size, hidden_size)\n",
    "        self.forget_gate = nn.Linear(input_size+hidden_size, hidden_size)\n",
    "        self.update_gate = nn.Linear(input_size+hidden_size, hidden_size)\n",
    "\n",
    "        # セル状態の更新に必要な全結合層\n",
    "        self.cell_candidate = nn.Linear(input_size + hidden_size, hidden_size)\n",
    "\n",
    "        # 活性化関数\n",
    "        self.tanh = nn.Tanh()\n",
    "        self.sigmoid = nn.Sigmoid()\n",
    "\n",
    "    def forward(self, input, h_0=None, c_0 = None):\n",
    "        # input（batch firstを想定）: [batch_size, seq_len, input_size]\n",
    "        batch_size, seq_len, _ = input.size()\n",
    "\n",
    "        if h_0 is None:\n",
    "            h_0 = torch.zeros(1, batch_size, self.hidden_size)#.to(device)\n",
    "        if c_0 is None:\n",
    "            c_0 = torch.zeros(1, batch_size, self.hidden_size)#.to(device)\n",
    "\n",
    "        h = h_0.squeeze(0) # [1, batch_size, hidden_size] → [batch_size, hidden_size]\n",
    "        c = c_0.squeeze(0) # [1, batch_size, hidden_size] → [batch_size, hidden_size]\n",
    "        outputs = []\n",
    "        for i in range(seq_len):\n",
    "            # [batch_size, hidden_size]\n",
    "            combined = torch.cat((input[:, i, :], h), dim = 1) #  [batch_size, input_size]+[batch_size, hidden_size] -> [batch_size, input_size+hidden_size]\n",
    "            cell_candidate = self.tanh(self.cell_candidate(combined))\n",
    "            \n",
    "            update_gate = self.sigmoid(self.update_gate(combined))\n",
    "            forget_gate = self.sigmoid(self.forget_gate(combined))\n",
    "            output_gate = self.sigmoid(self.output_gate(combined))\n",
    "            \n",
    "            c = update_gate * cell_candidate + forget_gate * c\n",
    "            h = output_gate * self.tanh(c)\n",
    "            outputs.append(h.unsqueeze(1)) # [batch_size, hidden_size] -> # [batch_size, 1, hidden_size]\n",
    "        self.output_seq = torch.cat(outputs, dim=1)\n",
    "        h_n = h.unsqueeze(0) # [batch_size, hidden_size] -> [1, batch_size, hidden_size]\n",
    "        c_n = c.unsqueeze(0) # [batch_size, hidden_size] -> [1, batch_size, hidden_size]\n",
    "\n",
    "        return self.output_seq, (h_n, c_n)"
   ]
  },
  {
   "cell_type": "code",
   "execution_count": 26,
   "id": "9aafe0df-0111-4f75-9489-c3a11ba6da74",
   "metadata": {},
   "outputs": [],
   "source": [
    "lstm = myLSTM(input_size, hidden_size)\n",
    "output_seq, (h_n, c_n) = lstm(input_tensor)"
   ]
  },
  {
   "cell_type": "code",
   "execution_count": 27,
   "id": "363dd38b-713c-44a9-8039-b74d7a022ab3",
   "metadata": {},
   "outputs": [
    {
     "data": {
      "text/plain": [
       "torch.Size([5, 4, 3])"
      ]
     },
     "execution_count": 27,
     "metadata": {},
     "output_type": "execute_result"
    }
   ],
   "source": [
    "output_seq.shape"
   ]
  },
  {
   "cell_type": "code",
   "execution_count": 28,
   "id": "0789237f-8973-4974-a6de-e1ef57a1e6ff",
   "metadata": {},
   "outputs": [
    {
     "data": {
      "text/plain": [
       "torch.Size([1, 5, 3])"
      ]
     },
     "execution_count": 28,
     "metadata": {},
     "output_type": "execute_result"
    }
   ],
   "source": [
    "h_n.shape"
   ]
  },
  {
   "cell_type": "code",
   "execution_count": 29,
   "id": "4c6d5a15-dec7-4a13-b1ee-41c0e9f9508b",
   "metadata": {},
   "outputs": [
    {
     "data": {
      "text/plain": [
       "torch.Size([1, 5, 3])"
      ]
     },
     "execution_count": 29,
     "metadata": {},
     "output_type": "execute_result"
    }
   ],
   "source": [
    "c_n.shape"
   ]
  },
  {
   "cell_type": "markdown",
   "id": "e417b053-a708-4f0a-bee6-c0c69ba9aedb",
   "metadata": {},
   "source": [
    "## PytorchのGPUとLSTMを使用する"
   ]
  },
  {
   "cell_type": "code",
   "execution_count": 30,
   "id": "c578cc80-cb6d-432b-bd1b-eabbe98d076b",
   "metadata": {},
   "outputs": [],
   "source": [
    "# LSTM\n",
    "lstm = nn.LSTM(input_size, hidden_size, batch_first = True)\n",
    "output_seq, (h_n, c_n) = lstm(input_tensor)"
   ]
  },
  {
   "cell_type": "code",
   "execution_count": 31,
   "id": "eb210d6b-cff6-4502-93bc-de6b9590ce2d",
   "metadata": {},
   "outputs": [
    {
     "data": {
      "text/plain": [
       "torch.Size([5, 4, 3])"
      ]
     },
     "execution_count": 31,
     "metadata": {},
     "output_type": "execute_result"
    }
   ],
   "source": [
    "output_seq.shape"
   ]
  },
  {
   "cell_type": "code",
   "execution_count": 32,
   "id": "9add620f-9dbe-4786-b3a3-a7809690a1bf",
   "metadata": {},
   "outputs": [
    {
     "data": {
      "text/plain": [
       "torch.Size([1, 5, 3])"
      ]
     },
     "execution_count": 32,
     "metadata": {},
     "output_type": "execute_result"
    }
   ],
   "source": [
    "h_n.shape"
   ]
  },
  {
   "cell_type": "code",
   "execution_count": 33,
   "id": "68259b5e-5abf-451d-b4b5-3dbea2145db2",
   "metadata": {},
   "outputs": [],
   "source": [
    "# GRU\n",
    "gru = nn.GRU(input_size, hidden_size, batch_first = True)\n",
    "output_seq, h_n = gru(input_tensor)"
   ]
  },
  {
   "cell_type": "code",
   "execution_count": 34,
   "id": "fd05c436-7939-48d1-97f1-5612a5975001",
   "metadata": {},
   "outputs": [
    {
     "data": {
      "text/plain": [
       "torch.Size([5, 4, 3])"
      ]
     },
     "execution_count": 34,
     "metadata": {},
     "output_type": "execute_result"
    }
   ],
   "source": [
    "output_seq.shape"
   ]
  },
  {
   "cell_type": "code",
   "execution_count": 35,
   "id": "1782b15e-c64f-41ec-adb3-5424c31f50d2",
   "metadata": {},
   "outputs": [
    {
     "data": {
      "text/plain": [
       "torch.Size([1, 5, 3])"
      ]
     },
     "execution_count": 35,
     "metadata": {},
     "output_type": "execute_result"
    }
   ],
   "source": [
    "h_n.shape"
   ]
  },
  {
   "cell_type": "code",
   "execution_count": 40,
   "id": "75e88b56-3ac4-4a49-aab5-6f88366b72f5",
   "metadata": {},
   "outputs": [],
   "source": [
    "class Model(nn.Module):\n",
    "    def __init__(self, input_size, hidden_size, output_size, rnn_type = 'LSTM'):\n",
    "        super().__init__()\n",
    "        \n",
    "        if rnn_type == 'RNN':\n",
    "            self.rnn = nn.RNN(input_size, hidden_size, batch_first = True)\n",
    "\n",
    "        elif rnn_type == 'LSTM':\n",
    "            self.rnn = nn.LSTM(input_size, hidden_size, batch_first = True)\n",
    "\n",
    "        elif rnn_type == 'GRU':\n",
    "            self.rnn = nn.GRU(input_size, hidden_size, batch_first = True)\n",
    "\n",
    "        elif rnn_type == 'UGRNN':\n",
    "            self.rnn = UGRNN(input_size, hidden_size, batch_first = True)\n",
    "        else:\n",
    "            raise ValueError('Unsupported RNN type. Choose from [\"LSTM\", \"RNN\", \"GRU\", \"UGRNN\"]')\n",
    "\n",
    "        self.fc = nn.Linear(hidden_size, output_size)\n",
    "\n",
    "    def forward(self, x):\n",
    "        output_seq, _ = self.rnn(x)\n",
    "        # output_seq : [batch_size, seq_len, hidden_size]\n",
    "        # h_n : [1, batch_size, hidden_size]\n",
    "        out = self.fc(output_seq[:, -1, :])\n",
    "        return out\n",
    "        "
   ]
  },
  {
   "cell_type": "code",
   "execution_count": 41,
   "id": "c4e872d2-e9b3-4dde-bfff-4587e3f6194b",
   "metadata": {},
   "outputs": [],
   "source": [
    "input_size = 10\n",
    "hidden_size = 6\n",
    "seq_len = 4\n",
    "batch_size = 5\n",
    "output_size = 3\n",
    "\n",
    "input_tensor = torch.randn(batch_size, seq_len, input_size)\n",
    "model = Model(input_size, hidden_size, output_size, rnn_type = 'LSTM')\n",
    "output = model(input_tensor)"
   ]
  },
  {
   "cell_type": "code",
   "execution_count": 42,
   "id": "812b0dee-14bd-4561-9b1a-5afdb90718d9",
   "metadata": {},
   "outputs": [
    {
     "data": {
      "text/plain": [
       "torch.Size([5, 3])"
      ]
     },
     "execution_count": 42,
     "metadata": {},
     "output_type": "execute_result"
    }
   ],
   "source": [
    "output.shape"
   ]
  },
  {
   "cell_type": "code",
   "execution_count": null,
   "id": "5bd8eb4e-4c2f-4609-8477-6d0e26c22375",
   "metadata": {},
   "outputs": [],
   "source": []
  }
 ],
 "metadata": {
  "kernelspec": {
   "display_name": "Python 3 (ipykernel)",
   "language": "python",
   "name": "python3"
  },
  "language_info": {
   "codemirror_mode": {
    "name": "ipython",
    "version": 3
   },
   "file_extension": ".py",
   "mimetype": "text/x-python",
   "name": "python",
   "nbconvert_exporter": "python",
   "pygments_lexer": "ipython3",
   "version": "3.8.18"
  }
 },
 "nbformat": 4,
 "nbformat_minor": 5
}
